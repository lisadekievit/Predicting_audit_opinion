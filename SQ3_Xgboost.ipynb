{
 "cells": [
  {
   "cell_type": "code",
   "execution_count": null,
   "id": "5e3fb0d8-03f4-40c6-b552-56267f795a2e",
   "metadata": {},
   "outputs": [
    {
     "name": "stdout",
     "output_type": "stream",
     "text": [
      "runned!\n",
      "['PCA', 'SMOTE', 'SimpleImputer', 'StandardScaler', '__builtins__', '__cached__', '__doc__', '__file__', '__loader__', '__name__', '__package__', '__spec__', 'create_pca_table', 'np', 'pca_on_train_and_transform_full_data', 'pd', 'plt', 'preprocess_and_apply_smote1', 'remove_outliers_iqr', 'scale_columns1', 'scale_columns2']\n"
     ]
    }
   ],
   "source": [
    "import numpy as np\n",
    "import pandas as pd\n",
    "import xgboost as xgb\n",
    "from sklearn.metrics import cohen_kappa_score, accuracy_score\n",
    "from sklearn.model_selection import train_test_split\n",
    "from scipy.optimize import differential_evolution  # for comparison to SCA\n",
    "from sklearn.metrics import f1_score, accuracy_score, precision_score, recall_score, classification_report\n",
    "import shap\n",
    "import random\n",
    "from sklearn.impute import SimpleImputer\n",
    "from sklearn.preprocessing import LabelEncoder\n",
    "from sklearn.metrics import classification_report\n",
    "\n",
    "#from base1 import *\n",
    "from base2 import *\n",
    "from XGB_func import *"
   ]
  },
  {
   "cell_type": "code",
   "execution_count": null,
   "id": "36c3c108-a079-4a01-b737-b9e80b5cffb4",
   "metadata": {},
   "outputs": [
    {
     "name": "stderr",
     "output_type": "stream",
     "text": [
      "<ipython-input-2-4ab3f5043c8e>:12: FutureWarning: Downcasting behavior in `replace` is deprecated and will be removed in a future version. To retain the old behavior, explicitly call `result.infer_objects(copy=False)`. To opt-in to the future behavior, set `pd.set_option('future.no_silent_downcasting', True)`\n",
      "  y_train = y_train.replace({'1': 1, '4': 0})\n",
      "<ipython-input-2-4ab3f5043c8e>:13: FutureWarning: Downcasting behavior in `replace` is deprecated and will be removed in a future version. To retain the old behavior, explicitly call `result.infer_objects(copy=False)`. To opt-in to the future behavior, set `pd.set_option('future.no_silent_downcasting', True)`\n",
      "  y_val = y_val.replace({'1': 1, '4': 0})\n",
      "<ipython-input-2-4ab3f5043c8e>:14: FutureWarning: Downcasting behavior in `replace` is deprecated and will be removed in a future version. To retain the old behavior, explicitly call `result.infer_objects(copy=False)`. To opt-in to the future behavior, set `pd.set_option('future.no_silent_downcasting', True)`\n",
      "  y_test = y_test.replace({'1': 1, '4': 0})\n"
     ]
    }
   ],
   "source": [
    "X_train_1 = pd.read_csv('csv/X_train_eu.csv', index_col='Unnamed: 0')\n",
    "y_train = pd.read_csv('csv/y_train_eu.csv', index_col='Unnamed: 0')\n",
    "X_val_1 = pd.read_csv('csv/X_val_eu.csv', index_col='Unnamed: 0')\n",
    "y_val = pd.read_csv('csv/y_val_eu.csv', index_col='Unnamed: 0')\n",
    "X_test_1 = pd.read_csv('csv/X_test_eu.csv', index_col='Unnamed: 0')\n",
    "y_test = pd.read_csv('csv/y_test_eu.csv', index_col='Unnamed: 0')\n",
    "\n",
    "y_train = (y_train['auop']).astype(str)\n",
    "y_val = (y_val['auop']).astype(str)\n",
    "y_test = (y_test['auop']).astype(str)\n",
    "\n",
    "y_train = y_train.replace({'1': 1, '4': 0})\n",
    "y_val = y_val.replace({'1': 1, '4': 0})\n",
    "y_test = y_test.replace({'1': 1, '4': 0})\n",
    "\n",
    "# Ensure binary target variable is numerical\n",
    "y_train = y_train.astype(int)\n",
    "y_val = y_val.astype(int)\n",
    "y_test = y_test.astype(int)\n",
    "\n",
    "X_train = X_train_1\n",
    "X_val = X_val_1\n",
    "X_test = X_test_1"
   ]
  },
  {
   "cell_type": "code",
   "execution_count": null,
   "id": "d804572d-c0cf-4e7d-9005-34a9c2d74d0c",
   "metadata": {},
   "outputs": [],
   "source": [
    "# Initialize the label encoder\n",
    "label_encoder = LabelEncoder()\n",
    "\n",
    "# Fit label encoder on X_train and transform on all sets to ensure consistency\n",
    "X_train['X141'] = label_encoder.fit_transform(X_train['X140'])\n",
    "X_val['X141'] = label_encoder.transform(X_val['X140'])\n",
    "X_test['X141'] = label_encoder.transform(X_test['X140'])\n",
    "# Drop column 'X140' from each DataFrame\n",
    "X_train = X_train.drop(columns=['X140'])\n",
    "X_val = X_val.drop(columns=['X140'])\n",
    "X_test = X_test.drop(columns=['X140'])"
   ]
  },
  {
   "cell_type": "code",
   "execution_count": null,
   "id": "458b6b98-a9ab-45ad-b60e-4c6b21ba4c88",
   "metadata": {},
   "outputs": [
    {
     "name": "stdout",
     "output_type": "stream",
     "text": [
      "Columns dropped: ['X20', 'X119']\n",
      "2\n"
     ]
    }
   ],
   "source": [
    "# Deal with missing values in the features \n",
    "missing_threshold = 0.8\n",
    "missing_train = X_train.isnull().mean()\n",
    "cols_to_drop = missing_train[missing_train > missing_threshold].index\n",
    "# Drop the identified columns from both the training and test sets\n",
    "X_train = X_train.drop(cols_to_drop, axis=1)\n",
    "X_val = X_val.drop(cols_to_drop, axis=1)\n",
    "X_test = X_test.drop(cols_to_drop, axis=1)\n",
    "print(f\"Columns dropped: {list(cols_to_drop)}\")\n",
    "print(len(cols_to_drop))\n",
    "\n",
    "col_names = X_train.columns.to_list()\n",
    "col_names.remove(\"X23\")\n",
    "col_names.remove(\"X141\")"
   ]
  },
  {
   "cell_type": "code",
   "execution_count": null,
   "id": "599806f0-e740-48d8-893e-644faf7579f0",
   "metadata": {},
   "outputs": [
    {
     "name": "stdout",
     "output_type": "stream",
     "text": [
      "Perc rows removed class 1: 0.15387596899224806\n",
      "Perc rows removed class 0: 0.1711111111111111\n"
     ]
    }
   ],
   "source": [
    "# remove outliers\n",
    "col_25perc = round(len(X_train.columns)*0.25)\n",
    "total_class = y_train.value_counts().to_dict()\n",
    "X_train, y_train, removed_counts = k.remove_outliers_iqr(X_train, y_train, col_names, min_outliers= col_25perc)\n",
    "print(\"Perc rows removed class 1:\", removed_counts[1]/total_class[1])\n",
    "print(\"Perc rows removed class 0:\", removed_counts[0]/total_class[0])"
   ]
  },
  {
   "cell_type": "code",
   "execution_count": null,
   "id": "8b2c8351-becd-4a3a-9b56-3d8f171d1e10",
   "metadata": {},
   "outputs": [
    {
     "name": "stdout",
     "output_type": "stream",
     "text": [
      "Perc rows removed class 1: -0.2929454878607421\n",
      "Perc rows removed class 0: -0.1799597855227882\n"
     ]
    }
   ],
   "source": [
    "# Deal with missing values\n",
    "max_missing = col_25perc\n",
    "X_train = X_train[X_train.isnull().sum(axis=1) < max_missing]\n",
    "y_train = y_train.loc[X_train.index]\n",
    "new_total_class = y_train.value_counts().to_dict()\n",
    "print(\"Perc rows removed class 1:\", (new_total_class[1]-(total_class[1]-removed_counts[1]))/(total_class[1]-removed_counts[1]))\n",
    "print(\"Perc rows removed class 0:\", (new_total_class[0]-(total_class[0]-removed_counts[0]))/(total_class[0]-removed_counts[0]))"
   ]
  },
  {
   "cell_type": "code",
   "execution_count": null,
   "id": "c087a6f3-11b6-480a-94ea-0daa9f4f8968",
   "metadata": {},
   "outputs": [],
   "source": [
    "# Replace 'inf' and '-inf' with NaN\n",
    "X_train.replace([np.inf, -np.inf], np.nan, inplace=True)\n",
    "X_val.replace([np.inf, -np.inf], np.nan, inplace=True)\n",
    "X_test.replace([np.inf, -np.inf], np.nan, inplace=True)"
   ]
  },
  {
   "cell_type": "code",
   "execution_count": null,
   "id": "d8c891f8-a5bf-4b49-8a25-c6a8b130b899",
   "metadata": {},
   "outputs": [],
   "source": [
    "# Initialize SimpleImputer with the 'mean' strategy\n",
    "imputer = SimpleImputer(strategy='mean')\n",
    "# Fit the imputer on the training data and transform it\n",
    "X_train = pd.DataFrame(imputer.fit_transform(X_train), columns=X_train.columns)\n",
    "# Apply the same imputer to the validation and test sets (without refitting)\n",
    "X_val = pd.DataFrame(imputer.transform(X_val), columns=X_val.columns)\n",
    "X_test = pd.DataFrame(imputer.transform(X_test), columns=X_test.columns)"
   ]
  },
  {
   "cell_type": "code",
   "execution_count": null,
   "id": "c59ddaf4-99b0-4043-8222-bbbe5933c01e",
   "metadata": {},
   "outputs": [
    {
     "name": "stdout",
     "output_type": "stream",
     "text": [
      "Data has been split, outliers removed, and data scaled.\n"
     ]
    }
   ],
   "source": [
    "# Scale the data\n",
    "X_train, X_val, X_test = k.scale_columns1(X_train, X_val, X_test, col_names)\n",
    "print(\"Data has been split, outliers removed, and data scaled.\")"
   ]
  },
  {
   "cell_type": "code",
   "execution_count": null,
   "id": "ca4bcc61-da68-499a-91b6-8ee06100bafd",
   "metadata": {},
   "outputs": [
    {
     "name": "stdout",
     "output_type": "stream",
     "text": [
      "Iteration 1, Best Fitness: 0.3736357512972761\n",
      "Iteration 2, Best Fitness: 0.37807058958561435\n",
      "Iteration 3, Best Fitness: 0.37807058958561435\n",
      "Iteration 4, Best Fitness: 0.3789555847884587\n",
      "Iteration 5, Best Fitness: 0.38269589222926703\n",
      "Iteration 6, Best Fitness: 0.38269589222926703\n",
      "Iteration 7, Best Fitness: 0.385341292415739\n",
      "Iteration 8, Best Fitness: 0.385341292415739\n",
      "Iteration 9, Best Fitness: 0.385341292415739\n",
      "Iteration 10, Best Fitness: 0.385341292415739\n",
      "Iteration 11, Best Fitness: 0.385341292415739\n",
      "Iteration 12, Best Fitness: 0.385341292415739\n",
      "Iteration 13, Best Fitness: 0.385341292415739\n",
      "Iteration 14, Best Fitness: 0.385341292415739\n",
      "Iteration 15, Best Fitness: 0.385341292415739\n",
      "Iteration 16, Best Fitness: 0.385341292415739\n",
      "Iteration 17, Best Fitness: 0.385341292415739\n",
      "Iteration 18, Best Fitness: 0.385341292415739\n",
      "Iteration 19, Best Fitness: 0.385341292415739\n",
      "Iteration 20, Best Fitness: 0.385341292415739\n",
      "Iteration 21, Best Fitness: 0.385341292415739\n",
      "Iteration 22, Best Fitness: 0.385341292415739\n",
      "Iteration 23, Best Fitness: 0.385341292415739\n",
      "Iteration 24, Best Fitness: 0.385341292415739\n",
      "Iteration 25, Best Fitness: 0.385341292415739\n",
      "Iteration 26, Best Fitness: 0.385341292415739\n",
      "Iteration 27, Best Fitness: 0.385341292415739\n",
      "Iteration 28, Best Fitness: 0.385341292415739\n",
      "Iteration 29, Best Fitness: 0.385341292415739\n",
      "Iteration 30, Best Fitness: 0.385341292415739\n",
      "Best hyperparameters found by SCA:\n",
      "{'learning_rate': 0.03693727433705628, 'max_depth': 9.56202448143557, 'subsample': 0.7535782154795646, 'colsample_bytree': 0.5989401990102827, 'reg_alpha': 0.0, 'reg_lambda': 0.3198199926573602}\n"
     ]
    }
   ],
   "source": [
    "# Run the sine cosine algorithm to find the best hyperparameters \n",
    "best_params = sine_cosine_algorithm(X_train, y_train, X_val, y_val, max_iter=30, pop_size=20)\n",
    "#Print the best hyperparameters found by the algorithm\n",
    "print(\"Best hyperparameters found by SCA:\")\n",
    "print(best_params)"
   ]
  },
  {
   "cell_type": "code",
   "execution_count": null,
   "id": "c438c077-b16c-43ff-a5d3-18230c457840",
   "metadata": {},
   "outputs": [],
   "source": [
    "final_kappa, final_misclass_error, final_model = train_xgboost(X_train, y_train, X_val, y_val, best_params)"
   ]
  },
  {
   "cell_type": "code",
   "execution_count": null,
   "id": "8bf6f71e-6b06-42ec-872d-06287037d708",
   "metadata": {},
   "outputs": [
    {
     "name": "stdout",
     "output_type": "stream",
     "text": [
      "Final Model Cohen's Kappa: 0.33104785179712415\n",
      "Final Model Misclassification Error: 0.21295303452712844\n",
      "              precision    recall  f1-score   support\n",
      "\n",
      "           0       0.69      0.45      0.55      1267\n",
      "           1       0.82      0.92      0.87      3401\n",
      "\n",
      "    accuracy                           0.80      4668\n",
      "   macro avg       0.76      0.69      0.71      4668\n",
      "weighted avg       0.78      0.80      0.78      4668\n",
      "\n"
     ]
    }
   ],
   "source": [
    "# Output final model evaluation\n",
    "print(f\"Final Model Cohen's Kappa: {final_kappa}\")\n",
    "print(f\"Final Model Misclassification Error: {final_misclass_error}\")\n",
    "# Evalute \n",
    "y_pred = final_model.predict(X_test)\n",
    "print(classification_report(y_test, y_pred))"
   ]
  },
  {
   "cell_type": "code",
   "execution_count": null,
   "id": "ba0434c5-fe90-4b95-a4d1-cad1342faff3",
   "metadata": {},
   "outputs": [
    {
     "name": "stdout",
     "output_type": "stream",
     "text": [
      "              precision    recall  f1-score   support\n",
      "\n",
      "           0       0.69      0.45      0.55      1267\n",
      "           1       0.82      0.92      0.87      3401\n",
      "\n",
      "    accuracy                           0.80      4668\n",
      "   macro avg       0.76      0.69      0.71      4668\n",
      "weighted avg       0.78      0.80      0.78      4668\n",
      "\n"
     ]
    }
   ],
   "source": [
    "# Save the trained XGBoost model\n",
    "final_model.save_model(\"eu_xgboost_241118.json\")\n",
    "# Load the saved XGBoost model\n",
    "loaded_model = xgb.XGBClassifier()\n",
    "loaded_model.load_model(\"eu_xgboost_241118.json\")\n",
    "# Verify by running predictions\n",
    "y_pred_loaded = loaded_model.predict(X_test)\n",
    "print(classification_report(y_test, y_pred_loaded))"
   ]
  },
  {
   "cell_type": "code",
   "execution_count": null,
   "id": "ba08bc54-e062-4d71-b29c-7bf01e1f2bf7",
   "metadata": {},
   "outputs": [
    {
     "data": {
      "image/png": "[encoded data removed]",
      "text/plain": [
       "<Figure size 640x480 with 1 Axes>"
      ]
     },
     "metadata": {},
     "output_type": "display_data"
    }
   ],
   "source": [
    "import matplotlib.pyplot as plt\n",
    "from sklearn.metrics import roc_curve, auc\n",
    "\n",
    "y_true = y_test\n",
    "y_pred_proba = y_pred \n",
    "# Compute ROC curve and ROC area\n",
    "fpr, tpr, thresholds = roc_curve(y_true, y_pred_proba)\n",
    "roc_auc = auc(fpr, tpr)\n",
    "\n",
    "\n",
    "# Plotting the ROC curve\n",
    "plt.figure()\n",
    "plt.plot(fpr, tpr, color='blue', label=f'ROC curve (area = {roc_auc:.2f})')\n",
    "plt.plot([0, 1], [0, 1], color='gray', linestyle='--', label='Chance line')\n",
    "plt.xlim([0.0, 1.0])\n",
    "plt.ylim([0.0, 1.05])\n",
    "plt.xlabel('False Positive Rate')\n",
    "plt.ylabel('True Positive Rate')\n",
    "plt.title('Receiver Operating Characteristic (ROC) Curve')\n",
    "plt.legend(loc=\"lower right\")\n",
    "plt.savefig(\"results/241118 EU/XGB_roc_curve.png\", dpi=300, bbox_inches='tight')\n",
    "plt.show()"
   ]
  },
  {
   "cell_type": "code",
   "execution_count": null,
   "id": "b50f05ad-df74-4b83-808e-64b9ee40cb08",
   "metadata": {},
   "outputs": [
    {
     "data": {
      "image/png": "[encoded data removed]",
      "text/plain": [
       "<Figure size 640x480 with 2 Axes>"
      ]
     },
     "metadata": {},
     "output_type": "display_data"
    }
   ],
   "source": [
    "from sklearn.metrics import confusion_matrix, ConfusionMatrixDisplay\n",
    "\n",
    "# Compute the confusion matrix\n",
    "cm = confusion_matrix(y_true, y_pred)\n",
    "\n",
    "# Plot the confusion matrix\n",
    "disp = ConfusionMatrixDisplay(confusion_matrix=cm)\n",
    "disp.plot(cmap='Blues')\n",
    "plt.title(\"Confusion Matrix\")\n",
    "plt.savefig(\"results/241118 EU/XGB_confusion_matrix.png\", dpi=300, bbox_inches='tight')\n",
    "plt.show()"
   ]
  }
 ],
 "metadata": {
  "kernelspec": {
   "display_name": "Python 3 (ipykernel)",
   "language": "python",
   "name": "python3"
  },
  "language_info": {
   "codemirror_mode": {
    "name": "ipython",
    "version": 3
   },
   "file_extension": ".py",
   "mimetype": "text/x-python",
   "name": "python",
   "nbconvert_exporter": "python",
   "pygments_lexer": "ipython3",
   "version": "3.11.7"
  }
 },
 "nbformat": 4,
 "nbformat_minor": 2
}
