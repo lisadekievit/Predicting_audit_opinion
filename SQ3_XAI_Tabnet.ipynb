{
 "cells": [
  {
   "cell_type": "code",
   "execution_count": null,
   "id": "6a91b1af-4f87-4309-93d6-cbf5d36617e6",
   "metadata": {},
   "outputs": [
    {
     "name": "stdout",
     "output_type": "stream",
     "text": [
      "runned!\n",
      "['PCA', 'SMOTE', 'SimpleImputer', 'StandardScaler', '__builtins__', '__cached__', '__doc__', '__file__', '__loader__', '__name__', '__package__', '__spec__', 'create_pca_table', 'np', 'pca_on_train_and_transform_full_data', 'pd', 'plt', 'preprocess_and_apply_smote1', 'remove_outliers_iqr', 'scale_columns1', 'scale_columns2']\n"
     ]
    },
    {
     "name": "stderr",
     "output_type": "stream",
     "text": [
      "<ipython-input-1-92ac18f58d88>:20: FutureWarning: Downcasting behavior in `replace` is deprecated and will be removed in a future version. To retain the old behavior, explicitly call `result.infer_objects(copy=False)`. To opt-in to the future behavior, set `pd.set_option('future.no_silent_downcasting', True)`\n",
      "  y_train = y_train.replace({'1': 1, '4': 0})\n",
      "<ipython-input-1-92ac18f58d88>:21: FutureWarning: Downcasting behavior in `replace` is deprecated and will be removed in a future version. To retain the old behavior, explicitly call `result.infer_objects(copy=False)`. To opt-in to the future behavior, set `pd.set_option('future.no_silent_downcasting', True)`\n",
      "  y_val = y_val.replace({'1': 1, '4': 0})\n",
      "<ipython-input-1-92ac18f58d88>:22: FutureWarning: Downcasting behavior in `replace` is deprecated and will be removed in a future version. To retain the old behavior, explicitly call `result.infer_objects(copy=False)`. To opt-in to the future behavior, set `pd.set_option('future.no_silent_downcasting', True)`\n",
      "  y_test = y_test.replace({'1': 1, '4': 0})\n"
     ]
    }
   ],
   "source": [
    "import matplotlib.pyplot as plt\n",
    "from sklearn.impute import SimpleImputer\n",
    "\n",
    "#https://www.kaggle.com/code/enigmak/tabnet-deep-neural-network-for-tabular-data\n",
    "\n",
    "#from base1 import *\n",
    "from base2 import *\n",
    "\n",
    "X_train_1 = pd.read_csv('csv/X_train_eu.csv', index_col='Unnamed: 0')\n",
    "y_train = pd.read_csv('csv/y_train_eu.csv', index_col='Unnamed: 0')\n",
    "X_val_1 = pd.read_csv('csv/X_val_eu.csv', index_col='Unnamed: 0')\n",
    "y_val = pd.read_csv('csv/y_val_eu.csv', index_col='Unnamed: 0')\n",
    "X_test_1 = pd.read_csv('csv/X_test_eu.csv', index_col='Unnamed: 0')\n",
    "y_test = pd.read_csv('csv/y_test_eu.csv', index_col='Unnamed: 0')\n",
    "\n",
    "y_train = (y_train['auop']).astype(str)\n",
    "y_val = (y_val['auop']).astype(str)\n",
    "y_test = (y_test['auop']).astype(str)\n",
    "\n",
    "y_train = y_train.replace({'1': 1, '4': 0})\n",
    "y_val = y_val.replace({'1': 1, '4': 0})\n",
    "y_test = y_test.replace({'1': 1, '4': 0})\n",
    "\n",
    "X_train = X_train_1\n",
    "X_val = X_val_1\n",
    "X_test = X_test_1"
   ]
  },
  {
   "cell_type": "code",
   "execution_count": null,
   "id": "fbcdbc66-49b0-42d2-bf82-bb3c4cb80c70",
   "metadata": {},
   "outputs": [
    {
     "name": "stdout",
     "output_type": "stream",
     "text": [
      "Columns dropped: ['X20', 'X119']\n",
      "2\n"
     ]
    },
    {
     "name": "stderr",
     "output_type": "stream",
     "text": [
      "<ipython-input-2-f194cd05e0f5>:8: FutureWarning: A value is trying to be set on a copy of a DataFrame or Series through chained assignment using an inplace method.\n",
      "The behavior will change in pandas 3.0. This inplace method will never work because the intermediate object on which we are setting values always behaves as a copy.\n",
      "\n",
      "For example, when doing 'df[col].method(value, inplace=True)', try using 'df.method({col: value}, inplace=True)' or df[col] = df[col].method(value) instead, to perform the operation inplace on the original object.\n",
      "\n",
      "\n",
      "  X_val['X141'].fillna(0, inplace=True)\n",
      "<ipython-input-2-f194cd05e0f5>:9: FutureWarning: A value is trying to be set on a copy of a DataFrame or Series through chained assignment using an inplace method.\n",
      "The behavior will change in pandas 3.0. This inplace method will never work because the intermediate object on which we are setting values always behaves as a copy.\n",
      "\n",
      "For example, when doing 'df[col].method(value, inplace=True)', try using 'df.method({col: value}, inplace=True)' or df[col] = df[col].method(value) instead, to perform the operation inplace on the original object.\n",
      "\n",
      "\n",
      "  X_test['X141'].fillna(0, inplace=True)\n"
     ]
    }
   ],
   "source": [
    "# Calculate frequency encoding on the training set\n",
    "frequency_encoding = X_train['X140'].value_counts(normalize=True)\n",
    "# Map the frequencies to the sector column in each dataset\n",
    "X_train['X141'] = X_train['X140'].map(frequency_encoding)\n",
    "X_val['X141'] = X_val['X140'].map(frequency_encoding)\n",
    "X_test['X141'] = X_test['X140'].map(frequency_encoding)\n",
    "# Fill any missing values that might arise if a category in val/test wasn't in train\n",
    "X_val['X141'].fillna(0, inplace=True)\n",
    "X_test['X141'].fillna(0, inplace=True)\n",
    "\n",
    "X_train = X_train.drop(columns=['X140'])\n",
    "X_val = X_val.drop(columns=['X140'])\n",
    "X_test = X_test.drop(columns=['X140'])\n",
    "\n",
    "# Deal with missing values in the features \n",
    "missing_threshold = 0.8\n",
    "missing_train = X_train.isnull().mean()\n",
    "cols_to_drop = missing_train[missing_train > missing_threshold].index\n",
    "# Drop the identified columns from both the training and test sets\n",
    "X_train = X_train.drop(cols_to_drop, axis=1)\n",
    "X_val = X_val.drop(cols_to_drop, axis=1)\n",
    "X_test = X_test.drop(cols_to_drop, axis=1)\n",
    "print(f\"Columns dropped: {list(cols_to_drop)}\")\n",
    "print(len(cols_to_drop))\n",
    "\n",
    "col_names = X_train.columns.to_list()\n",
    "col_names.remove(\"X23\")\n",
    "col_names.remove(\"X141\")"
   ]
  },
  {
   "cell_type": "code",
   "execution_count": null,
   "id": "c55cf106-4023-4767-baf3-273e9f9ccd0c",
   "metadata": {},
   "outputs": [],
   "source": [
    "# Replace 'inf' and '-inf' with NaN\n",
    "X_train.replace([np.inf, -np.inf], np.nan, inplace=True)\n",
    "X_val.replace([np.inf, -np.inf], np.nan, inplace=True)\n",
    "X_test.replace([np.inf, -np.inf], np.nan, inplace=True)\n",
    "\n",
    "# Initialize SimpleImputer with the 'mean' strategy\n",
    "imputer = SimpleImputer(strategy='mean')\n",
    "# Fit the imputer on the training data and transform it\n",
    "X_train = pd.DataFrame(imputer.fit_transform(X_train), columns=X_train.columns)\n",
    "# Apply the same imputer to the validation and test sets (without refitting)\n",
    "X_val = pd.DataFrame(imputer.transform(X_val), columns=X_train.columns)\n",
    "X_test = pd.DataFrame(imputer.transform(X_test), columns=X_train.columns)"
   ]
  },
  {
   "cell_type": "code",
   "execution_count": null,
   "id": "8802b0df-219c-4fd6-817f-6ba149b2d2e3",
   "metadata": {},
   "outputs": [],
   "source": [
    "from pytorch_tabnet.tab_model import TabNetClassifier\n",
    "import torch\n",
    "from sklearn.metrics import roc_auc_score, balanced_accuracy_score, f1_score, precision_recall_curve, auc\n",
    "\n",
    "# Convert DataFrames to NumPy arrays\n",
    "X_train_np = X_train.values\n",
    "X_val_np = X_val.values\n",
    "X_test_np = X_test.values"
   ]
  },
  {
   "cell_type": "code",
   "execution_count": null,
   "id": "f76c6dfe-6481-4c98-9561-8a2e5bbb66d0",
   "metadata": {},
   "outputs": [],
   "source": [
    "import torch\n",
    "import optuna\n",
    "import seaborn as sns\n",
    "import matplotlib.pyplot as plt\n",
    "from sklearn.feature_selection import chi2\n",
    "from sklearn.preprocessing import RobustScaler\n",
    "from sklearn.metrics import average_precision_score\n",
    "from pytorch_tabnet.tab_model import TabNetClassifier\n",
    "from pytorch_tabnet.metrics import Metric\n",
    "from sklearn.model_selection import train_test_split"
   ]
  },
  {
   "cell_type": "code",
   "execution_count": null,
   "id": "7c40d8ea-7e6b-4afc-93bd-8234c9fc2032",
   "metadata": {},
   "outputs": [],
   "source": [
    "def objective(trial):\n",
    "\n",
    "    hyperparams = {\n",
    "        'n_a_d': trial.suggest_categorical('n_a_d', [8, 16, 24, 32, 64, 128, 256]),\n",
    "        'n_steps': trial.suggest_int('n_steps', 3, 10, 1),\n",
    "        'gamma': trial.suggest_categorical('gamma', [0.01, 0.05, 0.1, 0.5, 0.8, 1.0, 1.2, 1.5, 2.0]),\n",
    "        'lambda': trial.suggest_categorical('lambda', [0.1, 0.01, 0.001, 0.0001, 0.00001, 0.000001, 0.0000001, 0]),\n",
    "        'batch_size': trial.suggest_categorical('batch_size', [1024, 2048, 4096, 8192, 16384, 32768]),\n",
    "        'virtual_batch_size': trial.suggest_categorical('virtual_batch_size', [128, 256, 512, 1024, 2028, 4096]),\n",
    "        'lr': trial.suggest_categorical('lr', [0.005, 0.01, 0.02, 0.025, 0.03, 0.04, 0.05]),\n",
    "        'gamma_decay': trial.suggest_categorical('gamma_decay', [0.4, 0.8, 0.9, 0.95]),\n",
    "        'mask_type': trial.suggest_categorical('mask_type', ['entmax', 'sparsemax']),\n",
    "        'batch_momentum': trial.suggest_categorical('batch_momentum', [0.6, 0.7, 0.8, 0.9, 0.95, 0.98]),\n",
    "    }\n",
    "    MAX_EPOCHS = 35\n",
    "    PATIENCE = 5\n",
    "    model = TabNetClassifier(\n",
    "        n_d=hyperparams['n_a_d'],\n",
    "        n_a=hyperparams['n_a_d'],\n",
    "        gamma=hyperparams['gamma'],\n",
    "        optimizer_fn=torch.optim.Adam,\n",
    "        optimizer_params={'lr':hyperparams['lr']},\n",
    "        scheduler_params={\"step_size\":hyperparams['n_steps'],\n",
    "                          \"gamma\":hyperparams['gamma_decay']},\n",
    "        scheduler_fn=torch.optim.lr_scheduler.StepLR,\n",
    "        mask_type=hyperparams['mask_type'],\n",
    "        lambda_sparse=hyperparams['lambda'],\n",
    "        momentum=hyperparams['batch_momentum'],\n",
    "        verbose = 0\n",
    "    )\n",
    "    model.fit(\n",
    "        X_train=X_train_np, y_train=y_train,\n",
    "        eval_set=[(X_train_np, y_train), (X_val_np, y_val)],\n",
    "        eval_name=['train', 'val'],\n",
    "        max_epochs=MAX_EPOCHS, \n",
    "        patience=PATIENCE,\n",
    "        batch_size=hyperparams['batch_size'],\n",
    "        virtual_batch_size=hyperparams['virtual_batch_size'],\n",
    "        num_workers=0,\n",
    "        drop_last=False\n",
    "    )\n",
    "\n",
    "    val_preds = model.predict(X_val_np)\n",
    "    \n",
    "    del model\n",
    "\n",
    "    return average_precision_score(y_val,val_preds)"
   ]
  },
  {
   "cell_type": "code",
   "execution_count": null,
   "id": "63276ffe-1961-410e-90d9-fe2e6f9640da",
   "metadata": {},
   "outputs": [
    {
     "name": "stderr",
     "output_type": "stream",
     "text": [
      "/opt/anaconda3/lib/python3.11/site-packages/optuna/_experimental.py:30: ExperimentalWarning: Argument ``multivariate`` is an experimental feature. The interface can change in the future.\n",
      "  warnings.warn(\n",
      "[I 2024-11-18 10:23:08,979] A new study created in memory with name: no-name-0ff3b853-87a1-4ac9-93ca-bb569da8eb3a\n"
     ]
    }
   ],
   "source": [
    "study = optuna.create_study(direction='maximize',\n",
    "                            sampler=optuna.samplers.TPESampler(multivariate=True, seed=42))"
   ]
  },
  {
   "cell_type": "code",
   "execution_count": null,
   "id": "6e653967-1b3c-4fca-858a-4d1cf5e2d981",
   "metadata": {},
   "outputs": [
    {
     "name": "stderr",
     "output_type": "stream",
     "text": [
      "<ipython-input-6-28ed69af07b4>:5: FutureWarning: suggest_int() got {'step'} as positional arguments but they were expected to be given as keyword arguments.\n",
      "  'n_steps': trial.suggest_int('n_steps', 3, 10, 1),\n"
     ]
    },
    {
     "name": "stdout",
     "output_type": "stream",
     "text": [
      "\n",
      "Early stopping occurred at epoch 16 with best_epoch = 11 and best_val_auc = 0.72921\n"
     ]
    },
    {
     "name": "stderr",
     "output_type": "stream",
     "text": [
      "/opt/anaconda3/lib/python3.11/site-packages/pytorch_tabnet/callbacks.py:172: UserWarning: Best weights from best epoch are automatically used!\n",
      "  warnings.warn(wrn_msg)\n",
      "[I 2024-11-18 10:23:26,670] Trial 0 finished with value: 0.7669368913646283 and parameters: {'n_a_d': 16, 'n_steps': 9, 'gamma': 0.5, 'lambda': 0.0001, 'batch_size': 1024, 'virtual_batch_size': 1024, 'lr': 0.05, 'gamma_decay': 0.8, 'mask_type': 'entmax', 'batch_momentum': 0.6}. Best is trial 0 with value: 0.7669368913646283.\n",
      "<ipython-input-6-28ed69af07b4>:5: FutureWarning: suggest_int() got {'step'} as positional arguments but they were expected to be given as keyword arguments.\n",
      "  'n_steps': trial.suggest_int('n_steps', 3, 10, 1),\n"
     ]
    },
    {
     "name": "stdout",
     "output_type": "stream",
     "text": [
      "\n",
      "Early stopping occurred at epoch 9 with best_epoch = 4 and best_val_auc = 0.57302\n"
     ]
    },
    {
     "name": "stderr",
     "output_type": "stream",
     "text": [
      "/opt/anaconda3/lib/python3.11/site-packages/pytorch_tabnet/callbacks.py:172: UserWarning: Best weights from best epoch are automatically used!\n",
      "  warnings.warn(wrn_msg)\n",
      "[I 2024-11-18 10:24:15,044] Trial 1 finished with value: 0.7649807197313618 and parameters: {'n_a_d': 256, 'n_steps': 5, 'gamma': 1.0, 'lambda': 0, 'batch_size': 32768, 'virtual_batch_size': 256, 'lr': 0.01, 'gamma_decay': 0.8, 'mask_type': 'entmax', 'batch_momentum': 0.7}. Best is trial 0 with value: 0.7669368913646283.\n",
      "<ipython-input-6-28ed69af07b4>:5: FutureWarning: suggest_int() got {'step'} as positional arguments but they were expected to be given as keyword arguments.\n",
      "  'n_steps': trial.suggest_int('n_steps', 3, 10, 1),\n"
     ]
    },
    {
     "name": "stdout",
     "output_type": "stream",
     "text": [
      "Stop training because you reached max_epochs = 35 with best_epoch = 30 and best_val_auc = 0.70392\n"
     ]
    },
    {
     "name": "stderr",
     "output_type": "stream",
     "text": [
      "/opt/anaconda3/lib/python3.11/site-packages/pytorch_tabnet/callbacks.py:172: UserWarning: Best weights from best epoch are automatically used!\n",
      "  warnings.warn(wrn_msg)\n",
      "[I 2024-11-18 10:24:31,704] Trial 2 finished with value: 0.7729262034716449 and parameters: {'n_a_d': 8, 'n_steps': 7, 'gamma': 0.05, 'lambda': 1e-06, 'batch_size': 4096, 'virtual_batch_size': 1024, 'lr': 0.04, 'gamma_decay': 0.8, 'mask_type': 'sparsemax', 'batch_momentum': 0.9}. Best is trial 2 with value: 0.7729262034716449.\n",
      "<ipython-input-6-28ed69af07b4>:5: FutureWarning: suggest_int() got {'step'} as positional arguments but they were expected to be given as keyword arguments.\n",
      "  'n_steps': trial.suggest_int('n_steps', 3, 10, 1),\n"
     ]
    },
    {
     "name": "stdout",
     "output_type": "stream",
     "text": [
      "\n",
      "Early stopping occurred at epoch 19 with best_epoch = 14 and best_val_auc = 0.62351\n"
     ]
    },
    {
     "name": "stderr",
     "output_type": "stream",
     "text": [
      "/opt/anaconda3/lib/python3.11/site-packages/pytorch_tabnet/callbacks.py:172: UserWarning: Best weights from best epoch are automatically used!\n",
      "  warnings.warn(wrn_msg)\n",
      "[I 2024-11-18 10:24:45,516] Trial 3 finished with value: 0.7626172149286112 and parameters: {'n_a_d': 24, 'n_steps': 4, 'gamma': 0.1, 'lambda': 0, 'batch_size': 16384, 'virtual_batch_size': 2028, 'lr': 0.05, 'gamma_decay': 0.9, 'mask_type': 'sparsemax', 'batch_momentum': 0.7}. Best is trial 2 with value: 0.7729262034716449.\n",
      "<ipython-input-6-28ed69af07b4>:5: FutureWarning: suggest_int() got {'step'} as positional arguments but they were expected to be given as keyword arguments.\n",
      "  'n_steps': trial.suggest_int('n_steps', 3, 10, 1),\n"
     ]
    },
    {
     "name": "stdout",
     "output_type": "stream",
     "text": [
      "\n",
      "Early stopping occurred at epoch 22 with best_epoch = 17 and best_val_auc = 0.62743\n"
     ]
    },
    {
     "name": "stderr",
     "output_type": "stream",
     "text": [
      "/opt/anaconda3/lib/python3.11/site-packages/pytorch_tabnet/callbacks.py:172: UserWarning: Best weights from best epoch are automatically used!\n",
      "  warnings.warn(wrn_msg)\n",
      "[I 2024-11-18 10:25:07,309] Trial 4 finished with value: 0.7611354335654696 and parameters: {'n_a_d': 24, 'n_steps': 7, 'gamma': 2.0, 'lambda': 1e-07, 'batch_size': 1024, 'virtual_batch_size': 256, 'lr': 0.005, 'gamma_decay': 0.95, 'mask_type': 'sparsemax', 'batch_momentum': 0.8}. Best is trial 2 with value: 0.7729262034716449.\n",
      "<ipython-input-6-28ed69af07b4>:5: FutureWarning: suggest_int() got {'step'} as positional arguments but they were expected to be given as keyword arguments.\n",
      "  'n_steps': trial.suggest_int('n_steps', 3, 10, 1),\n"
     ]
    },
    {
     "name": "stdout",
     "output_type": "stream",
     "text": [
      "\n",
      "Early stopping occurred at epoch 26 with best_epoch = 21 and best_val_auc = 0.72958\n"
     ]
    },
    {
     "name": "stderr",
     "output_type": "stream",
     "text": [
      "/opt/anaconda3/lib/python3.11/site-packages/pytorch_tabnet/callbacks.py:172: UserWarning: Best weights from best epoch are automatically used!\n",
      "  warnings.warn(wrn_msg)\n",
      "[I 2024-11-18 10:25:24,366] Trial 5 finished with value: 0.769199098519293 and parameters: {'n_a_d': 8, 'n_steps': 7, 'gamma': 0.8, 'lambda': 0, 'batch_size': 1024, 'virtual_batch_size': 512, 'lr': 0.03, 'gamma_decay': 0.4, 'mask_type': 'entmax', 'batch_momentum': 0.7}. Best is trial 2 with value: 0.7729262034716449.\n",
      "<ipython-input-6-28ed69af07b4>:5: FutureWarning: suggest_int() got {'step'} as positional arguments but they were expected to be given as keyword arguments.\n",
      "  'n_steps': trial.suggest_int('n_steps', 3, 10, 1),\n"
     ]
    },
    {
     "name": "stdout",
     "output_type": "stream",
     "text": [
      "\n",
      "Early stopping occurred at epoch 8 with best_epoch = 3 and best_val_auc = 0.55244\n"
     ]
    },
    {
     "name": "stderr",
     "output_type": "stream",
     "text": [
      "/opt/anaconda3/lib/python3.11/site-packages/pytorch_tabnet/callbacks.py:172: UserWarning: Best weights from best epoch are automatically used!\n",
      "  warnings.warn(wrn_msg)\n",
      "[I 2024-11-18 10:25:30,077] Trial 6 finished with value: 0.7652848624885162 and parameters: {'n_a_d': 8, 'n_steps': 6, 'gamma': 1.5, 'lambda': 1e-06, 'batch_size': 32768, 'virtual_batch_size': 128, 'lr': 0.025, 'gamma_decay': 0.95, 'mask_type': 'sparsemax', 'batch_momentum': 0.95}. Best is trial 2 with value: 0.7729262034716449.\n",
      "<ipython-input-6-28ed69af07b4>:5: FutureWarning: suggest_int() got {'step'} as positional arguments but they were expected to be given as keyword arguments.\n",
      "  'n_steps': trial.suggest_int('n_steps', 3, 10, 1),\n"
     ]
    },
    {
     "name": "stdout",
     "output_type": "stream",
     "text": [
      "\n",
      "Early stopping occurred at epoch 16 with best_epoch = 11 and best_val_auc = 0.58265\n"
     ]
    },
    {
     "name": "stderr",
     "output_type": "stream",
     "text": [
      "/opt/anaconda3/lib/python3.11/site-packages/pytorch_tabnet/callbacks.py:172: UserWarning: Best weights from best epoch are automatically used!\n",
      "  warnings.warn(wrn_msg)\n",
      "[I 2024-11-18 10:25:42,282] Trial 7 finished with value: 0.7638376837912363 and parameters: {'n_a_d': 32, 'n_steps': 9, 'gamma': 2.0, 'lambda': 0.0001, 'batch_size': 8192, 'virtual_batch_size': 2028, 'lr': 0.02, 'gamma_decay': 0.8, 'mask_type': 'sparsemax', 'batch_momentum': 0.95}. Best is trial 2 with value: 0.7729262034716449.\n",
      "<ipython-input-6-28ed69af07b4>:5: FutureWarning: suggest_int() got {'step'} as positional arguments but they were expected to be given as keyword arguments.\n",
      "  'n_steps': trial.suggest_int('n_steps', 3, 10, 1),\n"
     ]
    },
    {
     "name": "stdout",
     "output_type": "stream",
     "text": [
      "Stop training because you reached max_epochs = 35 with best_epoch = 30 and best_val_auc = 0.72147\n"
     ]
    },
    {
     "name": "stderr",
     "output_type": "stream",
     "text": [
      "/opt/anaconda3/lib/python3.11/site-packages/pytorch_tabnet/callbacks.py:172: UserWarning: Best weights from best epoch are automatically used!\n",
      "  warnings.warn(wrn_msg)\n",
      "[I 2024-11-18 10:26:39,944] Trial 8 finished with value: 0.7672172050946546 and parameters: {'n_a_d': 128, 'n_steps': 6, 'gamma': 2.0, 'lambda': 1e-07, 'batch_size': 4096, 'virtual_batch_size': 512, 'lr': 0.025, 'gamma_decay': 0.9, 'mask_type': 'entmax', 'batch_momentum': 0.7}. Best is trial 2 with value: 0.7729262034716449.\n",
      "<ipython-input-6-28ed69af07b4>:5: FutureWarning: suggest_int() got {'step'} as positional arguments but they were expected to be given as keyword arguments.\n",
      "  'n_steps': trial.suggest_int('n_steps', 3, 10, 1),\n"
     ]
    },
    {
     "name": "stdout",
     "output_type": "stream",
     "text": [
      "\n",
      "Early stopping occurred at epoch 16 with best_epoch = 11 and best_val_auc = 0.64001\n"
     ]
    },
    {
     "name": "stderr",
     "output_type": "stream",
     "text": [
      "/opt/anaconda3/lib/python3.11/site-packages/pytorch_tabnet/callbacks.py:172: UserWarning: Best weights from best epoch are automatically used!\n",
      "  warnings.warn(wrn_msg)\n",
      "[I 2024-11-18 10:26:55,946] Trial 9 finished with value: 0.7641425239872479 and parameters: {'n_a_d': 64, 'n_steps': 6, 'gamma': 1.2, 'lambda': 0.01, 'batch_size': 4096, 'virtual_batch_size': 4096, 'lr': 0.02, 'gamma_decay': 0.95, 'mask_type': 'sparsemax', 'batch_momentum': 0.6}. Best is trial 2 with value: 0.7729262034716449.\n",
      "<ipython-input-6-28ed69af07b4>:5: FutureWarning: suggest_int() got {'step'} as positional arguments but they were expected to be given as keyword arguments.\n",
      "  'n_steps': trial.suggest_int('n_steps', 3, 10, 1),\n"
     ]
    },
    {
     "name": "stdout",
     "output_type": "stream",
     "text": [
      "\n",
      "Early stopping occurred at epoch 27 with best_epoch = 22 and best_val_auc = 0.70354\n"
     ]
    },
    {
     "name": "stderr",
     "output_type": "stream",
     "text": [
      "/opt/anaconda3/lib/python3.11/site-packages/pytorch_tabnet/callbacks.py:172: UserWarning: Best weights from best epoch are automatically used!\n",
      "  warnings.warn(wrn_msg)\n",
      "[I 2024-11-18 10:27:42,490] Trial 10 finished with value: 0.7701778130669558 and parameters: {'n_a_d': 128, 'n_steps': 4, 'gamma': 0.05, 'lambda': 1e-07, 'batch_size': 4096, 'virtual_batch_size': 1024, 'lr': 0.05, 'gamma_decay': 0.8, 'mask_type': 'sparsemax', 'batch_momentum': 0.9}. Best is trial 2 with value: 0.7729262034716449.\n",
      "<ipython-input-6-28ed69af07b4>:5: FutureWarning: suggest_int() got {'step'} as positional arguments but they were expected to be given as keyword arguments.\n",
      "  'n_steps': trial.suggest_int('n_steps', 3, 10, 1),\n"
     ]
    },
    {
     "name": "stdout",
     "output_type": "stream",
     "text": [
      "\n",
      "Early stopping occurred at epoch 24 with best_epoch = 19 and best_val_auc = 0.74331\n"
     ]
    },
    {
     "name": "stderr",
     "output_type": "stream",
     "text": [
      "/opt/anaconda3/lib/python3.11/site-packages/pytorch_tabnet/callbacks.py:172: UserWarning: Best weights from best epoch are automatically used!\n",
      "  warnings.warn(wrn_msg)\n",
      "[I 2024-11-18 10:28:02,343] Trial 11 finished with value: 0.7747381277427644 and parameters: {'n_a_d': 32, 'n_steps': 9, 'gamma': 0.1, 'lambda': 1e-06, 'batch_size': 2048, 'virtual_batch_size': 1024, 'lr': 0.04, 'gamma_decay': 0.8, 'mask_type': 'sparsemax', 'batch_momentum': 0.9}. Best is trial 11 with value: 0.7747381277427644.\n",
      "<ipython-input-6-28ed69af07b4>:5: FutureWarning: suggest_int() got {'step'} as positional arguments but they were expected to be given as keyword arguments.\n",
      "  'n_steps': trial.suggest_int('n_steps', 3, 10, 1),\n"
     ]
    },
    {
     "name": "stdout",
     "output_type": "stream",
     "text": [
      "\n",
      "Early stopping occurred at epoch 24 with best_epoch = 19 and best_val_auc = 0.74378\n"
     ]
    },
    {
     "name": "stderr",
     "output_type": "stream",
     "text": [
      "/opt/anaconda3/lib/python3.11/site-packages/pytorch_tabnet/callbacks.py:172: UserWarning: Best weights from best epoch are automatically used!\n",
      "  warnings.warn(wrn_msg)\n",
      "[I 2024-11-18 10:28:22,042] Trial 12 finished with value: 0.7800486634596242 and parameters: {'n_a_d': 32, 'n_steps': 9, 'gamma': 0.01, 'lambda': 0, 'batch_size': 2048, 'virtual_batch_size': 1024, 'lr': 0.04, 'gamma_decay': 0.8, 'mask_type': 'sparsemax', 'batch_momentum': 0.9}. Best is trial 12 with value: 0.7800486634596242.\n",
      "<ipython-input-6-28ed69af07b4>:5: FutureWarning: suggest_int() got {'step'} as positional arguments but they were expected to be given as keyword arguments.\n",
      "  'n_steps': trial.suggest_int('n_steps', 3, 10, 1),\n"
     ]
    },
    {
     "name": "stdout",
     "output_type": "stream",
     "text": [
      "\n",
      "Early stopping occurred at epoch 26 with best_epoch = 21 and best_val_auc = 0.76299\n"
     ]
    },
    {
     "name": "stderr",
     "output_type": "stream",
     "text": [
      "/opt/anaconda3/lib/python3.11/site-packages/pytorch_tabnet/callbacks.py:172: UserWarning: Best weights from best epoch are automatically used!\n",
      "  warnings.warn(wrn_msg)\n",
      "[I 2024-11-18 10:29:06,046] Trial 13 finished with value: 0.7814819980725985 and parameters: {'n_a_d': 128, 'n_steps': 9, 'gamma': 0.01, 'lambda': 0.001, 'batch_size': 2048, 'virtual_batch_size': 1024, 'lr': 0.04, 'gamma_decay': 0.8, 'mask_type': 'entmax', 'batch_momentum': 0.9}. Best is trial 13 with value: 0.7814819980725985.\n",
      "<ipython-input-6-28ed69af07b4>:5: FutureWarning: suggest_int() got {'step'} as positional arguments but they were expected to be given as keyword arguments.\n",
      "  'n_steps': trial.suggest_int('n_steps', 3, 10, 1),\n"
     ]
    },
    {
     "name": "stdout",
     "output_type": "stream",
     "text": [
      "\n",
      "Early stopping occurred at epoch 29 with best_epoch = 24 and best_val_auc = 0.7137\n"
     ]
    },
    {
     "name": "stderr",
     "output_type": "stream",
     "text": [
      "/opt/anaconda3/lib/python3.11/site-packages/pytorch_tabnet/callbacks.py:172: UserWarning: Best weights from best epoch are automatically used!\n",
      "  warnings.warn(wrn_msg)\n",
      "[I 2024-11-18 10:29:58,617] Trial 14 finished with value: 0.7662882129186822 and parameters: {'n_a_d': 128, 'n_steps': 5, 'gamma': 0.01, 'lambda': 0.01, 'batch_size': 2048, 'virtual_batch_size': 128, 'lr': 0.005, 'gamma_decay': 0.8, 'mask_type': 'entmax', 'batch_momentum': 0.6}. Best is trial 13 with value: 0.7814819980725985.\n",
      "<ipython-input-6-28ed69af07b4>:5: FutureWarning: suggest_int() got {'step'} as positional arguments but they were expected to be given as keyword arguments.\n",
      "  'n_steps': trial.suggest_int('n_steps', 3, 10, 1),\n"
     ]
    },
    {
     "name": "stdout",
     "output_type": "stream",
     "text": [
      "\n",
      "Early stopping occurred at epoch 27 with best_epoch = 22 and best_val_auc = 0.74387\n"
     ]
    },
    {
     "name": "stderr",
     "output_type": "stream",
     "text": [
      "/opt/anaconda3/lib/python3.11/site-packages/pytorch_tabnet/callbacks.py:172: UserWarning: Best weights from best epoch are automatically used!\n",
      "  warnings.warn(wrn_msg)\n",
      "[I 2024-11-18 10:30:14,278] Trial 15 finished with value: 0.776500963522815 and parameters: {'n_a_d': 8, 'n_steps': 10, 'gamma': 0.01, 'lambda': 0, 'batch_size': 2048, 'virtual_batch_size': 1024, 'lr': 0.04, 'gamma_decay': 0.95, 'mask_type': 'entmax', 'batch_momentum': 0.9}. Best is trial 13 with value: 0.7814819980725985.\n",
      "<ipython-input-6-28ed69af07b4>:5: FutureWarning: suggest_int() got {'step'} as positional arguments but they were expected to be given as keyword arguments.\n",
      "  'n_steps': trial.suggest_int('n_steps', 3, 10, 1),\n"
     ]
    },
    {
     "name": "stdout",
     "output_type": "stream",
     "text": [
      "\n",
      "Early stopping occurred at epoch 28 with best_epoch = 23 and best_val_auc = 0.68447\n"
     ]
    },
    {
     "name": "stderr",
     "output_type": "stream",
     "text": [
      "/opt/anaconda3/lib/python3.11/site-packages/pytorch_tabnet/callbacks.py:172: UserWarning: Best weights from best epoch are automatically used!\n",
      "  warnings.warn(wrn_msg)\n",
      "[I 2024-11-18 10:31:02,813] Trial 16 finished with value: 0.7664867785523879 and parameters: {'n_a_d': 128, 'n_steps': 9, 'gamma': 2.0, 'lambda': 0, 'batch_size': 4096, 'virtual_batch_size': 1024, 'lr': 0.03, 'gamma_decay': 0.8, 'mask_type': 'entmax', 'batch_momentum': 0.9}. Best is trial 13 with value: 0.7814819980725985.\n",
      "<ipython-input-6-28ed69af07b4>:5: FutureWarning: suggest_int() got {'step'} as positional arguments but they were expected to be given as keyword arguments.\n",
      "  'n_steps': trial.suggest_int('n_steps', 3, 10, 1),\n"
     ]
    },
    {
     "name": "stdout",
     "output_type": "stream",
     "text": [
      "\n",
      "Early stopping occurred at epoch 12 with best_epoch = 7 and best_val_auc = 0.59263\n"
     ]
    },
    {
     "name": "stderr",
     "output_type": "stream",
     "text": [
      "/opt/anaconda3/lib/python3.11/site-packages/pytorch_tabnet/callbacks.py:172: UserWarning: Best weights from best epoch are automatically used!\n",
      "  warnings.warn(wrn_msg)\n",
      "[I 2024-11-18 10:31:32,540] Trial 17 finished with value: 0.7668803466867936 and parameters: {'n_a_d': 128, 'n_steps': 9, 'gamma': 1.2, 'lambda': 0.001, 'batch_size': 16384, 'virtual_batch_size': 1024, 'lr': 0.04, 'gamma_decay': 0.9, 'mask_type': 'entmax', 'batch_momentum': 0.8}. Best is trial 13 with value: 0.7814819980725985.\n",
      "<ipython-input-6-28ed69af07b4>:5: FutureWarning: suggest_int() got {'step'} as positional arguments but they were expected to be given as keyword arguments.\n",
      "  'n_steps': trial.suggest_int('n_steps', 3, 10, 1),\n"
     ]
    },
    {
     "name": "stdout",
     "output_type": "stream",
     "text": [
      "\n",
      "Early stopping occurred at epoch 23 with best_epoch = 18 and best_val_auc = 0.74238\n"
     ]
    },
    {
     "name": "stderr",
     "output_type": "stream",
     "text": [
      "/opt/anaconda3/lib/python3.11/site-packages/pytorch_tabnet/callbacks.py:172: UserWarning: Best weights from best epoch are automatically used!\n",
      "  warnings.warn(wrn_msg)\n",
      "[I 2024-11-18 10:31:49,725] Trial 18 finished with value: 0.7938735833360016 and parameters: {'n_a_d': 32, 'n_steps': 8, 'gamma': 0.01, 'lambda': 0, 'batch_size': 2048, 'virtual_batch_size': 2028, 'lr': 0.04, 'gamma_decay': 0.8, 'mask_type': 'sparsemax', 'batch_momentum': 0.8}. Best is trial 18 with value: 0.7938735833360016.\n",
      "<ipython-input-6-28ed69af07b4>:5: FutureWarning: suggest_int() got {'step'} as positional arguments but they were expected to be given as keyword arguments.\n",
      "  'n_steps': trial.suggest_int('n_steps', 3, 10, 1),\n"
     ]
    },
    {
     "name": "stdout",
     "output_type": "stream",
     "text": [
      "Stop training because you reached max_epochs = 35 with best_epoch = 34 and best_val_auc = 0.75934\n"
     ]
    },
    {
     "name": "stderr",
     "output_type": "stream",
     "text": [
      "/opt/anaconda3/lib/python3.11/site-packages/pytorch_tabnet/callbacks.py:172: UserWarning: Best weights from best epoch are automatically used!\n",
      "  warnings.warn(wrn_msg)\n",
      "[I 2024-11-18 10:32:47,977] Trial 19 finished with value: 0.7720868881244292 and parameters: {'n_a_d': 128, 'n_steps': 5, 'gamma': 2.0, 'lambda': 0, 'batch_size': 2048, 'virtual_batch_size': 2028, 'lr': 0.04, 'gamma_decay': 0.8, 'mask_type': 'sparsemax', 'batch_momentum': 0.8}. Best is trial 18 with value: 0.7938735833360016.\n",
      "<ipython-input-6-28ed69af07b4>:5: FutureWarning: suggest_int() got {'step'} as positional arguments but they were expected to be given as keyword arguments.\n",
      "  'n_steps': trial.suggest_int('n_steps', 3, 10, 1),\n"
     ]
    },
    {
     "name": "stdout",
     "output_type": "stream",
     "text": [
      "Stop training because you reached max_epochs = 35 with best_epoch = 31 and best_val_auc = 0.70588\n"
     ]
    },
    {
     "name": "stderr",
     "output_type": "stream",
     "text": [
      "/opt/anaconda3/lib/python3.11/site-packages/pytorch_tabnet/callbacks.py:172: UserWarning: Best weights from best epoch are automatically used!\n",
      "  warnings.warn(wrn_msg)\n",
      "[I 2024-11-18 10:33:14,204] Trial 20 finished with value: 0.7714890818816345 and parameters: {'n_a_d': 32, 'n_steps': 7, 'gamma': 0.05, 'lambda': 0, 'batch_size': 2048, 'virtual_batch_size': 2028, 'lr': 0.005, 'gamma_decay': 0.9, 'mask_type': 'sparsemax', 'batch_momentum': 0.8}. Best is trial 18 with value: 0.7938735833360016.\n",
      "<ipython-input-6-28ed69af07b4>:5: FutureWarning: suggest_int() got {'step'} as positional arguments but they were expected to be given as keyword arguments.\n",
      "  'n_steps': trial.suggest_int('n_steps', 3, 10, 1),\n"
     ]
    },
    {
     "name": "stdout",
     "output_type": "stream",
     "text": [
      "\n",
      "Early stopping occurred at epoch 27 with best_epoch = 22 and best_val_auc = 0.7167\n"
     ]
    },
    {
     "name": "stderr",
     "output_type": "stream",
     "text": [
      "/opt/anaconda3/lib/python3.11/site-packages/pytorch_tabnet/callbacks.py:172: UserWarning: Best weights from best epoch are automatically used!\n",
      "  warnings.warn(wrn_msg)\n",
      "[I 2024-11-18 10:33:33,667] Trial 21 finished with value: 0.7648578083978023 and parameters: {'n_a_d': 24, 'n_steps': 9, 'gamma': 1.2, 'lambda': 0.001, 'batch_size': 2048, 'virtual_batch_size': 512, 'lr': 0.04, 'gamma_decay': 0.8, 'mask_type': 'entmax', 'batch_momentum': 0.9}. Best is trial 18 with value: 0.7938735833360016.\n",
      "<ipython-input-6-28ed69af07b4>:5: FutureWarning: suggest_int() got {'step'} as positional arguments but they were expected to be given as keyword arguments.\n",
      "  'n_steps': trial.suggest_int('n_steps', 3, 10, 1),\n"
     ]
    },
    {
     "name": "stdout",
     "output_type": "stream",
     "text": [
      "\n",
      "Early stopping occurred at epoch 34 with best_epoch = 29 and best_val_auc = 0.76756\n"
     ]
    },
    {
     "name": "stderr",
     "output_type": "stream",
     "text": [
      "/opt/anaconda3/lib/python3.11/site-packages/pytorch_tabnet/callbacks.py:172: UserWarning: Best weights from best epoch are automatically used!\n",
      "  warnings.warn(wrn_msg)\n",
      "[I 2024-11-18 10:34:28,988] Trial 22 finished with value: 0.7879053720999016 and parameters: {'n_a_d': 128, 'n_steps': 8, 'gamma': 0.01, 'lambda': 0.001, 'batch_size': 2048, 'virtual_batch_size': 1024, 'lr': 0.04, 'gamma_decay': 0.8, 'mask_type': 'entmax', 'batch_momentum': 0.95}. Best is trial 18 with value: 0.7938735833360016.\n",
      "<ipython-input-6-28ed69af07b4>:5: FutureWarning: suggest_int() got {'step'} as positional arguments but they were expected to be given as keyword arguments.\n",
      "  'n_steps': trial.suggest_int('n_steps', 3, 10, 1),\n"
     ]
    },
    {
     "name": "stdout",
     "output_type": "stream",
     "text": [
      "\n",
      "Early stopping occurred at epoch 5 with best_epoch = 0 and best_val_auc = 0.56732\n"
     ]
    },
    {
     "name": "stderr",
     "output_type": "stream",
     "text": [
      "/opt/anaconda3/lib/python3.11/site-packages/pytorch_tabnet/callbacks.py:172: UserWarning: Best weights from best epoch are automatically used!\n",
      "  warnings.warn(wrn_msg)\n",
      "[I 2024-11-18 10:34:40,240] Trial 23 finished with value: 0.7619716103028 and parameters: {'n_a_d': 128, 'n_steps': 6, 'gamma': 0.01, 'lambda': 0.001, 'batch_size': 8192, 'virtual_batch_size': 1024, 'lr': 0.04, 'gamma_decay': 0.8, 'mask_type': 'entmax', 'batch_momentum': 0.95}. Best is trial 18 with value: 0.7938735833360016.\n",
      "<ipython-input-6-28ed69af07b4>:5: FutureWarning: suggest_int() got {'step'} as positional arguments but they were expected to be given as keyword arguments.\n",
      "  'n_steps': trial.suggest_int('n_steps', 3, 10, 1),\n"
     ]
    },
    {
     "name": "stdout",
     "output_type": "stream",
     "text": [
      "Stop training because you reached max_epochs = 35 with best_epoch = 30 and best_val_auc = 0.74495\n"
     ]
    },
    {
     "name": "stderr",
     "output_type": "stream",
     "text": [
      "/opt/anaconda3/lib/python3.11/site-packages/pytorch_tabnet/callbacks.py:172: UserWarning: Best weights from best epoch are automatically used!\n",
      "  warnings.warn(wrn_msg)\n",
      "[I 2024-11-18 10:35:33,902] Trial 24 finished with value: 0.7947849889761689 and parameters: {'n_a_d': 128, 'n_steps': 9, 'gamma': 0.01, 'lambda': 0.001, 'batch_size': 2048, 'virtual_batch_size': 1024, 'lr': 0.01, 'gamma_decay': 0.8, 'mask_type': 'entmax', 'batch_momentum': 0.9}. Best is trial 24 with value: 0.7947849889761689.\n",
      "<ipython-input-6-28ed69af07b4>:5: FutureWarning: suggest_int() got {'step'} as positional arguments but they were expected to be given as keyword arguments.\n",
      "  'n_steps': trial.suggest_int('n_steps', 3, 10, 1),\n"
     ]
    },
    {
     "name": "stdout",
     "output_type": "stream",
     "text": [
      "\n",
      "Early stopping occurred at epoch 8 with best_epoch = 3 and best_val_auc = 0.5376\n"
     ]
    },
    {
     "name": "stderr",
     "output_type": "stream",
     "text": [
      "/opt/anaconda3/lib/python3.11/site-packages/pytorch_tabnet/callbacks.py:172: UserWarning: Best weights from best epoch are automatically used!\n",
      "  warnings.warn(wrn_msg)\n",
      "[I 2024-11-18 10:35:39,434] Trial 25 finished with value: 0.7747866095476428 and parameters: {'n_a_d': 16, 'n_steps': 9, 'gamma': 0.01, 'lambda': 0.1, 'batch_size': 16384, 'virtual_batch_size': 1024, 'lr': 0.01, 'gamma_decay': 0.8, 'mask_type': 'entmax', 'batch_momentum': 0.95}. Best is trial 24 with value: 0.7947849889761689.\n",
      "<ipython-input-6-28ed69af07b4>:5: FutureWarning: suggest_int() got {'step'} as positional arguments but they were expected to be given as keyword arguments.\n",
      "  'n_steps': trial.suggest_int('n_steps', 3, 10, 1),\n"
     ]
    },
    {
     "name": "stdout",
     "output_type": "stream",
     "text": [
      "\n",
      "Early stopping occurred at epoch 7 with best_epoch = 2 and best_val_auc = 0.54646\n"
     ]
    },
    {
     "name": "stderr",
     "output_type": "stream",
     "text": [
      "/opt/anaconda3/lib/python3.11/site-packages/pytorch_tabnet/callbacks.py:172: UserWarning: Best weights from best epoch are automatically used!\n",
      "  warnings.warn(wrn_msg)\n",
      "[I 2024-11-18 10:35:45,180] Trial 26 finished with value: 0.7629052236236492 and parameters: {'n_a_d': 24, 'n_steps': 8, 'gamma': 0.01, 'lambda': 0, 'batch_size': 16384, 'virtual_batch_size': 512, 'lr': 0.04, 'gamma_decay': 0.95, 'mask_type': 'sparsemax', 'batch_momentum': 0.8}. Best is trial 24 with value: 0.7947849889761689.\n",
      "<ipython-input-6-28ed69af07b4>:5: FutureWarning: suggest_int() got {'step'} as positional arguments but they were expected to be given as keyword arguments.\n",
      "  'n_steps': trial.suggest_int('n_steps', 3, 10, 1),\n"
     ]
    },
    {
     "name": "stdout",
     "output_type": "stream",
     "text": [
      "\n",
      "Early stopping occurred at epoch 12 with best_epoch = 7 and best_val_auc = 0.58916\n"
     ]
    },
    {
     "name": "stderr",
     "output_type": "stream",
     "text": [
      "/opt/anaconda3/lib/python3.11/site-packages/pytorch_tabnet/callbacks.py:172: UserWarning: Best weights from best epoch are automatically used!\n",
      "  warnings.warn(wrn_msg)\n",
      "[I 2024-11-18 10:36:12,269] Trial 27 finished with value: 0.7631525315452349 and parameters: {'n_a_d': 128, 'n_steps': 9, 'gamma': 1.0, 'lambda': 0.001, 'batch_size': 32768, 'virtual_batch_size': 1024, 'lr': 0.01, 'gamma_decay': 0.8, 'mask_type': 'entmax', 'batch_momentum': 0.95}. Best is trial 24 with value: 0.7947849889761689.\n",
      "<ipython-input-6-28ed69af07b4>:5: FutureWarning: suggest_int() got {'step'} as positional arguments but they were expected to be given as keyword arguments.\n",
      "  'n_steps': trial.suggest_int('n_steps', 3, 10, 1),\n"
     ]
    },
    {
     "name": "stdout",
     "output_type": "stream",
     "text": [
      "Stop training because you reached max_epochs = 35 with best_epoch = 30 and best_val_auc = 0.76337\n"
     ]
    },
    {
     "name": "stderr",
     "output_type": "stream",
     "text": [
      "/opt/anaconda3/lib/python3.11/site-packages/pytorch_tabnet/callbacks.py:172: UserWarning: Best weights from best epoch are automatically used!\n",
      "  warnings.warn(wrn_msg)\n",
      "[I 2024-11-18 10:38:15,519] Trial 28 finished with value: 0.7836913294215837 and parameters: {'n_a_d': 256, 'n_steps': 8, 'gamma': 0.01, 'lambda': 0.001, 'batch_size': 1024, 'virtual_batch_size': 1024, 'lr': 0.01, 'gamma_decay': 0.4, 'mask_type': 'entmax', 'batch_momentum': 0.9}. Best is trial 24 with value: 0.7947849889761689.\n",
      "<ipython-input-6-28ed69af07b4>:5: FutureWarning: suggest_int() got {'step'} as positional arguments but they were expected to be given as keyword arguments.\n",
      "  'n_steps': trial.suggest_int('n_steps', 3, 10, 1),\n"
     ]
    },
    {
     "name": "stdout",
     "output_type": "stream",
     "text": [
      "\n",
      "Early stopping occurred at epoch 23 with best_epoch = 18 and best_val_auc = 0.64527\n"
     ]
    },
    {
     "name": "stderr",
     "output_type": "stream",
     "text": [
      "/opt/anaconda3/lib/python3.11/site-packages/pytorch_tabnet/callbacks.py:172: UserWarning: Best weights from best epoch are automatically used!\n",
      "  warnings.warn(wrn_msg)\n",
      "[I 2024-11-18 10:38:58,892] Trial 29 finished with value: 0.7669654801300879 and parameters: {'n_a_d': 128, 'n_steps': 10, 'gamma': 2.0, 'lambda': 0.001, 'batch_size': 8192, 'virtual_batch_size': 4096, 'lr': 0.01, 'gamma_decay': 0.95, 'mask_type': 'entmax', 'batch_momentum': 0.9}. Best is trial 24 with value: 0.7947849889761689.\n",
      "<ipython-input-6-28ed69af07b4>:5: FutureWarning: suggest_int() got {'step'} as positional arguments but they were expected to be given as keyword arguments.\n",
      "  'n_steps': trial.suggest_int('n_steps', 3, 10, 1),\n"
     ]
    },
    {
     "name": "stdout",
     "output_type": "stream",
     "text": [
      "\n",
      "Early stopping occurred at epoch 30 with best_epoch = 25 and best_val_auc = 0.75453\n"
     ]
    },
    {
     "name": "stderr",
     "output_type": "stream",
     "text": [
      "/opt/anaconda3/lib/python3.11/site-packages/pytorch_tabnet/callbacks.py:172: UserWarning: Best weights from best epoch are automatically used!\n",
      "  warnings.warn(wrn_msg)\n",
      "[I 2024-11-18 10:40:49,511] Trial 30 finished with value: 0.7918253172037067 and parameters: {'n_a_d': 256, 'n_steps': 9, 'gamma': 0.01, 'lambda': 0.001, 'batch_size': 2048, 'virtual_batch_size': 2028, 'lr': 0.01, 'gamma_decay': 0.8, 'mask_type': 'entmax', 'batch_momentum': 0.8}. Best is trial 24 with value: 0.7947849889761689.\n",
      "<ipython-input-6-28ed69af07b4>:5: FutureWarning: suggest_int() got {'step'} as positional arguments but they were expected to be given as keyword arguments.\n",
      "  'n_steps': trial.suggest_int('n_steps', 3, 10, 1),\n"
     ]
    },
    {
     "name": "stdout",
     "output_type": "stream",
     "text": [
      "\n",
      "Early stopping occurred at epoch 33 with best_epoch = 28 and best_val_auc = 0.76651\n"
     ]
    },
    {
     "name": "stderr",
     "output_type": "stream",
     "text": [
      "/opt/anaconda3/lib/python3.11/site-packages/pytorch_tabnet/callbacks.py:172: UserWarning: Best weights from best epoch are automatically used!\n",
      "  warnings.warn(wrn_msg)\n",
      "[I 2024-11-18 10:42:49,110] Trial 31 finished with value: 0.7850895971067862 and parameters: {'n_a_d': 256, 'n_steps': 9, 'gamma': 0.01, 'lambda': 0.001, 'batch_size': 2048, 'virtual_batch_size': 4096, 'lr': 0.01, 'gamma_decay': 0.8, 'mask_type': 'entmax', 'batch_momentum': 0.8}. Best is trial 24 with value: 0.7947849889761689.\n",
      "<ipython-input-6-28ed69af07b4>:5: FutureWarning: suggest_int() got {'step'} as positional arguments but they were expected to be given as keyword arguments.\n",
      "  'n_steps': trial.suggest_int('n_steps', 3, 10, 1),\n"
     ]
    },
    {
     "name": "stdout",
     "output_type": "stream",
     "text": [
      "\n",
      "Early stopping occurred at epoch 27 with best_epoch = 22 and best_val_auc = 0.71372\n"
     ]
    },
    {
     "name": "stderr",
     "output_type": "stream",
     "text": [
      "/opt/anaconda3/lib/python3.11/site-packages/pytorch_tabnet/callbacks.py:172: UserWarning: Best weights from best epoch are automatically used!\n",
      "  warnings.warn(wrn_msg)\n",
      "[I 2024-11-18 10:43:10,742] Trial 32 finished with value: 0.7647353006665023 and parameters: {'n_a_d': 32, 'n_steps': 9, 'gamma': 1.2, 'lambda': 0, 'batch_size': 4096, 'virtual_batch_size': 2028, 'lr': 0.03, 'gamma_decay': 0.8, 'mask_type': 'sparsemax', 'batch_momentum': 0.8}. Best is trial 24 with value: 0.7947849889761689.\n",
      "<ipython-input-6-28ed69af07b4>:5: FutureWarning: suggest_int() got {'step'} as positional arguments but they were expected to be given as keyword arguments.\n",
      "  'n_steps': trial.suggest_int('n_steps', 3, 10, 1),\n"
     ]
    },
    {
     "name": "stdout",
     "output_type": "stream",
     "text": [
      "\n",
      "Early stopping occurred at epoch 19 with best_epoch = 14 and best_val_auc = 0.67778\n"
     ]
    },
    {
     "name": "stderr",
     "output_type": "stream",
     "text": [
      "/opt/anaconda3/lib/python3.11/site-packages/pytorch_tabnet/callbacks.py:172: UserWarning: Best weights from best epoch are automatically used!\n",
      "  warnings.warn(wrn_msg)\n",
      "[I 2024-11-18 10:44:35,116] Trial 33 finished with value: 0.7694750636526806 and parameters: {'n_a_d': 256, 'n_steps': 8, 'gamma': 0.01, 'lambda': 0.01, 'batch_size': 8192, 'virtual_batch_size': 2028, 'lr': 0.04, 'gamma_decay': 0.8, 'mask_type': 'entmax', 'batch_momentum': 0.8}. Best is trial 24 with value: 0.7947849889761689.\n",
      "<ipython-input-6-28ed69af07b4>:5: FutureWarning: suggest_int() got {'step'} as positional arguments but they were expected to be given as keyword arguments.\n",
      "  'n_steps': trial.suggest_int('n_steps', 3, 10, 1),\n"
     ]
    },
    {
     "name": "stdout",
     "output_type": "stream",
     "text": [
      "\n",
      "Early stopping occurred at epoch 33 with best_epoch = 28 and best_val_auc = 0.74456\n"
     ]
    },
    {
     "name": "stderr",
     "output_type": "stream",
     "text": [
      "/opt/anaconda3/lib/python3.11/site-packages/pytorch_tabnet/callbacks.py:172: UserWarning: Best weights from best epoch are automatically used!\n",
      "  warnings.warn(wrn_msg)\n",
      "[I 2024-11-18 10:46:34,542] Trial 34 finished with value: 0.7846860154572142 and parameters: {'n_a_d': 256, 'n_steps': 8, 'gamma': 0.05, 'lambda': 1e-05, 'batch_size': 2048, 'virtual_batch_size': 2028, 'lr': 0.01, 'gamma_decay': 0.8, 'mask_type': 'entmax', 'batch_momentum': 0.98}. Best is trial 24 with value: 0.7947849889761689.\n",
      "<ipython-input-6-28ed69af07b4>:5: FutureWarning: suggest_int() got {'step'} as positional arguments but they were expected to be given as keyword arguments.\n",
      "  'n_steps': trial.suggest_int('n_steps', 3, 10, 1),\n"
     ]
    },
    {
     "name": "stdout",
     "output_type": "stream",
     "text": [
      "\n",
      "Early stopping occurred at epoch 33 with best_epoch = 28 and best_val_auc = 0.75891\n"
     ]
    },
    {
     "name": "stderr",
     "output_type": "stream",
     "text": [
      "/opt/anaconda3/lib/python3.11/site-packages/pytorch_tabnet/callbacks.py:172: UserWarning: Best weights from best epoch are automatically used!\n",
      "  warnings.warn(wrn_msg)\n",
      "[I 2024-11-18 10:47:07,416] Trial 35 finished with value: 0.7985649154799528 and parameters: {'n_a_d': 64, 'n_steps': 8, 'gamma': 0.01, 'lambda': 1e-05, 'batch_size': 2048, 'virtual_batch_size': 2028, 'lr': 0.04, 'gamma_decay': 0.95, 'mask_type': 'sparsemax', 'batch_momentum': 0.8}. Best is trial 35 with value: 0.7985649154799528.\n",
      "<ipython-input-6-28ed69af07b4>:5: FutureWarning: suggest_int() got {'step'} as positional arguments but they were expected to be given as keyword arguments.\n",
      "  'n_steps': trial.suggest_int('n_steps', 3, 10, 1),\n"
     ]
    },
    {
     "name": "stdout",
     "output_type": "stream",
     "text": [
      "\n",
      "Early stopping occurred at epoch 10 with best_epoch = 5 and best_val_auc = 0.58039\n"
     ]
    },
    {
     "name": "stderr",
     "output_type": "stream",
     "text": [
      "/opt/anaconda3/lib/python3.11/site-packages/pytorch_tabnet/callbacks.py:172: UserWarning: Best weights from best epoch are automatically used!\n",
      "  warnings.warn(wrn_msg)\n",
      "[I 2024-11-18 10:47:18,688] Trial 36 finished with value: 0.7626499648950154 and parameters: {'n_a_d': 64, 'n_steps': 7, 'gamma': 1.0, 'lambda': 1e-05, 'batch_size': 2048, 'virtual_batch_size': 2028, 'lr': 0.05, 'gamma_decay': 0.95, 'mask_type': 'sparsemax', 'batch_momentum': 0.6}. Best is trial 35 with value: 0.7985649154799528.\n",
      "<ipython-input-6-28ed69af07b4>:5: FutureWarning: suggest_int() got {'step'} as positional arguments but they were expected to be given as keyword arguments.\n",
      "  'n_steps': trial.suggest_int('n_steps', 3, 10, 1),\n"
     ]
    },
    {
     "name": "stdout",
     "output_type": "stream",
     "text": [
      "\n",
      "Early stopping occurred at epoch 16 with best_epoch = 11 and best_val_auc = 0.7376\n"
     ]
    },
    {
     "name": "stderr",
     "output_type": "stream",
     "text": [
      "/opt/anaconda3/lib/python3.11/site-packages/pytorch_tabnet/callbacks.py:172: UserWarning: Best weights from best epoch are automatically used!\n",
      "  warnings.warn(wrn_msg)\n",
      "[I 2024-11-18 10:47:36,100] Trial 37 finished with value: 0.7805590618208696 and parameters: {'n_a_d': 64, 'n_steps': 7, 'gamma': 0.01, 'lambda': 1e-05, 'batch_size': 2048, 'virtual_batch_size': 4096, 'lr': 0.04, 'gamma_decay': 0.95, 'mask_type': 'sparsemax', 'batch_momentum': 0.95}. Best is trial 35 with value: 0.7985649154799528.\n",
      "<ipython-input-6-28ed69af07b4>:5: FutureWarning: suggest_int() got {'step'} as positional arguments but they were expected to be given as keyword arguments.\n",
      "  'n_steps': trial.suggest_int('n_steps', 3, 10, 1),\n"
     ]
    },
    {
     "name": "stdout",
     "output_type": "stream",
     "text": [
      "\n",
      "Early stopping occurred at epoch 7 with best_epoch = 2 and best_val_auc = 0.52984\n"
     ]
    },
    {
     "name": "stderr",
     "output_type": "stream",
     "text": [
      "/opt/anaconda3/lib/python3.11/site-packages/pytorch_tabnet/callbacks.py:172: UserWarning: Best weights from best epoch are automatically used!\n",
      "  warnings.warn(wrn_msg)\n",
      "[I 2024-11-18 10:47:41,445] Trial 38 finished with value: 0.7678553925695514 and parameters: {'n_a_d': 24, 'n_steps': 9, 'gamma': 0.01, 'lambda': 1e-06, 'batch_size': 32768, 'virtual_batch_size': 2028, 'lr': 0.01, 'gamma_decay': 0.9, 'mask_type': 'entmax', 'batch_momentum': 0.8}. Best is trial 35 with value: 0.7985649154799528.\n",
      "<ipython-input-6-28ed69af07b4>:5: FutureWarning: suggest_int() got {'step'} as positional arguments but they were expected to be given as keyword arguments.\n",
      "  'n_steps': trial.suggest_int('n_steps', 3, 10, 1),\n"
     ]
    },
    {
     "name": "stdout",
     "output_type": "stream",
     "text": [
      "\n",
      "Early stopping occurred at epoch 9 with best_epoch = 4 and best_val_auc = 0.61806\n"
     ]
    },
    {
     "name": "stderr",
     "output_type": "stream",
     "text": [
      "/opt/anaconda3/lib/python3.11/site-packages/pytorch_tabnet/callbacks.py:172: UserWarning: Best weights from best epoch are automatically used!\n",
      "  warnings.warn(wrn_msg)\n",
      "[I 2024-11-18 10:47:51,057] Trial 39 finished with value: 0.7668568387286908 and parameters: {'n_a_d': 64, 'n_steps': 8, 'gamma': 0.01, 'lambda': 1e-05, 'batch_size': 8192, 'virtual_batch_size': 2028, 'lr': 0.025, 'gamma_decay': 0.95, 'mask_type': 'sparsemax', 'batch_momentum': 0.8}. Best is trial 35 with value: 0.7985649154799528.\n",
      "<ipython-input-6-28ed69af07b4>:5: FutureWarning: suggest_int() got {'step'} as positional arguments but they were expected to be given as keyword arguments.\n",
      "  'n_steps': trial.suggest_int('n_steps', 3, 10, 1),\n"
     ]
    },
    {
     "name": "stdout",
     "output_type": "stream",
     "text": [
      "\n",
      "Early stopping occurred at epoch 17 with best_epoch = 12 and best_val_auc = 0.6015\n"
     ]
    },
    {
     "name": "stderr",
     "output_type": "stream",
     "text": [
      "/opt/anaconda3/lib/python3.11/site-packages/pytorch_tabnet/callbacks.py:172: UserWarning: Best weights from best epoch are automatically used!\n",
      "  warnings.warn(wrn_msg)\n",
      "[I 2024-11-18 10:48:02,877] Trial 40 finished with value: 0.7675162070642054 and parameters: {'n_a_d': 32, 'n_steps': 8, 'gamma': 0.01, 'lambda': 0.1, 'batch_size': 32768, 'virtual_batch_size': 2028, 'lr': 0.04, 'gamma_decay': 0.8, 'mask_type': 'sparsemax', 'batch_momentum': 0.8}. Best is trial 35 with value: 0.7985649154799528.\n",
      "<ipython-input-6-28ed69af07b4>:5: FutureWarning: suggest_int() got {'step'} as positional arguments but they were expected to be given as keyword arguments.\n",
      "  'n_steps': trial.suggest_int('n_steps', 3, 10, 1),\n"
     ]
    },
    {
     "name": "stdout",
     "output_type": "stream",
     "text": [
      "\n",
      "Early stopping occurred at epoch 20 with best_epoch = 15 and best_val_auc = 0.70873\n"
     ]
    },
    {
     "name": "stderr",
     "output_type": "stream",
     "text": [
      "/opt/anaconda3/lib/python3.11/site-packages/pytorch_tabnet/callbacks.py:172: UserWarning: Best weights from best epoch are automatically used!\n",
      "  warnings.warn(wrn_msg)\n",
      "[I 2024-11-18 10:48:17,694] Trial 41 finished with value: 0.7696998853331383 and parameters: {'n_a_d': 16, 'n_steps': 6, 'gamma': 0.01, 'lambda': 1e-07, 'batch_size': 2048, 'virtual_batch_size': 2028, 'lr': 0.04, 'gamma_decay': 0.9, 'mask_type': 'sparsemax', 'batch_momentum': 0.95}. Best is trial 35 with value: 0.7985649154799528.\n",
      "<ipython-input-6-28ed69af07b4>:5: FutureWarning: suggest_int() got {'step'} as positional arguments but they were expected to be given as keyword arguments.\n",
      "  'n_steps': trial.suggest_int('n_steps', 3, 10, 1),\n"
     ]
    },
    {
     "name": "stdout",
     "output_type": "stream",
     "text": [
      "\n",
      "Early stopping occurred at epoch 25 with best_epoch = 20 and best_val_auc = 0.75592\n"
     ]
    },
    {
     "name": "stderr",
     "output_type": "stream",
     "text": [
      "/opt/anaconda3/lib/python3.11/site-packages/pytorch_tabnet/callbacks.py:172: UserWarning: Best weights from best epoch are automatically used!\n",
      "  warnings.warn(wrn_msg)\n",
      "[I 2024-11-18 10:48:47,103] Trial 42 finished with value: 0.7725835036777141 and parameters: {'n_a_d': 64, 'n_steps': 8, 'gamma': 0.01, 'lambda': 0.0001, 'batch_size': 2048, 'virtual_batch_size': 512, 'lr': 0.04, 'gamma_decay': 0.95, 'mask_type': 'entmax', 'batch_momentum': 0.8}. Best is trial 35 with value: 0.7985649154799528.\n",
      "<ipython-input-6-28ed69af07b4>:5: FutureWarning: suggest_int() got {'step'} as positional arguments but they were expected to be given as keyword arguments.\n",
      "  'n_steps': trial.suggest_int('n_steps', 3, 10, 1),\n"
     ]
    },
    {
     "name": "stdout",
     "output_type": "stream",
     "text": [
      "Stop training because you reached max_epochs = 35 with best_epoch = 32 and best_val_auc = 0.72768\n"
     ]
    },
    {
     "name": "stderr",
     "output_type": "stream",
     "text": [
      "/opt/anaconda3/lib/python3.11/site-packages/pytorch_tabnet/callbacks.py:172: UserWarning: Best weights from best epoch are automatically used!\n",
      "  warnings.warn(wrn_msg)\n",
      "[I 2024-11-18 10:49:43,287] Trial 43 finished with value: 0.7777035331663165 and parameters: {'n_a_d': 128, 'n_steps': 10, 'gamma': 0.05, 'lambda': 0.0001, 'batch_size': 2048, 'virtual_batch_size': 1024, 'lr': 0.01, 'gamma_decay': 0.4, 'mask_type': 'entmax', 'batch_momentum': 0.8}. Best is trial 35 with value: 0.7985649154799528.\n",
      "<ipython-input-6-28ed69af07b4>:5: FutureWarning: suggest_int() got {'step'} as positional arguments but they were expected to be given as keyword arguments.\n",
      "  'n_steps': trial.suggest_int('n_steps', 3, 10, 1),\n"
     ]
    },
    {
     "name": "stdout",
     "output_type": "stream",
     "text": [
      "\n",
      "Early stopping occurred at epoch 26 with best_epoch = 21 and best_val_auc = 0.69586\n"
     ]
    },
    {
     "name": "stderr",
     "output_type": "stream",
     "text": [
      "/opt/anaconda3/lib/python3.11/site-packages/pytorch_tabnet/callbacks.py:172: UserWarning: Best weights from best epoch are automatically used!\n",
      "  warnings.warn(wrn_msg)\n",
      "[I 2024-11-18 10:50:11,654] Trial 44 finished with value: 0.7681611903122008 and parameters: {'n_a_d': 64, 'n_steps': 10, 'gamma': 1.5, 'lambda': 0.0001, 'batch_size': 2048, 'virtual_batch_size': 2028, 'lr': 0.04, 'gamma_decay': 0.95, 'mask_type': 'sparsemax', 'batch_momentum': 0.7}. Best is trial 35 with value: 0.7985649154799528.\n",
      "<ipython-input-6-28ed69af07b4>:5: FutureWarning: suggest_int() got {'step'} as positional arguments but they were expected to be given as keyword arguments.\n",
      "  'n_steps': trial.suggest_int('n_steps', 3, 10, 1),\n"
     ]
    },
    {
     "name": "stdout",
     "output_type": "stream",
     "text": [
      "\n",
      "Early stopping occurred at epoch 8 with best_epoch = 3 and best_val_auc = 0.62777\n"
     ]
    },
    {
     "name": "stderr",
     "output_type": "stream",
     "text": [
      "/opt/anaconda3/lib/python3.11/site-packages/pytorch_tabnet/callbacks.py:172: UserWarning: Best weights from best epoch are automatically used!\n",
      "  warnings.warn(wrn_msg)\n",
      "[I 2024-11-18 10:50:19,267] Trial 45 finished with value: 0.7646512697573343 and parameters: {'n_a_d': 32, 'n_steps': 8, 'gamma': 0.1, 'lambda': 1e-05, 'batch_size': 2048, 'virtual_batch_size': 2028, 'lr': 0.04, 'gamma_decay': 0.95, 'mask_type': 'sparsemax', 'batch_momentum': 0.8}. Best is trial 35 with value: 0.7985649154799528.\n",
      "<ipython-input-6-28ed69af07b4>:5: FutureWarning: suggest_int() got {'step'} as positional arguments but they were expected to be given as keyword arguments.\n",
      "  'n_steps': trial.suggest_int('n_steps', 3, 10, 1),\n"
     ]
    },
    {
     "name": "stdout",
     "output_type": "stream",
     "text": [
      "\n",
      "Early stopping occurred at epoch 22 with best_epoch = 17 and best_val_auc = 0.74173\n"
     ]
    },
    {
     "name": "stderr",
     "output_type": "stream",
     "text": [
      "/opt/anaconda3/lib/python3.11/site-packages/pytorch_tabnet/callbacks.py:172: UserWarning: Best weights from best epoch are automatically used!\n",
      "  warnings.warn(wrn_msg)\n",
      "[I 2024-11-18 10:50:38,695] Trial 46 finished with value: 0.7867672872968082 and parameters: {'n_a_d': 32, 'n_steps': 9, 'gamma': 0.01, 'lambda': 0, 'batch_size': 2048, 'virtual_batch_size': 2028, 'lr': 0.025, 'gamma_decay': 0.8, 'mask_type': 'sparsemax', 'batch_momentum': 0.6}. Best is trial 35 with value: 0.7985649154799528.\n",
      "<ipython-input-6-28ed69af07b4>:5: FutureWarning: suggest_int() got {'step'} as positional arguments but they were expected to be given as keyword arguments.\n",
      "  'n_steps': trial.suggest_int('n_steps', 3, 10, 1),\n"
     ]
    },
    {
     "name": "stdout",
     "output_type": "stream",
     "text": [
      "Stop training because you reached max_epochs = 35 with best_epoch = 34 and best_val_auc = 0.66891\n"
     ]
    },
    {
     "name": "stderr",
     "output_type": "stream",
     "text": [
      "/opt/anaconda3/lib/python3.11/site-packages/pytorch_tabnet/callbacks.py:172: UserWarning: Best weights from best epoch are automatically used!\n",
      "  warnings.warn(wrn_msg)\n",
      "[I 2024-11-18 10:51:04,224] Trial 47 finished with value: 0.7699912661213388 and parameters: {'n_a_d': 8, 'n_steps': 10, 'gamma': 0.1, 'lambda': 0.001, 'batch_size': 2048, 'virtual_batch_size': 128, 'lr': 0.01, 'gamma_decay': 0.8, 'mask_type': 'entmax', 'batch_momentum': 0.9}. Best is trial 35 with value: 0.7985649154799528.\n",
      "<ipython-input-6-28ed69af07b4>:5: FutureWarning: suggest_int() got {'step'} as positional arguments but they were expected to be given as keyword arguments.\n",
      "  'n_steps': trial.suggest_int('n_steps', 3, 10, 1),\n"
     ]
    },
    {
     "name": "stdout",
     "output_type": "stream",
     "text": [
      "\n",
      "Early stopping occurred at epoch 19 with best_epoch = 14 and best_val_auc = 0.67949\n"
     ]
    },
    {
     "name": "stderr",
     "output_type": "stream",
     "text": [
      "/opt/anaconda3/lib/python3.11/site-packages/pytorch_tabnet/callbacks.py:172: UserWarning: Best weights from best epoch are automatically used!\n",
      "  warnings.warn(wrn_msg)\n",
      "[I 2024-11-18 10:52:18,353] Trial 48 finished with value: 0.7649096243214941 and parameters: {'n_a_d': 256, 'n_steps': 10, 'gamma': 0.01, 'lambda': 1e-07, 'batch_size': 4096, 'virtual_batch_size': 2028, 'lr': 0.01, 'gamma_decay': 0.4, 'mask_type': 'entmax', 'batch_momentum': 0.8}. Best is trial 35 with value: 0.7985649154799528.\n",
      "<ipython-input-6-28ed69af07b4>:5: FutureWarning: suggest_int() got {'step'} as positional arguments but they were expected to be given as keyword arguments.\n",
      "  'n_steps': trial.suggest_int('n_steps', 3, 10, 1),\n"
     ]
    },
    {
     "name": "stdout",
     "output_type": "stream",
     "text": [
      "\n",
      "Early stopping occurred at epoch 15 with best_epoch = 10 and best_val_auc = 0.60984\n"
     ]
    },
    {
     "name": "stderr",
     "output_type": "stream",
     "text": [
      "/opt/anaconda3/lib/python3.11/site-packages/pytorch_tabnet/callbacks.py:172: UserWarning: Best weights from best epoch are automatically used!\n",
      "  warnings.warn(wrn_msg)\n",
      "[I 2024-11-18 10:53:37,244] Trial 49 finished with value: 0.7683990360344543 and parameters: {'n_a_d': 256, 'n_steps': 10, 'gamma': 2.0, 'lambda': 0.001, 'batch_size': 16384, 'virtual_batch_size': 2028, 'lr': 0.01, 'gamma_decay': 0.8, 'mask_type': 'entmax', 'batch_momentum': 0.95}. Best is trial 35 with value: 0.7985649154799528.\n",
      "<ipython-input-6-28ed69af07b4>:5: FutureWarning: suggest_int() got {'step'} as positional arguments but they were expected to be given as keyword arguments.\n",
      "  'n_steps': trial.suggest_int('n_steps', 3, 10, 1),\n"
     ]
    },
    {
     "name": "stdout",
     "output_type": "stream",
     "text": [
      "\n",
      "Early stopping occurred at epoch 28 with best_epoch = 23 and best_val_auc = 0.75715\n"
     ]
    },
    {
     "name": "stderr",
     "output_type": "stream",
     "text": [
      "/opt/anaconda3/lib/python3.11/site-packages/pytorch_tabnet/callbacks.py:172: UserWarning: Best weights from best epoch are automatically used!\n",
      "  warnings.warn(wrn_msg)\n",
      "[I 2024-11-18 10:54:25,351] Trial 50 finished with value: 0.7824761934419902 and parameters: {'n_a_d': 128, 'n_steps': 9, 'gamma': 0.01, 'lambda': 0, 'batch_size': 2048, 'virtual_batch_size': 256, 'lr': 0.025, 'gamma_decay': 0.8, 'mask_type': 'entmax', 'batch_momentum': 0.95}. Best is trial 35 with value: 0.7985649154799528.\n",
      "<ipython-input-6-28ed69af07b4>:5: FutureWarning: suggest_int() got {'step'} as positional arguments but they were expected to be given as keyword arguments.\n",
      "  'n_steps': trial.suggest_int('n_steps', 3, 10, 1),\n"
     ]
    },
    {
     "name": "stdout",
     "output_type": "stream",
     "text": [
      "Stop training because you reached max_epochs = 35 with best_epoch = 31 and best_val_auc = 0.76261\n"
     ]
    },
    {
     "name": "stderr",
     "output_type": "stream",
     "text": [
      "/opt/anaconda3/lib/python3.11/site-packages/pytorch_tabnet/callbacks.py:172: UserWarning: Best weights from best epoch are automatically used!\n",
      "  warnings.warn(wrn_msg)\n",
      "[I 2024-11-18 10:54:54,511] Trial 51 finished with value: 0.7840787433801245 and parameters: {'n_a_d': 32, 'n_steps': 7, 'gamma': 0.01, 'lambda': 0.001, 'batch_size': 2048, 'virtual_batch_size': 2028, 'lr': 0.025, 'gamma_decay': 0.8, 'mask_type': 'sparsemax', 'batch_momentum': 0.6}. Best is trial 35 with value: 0.7985649154799528.\n",
      "<ipython-input-6-28ed69af07b4>:5: FutureWarning: suggest_int() got {'step'} as positional arguments but they were expected to be given as keyword arguments.\n",
      "  'n_steps': trial.suggest_int('n_steps', 3, 10, 1),\n"
     ]
    },
    {
     "name": "stdout",
     "output_type": "stream",
     "text": [
      "\n",
      "Early stopping occurred at epoch 7 with best_epoch = 2 and best_val_auc = 0.6039\n"
     ]
    },
    {
     "name": "stderr",
     "output_type": "stream",
     "text": [
      "/opt/anaconda3/lib/python3.11/site-packages/pytorch_tabnet/callbacks.py:172: UserWarning: Best weights from best epoch are automatically used!\n",
      "  warnings.warn(wrn_msg)\n",
      "[I 2024-11-18 10:55:08,276] Trial 52 finished with value: 0.7624349147154809 and parameters: {'n_a_d': 128, 'n_steps': 9, 'gamma': 0.01, 'lambda': 0, 'batch_size': 4096, 'virtual_batch_size': 2028, 'lr': 0.04, 'gamma_decay': 0.8, 'mask_type': 'sparsemax', 'batch_momentum': 0.98}. Best is trial 35 with value: 0.7985649154799528.\n",
      "<ipython-input-6-28ed69af07b4>:5: FutureWarning: suggest_int() got {'step'} as positional arguments but they were expected to be given as keyword arguments.\n",
      "  'n_steps': trial.suggest_int('n_steps', 3, 10, 1),\n"
     ]
    },
    {
     "name": "stdout",
     "output_type": "stream",
     "text": [
      "\n",
      "Early stopping occurred at epoch 11 with best_epoch = 6 and best_val_auc = 0.63982\n"
     ]
    },
    {
     "name": "stderr",
     "output_type": "stream",
     "text": [
      "/opt/anaconda3/lib/python3.11/site-packages/pytorch_tabnet/callbacks.py:172: UserWarning: Best weights from best epoch are automatically used!\n",
      "  warnings.warn(wrn_msg)\n",
      "[I 2024-11-18 10:55:21,356] Trial 53 finished with value: 0.7668657476366657 and parameters: {'n_a_d': 64, 'n_steps': 9, 'gamma': 2.0, 'lambda': 0, 'batch_size': 2048, 'virtual_batch_size': 2028, 'lr': 0.025, 'gamma_decay': 0.8, 'mask_type': 'sparsemax', 'batch_momentum': 0.6}. Best is trial 35 with value: 0.7985649154799528.\n",
      "<ipython-input-6-28ed69af07b4>:5: FutureWarning: suggest_int() got {'step'} as positional arguments but they were expected to be given as keyword arguments.\n",
      "  'n_steps': trial.suggest_int('n_steps', 3, 10, 1),\n"
     ]
    },
    {
     "name": "stdout",
     "output_type": "stream",
     "text": [
      "\n",
      "Early stopping occurred at epoch 20 with best_epoch = 15 and best_val_auc = 0.65933\n"
     ]
    },
    {
     "name": "stderr",
     "output_type": "stream",
     "text": [
      "/opt/anaconda3/lib/python3.11/site-packages/pytorch_tabnet/callbacks.py:172: UserWarning: Best weights from best epoch are automatically used!\n",
      "  warnings.warn(wrn_msg)\n",
      "[I 2024-11-18 10:55:36,275] Trial 54 finished with value: 0.763320481306358 and parameters: {'n_a_d': 24, 'n_steps': 9, 'gamma': 1.0, 'lambda': 0.001, 'batch_size': 2048, 'virtual_batch_size': 2028, 'lr': 0.01, 'gamma_decay': 0.4, 'mask_type': 'entmax', 'batch_momentum': 0.8}. Best is trial 35 with value: 0.7985649154799528.\n",
      "<ipython-input-6-28ed69af07b4>:5: FutureWarning: suggest_int() got {'step'} as positional arguments but they were expected to be given as keyword arguments.\n",
      "  'n_steps': trial.suggest_int('n_steps', 3, 10, 1),\n"
     ]
    },
    {
     "name": "stdout",
     "output_type": "stream",
     "text": [
      "Stop training because you reached max_epochs = 35 with best_epoch = 32 and best_val_auc = 0.70304\n"
     ]
    },
    {
     "name": "stderr",
     "output_type": "stream",
     "text": [
      "/opt/anaconda3/lib/python3.11/site-packages/pytorch_tabnet/callbacks.py:172: UserWarning: Best weights from best epoch are automatically used!\n",
      "  warnings.warn(wrn_msg)\n",
      "[I 2024-11-18 10:56:36,375] Trial 55 finished with value: 0.770602412559674 and parameters: {'n_a_d': 128, 'n_steps': 7, 'gamma': 1.5, 'lambda': 0.001, 'batch_size': 2048, 'virtual_batch_size': 256, 'lr': 0.01, 'gamma_decay': 0.8, 'mask_type': 'entmax', 'batch_momentum': 0.9}. Best is trial 35 with value: 0.7985649154799528.\n",
      "<ipython-input-6-28ed69af07b4>:5: FutureWarning: suggest_int() got {'step'} as positional arguments but they were expected to be given as keyword arguments.\n",
      "  'n_steps': trial.suggest_int('n_steps', 3, 10, 1),\n"
     ]
    },
    {
     "name": "stdout",
     "output_type": "stream",
     "text": [
      "\n",
      "Early stopping occurred at epoch 6 with best_epoch = 1 and best_val_auc = 0.54555\n"
     ]
    },
    {
     "name": "stderr",
     "output_type": "stream",
     "text": [
      "/opt/anaconda3/lib/python3.11/site-packages/pytorch_tabnet/callbacks.py:172: UserWarning: Best weights from best epoch are automatically used!\n",
      "  warnings.warn(wrn_msg)\n",
      "[I 2024-11-18 10:56:44,806] Trial 56 finished with value: 0.7656264012584442 and parameters: {'n_a_d': 64, 'n_steps': 8, 'gamma': 1.5, 'lambda': 1e-05, 'batch_size': 32768, 'virtual_batch_size': 128, 'lr': 0.04, 'gamma_decay': 0.95, 'mask_type': 'sparsemax', 'batch_momentum': 0.8}. Best is trial 35 with value: 0.7985649154799528.\n",
      "<ipython-input-6-28ed69af07b4>:5: FutureWarning: suggest_int() got {'step'} as positional arguments but they were expected to be given as keyword arguments.\n",
      "  'n_steps': trial.suggest_int('n_steps', 3, 10, 1),\n"
     ]
    },
    {
     "name": "stdout",
     "output_type": "stream",
     "text": [
      "\n",
      "Early stopping occurred at epoch 8 with best_epoch = 3 and best_val_auc = 0.63231\n"
     ]
    },
    {
     "name": "stderr",
     "output_type": "stream",
     "text": [
      "/opt/anaconda3/lib/python3.11/site-packages/pytorch_tabnet/callbacks.py:172: UserWarning: Best weights from best epoch are automatically used!\n",
      "  warnings.warn(wrn_msg)\n",
      "[I 2024-11-18 10:56:54,007] Trial 57 finished with value: 0.7668523863786045 and parameters: {'n_a_d': 64, 'n_steps': 7, 'gamma': 0.01, 'lambda': 0.001, 'batch_size': 2048, 'virtual_batch_size': 2028, 'lr': 0.04, 'gamma_decay': 0.95, 'mask_type': 'sparsemax', 'batch_momentum': 0.8}. Best is trial 35 with value: 0.7985649154799528.\n",
      "<ipython-input-6-28ed69af07b4>:5: FutureWarning: suggest_int() got {'step'} as positional arguments but they were expected to be given as keyword arguments.\n",
      "  'n_steps': trial.suggest_int('n_steps', 3, 10, 1),\n"
     ]
    },
    {
     "name": "stdout",
     "output_type": "stream",
     "text": [
      "\n",
      "Early stopping occurred at epoch 28 with best_epoch = 23 and best_val_auc = 0.75968\n"
     ]
    },
    {
     "name": "stderr",
     "output_type": "stream",
     "text": [
      "/opt/anaconda3/lib/python3.11/site-packages/pytorch_tabnet/callbacks.py:172: UserWarning: Best weights from best epoch are automatically used!\n",
      "  warnings.warn(wrn_msg)\n",
      "[I 2024-11-18 10:57:17,330] Trial 58 finished with value: 0.7789970049452036 and parameters: {'n_a_d': 32, 'n_steps': 9, 'gamma': 0.01, 'lambda': 0, 'batch_size': 2048, 'virtual_batch_size': 2028, 'lr': 0.05, 'gamma_decay': 0.8, 'mask_type': 'entmax', 'batch_momentum': 0.6}. Best is trial 35 with value: 0.7985649154799528.\n",
      "<ipython-input-6-28ed69af07b4>:5: FutureWarning: suggest_int() got {'step'} as positional arguments but they were expected to be given as keyword arguments.\n",
      "  'n_steps': trial.suggest_int('n_steps', 3, 10, 1),\n"
     ]
    },
    {
     "name": "stdout",
     "output_type": "stream",
     "text": [
      "\n",
      "Early stopping occurred at epoch 30 with best_epoch = 25 and best_val_auc = 0.72649\n"
     ]
    },
    {
     "name": "stderr",
     "output_type": "stream",
     "text": [
      "/opt/anaconda3/lib/python3.11/site-packages/pytorch_tabnet/callbacks.py:172: UserWarning: Best weights from best epoch are automatically used!\n",
      "  warnings.warn(wrn_msg)\n",
      "[I 2024-11-18 10:57:44,452] Trial 59 finished with value: 0.7759345752615341 and parameters: {'n_a_d': 16, 'n_steps': 8, 'gamma': 0.5, 'lambda': 0, 'batch_size': 1024, 'virtual_batch_size': 2028, 'lr': 0.05, 'gamma_decay': 0.8, 'mask_type': 'sparsemax', 'batch_momentum': 0.8}. Best is trial 35 with value: 0.7985649154799528.\n",
      "<ipython-input-6-28ed69af07b4>:5: FutureWarning: suggest_int() got {'step'} as positional arguments but they were expected to be given as keyword arguments.\n",
      "  'n_steps': trial.suggest_int('n_steps', 3, 10, 1),\n"
     ]
    },
    {
     "name": "stdout",
     "output_type": "stream",
     "text": [
      "Stop training because you reached max_epochs = 35 with best_epoch = 33 and best_val_auc = 0.73297\n"
     ]
    },
    {
     "name": "stderr",
     "output_type": "stream",
     "text": [
      "/opt/anaconda3/lib/python3.11/site-packages/pytorch_tabnet/callbacks.py:172: UserWarning: Best weights from best epoch are automatically used!\n",
      "  warnings.warn(wrn_msg)\n",
      "[I 2024-11-18 10:58:11,789] Trial 60 finished with value: 0.7872156620057822 and parameters: {'n_a_d': 24, 'n_steps': 10, 'gamma': 0.01, 'lambda': 1e-07, 'batch_size': 2048, 'virtual_batch_size': 2028, 'lr': 0.02, 'gamma_decay': 0.8, 'mask_type': 'sparsemax', 'batch_momentum': 0.8}. Best is trial 35 with value: 0.7985649154799528.\n",
      "<ipython-input-6-28ed69af07b4>:5: FutureWarning: suggest_int() got {'step'} as positional arguments but they were expected to be given as keyword arguments.\n",
      "  'n_steps': trial.suggest_int('n_steps', 3, 10, 1),\n"
     ]
    },
    {
     "name": "stdout",
     "output_type": "stream",
     "text": [
      "\n",
      "Early stopping occurred at epoch 19 with best_epoch = 14 and best_val_auc = 0.69715\n"
     ]
    },
    {
     "name": "stderr",
     "output_type": "stream",
     "text": [
      "/opt/anaconda3/lib/python3.11/site-packages/pytorch_tabnet/callbacks.py:172: UserWarning: Best weights from best epoch are automatically used!\n",
      "  warnings.warn(wrn_msg)\n",
      "[I 2024-11-18 10:58:44,659] Trial 61 finished with value: 0.7715280157346595 and parameters: {'n_a_d': 128, 'n_steps': 8, 'gamma': 0.01, 'lambda': 1e-07, 'batch_size': 2048, 'virtual_batch_size': 1024, 'lr': 0.01, 'gamma_decay': 0.95, 'mask_type': 'entmax', 'batch_momentum': 0.95}. Best is trial 35 with value: 0.7985649154799528.\n",
      "<ipython-input-6-28ed69af07b4>:5: FutureWarning: suggest_int() got {'step'} as positional arguments but they were expected to be given as keyword arguments.\n",
      "  'n_steps': trial.suggest_int('n_steps', 3, 10, 1),\n"
     ]
    },
    {
     "name": "stdout",
     "output_type": "stream",
     "text": [
      "Stop training because you reached max_epochs = 35 with best_epoch = 34 and best_val_auc = 0.72531\n"
     ]
    },
    {
     "name": "stderr",
     "output_type": "stream",
     "text": [
      "/opt/anaconda3/lib/python3.11/site-packages/pytorch_tabnet/callbacks.py:172: UserWarning: Best weights from best epoch are automatically used!\n",
      "  warnings.warn(wrn_msg)\n",
      "[I 2024-11-18 10:59:12,316] Trial 62 finished with value: 0.7938451660474837 and parameters: {'n_a_d': 24, 'n_steps': 10, 'gamma': 0.01, 'lambda': 1e-07, 'batch_size': 2048, 'virtual_batch_size': 2028, 'lr': 0.02, 'gamma_decay': 0.95, 'mask_type': 'sparsemax', 'batch_momentum': 0.8}. Best is trial 35 with value: 0.7985649154799528.\n",
      "<ipython-input-6-28ed69af07b4>:5: FutureWarning: suggest_int() got {'step'} as positional arguments but they were expected to be given as keyword arguments.\n",
      "  'n_steps': trial.suggest_int('n_steps', 3, 10, 1),\n"
     ]
    },
    {
     "name": "stdout",
     "output_type": "stream",
     "text": [
      "\n",
      "Early stopping occurred at epoch 31 with best_epoch = 26 and best_val_auc = 0.74713\n"
     ]
    },
    {
     "name": "stderr",
     "output_type": "stream",
     "text": [
      "/opt/anaconda3/lib/python3.11/site-packages/pytorch_tabnet/callbacks.py:172: UserWarning: Best weights from best epoch are automatically used!\n",
      "  warnings.warn(wrn_msg)\n",
      "[I 2024-11-18 10:59:33,270] Trial 63 finished with value: 0.7840244135973617 and parameters: {'n_a_d': 16, 'n_steps': 9, 'gamma': 0.01, 'lambda': 1e-07, 'batch_size': 2048, 'virtual_batch_size': 2028, 'lr': 0.02, 'gamma_decay': 0.8, 'mask_type': 'sparsemax', 'batch_momentum': 0.8}. Best is trial 35 with value: 0.7985649154799528.\n",
      "<ipython-input-6-28ed69af07b4>:5: FutureWarning: suggest_int() got {'step'} as positional arguments but they were expected to be given as keyword arguments.\n",
      "  'n_steps': trial.suggest_int('n_steps', 3, 10, 1),\n"
     ]
    },
    {
     "name": "stdout",
     "output_type": "stream",
     "text": [
      "\n",
      "Early stopping occurred at epoch 10 with best_epoch = 5 and best_val_auc = 0.66772\n"
     ]
    },
    {
     "name": "stderr",
     "output_type": "stream",
     "text": [
      "/opt/anaconda3/lib/python3.11/site-packages/pytorch_tabnet/callbacks.py:172: UserWarning: Best weights from best epoch are automatically used!\n",
      "  warnings.warn(wrn_msg)\n",
      "[I 2024-11-18 10:59:51,038] Trial 64 finished with value: 0.7658109476190725 and parameters: {'n_a_d': 128, 'n_steps': 10, 'gamma': 0.01, 'lambda': 1e-07, 'batch_size': 2048, 'virtual_batch_size': 4096, 'lr': 0.02, 'gamma_decay': 0.95, 'mask_type': 'sparsemax', 'batch_momentum': 0.7}. Best is trial 35 with value: 0.7985649154799528.\n",
      "<ipython-input-6-28ed69af07b4>:5: FutureWarning: suggest_int() got {'step'} as positional arguments but they were expected to be given as keyword arguments.\n",
      "  'n_steps': trial.suggest_int('n_steps', 3, 10, 1),\n"
     ]
    },
    {
     "name": "stdout",
     "output_type": "stream",
     "text": [
      "\n",
      "Early stopping occurred at epoch 19 with best_epoch = 14 and best_val_auc = 0.6496\n"
     ]
    },
    {
     "name": "stderr",
     "output_type": "stream",
     "text": [
      "/opt/anaconda3/lib/python3.11/site-packages/pytorch_tabnet/callbacks.py:172: UserWarning: Best weights from best epoch are automatically used!\n",
      "  warnings.warn(wrn_msg)\n",
      "[I 2024-11-18 11:00:04,067] Trial 65 finished with value: 0.7634895657837636 and parameters: {'n_a_d': 24, 'n_steps': 8, 'gamma': 1.0, 'lambda': 1e-07, 'batch_size': 4096, 'virtual_batch_size': 2028, 'lr': 0.02, 'gamma_decay': 0.95, 'mask_type': 'sparsemax', 'batch_momentum': 0.8}. Best is trial 35 with value: 0.7985649154799528.\n",
      "<ipython-input-6-28ed69af07b4>:5: FutureWarning: suggest_int() got {'step'} as positional arguments but they were expected to be given as keyword arguments.\n",
      "  'n_steps': trial.suggest_int('n_steps', 3, 10, 1),\n"
     ]
    },
    {
     "name": "stdout",
     "output_type": "stream",
     "text": [
      "\n",
      "Early stopping occurred at epoch 17 with best_epoch = 12 and best_val_auc = 0.68623\n"
     ]
    },
    {
     "name": "stderr",
     "output_type": "stream",
     "text": [
      "/opt/anaconda3/lib/python3.11/site-packages/pytorch_tabnet/callbacks.py:172: UserWarning: Best weights from best epoch are automatically used!\n",
      "  warnings.warn(wrn_msg)\n",
      "[I 2024-11-18 11:00:18,506] Trial 66 finished with value: 0.7682143128578087 and parameters: {'n_a_d': 24, 'n_steps': 10, 'gamma': 0.5, 'lambda': 1e-07, 'batch_size': 2048, 'virtual_batch_size': 2028, 'lr': 0.02, 'gamma_decay': 0.9, 'mask_type': 'sparsemax', 'batch_momentum': 0.98}. Best is trial 35 with value: 0.7985649154799528.\n",
      "<ipython-input-6-28ed69af07b4>:5: FutureWarning: suggest_int() got {'step'} as positional arguments but they were expected to be given as keyword arguments.\n",
      "  'n_steps': trial.suggest_int('n_steps', 3, 10, 1),\n"
     ]
    },
    {
     "name": "stdout",
     "output_type": "stream",
     "text": [
      "\n",
      "Early stopping occurred at epoch 33 with best_epoch = 28 and best_val_auc = 0.72253\n"
     ]
    },
    {
     "name": "stderr",
     "output_type": "stream",
     "text": [
      "/opt/anaconda3/lib/python3.11/site-packages/pytorch_tabnet/callbacks.py:172: UserWarning: Best weights from best epoch are automatically used!\n",
      "  warnings.warn(wrn_msg)\n",
      "[I 2024-11-18 11:00:53,555] Trial 67 finished with value: 0.7769083898567614 and parameters: {'n_a_d': 24, 'n_steps': 10, 'gamma': 0.01, 'lambda': 1e-07, 'batch_size': 1024, 'virtual_batch_size': 256, 'lr': 0.01, 'gamma_decay': 0.8, 'mask_type': 'sparsemax', 'batch_momentum': 0.8}. Best is trial 35 with value: 0.7985649154799528.\n",
      "<ipython-input-6-28ed69af07b4>:5: FutureWarning: suggest_int() got {'step'} as positional arguments but they were expected to be given as keyword arguments.\n",
      "  'n_steps': trial.suggest_int('n_steps', 3, 10, 1),\n"
     ]
    },
    {
     "name": "stdout",
     "output_type": "stream",
     "text": [
      "\n",
      "Early stopping occurred at epoch 14 with best_epoch = 9 and best_val_auc = 0.67573\n"
     ]
    },
    {
     "name": "stderr",
     "output_type": "stream",
     "text": [
      "/opt/anaconda3/lib/python3.11/site-packages/pytorch_tabnet/callbacks.py:172: UserWarning: Best weights from best epoch are automatically used!\n",
      "  warnings.warn(wrn_msg)\n",
      "[I 2024-11-18 11:01:06,787] Trial 68 finished with value: 0.7656551479718443 and parameters: {'n_a_d': 32, 'n_steps': 8, 'gamma': 1.5, 'lambda': 0, 'batch_size': 2048, 'virtual_batch_size': 2028, 'lr': 0.04, 'gamma_decay': 0.8, 'mask_type': 'sparsemax', 'batch_momentum': 0.8}. Best is trial 35 with value: 0.7985649154799528.\n",
      "<ipython-input-6-28ed69af07b4>:5: FutureWarning: suggest_int() got {'step'} as positional arguments but they were expected to be given as keyword arguments.\n",
      "  'n_steps': trial.suggest_int('n_steps', 3, 10, 1),\n"
     ]
    },
    {
     "name": "stdout",
     "output_type": "stream",
     "text": [
      "\n",
      "Early stopping occurred at epoch 10 with best_epoch = 5 and best_val_auc = 0.67779\n"
     ]
    },
    {
     "name": "stderr",
     "output_type": "stream",
     "text": [
      "/opt/anaconda3/lib/python3.11/site-packages/pytorch_tabnet/callbacks.py:172: UserWarning: Best weights from best epoch are automatically used!\n",
      "  warnings.warn(wrn_msg)\n",
      "[I 2024-11-18 11:01:17,319] Trial 69 finished with value: 0.7648721610308643 and parameters: {'n_a_d': 24, 'n_steps': 8, 'gamma': 0.01, 'lambda': 1e-07, 'batch_size': 2048, 'virtual_batch_size': 128, 'lr': 0.025, 'gamma_decay': 0.95, 'mask_type': 'sparsemax', 'batch_momentum': 0.8}. Best is trial 35 with value: 0.7985649154799528.\n",
      "<ipython-input-6-28ed69af07b4>:5: FutureWarning: suggest_int() got {'step'} as positional arguments but they were expected to be given as keyword arguments.\n",
      "  'n_steps': trial.suggest_int('n_steps', 3, 10, 1),\n"
     ]
    },
    {
     "name": "stdout",
     "output_type": "stream",
     "text": [
      "Stop training because you reached max_epochs = 35 with best_epoch = 32 and best_val_auc = 0.71636\n"
     ]
    },
    {
     "name": "stderr",
     "output_type": "stream",
     "text": [
      "/opt/anaconda3/lib/python3.11/site-packages/pytorch_tabnet/callbacks.py:172: UserWarning: Best weights from best epoch are automatically used!\n",
      "  warnings.warn(wrn_msg)\n",
      "[I 2024-11-18 11:01:44,645] Trial 70 finished with value: 0.7692279735968482 and parameters: {'n_a_d': 24, 'n_steps': 10, 'gamma': 0.01, 'lambda': 1e-07, 'batch_size': 2048, 'virtual_batch_size': 2028, 'lr': 0.005, 'gamma_decay': 0.95, 'mask_type': 'sparsemax', 'batch_momentum': 0.6}. Best is trial 35 with value: 0.7985649154799528.\n",
      "<ipython-input-6-28ed69af07b4>:5: FutureWarning: suggest_int() got {'step'} as positional arguments but they were expected to be given as keyword arguments.\n",
      "  'n_steps': trial.suggest_int('n_steps', 3, 10, 1),\n"
     ]
    },
    {
     "name": "stdout",
     "output_type": "stream",
     "text": [
      "\n",
      "Early stopping occurred at epoch 7 with best_epoch = 2 and best_val_auc = 0.57961\n"
     ]
    },
    {
     "name": "stderr",
     "output_type": "stream",
     "text": [
      "/opt/anaconda3/lib/python3.11/site-packages/pytorch_tabnet/callbacks.py:172: UserWarning: Best weights from best epoch are automatically used!\n",
      "  warnings.warn(wrn_msg)\n",
      "[I 2024-11-18 11:01:50,746] Trial 71 finished with value: 0.7622054900182713 and parameters: {'n_a_d': 24, 'n_steps': 10, 'gamma': 0.05, 'lambda': 0.1, 'batch_size': 2048, 'virtual_batch_size': 2028, 'lr': 0.02, 'gamma_decay': 0.95, 'mask_type': 'sparsemax', 'batch_momentum': 0.95}. Best is trial 35 with value: 0.7985649154799528.\n",
      "<ipython-input-6-28ed69af07b4>:5: FutureWarning: suggest_int() got {'step'} as positional arguments but they were expected to be given as keyword arguments.\n",
      "  'n_steps': trial.suggest_int('n_steps', 3, 10, 1),\n"
     ]
    },
    {
     "name": "stdout",
     "output_type": "stream",
     "text": [
      "\n",
      "Early stopping occurred at epoch 26 with best_epoch = 21 and best_val_auc = 0.73336\n"
     ]
    },
    {
     "name": "stderr",
     "output_type": "stream",
     "text": [
      "/opt/anaconda3/lib/python3.11/site-packages/pytorch_tabnet/callbacks.py:172: UserWarning: Best weights from best epoch are automatically used!\n",
      "  warnings.warn(wrn_msg)\n",
      "[I 2024-11-18 11:02:35,568] Trial 72 finished with value: 0.782151490458789 and parameters: {'n_a_d': 128, 'n_steps': 9, 'gamma': 0.8, 'lambda': 0.001, 'batch_size': 2048, 'virtual_batch_size': 1024, 'lr': 0.05, 'gamma_decay': 0.8, 'mask_type': 'sparsemax', 'batch_momentum': 0.95}. Best is trial 35 with value: 0.7985649154799528.\n",
      "<ipython-input-6-28ed69af07b4>:5: FutureWarning: suggest_int() got {'step'} as positional arguments but they were expected to be given as keyword arguments.\n",
      "  'n_steps': trial.suggest_int('n_steps', 3, 10, 1),\n"
     ]
    },
    {
     "name": "stdout",
     "output_type": "stream",
     "text": [
      "\n",
      "Early stopping occurred at epoch 32 with best_epoch = 27 and best_val_auc = 0.75778\n"
     ]
    },
    {
     "name": "stderr",
     "output_type": "stream",
     "text": [
      "/opt/anaconda3/lib/python3.11/site-packages/pytorch_tabnet/callbacks.py:172: UserWarning: Best weights from best epoch are automatically used!\n",
      "  warnings.warn(wrn_msg)\n",
      "[I 2024-11-18 11:04:36,377] Trial 73 finished with value: 0.7863748267243396 and parameters: {'n_a_d': 256, 'n_steps': 9, 'gamma': 0.01, 'lambda': 0.001, 'batch_size': 2048, 'virtual_batch_size': 2028, 'lr': 0.005, 'gamma_decay': 0.9, 'mask_type': 'entmax', 'batch_momentum': 0.8}. Best is trial 35 with value: 0.7985649154799528.\n",
      "<ipython-input-6-28ed69af07b4>:5: FutureWarning: suggest_int() got {'step'} as positional arguments but they were expected to be given as keyword arguments.\n",
      "  'n_steps': trial.suggest_int('n_steps', 3, 10, 1),\n"
     ]
    },
    {
     "name": "stdout",
     "output_type": "stream",
     "text": [
      "\n",
      "Early stopping occurred at epoch 11 with best_epoch = 6 and best_val_auc = 0.68113\n"
     ]
    },
    {
     "name": "stderr",
     "output_type": "stream",
     "text": [
      "/opt/anaconda3/lib/python3.11/site-packages/pytorch_tabnet/callbacks.py:172: UserWarning: Best weights from best epoch are automatically used!\n",
      "  warnings.warn(wrn_msg)\n",
      "[I 2024-11-18 11:04:48,547] Trial 74 finished with value: 0.770786612471956 and parameters: {'n_a_d': 64, 'n_steps': 7, 'gamma': 1.5, 'lambda': 0.001, 'batch_size': 2048, 'virtual_batch_size': 4096, 'lr': 0.04, 'gamma_decay': 0.8, 'mask_type': 'entmax', 'batch_momentum': 0.95}. Best is trial 35 with value: 0.7985649154799528.\n",
      "<ipython-input-6-28ed69af07b4>:5: FutureWarning: suggest_int() got {'step'} as positional arguments but they were expected to be given as keyword arguments.\n",
      "  'n_steps': trial.suggest_int('n_steps', 3, 10, 1),\n"
     ]
    },
    {
     "name": "stdout",
     "output_type": "stream",
     "text": [
      "\n",
      "Early stopping occurred at epoch 19 with best_epoch = 14 and best_val_auc = 0.60363\n"
     ]
    },
    {
     "name": "stderr",
     "output_type": "stream",
     "text": [
      "/opt/anaconda3/lib/python3.11/site-packages/pytorch_tabnet/callbacks.py:172: UserWarning: Best weights from best epoch are automatically used!\n",
      "  warnings.warn(wrn_msg)\n",
      "[I 2024-11-18 11:05:02,923] Trial 75 finished with value: 0.7666720364734948 and parameters: {'n_a_d': 32, 'n_steps': 10, 'gamma': 0.01, 'lambda': 0.001, 'batch_size': 8192, 'virtual_batch_size': 1024, 'lr': 0.01, 'gamma_decay': 0.8, 'mask_type': 'entmax', 'batch_momentum': 0.9}. Best is trial 35 with value: 0.7985649154799528.\n",
      "<ipython-input-6-28ed69af07b4>:5: FutureWarning: suggest_int() got {'step'} as positional arguments but they were expected to be given as keyword arguments.\n",
      "  'n_steps': trial.suggest_int('n_steps', 3, 10, 1),\n"
     ]
    },
    {
     "name": "stdout",
     "output_type": "stream",
     "text": [
      "\n",
      "Early stopping occurred at epoch 30 with best_epoch = 25 and best_val_auc = 0.59675\n"
     ]
    },
    {
     "name": "stderr",
     "output_type": "stream",
     "text": [
      "/opt/anaconda3/lib/python3.11/site-packages/pytorch_tabnet/callbacks.py:172: UserWarning: Best weights from best epoch are automatically used!\n",
      "  warnings.warn(wrn_msg)\n",
      "[I 2024-11-18 11:05:21,236] Trial 76 finished with value: 0.764981085539589 and parameters: {'n_a_d': 24, 'n_steps': 10, 'gamma': 0.01, 'lambda': 1e-07, 'batch_size': 16384, 'virtual_batch_size': 2028, 'lr': 0.02, 'gamma_decay': 0.9, 'mask_type': 'sparsemax', 'batch_momentum': 0.8}. Best is trial 35 with value: 0.7985649154799528.\n",
      "<ipython-input-6-28ed69af07b4>:5: FutureWarning: suggest_int() got {'step'} as positional arguments but they were expected to be given as keyword arguments.\n",
      "  'n_steps': trial.suggest_int('n_steps', 3, 10, 1),\n"
     ]
    },
    {
     "name": "stdout",
     "output_type": "stream",
     "text": [
      "Stop training because you reached max_epochs = 35 with best_epoch = 33 and best_val_auc = 0.75372\n"
     ]
    },
    {
     "name": "stderr",
     "output_type": "stream",
     "text": [
      "/opt/anaconda3/lib/python3.11/site-packages/pytorch_tabnet/callbacks.py:172: UserWarning: Best weights from best epoch are automatically used!\n",
      "  warnings.warn(wrn_msg)\n",
      "[I 2024-11-18 11:06:35,649] Trial 77 finished with value: 0.7868435550541774 and parameters: {'n_a_d': 128, 'n_steps': 8, 'gamma': 0.01, 'lambda': 1e-06, 'batch_size': 2048, 'virtual_batch_size': 1024, 'lr': 0.01, 'gamma_decay': 0.8, 'mask_type': 'entmax', 'batch_momentum': 0.9}. Best is trial 35 with value: 0.7985649154799528.\n",
      "<ipython-input-6-28ed69af07b4>:5: FutureWarning: suggest_int() got {'step'} as positional arguments but they were expected to be given as keyword arguments.\n",
      "  'n_steps': trial.suggest_int('n_steps', 3, 10, 1),\n"
     ]
    },
    {
     "name": "stdout",
     "output_type": "stream",
     "text": [
      "\n",
      "Early stopping occurred at epoch 25 with best_epoch = 20 and best_val_auc = 0.70355\n"
     ]
    },
    {
     "name": "stderr",
     "output_type": "stream",
     "text": [
      "/opt/anaconda3/lib/python3.11/site-packages/pytorch_tabnet/callbacks.py:172: UserWarning: Best weights from best epoch are automatically used!\n",
      "  warnings.warn(wrn_msg)\n",
      "[I 2024-11-18 11:07:28,896] Trial 78 finished with value: 0.7659857921830355 and parameters: {'n_a_d': 128, 'n_steps': 6, 'gamma': 0.8, 'lambda': 1e-06, 'batch_size': 2048, 'virtual_batch_size': 1024, 'lr': 0.01, 'gamma_decay': 0.9, 'mask_type': 'entmax', 'batch_momentum': 0.9}. Best is trial 35 with value: 0.7985649154799528.\n",
      "<ipython-input-6-28ed69af07b4>:5: FutureWarning: suggest_int() got {'step'} as positional arguments but they were expected to be given as keyword arguments.\n",
      "  'n_steps': trial.suggest_int('n_steps', 3, 10, 1),\n"
     ]
    },
    {
     "name": "stdout",
     "output_type": "stream",
     "text": [
      "\n",
      "Early stopping occurred at epoch 19 with best_epoch = 14 and best_val_auc = 0.71411\n"
     ]
    },
    {
     "name": "stderr",
     "output_type": "stream",
     "text": [
      "/opt/anaconda3/lib/python3.11/site-packages/pytorch_tabnet/callbacks.py:172: UserWarning: Best weights from best epoch are automatically used!\n",
      "  warnings.warn(wrn_msg)\n",
      "[I 2024-11-18 11:08:09,180] Trial 79 finished with value: 0.771375599320239 and parameters: {'n_a_d': 128, 'n_steps': 8, 'gamma': 1.2, 'lambda': 1e-06, 'batch_size': 2048, 'virtual_batch_size': 1024, 'lr': 0.05, 'gamma_decay': 0.8, 'mask_type': 'entmax', 'batch_momentum': 0.7}. Best is trial 35 with value: 0.7985649154799528.\n",
      "<ipython-input-6-28ed69af07b4>:5: FutureWarning: suggest_int() got {'step'} as positional arguments but they were expected to be given as keyword arguments.\n",
      "  'n_steps': trial.suggest_int('n_steps', 3, 10, 1),\n"
     ]
    },
    {
     "name": "stdout",
     "output_type": "stream",
     "text": [
      "\n",
      "Early stopping occurred at epoch 21 with best_epoch = 16 and best_val_auc = 0.72525\n"
     ]
    },
    {
     "name": "stderr",
     "output_type": "stream",
     "text": [
      "/opt/anaconda3/lib/python3.11/site-packages/pytorch_tabnet/callbacks.py:172: UserWarning: Best weights from best epoch are automatically used!\n",
      "  warnings.warn(wrn_msg)\n",
      "[I 2024-11-18 11:08:58,202] Trial 80 finished with value: 0.768461835647449 and parameters: {'n_a_d': 128, 'n_steps': 7, 'gamma': 0.5, 'lambda': 1e-06, 'batch_size': 2048, 'virtual_batch_size': 128, 'lr': 0.04, 'gamma_decay': 0.8, 'mask_type': 'entmax', 'batch_momentum': 0.95}. Best is trial 35 with value: 0.7985649154799528.\n",
      "<ipython-input-6-28ed69af07b4>:5: FutureWarning: suggest_int() got {'step'} as positional arguments but they were expected to be given as keyword arguments.\n",
      "  'n_steps': trial.suggest_int('n_steps', 3, 10, 1),\n"
     ]
    },
    {
     "name": "stdout",
     "output_type": "stream",
     "text": [
      "Stop training because you reached max_epochs = 35 with best_epoch = 31 and best_val_auc = 0.7527\n"
     ]
    },
    {
     "name": "stderr",
     "output_type": "stream",
     "text": [
      "/opt/anaconda3/lib/python3.11/site-packages/pytorch_tabnet/callbacks.py:172: UserWarning: Best weights from best epoch are automatically used!\n",
      "  warnings.warn(wrn_msg)\n",
      "[I 2024-11-18 11:10:02,886] Trial 81 finished with value: 0.7871717672182849 and parameters: {'n_a_d': 128, 'n_steps': 9, 'gamma': 0.01, 'lambda': 1e-06, 'batch_size': 2048, 'virtual_batch_size': 1024, 'lr': 0.01, 'gamma_decay': 0.8, 'mask_type': 'entmax', 'batch_momentum': 0.98}. Best is trial 35 with value: 0.7985649154799528.\n",
      "<ipython-input-6-28ed69af07b4>:5: FutureWarning: suggest_int() got {'step'} as positional arguments but they were expected to be given as keyword arguments.\n",
      "  'n_steps': trial.suggest_int('n_steps', 3, 10, 1),\n"
     ]
    },
    {
     "name": "stdout",
     "output_type": "stream",
     "text": [
      "\n",
      "Early stopping occurred at epoch 27 with best_epoch = 22 and best_val_auc = 0.72323\n"
     ]
    },
    {
     "name": "stderr",
     "output_type": "stream",
     "text": [
      "/opt/anaconda3/lib/python3.11/site-packages/pytorch_tabnet/callbacks.py:172: UserWarning: Best weights from best epoch are automatically used!\n",
      "  warnings.warn(wrn_msg)\n",
      "[I 2024-11-18 11:11:56,083] Trial 82 finished with value: 0.7711090983485394 and parameters: {'n_a_d': 256, 'n_steps': 8, 'gamma': 1.5, 'lambda': 0.001, 'batch_size': 2048, 'virtual_batch_size': 2028, 'lr': 0.01, 'gamma_decay': 0.95, 'mask_type': 'entmax', 'batch_momentum': 0.8}. Best is trial 35 with value: 0.7985649154799528.\n",
      "<ipython-input-6-28ed69af07b4>:5: FutureWarning: suggest_int() got {'step'} as positional arguments but they were expected to be given as keyword arguments.\n",
      "  'n_steps': trial.suggest_int('n_steps', 3, 10, 1),\n"
     ]
    },
    {
     "name": "stdout",
     "output_type": "stream",
     "text": [
      "\n",
      "Early stopping occurred at epoch 14 with best_epoch = 9 and best_val_auc = 0.63505\n"
     ]
    },
    {
     "name": "stderr",
     "output_type": "stream",
     "text": [
      "/opt/anaconda3/lib/python3.11/site-packages/pytorch_tabnet/callbacks.py:172: UserWarning: Best weights from best epoch are automatically used!\n",
      "  warnings.warn(wrn_msg)\n",
      "[I 2024-11-18 11:12:10,909] Trial 83 finished with value: 0.7650087289837725 and parameters: {'n_a_d': 64, 'n_steps': 9, 'gamma': 0.01, 'lambda': 1e-06, 'batch_size': 2048, 'virtual_batch_size': 1024, 'lr': 0.005, 'gamma_decay': 0.8, 'mask_type': 'entmax', 'batch_momentum': 0.98}. Best is trial 35 with value: 0.7985649154799528.\n",
      "<ipython-input-6-28ed69af07b4>:5: FutureWarning: suggest_int() got {'step'} as positional arguments but they were expected to be given as keyword arguments.\n",
      "  'n_steps': trial.suggest_int('n_steps', 3, 10, 1),\n"
     ]
    },
    {
     "name": "stdout",
     "output_type": "stream",
     "text": [
      "\n",
      "Early stopping occurred at epoch 32 with best_epoch = 27 and best_val_auc = 0.75505\n"
     ]
    },
    {
     "name": "stderr",
     "output_type": "stream",
     "text": [
      "/opt/anaconda3/lib/python3.11/site-packages/pytorch_tabnet/callbacks.py:172: UserWarning: Best weights from best epoch are automatically used!\n",
      "  warnings.warn(wrn_msg)\n",
      "[I 2024-11-18 11:13:11,847] Trial 84 finished with value: 0.7896954714357765 and parameters: {'n_a_d': 128, 'n_steps': 10, 'gamma': 0.01, 'lambda': 1e-06, 'batch_size': 2048, 'virtual_batch_size': 1024, 'lr': 0.01, 'gamma_decay': 0.8, 'mask_type': 'entmax', 'batch_momentum': 0.98}. Best is trial 35 with value: 0.7985649154799528.\n",
      "<ipython-input-6-28ed69af07b4>:5: FutureWarning: suggest_int() got {'step'} as positional arguments but they were expected to be given as keyword arguments.\n",
      "  'n_steps': trial.suggest_int('n_steps', 3, 10, 1),\n"
     ]
    },
    {
     "name": "stdout",
     "output_type": "stream",
     "text": [
      "Stop training because you reached max_epochs = 35 with best_epoch = 34 and best_val_auc = 0.75125\n"
     ]
    },
    {
     "name": "stderr",
     "output_type": "stream",
     "text": [
      "/opt/anaconda3/lib/python3.11/site-packages/pytorch_tabnet/callbacks.py:172: UserWarning: Best weights from best epoch are automatically used!\n",
      "  warnings.warn(wrn_msg)\n",
      "[I 2024-11-18 11:13:39,204] Trial 85 finished with value: 0.7889366058765676 and parameters: {'n_a_d': 24, 'n_steps': 9, 'gamma': 1.5, 'lambda': 1e-07, 'batch_size': 1024, 'virtual_batch_size': 2028, 'lr': 0.02, 'gamma_decay': 0.8, 'mask_type': 'entmax', 'batch_momentum': 0.8}. Best is trial 35 with value: 0.7985649154799528.\n",
      "<ipython-input-6-28ed69af07b4>:5: FutureWarning: suggest_int() got {'step'} as positional arguments but they were expected to be given as keyword arguments.\n",
      "  'n_steps': trial.suggest_int('n_steps', 3, 10, 1),\n"
     ]
    },
    {
     "name": "stdout",
     "output_type": "stream",
     "text": [
      "Stop training because you reached max_epochs = 35 with best_epoch = 34 and best_val_auc = 0.73882\n"
     ]
    },
    {
     "name": "stderr",
     "output_type": "stream",
     "text": [
      "/opt/anaconda3/lib/python3.11/site-packages/pytorch_tabnet/callbacks.py:172: UserWarning: Best weights from best epoch are automatically used!\n",
      "  warnings.warn(wrn_msg)\n",
      "[I 2024-11-18 11:14:00,913] Trial 86 finished with value: 0.7939029806624004 and parameters: {'n_a_d': 24, 'n_steps': 10, 'gamma': 0.01, 'lambda': 0.01, 'batch_size': 2048, 'virtual_batch_size': 2028, 'lr': 0.02, 'gamma_decay': 0.95, 'mask_type': 'sparsemax', 'batch_momentum': 0.8}. Best is trial 35 with value: 0.7985649154799528.\n",
      "<ipython-input-6-28ed69af07b4>:5: FutureWarning: suggest_int() got {'step'} as positional arguments but they were expected to be given as keyword arguments.\n",
      "  'n_steps': trial.suggest_int('n_steps', 3, 10, 1),\n"
     ]
    },
    {
     "name": "stdout",
     "output_type": "stream",
     "text": [
      "\n",
      "Early stopping occurred at epoch 16 with best_epoch = 11 and best_val_auc = 0.6788\n"
     ]
    },
    {
     "name": "stderr",
     "output_type": "stream",
     "text": [
      "/opt/anaconda3/lib/python3.11/site-packages/pytorch_tabnet/callbacks.py:172: UserWarning: Best weights from best epoch are automatically used!\n",
      "  warnings.warn(wrn_msg)\n",
      "[I 2024-11-18 11:14:17,170] Trial 87 finished with value: 0.7605015162411598 and parameters: {'n_a_d': 32, 'n_steps': 10, 'gamma': 1.5, 'lambda': 1e-07, 'batch_size': 1024, 'virtual_batch_size': 128, 'lr': 0.02, 'gamma_decay': 0.4, 'mask_type': 'entmax', 'batch_momentum': 0.8}. Best is trial 35 with value: 0.7985649154799528.\n",
      "<ipython-input-6-28ed69af07b4>:5: FutureWarning: suggest_int() got {'step'} as positional arguments but they were expected to be given as keyword arguments.\n",
      "  'n_steps': trial.suggest_int('n_steps', 3, 10, 1),\n"
     ]
    },
    {
     "name": "stdout",
     "output_type": "stream",
     "text": [
      "\n",
      "Early stopping occurred at epoch 8 with best_epoch = 3 and best_val_auc = 0.58839\n"
     ]
    },
    {
     "name": "stderr",
     "output_type": "stream",
     "text": [
      "/opt/anaconda3/lib/python3.11/site-packages/pytorch_tabnet/callbacks.py:172: UserWarning: Best weights from best epoch are automatically used!\n",
      "  warnings.warn(wrn_msg)\n",
      "[I 2024-11-18 11:14:22,177] Trial 88 finished with value: 0.7616163896710744 and parameters: {'n_a_d': 8, 'n_steps': 10, 'gamma': 0.01, 'lambda': 0, 'batch_size': 2048, 'virtual_batch_size': 2028, 'lr': 0.01, 'gamma_decay': 0.8, 'mask_type': 'entmax', 'batch_momentum': 0.8}. Best is trial 35 with value: 0.7985649154799528.\n",
      "<ipython-input-6-28ed69af07b4>:5: FutureWarning: suggest_int() got {'step'} as positional arguments but they were expected to be given as keyword arguments.\n",
      "  'n_steps': trial.suggest_int('n_steps', 3, 10, 1),\n"
     ]
    },
    {
     "name": "stdout",
     "output_type": "stream",
     "text": [
      "\n",
      "Early stopping occurred at epoch 23 with best_epoch = 18 and best_val_auc = 0.70811\n"
     ]
    },
    {
     "name": "stderr",
     "output_type": "stream",
     "text": [
      "/opt/anaconda3/lib/python3.11/site-packages/pytorch_tabnet/callbacks.py:172: UserWarning: Best weights from best epoch are automatically used!\n",
      "  warnings.warn(wrn_msg)\n",
      "[I 2024-11-18 11:14:36,581] Trial 89 finished with value: 0.7682465552078535 and parameters: {'n_a_d': 24, 'n_steps': 10, 'gamma': 0.1, 'lambda': 0.01, 'batch_size': 2048, 'virtual_batch_size': 2028, 'lr': 0.02, 'gamma_decay': 0.95, 'mask_type': 'sparsemax', 'batch_momentum': 0.8}. Best is trial 35 with value: 0.7985649154799528.\n",
      "<ipython-input-6-28ed69af07b4>:5: FutureWarning: suggest_int() got {'step'} as positional arguments but they were expected to be given as keyword arguments.\n",
      "  'n_steps': trial.suggest_int('n_steps', 3, 10, 1),\n"
     ]
    },
    {
     "name": "stdout",
     "output_type": "stream",
     "text": [
      "\n",
      "Early stopping occurred at epoch 15 with best_epoch = 10 and best_val_auc = 0.65346\n"
     ]
    },
    {
     "name": "stderr",
     "output_type": "stream",
     "text": [
      "/opt/anaconda3/lib/python3.11/site-packages/pytorch_tabnet/callbacks.py:172: UserWarning: Best weights from best epoch are automatically used!\n",
      "  warnings.warn(wrn_msg)\n",
      "[I 2024-11-18 11:14:49,403] Trial 90 finished with value: 0.761116749313569 and parameters: {'n_a_d': 24, 'n_steps': 9, 'gamma': 1.5, 'lambda': 0.001, 'batch_size': 1024, 'virtual_batch_size': 512, 'lr': 0.02, 'gamma_decay': 0.8, 'mask_type': 'sparsemax', 'batch_momentum': 0.8}. Best is trial 35 with value: 0.7985649154799528.\n",
      "<ipython-input-6-28ed69af07b4>:5: FutureWarning: suggest_int() got {'step'} as positional arguments but they were expected to be given as keyword arguments.\n",
      "  'n_steps': trial.suggest_int('n_steps', 3, 10, 1),\n"
     ]
    },
    {
     "name": "stdout",
     "output_type": "stream",
     "text": [
      "\n",
      "Early stopping occurred at epoch 20 with best_epoch = 15 and best_val_auc = 0.69197\n"
     ]
    },
    {
     "name": "stderr",
     "output_type": "stream",
     "text": [
      "/opt/anaconda3/lib/python3.11/site-packages/pytorch_tabnet/callbacks.py:172: UserWarning: Best weights from best epoch are automatically used!\n",
      "  warnings.warn(wrn_msg)\n",
      "[I 2024-11-18 11:15:04,691] Trial 91 finished with value: 0.7747769162968068 and parameters: {'n_a_d': 24, 'n_steps': 9, 'gamma': 1.5, 'lambda': 0.01, 'batch_size': 1024, 'virtual_batch_size': 2028, 'lr': 0.01, 'gamma_decay': 0.8, 'mask_type': 'entmax', 'batch_momentum': 0.6}. Best is trial 35 with value: 0.7985649154799528.\n",
      "<ipython-input-6-28ed69af07b4>:5: FutureWarning: suggest_int() got {'step'} as positional arguments but they were expected to be given as keyword arguments.\n",
      "  'n_steps': trial.suggest_int('n_steps', 3, 10, 1),\n"
     ]
    },
    {
     "name": "stdout",
     "output_type": "stream",
     "text": [
      "Stop training because you reached max_epochs = 35 with best_epoch = 32 and best_val_auc = 0.76617\n"
     ]
    },
    {
     "name": "stderr",
     "output_type": "stream",
     "text": [
      "/opt/anaconda3/lib/python3.11/site-packages/pytorch_tabnet/callbacks.py:172: UserWarning: Best weights from best epoch are automatically used!\n",
      "  warnings.warn(wrn_msg)\n",
      "[I 2024-11-18 11:16:13,519] Trial 92 finished with value: 0.7897502604431982 and parameters: {'n_a_d': 128, 'n_steps': 7, 'gamma': 1.5, 'lambda': 1e-07, 'batch_size': 1024, 'virtual_batch_size': 2028, 'lr': 0.02, 'gamma_decay': 0.8, 'mask_type': 'entmax', 'batch_momentum': 0.98}. Best is trial 35 with value: 0.7985649154799528.\n",
      "<ipython-input-6-28ed69af07b4>:5: FutureWarning: suggest_int() got {'step'} as positional arguments but they were expected to be given as keyword arguments.\n",
      "  'n_steps': trial.suggest_int('n_steps', 3, 10, 1),\n"
     ]
    },
    {
     "name": "stdout",
     "output_type": "stream",
     "text": [
      "\n",
      "Early stopping occurred at epoch 23 with best_epoch = 18 and best_val_auc = 0.70784\n"
     ]
    },
    {
     "name": "stderr",
     "output_type": "stream",
     "text": [
      "/opt/anaconda3/lib/python3.11/site-packages/pytorch_tabnet/callbacks.py:172: UserWarning: Best weights from best epoch are automatically used!\n",
      "  warnings.warn(wrn_msg)\n",
      "[I 2024-11-18 11:17:01,737] Trial 93 finished with value: 0.7673487454451796 and parameters: {'n_a_d': 128, 'n_steps': 7, 'gamma': 1.5, 'lambda': 1e-05, 'batch_size': 1024, 'virtual_batch_size': 2028, 'lr': 0.02, 'gamma_decay': 0.8, 'mask_type': 'entmax', 'batch_momentum': 0.8}. Best is trial 35 with value: 0.7985649154799528.\n",
      "<ipython-input-6-28ed69af07b4>:5: FutureWarning: suggest_int() got {'step'} as positional arguments but they were expected to be given as keyword arguments.\n",
      "  'n_steps': trial.suggest_int('n_steps', 3, 10, 1),\n"
     ]
    },
    {
     "name": "stdout",
     "output_type": "stream",
     "text": [
      "\n",
      "Early stopping occurred at epoch 11 with best_epoch = 6 and best_val_auc = 0.57519\n"
     ]
    },
    {
     "name": "stderr",
     "output_type": "stream",
     "text": [
      "/opt/anaconda3/lib/python3.11/site-packages/pytorch_tabnet/callbacks.py:172: UserWarning: Best weights from best epoch are automatically used!\n",
      "  warnings.warn(wrn_msg)\n",
      "[I 2024-11-18 11:17:09,659] Trial 94 finished with value: 0.7647597732292171 and parameters: {'n_a_d': 24, 'n_steps': 8, 'gamma': 1.5, 'lambda': 1e-07, 'batch_size': 16384, 'virtual_batch_size': 2028, 'lr': 0.02, 'gamma_decay': 0.8, 'mask_type': 'entmax', 'batch_momentum': 0.8}. Best is trial 35 with value: 0.7985649154799528.\n",
      "<ipython-input-6-28ed69af07b4>:5: FutureWarning: suggest_int() got {'step'} as positional arguments but they were expected to be given as keyword arguments.\n",
      "  'n_steps': trial.suggest_int('n_steps', 3, 10, 1),\n"
     ]
    },
    {
     "name": "stdout",
     "output_type": "stream",
     "text": [
      "\n",
      "Early stopping occurred at epoch 17 with best_epoch = 12 and best_val_auc = 0.73002\n"
     ]
    },
    {
     "name": "stderr",
     "output_type": "stream",
     "text": [
      "/opt/anaconda3/lib/python3.11/site-packages/pytorch_tabnet/callbacks.py:172: UserWarning: Best weights from best epoch are automatically used!\n",
      "  warnings.warn(wrn_msg)\n",
      "[I 2024-11-18 11:17:45,058] Trial 95 finished with value: 0.7778015256993055 and parameters: {'n_a_d': 128, 'n_steps': 6, 'gamma': 1.5, 'lambda': 1e-07, 'batch_size': 1024, 'virtual_batch_size': 2028, 'lr': 0.05, 'gamma_decay': 0.8, 'mask_type': 'entmax', 'batch_momentum': 0.98}. Best is trial 35 with value: 0.7985649154799528.\n",
      "<ipython-input-6-28ed69af07b4>:5: FutureWarning: suggest_int() got {'step'} as positional arguments but they were expected to be given as keyword arguments.\n",
      "  'n_steps': trial.suggest_int('n_steps', 3, 10, 1),\n"
     ]
    },
    {
     "name": "stdout",
     "output_type": "stream",
     "text": [
      "\n",
      "Early stopping occurred at epoch 22 with best_epoch = 17 and best_val_auc = 0.7292\n"
     ]
    },
    {
     "name": "stderr",
     "output_type": "stream",
     "text": [
      "/opt/anaconda3/lib/python3.11/site-packages/pytorch_tabnet/callbacks.py:172: UserWarning: Best weights from best epoch are automatically used!\n",
      "  warnings.warn(wrn_msg)\n",
      "[I 2024-11-18 11:18:08,284] Trial 96 finished with value: 0.7709762175765429 and parameters: {'n_a_d': 64, 'n_steps': 8, 'gamma': 1.0, 'lambda': 1e-07, 'batch_size': 2048, 'virtual_batch_size': 2028, 'lr': 0.02, 'gamma_decay': 0.8, 'mask_type': 'entmax', 'batch_momentum': 0.98}. Best is trial 35 with value: 0.7985649154799528.\n",
      "<ipython-input-6-28ed69af07b4>:5: FutureWarning: suggest_int() got {'step'} as positional arguments but they were expected to be given as keyword arguments.\n",
      "  'n_steps': trial.suggest_int('n_steps', 3, 10, 1),\n"
     ]
    },
    {
     "name": "stdout",
     "output_type": "stream",
     "text": [
      "Stop training because you reached max_epochs = 35 with best_epoch = 33 and best_val_auc = 0.77613\n"
     ]
    },
    {
     "name": "stderr",
     "output_type": "stream",
     "text": [
      "/opt/anaconda3/lib/python3.11/site-packages/pytorch_tabnet/callbacks.py:172: UserWarning: Best weights from best epoch are automatically used!\n",
      "  warnings.warn(wrn_msg)\n",
      "[I 2024-11-18 11:18:45,222] Trial 97 finished with value: 0.7849488248106845 and parameters: {'n_a_d': 64, 'n_steps': 8, 'gamma': 0.01, 'lambda': 1e-05, 'batch_size': 2048, 'virtual_batch_size': 2028, 'lr': 0.04, 'gamma_decay': 0.9, 'mask_type': 'sparsemax', 'batch_momentum': 0.7}. Best is trial 35 with value: 0.7985649154799528.\n",
      "<ipython-input-6-28ed69af07b4>:5: FutureWarning: suggest_int() got {'step'} as positional arguments but they were expected to be given as keyword arguments.\n",
      "  'n_steps': trial.suggest_int('n_steps', 3, 10, 1),\n"
     ]
    },
    {
     "name": "stdout",
     "output_type": "stream",
     "text": [
      "\n",
      "Early stopping occurred at epoch 11 with best_epoch = 6 and best_val_auc = 0.55997\n"
     ]
    },
    {
     "name": "stderr",
     "output_type": "stream",
     "text": [
      "/opt/anaconda3/lib/python3.11/site-packages/pytorch_tabnet/callbacks.py:172: UserWarning: Best weights from best epoch are automatically used!\n",
      "  warnings.warn(wrn_msg)\n",
      "[I 2024-11-18 11:19:15,365] Trial 98 finished with value: 0.7677003098560539 and parameters: {'n_a_d': 128, 'n_steps': 7, 'gamma': 1.5, 'lambda': 1e-07, 'batch_size': 32768, 'virtual_batch_size': 1024, 'lr': 0.02, 'gamma_decay': 0.8, 'mask_type': 'entmax', 'batch_momentum': 0.98}. Best is trial 35 with value: 0.7985649154799528.\n",
      "<ipython-input-6-28ed69af07b4>:5: FutureWarning: suggest_int() got {'step'} as positional arguments but they were expected to be given as keyword arguments.\n",
      "  'n_steps': trial.suggest_int('n_steps', 3, 10, 1),\n"
     ]
    },
    {
     "name": "stdout",
     "output_type": "stream",
     "text": [
      "\n",
      "Early stopping occurred at epoch 11 with best_epoch = 6 and best_val_auc = 0.68591\n"
     ]
    },
    {
     "name": "stderr",
     "output_type": "stream",
     "text": [
      "/opt/anaconda3/lib/python3.11/site-packages/pytorch_tabnet/callbacks.py:172: UserWarning: Best weights from best epoch are automatically used!\n",
      "  warnings.warn(wrn_msg)\n",
      "[I 2024-11-18 11:19:25,362] Trial 99 finished with value: 0.7671688351592987 and parameters: {'n_a_d': 24, 'n_steps': 10, 'gamma': 1.5, 'lambda': 0, 'batch_size': 1024, 'virtual_batch_size': 2028, 'lr': 0.02, 'gamma_decay': 0.9, 'mask_type': 'entmax', 'batch_momentum': 0.98}. Best is trial 35 with value: 0.7985649154799528.\n",
      "<ipython-input-6-28ed69af07b4>:5: FutureWarning: suggest_int() got {'step'} as positional arguments but they were expected to be given as keyword arguments.\n",
      "  'n_steps': trial.suggest_int('n_steps', 3, 10, 1),\n"
     ]
    },
    {
     "name": "stdout",
     "output_type": "stream",
     "text": [
      "\n",
      "Early stopping occurred at epoch 18 with best_epoch = 13 and best_val_auc = 0.74542\n"
     ]
    },
    {
     "name": "stderr",
     "output_type": "stream",
     "text": [
      "/opt/anaconda3/lib/python3.11/site-packages/pytorch_tabnet/callbacks.py:172: UserWarning: Best weights from best epoch are automatically used!\n",
      "  warnings.warn(wrn_msg)\n",
      "[I 2024-11-18 11:19:48,862] Trial 100 finished with value: 0.7750398814577235 and parameters: {'n_a_d': 64, 'n_steps': 6, 'gamma': 0.5, 'lambda': 0.001, 'batch_size': 1024, 'virtual_batch_size': 2028, 'lr': 0.02, 'gamma_decay': 0.8, 'mask_type': 'entmax', 'batch_momentum': 0.98}. Best is trial 35 with value: 0.7985649154799528.\n",
      "<ipython-input-6-28ed69af07b4>:5: FutureWarning: suggest_int() got {'step'} as positional arguments but they were expected to be given as keyword arguments.\n",
      "  'n_steps': trial.suggest_int('n_steps', 3, 10, 1),\n"
     ]
    },
    {
     "name": "stdout",
     "output_type": "stream",
     "text": [
      "Stop training because you reached max_epochs = 35 with best_epoch = 34 and best_val_auc = 0.73313\n"
     ]
    },
    {
     "name": "stderr",
     "output_type": "stream",
     "text": [
      "/opt/anaconda3/lib/python3.11/site-packages/pytorch_tabnet/callbacks.py:172: UserWarning: Best weights from best epoch are automatically used!\n",
      "  warnings.warn(wrn_msg)\n",
      "[I 2024-11-18 11:20:16,656] Trial 101 finished with value: 0.7847417722461161 and parameters: {'n_a_d': 24, 'n_steps': 10, 'gamma': 0.01, 'lambda': 0, 'batch_size': 2048, 'virtual_batch_size': 256, 'lr': 0.02, 'gamma_decay': 0.8, 'mask_type': 'sparsemax', 'batch_momentum': 0.7}. Best is trial 35 with value: 0.7985649154799528.\n",
      "<ipython-input-6-28ed69af07b4>:5: FutureWarning: suggest_int() got {'step'} as positional arguments but they were expected to be given as keyword arguments.\n",
      "  'n_steps': trial.suggest_int('n_steps', 3, 10, 1),\n"
     ]
    },
    {
     "name": "stdout",
     "output_type": "stream",
     "text": [
      "\n",
      "Early stopping occurred at epoch 31 with best_epoch = 26 and best_val_auc = 0.64895\n"
     ]
    },
    {
     "name": "stderr",
     "output_type": "stream",
     "text": [
      "/opt/anaconda3/lib/python3.11/site-packages/pytorch_tabnet/callbacks.py:172: UserWarning: Best weights from best epoch are automatically used!\n",
      "  warnings.warn(wrn_msg)\n",
      "[I 2024-11-18 11:20:34,427] Trial 102 finished with value: 0.772969289230038 and parameters: {'n_a_d': 8, 'n_steps': 9, 'gamma': 0.01, 'lambda': 0.01, 'batch_size': 2048, 'virtual_batch_size': 2028, 'lr': 0.02, 'gamma_decay': 0.4, 'mask_type': 'sparsemax', 'batch_momentum': 0.8}. Best is trial 35 with value: 0.7985649154799528.\n",
      "<ipython-input-6-28ed69af07b4>:5: FutureWarning: suggest_int() got {'step'} as positional arguments but they were expected to be given as keyword arguments.\n",
      "  'n_steps': trial.suggest_int('n_steps', 3, 10, 1),\n"
     ]
    },
    {
     "name": "stdout",
     "output_type": "stream",
     "text": [
      "Stop training because you reached max_epochs = 35 with best_epoch = 30 and best_val_auc = 0.7522\n"
     ]
    },
    {
     "name": "stderr",
     "output_type": "stream",
     "text": [
      "/opt/anaconda3/lib/python3.11/site-packages/pytorch_tabnet/callbacks.py:172: UserWarning: Best weights from best epoch are automatically used!\n",
      "  warnings.warn(wrn_msg)\n",
      "[I 2024-11-18 11:21:04,192] Trial 103 finished with value: 0.796248239606956 and parameters: {'n_a_d': 32, 'n_steps': 8, 'gamma': 0.01, 'lambda': 1e-06, 'batch_size': 2048, 'virtual_batch_size': 256, 'lr': 0.04, 'gamma_decay': 0.8, 'mask_type': 'sparsemax', 'batch_momentum': 0.8}. Best is trial 35 with value: 0.7985649154799528.\n",
      "<ipython-input-6-28ed69af07b4>:5: FutureWarning: suggest_int() got {'step'} as positional arguments but they were expected to be given as keyword arguments.\n",
      "  'n_steps': trial.suggest_int('n_steps', 3, 10, 1),\n"
     ]
    },
    {
     "name": "stdout",
     "output_type": "stream",
     "text": [
      "\n",
      "Early stopping occurred at epoch 31 with best_epoch = 26 and best_val_auc = 0.76662\n"
     ]
    },
    {
     "name": "stderr",
     "output_type": "stream",
     "text": [
      "/opt/anaconda3/lib/python3.11/site-packages/pytorch_tabnet/callbacks.py:172: UserWarning: Best weights from best epoch are automatically used!\n",
      "  warnings.warn(wrn_msg)\n",
      "[I 2024-11-18 11:21:35,670] Trial 104 finished with value: 0.7886731728205651 and parameters: {'n_a_d': 32, 'n_steps': 6, 'gamma': 0.01, 'lambda': 1e-06, 'batch_size': 1024, 'virtual_batch_size': 256, 'lr': 0.04, 'gamma_decay': 0.8, 'mask_type': 'sparsemax', 'batch_momentum': 0.8}. Best is trial 35 with value: 0.7985649154799528.\n",
      "<ipython-input-6-28ed69af07b4>:5: FutureWarning: suggest_int() got {'step'} as positional arguments but they were expected to be given as keyword arguments.\n",
      "  'n_steps': trial.suggest_int('n_steps', 3, 10, 1),\n"
     ]
    },
    {
     "name": "stdout",
     "output_type": "stream",
     "text": [
      "\n",
      "Early stopping occurred at epoch 23 with best_epoch = 18 and best_val_auc = 0.75217\n"
     ]
    },
    {
     "name": "stderr",
     "output_type": "stream",
     "text": [
      "/opt/anaconda3/lib/python3.11/site-packages/pytorch_tabnet/callbacks.py:172: UserWarning: Best weights from best epoch are automatically used!\n",
      "  warnings.warn(wrn_msg)\n",
      "[I 2024-11-18 11:21:57,966] Trial 105 finished with value: 0.7861886381788448 and parameters: {'n_a_d': 32, 'n_steps': 8, 'gamma': 0.01, 'lambda': 1e-06, 'batch_size': 1024, 'virtual_batch_size': 256, 'lr': 0.05, 'gamma_decay': 0.8, 'mask_type': 'entmax', 'batch_momentum': 0.8}. Best is trial 35 with value: 0.7985649154799528.\n",
      "<ipython-input-6-28ed69af07b4>:5: FutureWarning: suggest_int() got {'step'} as positional arguments but they were expected to be given as keyword arguments.\n",
      "  'n_steps': trial.suggest_int('n_steps', 3, 10, 1),\n"
     ]
    },
    {
     "name": "stdout",
     "output_type": "stream",
     "text": [
      "Stop training because you reached max_epochs = 35 with best_epoch = 34 and best_val_auc = 0.69861\n"
     ]
    },
    {
     "name": "stderr",
     "output_type": "stream",
     "text": [
      "/opt/anaconda3/lib/python3.11/site-packages/pytorch_tabnet/callbacks.py:172: UserWarning: Best weights from best epoch are automatically used!\n",
      "  warnings.warn(wrn_msg)\n",
      "[I 2024-11-18 11:22:27,094] Trial 106 finished with value: 0.7693937454137768 and parameters: {'n_a_d': 32, 'n_steps': 10, 'gamma': 0.01, 'lambda': 1e-06, 'batch_size': 2048, 'virtual_batch_size': 256, 'lr': 0.005, 'gamma_decay': 0.8, 'mask_type': 'sparsemax', 'batch_momentum': 0.8}. Best is trial 35 with value: 0.7985649154799528.\n",
      "<ipython-input-6-28ed69af07b4>:5: FutureWarning: suggest_int() got {'step'} as positional arguments but they were expected to be given as keyword arguments.\n",
      "  'n_steps': trial.suggest_int('n_steps', 3, 10, 1),\n"
     ]
    },
    {
     "name": "stdout",
     "output_type": "stream",
     "text": [
      "\n",
      "Early stopping occurred at epoch 32 with best_epoch = 27 and best_val_auc = 0.7585\n"
     ]
    },
    {
     "name": "stderr",
     "output_type": "stream",
     "text": [
      "/opt/anaconda3/lib/python3.11/site-packages/pytorch_tabnet/callbacks.py:172: UserWarning: Best weights from best epoch are automatically used!\n",
      "  warnings.warn(wrn_msg)\n",
      "[I 2024-11-18 11:22:58,565] Trial 107 finished with value: 0.783134958164449 and parameters: {'n_a_d': 32, 'n_steps': 7, 'gamma': 2.0, 'lambda': 0.001, 'batch_size': 1024, 'virtual_batch_size': 256, 'lr': 0.04, 'gamma_decay': 0.8, 'mask_type': 'sparsemax', 'batch_momentum': 0.8}. Best is trial 35 with value: 0.7985649154799528.\n",
      "<ipython-input-6-28ed69af07b4>:5: FutureWarning: suggest_int() got {'step'} as positional arguments but they were expected to be given as keyword arguments.\n",
      "  'n_steps': trial.suggest_int('n_steps', 3, 10, 1),\n"
     ]
    },
    {
     "name": "stdout",
     "output_type": "stream",
     "text": [
      "Stop training because you reached max_epochs = 35 with best_epoch = 34 and best_val_auc = 0.70091\n"
     ]
    },
    {
     "name": "stderr",
     "output_type": "stream",
     "text": [
      "/opt/anaconda3/lib/python3.11/site-packages/pytorch_tabnet/callbacks.py:172: UserWarning: Best weights from best epoch are automatically used!\n",
      "  warnings.warn(wrn_msg)\n",
      "[I 2024-11-18 11:23:26,394] Trial 108 finished with value: 0.7745220986260373 and parameters: {'n_a_d': 24, 'n_steps': 9, 'gamma': 1.5, 'lambda': 1e-07, 'batch_size': 1024, 'virtual_batch_size': 1024, 'lr': 0.005, 'gamma_decay': 0.8, 'mask_type': 'entmax', 'batch_momentum': 0.9}. Best is trial 35 with value: 0.7985649154799528.\n",
      "<ipython-input-6-28ed69af07b4>:5: FutureWarning: suggest_int() got {'step'} as positional arguments but they were expected to be given as keyword arguments.\n",
      "  'n_steps': trial.suggest_int('n_steps', 3, 10, 1),\n"
     ]
    },
    {
     "name": "stdout",
     "output_type": "stream",
     "text": [
      "Stop training because you reached max_epochs = 35 with best_epoch = 34 and best_val_auc = 0.73468\n"
     ]
    },
    {
     "name": "stderr",
     "output_type": "stream",
     "text": [
      "/opt/anaconda3/lib/python3.11/site-packages/pytorch_tabnet/callbacks.py:172: UserWarning: Best weights from best epoch are automatically used!\n",
      "  warnings.warn(wrn_msg)\n",
      "[I 2024-11-18 11:23:54,691] Trial 109 finished with value: 0.7708806695936274 and parameters: {'n_a_d': 32, 'n_steps': 5, 'gamma': 0.01, 'lambda': 1e-06, 'batch_size': 4096, 'virtual_batch_size': 256, 'lr': 0.04, 'gamma_decay': 0.8, 'mask_type': 'sparsemax', 'batch_momentum': 0.8}. Best is trial 35 with value: 0.7985649154799528.\n",
      "<ipython-input-6-28ed69af07b4>:5: FutureWarning: suggest_int() got {'step'} as positional arguments but they were expected to be given as keyword arguments.\n",
      "  'n_steps': trial.suggest_int('n_steps', 3, 10, 1),\n"
     ]
    },
    {
     "name": "stdout",
     "output_type": "stream",
     "text": [
      "\n",
      "Early stopping occurred at epoch 9 with best_epoch = 4 and best_val_auc = 0.59006\n"
     ]
    },
    {
     "name": "stderr",
     "output_type": "stream",
     "text": [
      "/opt/anaconda3/lib/python3.11/site-packages/pytorch_tabnet/callbacks.py:172: UserWarning: Best weights from best epoch are automatically used!\n",
      "  warnings.warn(wrn_msg)\n",
      "[I 2024-11-18 11:24:04,753] Trial 110 finished with value: 0.7617518415777262 and parameters: {'n_a_d': 32, 'n_steps': 5, 'gamma': 1.5, 'lambda': 1e-06, 'batch_size': 1024, 'virtual_batch_size': 256, 'lr': 0.02, 'gamma_decay': 0.8, 'mask_type': 'sparsemax', 'batch_momentum': 0.8}. Best is trial 35 with value: 0.7985649154799528.\n",
      "<ipython-input-6-28ed69af07b4>:5: FutureWarning: suggest_int() got {'step'} as positional arguments but they were expected to be given as keyword arguments.\n",
      "  'n_steps': trial.suggest_int('n_steps', 3, 10, 1),\n"
     ]
    },
    {
     "name": "stdout",
     "output_type": "stream",
     "text": [
      "\n",
      "Early stopping occurred at epoch 28 with best_epoch = 23 and best_val_auc = 0.74593\n"
     ]
    },
    {
     "name": "stderr",
     "output_type": "stream",
     "text": [
      "/opt/anaconda3/lib/python3.11/site-packages/pytorch_tabnet/callbacks.py:172: UserWarning: Best weights from best epoch are automatically used!\n",
      "  warnings.warn(wrn_msg)\n",
      "[I 2024-11-18 11:24:25,467] Trial 111 finished with value: 0.7929490779934528 and parameters: {'n_a_d': 24, 'n_steps': 10, 'gamma': 0.01, 'lambda': 1e-06, 'batch_size': 2048, 'virtual_batch_size': 2028, 'lr': 0.05, 'gamma_decay': 0.95, 'mask_type': 'sparsemax', 'batch_momentum': 0.8}. Best is trial 35 with value: 0.7985649154799528.\n",
      "<ipython-input-6-28ed69af07b4>:5: FutureWarning: suggest_int() got {'step'} as positional arguments but they were expected to be given as keyword arguments.\n",
      "  'n_steps': trial.suggest_int('n_steps', 3, 10, 1),\n"
     ]
    },
    {
     "name": "stdout",
     "output_type": "stream",
     "text": [
      "\n",
      "Early stopping occurred at epoch 20 with best_epoch = 15 and best_val_auc = 0.74102\n"
     ]
    },
    {
     "name": "stderr",
     "output_type": "stream",
     "text": [
      "/opt/anaconda3/lib/python3.11/site-packages/pytorch_tabnet/callbacks.py:172: UserWarning: Best weights from best epoch are automatically used!\n",
      "  warnings.warn(wrn_msg)\n",
      "[I 2024-11-18 11:24:42,250] Trial 112 finished with value: 0.7796517655281552 and parameters: {'n_a_d': 24, 'n_steps': 10, 'gamma': 0.01, 'lambda': 1e-06, 'batch_size': 1024, 'virtual_batch_size': 2028, 'lr': 0.05, 'gamma_decay': 0.95, 'mask_type': 'sparsemax', 'batch_momentum': 0.8}. Best is trial 35 with value: 0.7985649154799528.\n",
      "<ipython-input-6-28ed69af07b4>:5: FutureWarning: suggest_int() got {'step'} as positional arguments but they were expected to be given as keyword arguments.\n",
      "  'n_steps': trial.suggest_int('n_steps', 3, 10, 1),\n"
     ]
    },
    {
     "name": "stdout",
     "output_type": "stream",
     "text": [
      "\n",
      "Early stopping occurred at epoch 21 with best_epoch = 16 and best_val_auc = 0.73089\n"
     ]
    },
    {
     "name": "stderr",
     "output_type": "stream",
     "text": [
      "/opt/anaconda3/lib/python3.11/site-packages/pytorch_tabnet/callbacks.py:172: UserWarning: Best weights from best epoch are automatically used!\n",
      "  warnings.warn(wrn_msg)\n",
      "[I 2024-11-18 11:24:59,430] Trial 113 finished with value: 0.7759243913201984 and parameters: {'n_a_d': 24, 'n_steps': 10, 'gamma': 0.05, 'lambda': 1e-07, 'batch_size': 1024, 'virtual_batch_size': 2028, 'lr': 0.02, 'gamma_decay': 0.8, 'mask_type': 'entmax', 'batch_momentum': 0.7}. Best is trial 35 with value: 0.7985649154799528.\n",
      "<ipython-input-6-28ed69af07b4>:5: FutureWarning: suggest_int() got {'step'} as positional arguments but they were expected to be given as keyword arguments.\n",
      "  'n_steps': trial.suggest_int('n_steps', 3, 10, 1),\n"
     ]
    },
    {
     "name": "stdout",
     "output_type": "stream",
     "text": [
      "\n",
      "Early stopping occurred at epoch 17 with best_epoch = 12 and best_val_auc = 0.56923\n"
     ]
    },
    {
     "name": "stderr",
     "output_type": "stream",
     "text": [
      "/opt/anaconda3/lib/python3.11/site-packages/pytorch_tabnet/callbacks.py:172: UserWarning: Best weights from best epoch are automatically used!\n",
      "  warnings.warn(wrn_msg)\n",
      "[I 2024-11-18 11:25:12,165] Trial 114 finished with value: 0.7643214466779706 and parameters: {'n_a_d': 32, 'n_steps': 7, 'gamma': 0.01, 'lambda': 0.001, 'batch_size': 16384, 'virtual_batch_size': 2028, 'lr': 0.01, 'gamma_decay': 0.8, 'mask_type': 'entmax', 'batch_momentum': 0.8}. Best is trial 35 with value: 0.7985649154799528.\n",
      "<ipython-input-6-28ed69af07b4>:5: FutureWarning: suggest_int() got {'step'} as positional arguments but they were expected to be given as keyword arguments.\n",
      "  'n_steps': trial.suggest_int('n_steps', 3, 10, 1),\n"
     ]
    },
    {
     "name": "stdout",
     "output_type": "stream",
     "text": [
      "\n",
      "Early stopping occurred at epoch 28 with best_epoch = 23 and best_val_auc = 0.63086\n"
     ]
    },
    {
     "name": "stderr",
     "output_type": "stream",
     "text": [
      "/opt/anaconda3/lib/python3.11/site-packages/pytorch_tabnet/callbacks.py:172: UserWarning: Best weights from best epoch are automatically used!\n",
      "  warnings.warn(wrn_msg)\n",
      "[I 2024-11-18 11:26:17,230] Trial 115 finished with value: 0.7678146792822045 and parameters: {'n_a_d': 128, 'n_steps': 7, 'gamma': 0.5, 'lambda': 1e-07, 'batch_size': 16384, 'virtual_batch_size': 2028, 'lr': 0.02, 'gamma_decay': 0.8, 'mask_type': 'entmax', 'batch_momentum': 0.98}. Best is trial 35 with value: 0.7985649154799528.\n",
      "<ipython-input-6-28ed69af07b4>:5: FutureWarning: suggest_int() got {'step'} as positional arguments but they were expected to be given as keyword arguments.\n",
      "  'n_steps': trial.suggest_int('n_steps', 3, 10, 1),\n"
     ]
    },
    {
     "name": "stdout",
     "output_type": "stream",
     "text": [
      "\n",
      "Early stopping occurred at epoch 29 with best_epoch = 24 and best_val_auc = 0.74627\n"
     ]
    },
    {
     "name": "stderr",
     "output_type": "stream",
     "text": [
      "/opt/anaconda3/lib/python3.11/site-packages/pytorch_tabnet/callbacks.py:172: UserWarning: Best weights from best epoch are automatically used!\n",
      "  warnings.warn(wrn_msg)\n",
      "[I 2024-11-18 11:26:40,920] Trial 116 finished with value: 0.7740482136500115 and parameters: {'n_a_d': 8, 'n_steps': 7, 'gamma': 0.1, 'lambda': 1e-06, 'batch_size': 1024, 'virtual_batch_size': 256, 'lr': 0.04, 'gamma_decay': 0.8, 'mask_type': 'sparsemax', 'batch_momentum': 0.8}. Best is trial 35 with value: 0.7985649154799528.\n",
      "<ipython-input-6-28ed69af07b4>:5: FutureWarning: suggest_int() got {'step'} as positional arguments but they were expected to be given as keyword arguments.\n",
      "  'n_steps': trial.suggest_int('n_steps', 3, 10, 1),\n"
     ]
    },
    {
     "name": "stdout",
     "output_type": "stream",
     "text": [
      "\n",
      "Early stopping occurred at epoch 22 with best_epoch = 17 and best_val_auc = 0.74198\n"
     ]
    },
    {
     "name": "stderr",
     "output_type": "stream",
     "text": [
      "/opt/anaconda3/lib/python3.11/site-packages/pytorch_tabnet/callbacks.py:172: UserWarning: Best weights from best epoch are automatically used!\n",
      "  warnings.warn(wrn_msg)\n",
      "[I 2024-11-18 11:27:20,658] Trial 117 finished with value: 0.7776298495261608 and parameters: {'n_a_d': 128, 'n_steps': 9, 'gamma': 0.01, 'lambda': 1e-05, 'batch_size': 2048, 'virtual_batch_size': 2028, 'lr': 0.01, 'gamma_decay': 0.95, 'mask_type': 'sparsemax', 'batch_momentum': 0.8}. Best is trial 35 with value: 0.7985649154799528.\n",
      "<ipython-input-6-28ed69af07b4>:5: FutureWarning: suggest_int() got {'step'} as positional arguments but they were expected to be given as keyword arguments.\n",
      "  'n_steps': trial.suggest_int('n_steps', 3, 10, 1),\n"
     ]
    },
    {
     "name": "stdout",
     "output_type": "stream",
     "text": [
      "\n",
      "Early stopping occurred at epoch 31 with best_epoch = 26 and best_val_auc = 0.7243\n"
     ]
    },
    {
     "name": "stderr",
     "output_type": "stream",
     "text": [
      "/opt/anaconda3/lib/python3.11/site-packages/pytorch_tabnet/callbacks.py:172: UserWarning: Best weights from best epoch are automatically used!\n",
      "  warnings.warn(wrn_msg)\n",
      "[I 2024-11-18 11:27:47,645] Trial 118 finished with value: 0.7635081539659528 and parameters: {'n_a_d': 32, 'n_steps': 9, 'gamma': 0.01, 'lambda': 1e-07, 'batch_size': 2048, 'virtual_batch_size': 256, 'lr': 0.02, 'gamma_decay': 0.95, 'mask_type': 'sparsemax', 'batch_momentum': 0.8}. Best is trial 35 with value: 0.7985649154799528.\n",
      "<ipython-input-6-28ed69af07b4>:5: FutureWarning: suggest_int() got {'step'} as positional arguments but they were expected to be given as keyword arguments.\n",
      "  'n_steps': trial.suggest_int('n_steps', 3, 10, 1),\n"
     ]
    },
    {
     "name": "stdout",
     "output_type": "stream",
     "text": [
      "\n",
      "Early stopping occurred at epoch 34 with best_epoch = 29 and best_val_auc = 0.58602\n"
     ]
    },
    {
     "name": "stderr",
     "output_type": "stream",
     "text": [
      "/opt/anaconda3/lib/python3.11/site-packages/pytorch_tabnet/callbacks.py:172: UserWarning: Best weights from best epoch are automatically used!\n",
      "  warnings.warn(wrn_msg)\n",
      "[I 2024-11-18 11:28:17,474] Trial 119 finished with value: 0.7700383130805201 and parameters: {'n_a_d': 32, 'n_steps': 7, 'gamma': 0.01, 'lambda': 0.1, 'batch_size': 2048, 'virtual_batch_size': 256, 'lr': 0.04, 'gamma_decay': 0.8, 'mask_type': 'sparsemax', 'batch_momentum': 0.95}. Best is trial 35 with value: 0.7985649154799528.\n",
      "<ipython-input-6-28ed69af07b4>:5: FutureWarning: suggest_int() got {'step'} as positional arguments but they were expected to be given as keyword arguments.\n",
      "  'n_steps': trial.suggest_int('n_steps', 3, 10, 1),\n"
     ]
    },
    {
     "name": "stdout",
     "output_type": "stream",
     "text": [
      "\n",
      "Early stopping occurred at epoch 18 with best_epoch = 13 and best_val_auc = 0.72591\n"
     ]
    },
    {
     "name": "stderr",
     "output_type": "stream",
     "text": [
      "/opt/anaconda3/lib/python3.11/site-packages/pytorch_tabnet/callbacks.py:172: UserWarning: Best weights from best epoch are automatically used!\n",
      "  warnings.warn(wrn_msg)\n",
      "[I 2024-11-18 11:28:35,006] Trial 120 finished with value: 0.7714266568343798 and parameters: {'n_a_d': 32, 'n_steps': 8, 'gamma': 0.01, 'lambda': 0.01, 'batch_size': 2048, 'virtual_batch_size': 128, 'lr': 0.04, 'gamma_decay': 0.8, 'mask_type': 'sparsemax', 'batch_momentum': 0.8}. Best is trial 35 with value: 0.7985649154799528.\n",
      "<ipython-input-6-28ed69af07b4>:5: FutureWarning: suggest_int() got {'step'} as positional arguments but they were expected to be given as keyword arguments.\n",
      "  'n_steps': trial.suggest_int('n_steps', 3, 10, 1),\n"
     ]
    },
    {
     "name": "stdout",
     "output_type": "stream",
     "text": [
      "\n",
      "Early stopping occurred at epoch 10 with best_epoch = 5 and best_val_auc = 0.60657\n"
     ]
    },
    {
     "name": "stderr",
     "output_type": "stream",
     "text": [
      "/opt/anaconda3/lib/python3.11/site-packages/pytorch_tabnet/callbacks.py:172: UserWarning: Best weights from best epoch are automatically used!\n",
      "  warnings.warn(wrn_msg)\n",
      "[I 2024-11-18 11:29:16,646] Trial 121 finished with value: 0.7659957752115883 and parameters: {'n_a_d': 256, 'n_steps': 7, 'gamma': 0.8, 'lambda': 1e-06, 'batch_size': 2048, 'virtual_batch_size': 256, 'lr': 0.04, 'gamma_decay': 0.8, 'mask_type': 'sparsemax', 'batch_momentum': 0.8}. Best is trial 35 with value: 0.7985649154799528.\n",
      "<ipython-input-6-28ed69af07b4>:5: FutureWarning: suggest_int() got {'step'} as positional arguments but they were expected to be given as keyword arguments.\n",
      "  'n_steps': trial.suggest_int('n_steps', 3, 10, 1),\n"
     ]
    },
    {
     "name": "stdout",
     "output_type": "stream",
     "text": [
      "Stop training because you reached max_epochs = 35 with best_epoch = 34 and best_val_auc = 0.75393\n"
     ]
    },
    {
     "name": "stderr",
     "output_type": "stream",
     "text": [
      "/opt/anaconda3/lib/python3.11/site-packages/pytorch_tabnet/callbacks.py:172: UserWarning: Best weights from best epoch are automatically used!\n",
      "  warnings.warn(wrn_msg)\n",
      "[I 2024-11-18 11:29:43,351] Trial 122 finished with value: 0.7831927349452631 and parameters: {'n_a_d': 24, 'n_steps': 9, 'gamma': 0.8, 'lambda': 0.001, 'batch_size': 2048, 'virtual_batch_size': 1024, 'lr': 0.04, 'gamma_decay': 0.8, 'mask_type': 'entmax', 'batch_momentum': 0.95}. Best is trial 35 with value: 0.7985649154799528.\n",
      "<ipython-input-6-28ed69af07b4>:5: FutureWarning: suggest_int() got {'step'} as positional arguments but they were expected to be given as keyword arguments.\n",
      "  'n_steps': trial.suggest_int('n_steps', 3, 10, 1),\n"
     ]
    },
    {
     "name": "stdout",
     "output_type": "stream",
     "text": [
      "\n",
      "Early stopping occurred at epoch 22 with best_epoch = 17 and best_val_auc = 0.59246\n"
     ]
    },
    {
     "name": "stderr",
     "output_type": "stream",
     "text": [
      "/opt/anaconda3/lib/python3.11/site-packages/pytorch_tabnet/callbacks.py:172: UserWarning: Best weights from best epoch are automatically used!\n",
      "  warnings.warn(wrn_msg)\n",
      "[I 2024-11-18 11:29:59,585] Trial 123 finished with value: 0.7631328949083113 and parameters: {'n_a_d': 24, 'n_steps': 10, 'gamma': 0.01, 'lambda': 1e-07, 'batch_size': 32768, 'virtual_batch_size': 2028, 'lr': 0.02, 'gamma_decay': 0.95, 'mask_type': 'sparsemax', 'batch_momentum': 0.7}. Best is trial 35 with value: 0.7985649154799528.\n",
      "<ipython-input-6-28ed69af07b4>:5: FutureWarning: suggest_int() got {'step'} as positional arguments but they were expected to be given as keyword arguments.\n",
      "  'n_steps': trial.suggest_int('n_steps', 3, 10, 1),\n"
     ]
    },
    {
     "name": "stdout",
     "output_type": "stream",
     "text": [
      "\n",
      "Early stopping occurred at epoch 26 with best_epoch = 21 and best_val_auc = 0.74852\n"
     ]
    },
    {
     "name": "stderr",
     "output_type": "stream",
     "text": [
      "/opt/anaconda3/lib/python3.11/site-packages/pytorch_tabnet/callbacks.py:172: UserWarning: Best weights from best epoch are automatically used!\n",
      "  warnings.warn(wrn_msg)\n",
      "[I 2024-11-18 11:30:52,693] Trial 124 finished with value: 0.7887717680665621 and parameters: {'n_a_d': 128, 'n_steps': 8, 'gamma': 0.01, 'lambda': 0.001, 'batch_size': 2048, 'virtual_batch_size': 1024, 'lr': 0.04, 'gamma_decay': 0.9, 'mask_type': 'entmax', 'batch_momentum': 0.95}. Best is trial 35 with value: 0.7985649154799528.\n",
      "<ipython-input-6-28ed69af07b4>:5: FutureWarning: suggest_int() got {'step'} as positional arguments but they were expected to be given as keyword arguments.\n",
      "  'n_steps': trial.suggest_int('n_steps', 3, 10, 1),\n"
     ]
    },
    {
     "name": "stdout",
     "output_type": "stream",
     "text": [
      "\n",
      "Early stopping occurred at epoch 19 with best_epoch = 14 and best_val_auc = 0.69816\n"
     ]
    },
    {
     "name": "stderr",
     "output_type": "stream",
     "text": [
      "/opt/anaconda3/lib/python3.11/site-packages/pytorch_tabnet/callbacks.py:172: UserWarning: Best weights from best epoch are automatically used!\n",
      "  warnings.warn(wrn_msg)\n",
      "[I 2024-11-18 11:31:31,053] Trial 125 finished with value: 0.7699043567481917 and parameters: {'n_a_d': 128, 'n_steps': 7, 'gamma': 0.01, 'lambda': 0.1, 'batch_size': 2048, 'virtual_batch_size': 1024, 'lr': 0.04, 'gamma_decay': 0.9, 'mask_type': 'entmax', 'batch_momentum': 0.95}. Best is trial 35 with value: 0.7985649154799528.\n",
      "<ipython-input-6-28ed69af07b4>:5: FutureWarning: suggest_int() got {'step'} as positional arguments but they were expected to be given as keyword arguments.\n",
      "  'n_steps': trial.suggest_int('n_steps', 3, 10, 1),\n"
     ]
    },
    {
     "name": "stdout",
     "output_type": "stream",
     "text": [
      "\n",
      "Early stopping occurred at epoch 18 with best_epoch = 13 and best_val_auc = 0.63725\n"
     ]
    },
    {
     "name": "stderr",
     "output_type": "stream",
     "text": [
      "/opt/anaconda3/lib/python3.11/site-packages/pytorch_tabnet/callbacks.py:172: UserWarning: Best weights from best epoch are automatically used!\n",
      "  warnings.warn(wrn_msg)\n",
      "[I 2024-11-18 11:31:44,992] Trial 126 finished with value: 0.7634943853649564 and parameters: {'n_a_d': 24, 'n_steps': 9, 'gamma': 0.01, 'lambda': 0.01, 'batch_size': 2048, 'virtual_batch_size': 2028, 'lr': 0.005, 'gamma_decay': 0.95, 'mask_type': 'entmax', 'batch_momentum': 0.8}. Best is trial 35 with value: 0.7985649154799528.\n",
      "<ipython-input-6-28ed69af07b4>:5: FutureWarning: suggest_int() got {'step'} as positional arguments but they were expected to be given as keyword arguments.\n",
      "  'n_steps': trial.suggest_int('n_steps', 3, 10, 1),\n"
     ]
    },
    {
     "name": "stdout",
     "output_type": "stream",
     "text": [
      "\n",
      "Early stopping occurred at epoch 11 with best_epoch = 6 and best_val_auc = 0.67403\n"
     ]
    },
    {
     "name": "stderr",
     "output_type": "stream",
     "text": [
      "/opt/anaconda3/lib/python3.11/site-packages/pytorch_tabnet/callbacks.py:172: UserWarning: Best weights from best epoch are automatically used!\n",
      "  warnings.warn(wrn_msg)\n",
      "[I 2024-11-18 11:31:58,612] Trial 127 finished with value: 0.7612707133648725 and parameters: {'n_a_d': 32, 'n_steps': 7, 'gamma': 0.8, 'lambda': 1e-06, 'batch_size': 1024, 'virtual_batch_size': 128, 'lr': 0.04, 'gamma_decay': 0.4, 'mask_type': 'sparsemax', 'batch_momentum': 0.8}. Best is trial 35 with value: 0.7985649154799528.\n",
      "<ipython-input-6-28ed69af07b4>:5: FutureWarning: suggest_int() got {'step'} as positional arguments but they were expected to be given as keyword arguments.\n",
      "  'n_steps': trial.suggest_int('n_steps', 3, 10, 1),\n"
     ]
    },
    {
     "name": "stdout",
     "output_type": "stream",
     "text": [
      "\n",
      "Early stopping occurred at epoch 9 with best_epoch = 4 and best_val_auc = 0.65711\n"
     ]
    },
    {
     "name": "stderr",
     "output_type": "stream",
     "text": [
      "/opt/anaconda3/lib/python3.11/site-packages/pytorch_tabnet/callbacks.py:172: UserWarning: Best weights from best epoch are automatically used!\n",
      "  warnings.warn(wrn_msg)\n",
      "[I 2024-11-18 11:32:38,206] Trial 128 finished with value: 0.7646883959332507 and parameters: {'n_a_d': 256, 'n_steps': 7, 'gamma': 0.01, 'lambda': 0.001, 'batch_size': 2048, 'virtual_batch_size': 2028, 'lr': 0.01, 'gamma_decay': 0.8, 'mask_type': 'entmax', 'batch_momentum': 0.9}. Best is trial 35 with value: 0.7985649154799528.\n",
      "<ipython-input-6-28ed69af07b4>:5: FutureWarning: suggest_int() got {'step'} as positional arguments but they were expected to be given as keyword arguments.\n",
      "  'n_steps': trial.suggest_int('n_steps', 3, 10, 1),\n"
     ]
    },
    {
     "name": "stdout",
     "output_type": "stream",
     "text": [
      "\n",
      "Early stopping occurred at epoch 17 with best_epoch = 12 and best_val_auc = 0.72583\n"
     ]
    },
    {
     "name": "stderr",
     "output_type": "stream",
     "text": [
      "/opt/anaconda3/lib/python3.11/site-packages/pytorch_tabnet/callbacks.py:172: UserWarning: Best weights from best epoch are automatically used!\n",
      "  warnings.warn(wrn_msg)\n",
      "[I 2024-11-18 11:32:53,000] Trial 129 finished with value: 0.7637101559487354 and parameters: {'n_a_d': 24, 'n_steps': 10, 'gamma': 1.0, 'lambda': 1e-07, 'batch_size': 1024, 'virtual_batch_size': 4096, 'lr': 0.02, 'gamma_decay': 0.8, 'mask_type': 'entmax', 'batch_momentum': 0.8}. Best is trial 35 with value: 0.7985649154799528.\n",
      "<ipython-input-6-28ed69af07b4>:5: FutureWarning: suggest_int() got {'step'} as positional arguments but they were expected to be given as keyword arguments.\n",
      "  'n_steps': trial.suggest_int('n_steps', 3, 10, 1),\n"
     ]
    },
    {
     "name": "stdout",
     "output_type": "stream",
     "text": [
      "Stop training because you reached max_epochs = 35 with best_epoch = 32 and best_val_auc = 0.69971\n"
     ]
    },
    {
     "name": "stderr",
     "output_type": "stream",
     "text": [
      "/opt/anaconda3/lib/python3.11/site-packages/pytorch_tabnet/callbacks.py:172: UserWarning: Best weights from best epoch are automatically used!\n",
      "  warnings.warn(wrn_msg)\n",
      "[I 2024-11-18 11:33:21,579] Trial 130 finished with value: 0.7658723825297054 and parameters: {'n_a_d': 24, 'n_steps': 8, 'gamma': 1.5, 'lambda': 1e-06, 'batch_size': 2048, 'virtual_batch_size': 256, 'lr': 0.05, 'gamma_decay': 0.95, 'mask_type': 'sparsemax', 'batch_momentum': 0.8}. Best is trial 35 with value: 0.7985649154799528.\n",
      "<ipython-input-6-28ed69af07b4>:5: FutureWarning: suggest_int() got {'step'} as positional arguments but they were expected to be given as keyword arguments.\n",
      "  'n_steps': trial.suggest_int('n_steps', 3, 10, 1),\n"
     ]
    },
    {
     "name": "stdout",
     "output_type": "stream",
     "text": [
      "\n",
      "Early stopping occurred at epoch 31 with best_epoch = 26 and best_val_auc = 0.68733\n"
     ]
    },
    {
     "name": "stderr",
     "output_type": "stream",
     "text": [
      "/opt/anaconda3/lib/python3.11/site-packages/pytorch_tabnet/callbacks.py:172: UserWarning: Best weights from best epoch are automatically used!\n",
      "  warnings.warn(wrn_msg)\n",
      "[I 2024-11-18 11:34:17,936] Trial 131 finished with value: 0.7658204340045388 and parameters: {'n_a_d': 128, 'n_steps': 8, 'gamma': 2.0, 'lambda': 0.001, 'batch_size': 2048, 'virtual_batch_size': 1024, 'lr': 0.005, 'gamma_decay': 0.8, 'mask_type': 'entmax', 'batch_momentum': 0.95}. Best is trial 35 with value: 0.7985649154799528.\n",
      "<ipython-input-6-28ed69af07b4>:5: FutureWarning: suggest_int() got {'step'} as positional arguments but they were expected to be given as keyword arguments.\n",
      "  'n_steps': trial.suggest_int('n_steps', 3, 10, 1),\n"
     ]
    },
    {
     "name": "stdout",
     "output_type": "stream",
     "text": [
      "\n",
      "Early stopping occurred at epoch 25 with best_epoch = 20 and best_val_auc = 0.72235\n"
     ]
    },
    {
     "name": "stderr",
     "output_type": "stream",
     "text": [
      "/opt/anaconda3/lib/python3.11/site-packages/pytorch_tabnet/callbacks.py:172: UserWarning: Best weights from best epoch are automatically used!\n",
      "  warnings.warn(wrn_msg)\n",
      "[I 2024-11-18 11:34:35,904] Trial 132 finished with value: 0.782209656034321 and parameters: {'n_a_d': 24, 'n_steps': 10, 'gamma': 0.8, 'lambda': 1e-06, 'batch_size': 2048, 'virtual_batch_size': 2028, 'lr': 0.04, 'gamma_decay': 0.9, 'mask_type': 'sparsemax', 'batch_momentum': 0.8}. Best is trial 35 with value: 0.7985649154799528.\n",
      "<ipython-input-6-28ed69af07b4>:5: FutureWarning: suggest_int() got {'step'} as positional arguments but they were expected to be given as keyword arguments.\n",
      "  'n_steps': trial.suggest_int('n_steps', 3, 10, 1),\n"
     ]
    },
    {
     "name": "stdout",
     "output_type": "stream",
     "text": [
      "\n",
      "Early stopping occurred at epoch 13 with best_epoch = 8 and best_val_auc = 0.69205\n"
     ]
    },
    {
     "name": "stderr",
     "output_type": "stream",
     "text": [
      "/opt/anaconda3/lib/python3.11/site-packages/pytorch_tabnet/callbacks.py:172: UserWarning: Best weights from best epoch are automatically used!\n",
      "  warnings.warn(wrn_msg)\n",
      "[I 2024-11-18 11:34:49,555] Trial 133 finished with value: 0.7731438196908197 and parameters: {'n_a_d': 32, 'n_steps': 10, 'gamma': 1.5, 'lambda': 1e-07, 'batch_size': 1024, 'virtual_batch_size': 2028, 'lr': 0.04, 'gamma_decay': 0.8, 'mask_type': 'entmax', 'batch_momentum': 0.8}. Best is trial 35 with value: 0.7985649154799528.\n",
      "<ipython-input-6-28ed69af07b4>:5: FutureWarning: suggest_int() got {'step'} as positional arguments but they were expected to be given as keyword arguments.\n",
      "  'n_steps': trial.suggest_int('n_steps', 3, 10, 1),\n"
     ]
    },
    {
     "name": "stdout",
     "output_type": "stream",
     "text": [
      "\n",
      "Early stopping occurred at epoch 34 with best_epoch = 29 and best_val_auc = 0.75682\n"
     ]
    },
    {
     "name": "stderr",
     "output_type": "stream",
     "text": [
      "/opt/anaconda3/lib/python3.11/site-packages/pytorch_tabnet/callbacks.py:172: UserWarning: Best weights from best epoch are automatically used!\n",
      "  warnings.warn(wrn_msg)\n",
      "[I 2024-11-18 11:35:13,884] Trial 134 finished with value: 0.8003872482245278 and parameters: {'n_a_d': 24, 'n_steps': 10, 'gamma': 0.01, 'lambda': 0.01, 'batch_size': 2048, 'virtual_batch_size': 1024, 'lr': 0.04, 'gamma_decay': 0.95, 'mask_type': 'sparsemax', 'batch_momentum': 0.8}. Best is trial 134 with value: 0.8003872482245278.\n",
      "<ipython-input-6-28ed69af07b4>:5: FutureWarning: suggest_int() got {'step'} as positional arguments but they were expected to be given as keyword arguments.\n",
      "  'n_steps': trial.suggest_int('n_steps', 3, 10, 1),\n"
     ]
    },
    {
     "name": "stdout",
     "output_type": "stream",
     "text": [
      "\n",
      "Early stopping occurred at epoch 9 with best_epoch = 4 and best_val_auc = 0.56046\n"
     ]
    },
    {
     "name": "stderr",
     "output_type": "stream",
     "text": [
      "/opt/anaconda3/lib/python3.11/site-packages/pytorch_tabnet/callbacks.py:172: UserWarning: Best weights from best epoch are automatically used!\n",
      "  warnings.warn(wrn_msg)\n",
      "[I 2024-11-18 11:35:20,475] Trial 135 finished with value: 0.7663497273597232 and parameters: {'n_a_d': 24, 'n_steps': 9, 'gamma': 0.01, 'lambda': 0.01, 'batch_size': 8192, 'virtual_batch_size': 1024, 'lr': 0.04, 'gamma_decay': 0.95, 'mask_type': 'sparsemax', 'batch_momentum': 0.8}. Best is trial 134 with value: 0.8003872482245278.\n",
      "<ipython-input-6-28ed69af07b4>:5: FutureWarning: suggest_int() got {'step'} as positional arguments but they were expected to be given as keyword arguments.\n",
      "  'n_steps': trial.suggest_int('n_steps', 3, 10, 1),\n"
     ]
    },
    {
     "name": "stdout",
     "output_type": "stream",
     "text": [
      "\n",
      "Early stopping occurred at epoch 21 with best_epoch = 16 and best_val_auc = 0.6949\n"
     ]
    },
    {
     "name": "stderr",
     "output_type": "stream",
     "text": [
      "/opt/anaconda3/lib/python3.11/site-packages/pytorch_tabnet/callbacks.py:172: UserWarning: Best weights from best epoch are automatically used!\n",
      "  warnings.warn(wrn_msg)\n",
      "[I 2024-11-18 11:35:37,839] Trial 136 finished with value: 0.7701626637038784 and parameters: {'n_a_d': 32, 'n_steps': 8, 'gamma': 0.01, 'lambda': 0, 'batch_size': 2048, 'virtual_batch_size': 1024, 'lr': 0.01, 'gamma_decay': 0.4, 'mask_type': 'sparsemax', 'batch_momentum': 0.8}. Best is trial 134 with value: 0.8003872482245278.\n",
      "<ipython-input-6-28ed69af07b4>:5: FutureWarning: suggest_int() got {'step'} as positional arguments but they were expected to be given as keyword arguments.\n",
      "  'n_steps': trial.suggest_int('n_steps', 3, 10, 1),\n"
     ]
    },
    {
     "name": "stdout",
     "output_type": "stream",
     "text": [
      "Stop training because you reached max_epochs = 35 with best_epoch = 32 and best_val_auc = 0.74746\n"
     ]
    },
    {
     "name": "stderr",
     "output_type": "stream",
     "text": [
      "/opt/anaconda3/lib/python3.11/site-packages/pytorch_tabnet/callbacks.py:172: UserWarning: Best weights from best epoch are automatically used!\n",
      "  warnings.warn(wrn_msg)\n",
      "[I 2024-11-18 11:36:00,061] Trial 137 finished with value: 0.790489220458204 and parameters: {'n_a_d': 16, 'n_steps': 9, 'gamma': 0.01, 'lambda': 0.01, 'batch_size': 2048, 'virtual_batch_size': 1024, 'lr': 0.02, 'gamma_decay': 0.95, 'mask_type': 'sparsemax', 'batch_momentum': 0.8}. Best is trial 134 with value: 0.8003872482245278.\n",
      "<ipython-input-6-28ed69af07b4>:5: FutureWarning: suggest_int() got {'step'} as positional arguments but they were expected to be given as keyword arguments.\n",
      "  'n_steps': trial.suggest_int('n_steps', 3, 10, 1),\n"
     ]
    },
    {
     "name": "stdout",
     "output_type": "stream",
     "text": [
      "\n",
      "Early stopping occurred at epoch 30 with best_epoch = 25 and best_val_auc = 0.74581\n"
     ]
    },
    {
     "name": "stderr",
     "output_type": "stream",
     "text": [
      "/opt/anaconda3/lib/python3.11/site-packages/pytorch_tabnet/callbacks.py:172: UserWarning: Best weights from best epoch are automatically used!\n",
      "  warnings.warn(wrn_msg)\n",
      "[I 2024-11-18 11:36:21,367] Trial 138 finished with value: 0.7822929654239568 and parameters: {'n_a_d': 24, 'n_steps': 9, 'gamma': 0.01, 'lambda': 0.01, 'batch_size': 2048, 'virtual_batch_size': 4096, 'lr': 0.02, 'gamma_decay': 0.95, 'mask_type': 'sparsemax', 'batch_momentum': 0.9}. Best is trial 134 with value: 0.8003872482245278.\n",
      "<ipython-input-6-28ed69af07b4>:5: FutureWarning: suggest_int() got {'step'} as positional arguments but they were expected to be given as keyword arguments.\n",
      "  'n_steps': trial.suggest_int('n_steps', 3, 10, 1),\n"
     ]
    },
    {
     "name": "stdout",
     "output_type": "stream",
     "text": [
      "\n",
      "Early stopping occurred at epoch 22 with best_epoch = 17 and best_val_auc = 0.61949\n"
     ]
    },
    {
     "name": "stderr",
     "output_type": "stream",
     "text": [
      "/opt/anaconda3/lib/python3.11/site-packages/pytorch_tabnet/callbacks.py:172: UserWarning: Best weights from best epoch are automatically used!\n",
      "  warnings.warn(wrn_msg)\n",
      "[I 2024-11-18 11:36:35,985] Trial 139 finished with value: 0.7647356352113083 and parameters: {'n_a_d': 16, 'n_steps': 10, 'gamma': 1.5, 'lambda': 0.01, 'batch_size': 2048, 'virtual_batch_size': 1024, 'lr': 0.02, 'gamma_decay': 0.9, 'mask_type': 'sparsemax', 'batch_momentum': 0.8}. Best is trial 134 with value: 0.8003872482245278.\n",
      "<ipython-input-6-28ed69af07b4>:5: FutureWarning: suggest_int() got {'step'} as positional arguments but they were expected to be given as keyword arguments.\n",
      "  'n_steps': trial.suggest_int('n_steps', 3, 10, 1),\n"
     ]
    },
    {
     "name": "stdout",
     "output_type": "stream",
     "text": [
      "Stop training because you reached max_epochs = 35 with best_epoch = 32 and best_val_auc = 0.74834\n"
     ]
    },
    {
     "name": "stderr",
     "output_type": "stream",
     "text": [
      "/opt/anaconda3/lib/python3.11/site-packages/pytorch_tabnet/callbacks.py:172: UserWarning: Best weights from best epoch are automatically used!\n",
      "  warnings.warn(wrn_msg)\n",
      "[I 2024-11-18 11:36:57,472] Trial 140 finished with value: 0.7809903659453845 and parameters: {'n_a_d': 16, 'n_steps': 7, 'gamma': 0.01, 'lambda': 0.01, 'batch_size': 2048, 'virtual_batch_size': 1024, 'lr': 0.02, 'gamma_decay': 0.95, 'mask_type': 'sparsemax', 'batch_momentum': 0.8}. Best is trial 134 with value: 0.8003872482245278.\n",
      "<ipython-input-6-28ed69af07b4>:5: FutureWarning: suggest_int() got {'step'} as positional arguments but they were expected to be given as keyword arguments.\n",
      "  'n_steps': trial.suggest_int('n_steps', 3, 10, 1),\n"
     ]
    },
    {
     "name": "stdout",
     "output_type": "stream",
     "text": [
      "Stop training because you reached max_epochs = 35 with best_epoch = 31 and best_val_auc = 0.741\n"
     ]
    },
    {
     "name": "stderr",
     "output_type": "stream",
     "text": [
      "/opt/anaconda3/lib/python3.11/site-packages/pytorch_tabnet/callbacks.py:172: UserWarning: Best weights from best epoch are automatically used!\n",
      "  warnings.warn(wrn_msg)\n",
      "[I 2024-11-18 11:37:33,496] Trial 141 finished with value: 0.7842417683438575 and parameters: {'n_a_d': 64, 'n_steps': 10, 'gamma': 0.01, 'lambda': 0.01, 'batch_size': 4096, 'virtual_batch_size': 2028, 'lr': 0.02, 'gamma_decay': 0.95, 'mask_type': 'sparsemax', 'batch_momentum': 0.8}. Best is trial 134 with value: 0.8003872482245278.\n",
      "<ipython-input-6-28ed69af07b4>:5: FutureWarning: suggest_int() got {'step'} as positional arguments but they were expected to be given as keyword arguments.\n",
      "  'n_steps': trial.suggest_int('n_steps', 3, 10, 1),\n"
     ]
    },
    {
     "name": "stdout",
     "output_type": "stream",
     "text": [
      "\n",
      "Early stopping occurred at epoch 31 with best_epoch = 26 and best_val_auc = 0.76452\n"
     ]
    },
    {
     "name": "stderr",
     "output_type": "stream",
     "text": [
      "/opt/anaconda3/lib/python3.11/site-packages/pytorch_tabnet/callbacks.py:172: UserWarning: Best weights from best epoch are automatically used!\n",
      "  warnings.warn(wrn_msg)\n",
      "[I 2024-11-18 11:38:07,395] Trial 142 finished with value: 0.7867795720050206 and parameters: {'n_a_d': 32, 'n_steps': 7, 'gamma': 0.01, 'lambda': 1e-06, 'batch_size': 1024, 'virtual_batch_size': 256, 'lr': 0.04, 'gamma_decay': 0.95, 'mask_type': 'sparsemax', 'batch_momentum': 0.8}. Best is trial 134 with value: 0.8003872482245278.\n",
      "<ipython-input-6-28ed69af07b4>:5: FutureWarning: suggest_int() got {'step'} as positional arguments but they were expected to be given as keyword arguments.\n",
      "  'n_steps': trial.suggest_int('n_steps', 3, 10, 1),\n"
     ]
    },
    {
     "name": "stdout",
     "output_type": "stream",
     "text": [
      "\n",
      "Early stopping occurred at epoch 28 with best_epoch = 23 and best_val_auc = 0.73646\n"
     ]
    },
    {
     "name": "stderr",
     "output_type": "stream",
     "text": [
      "/opt/anaconda3/lib/python3.11/site-packages/pytorch_tabnet/callbacks.py:172: UserWarning: Best weights from best epoch are automatically used!\n",
      "  warnings.warn(wrn_msg)\n",
      "[I 2024-11-18 11:38:23,971] Trial 143 finished with value: 0.7829094678841247 and parameters: {'n_a_d': 8, 'n_steps': 10, 'gamma': 0.01, 'lambda': 0.001, 'batch_size': 2048, 'virtual_batch_size': 512, 'lr': 0.04, 'gamma_decay': 0.9, 'mask_type': 'entmax', 'batch_momentum': 0.95}. Best is trial 134 with value: 0.8003872482245278.\n",
      "<ipython-input-6-28ed69af07b4>:5: FutureWarning: suggest_int() got {'step'} as positional arguments but they were expected to be given as keyword arguments.\n",
      "  'n_steps': trial.suggest_int('n_steps', 3, 10, 1),\n"
     ]
    },
    {
     "name": "stdout",
     "output_type": "stream",
     "text": [
      "\n",
      "Early stopping occurred at epoch 17 with best_epoch = 12 and best_val_auc = 0.69881\n"
     ]
    },
    {
     "name": "stderr",
     "output_type": "stream",
     "text": [
      "/opt/anaconda3/lib/python3.11/site-packages/pytorch_tabnet/callbacks.py:172: UserWarning: Best weights from best epoch are automatically used!\n",
      "  warnings.warn(wrn_msg)\n",
      "[I 2024-11-18 11:38:43,378] Trial 144 finished with value: 0.7638745916731736 and parameters: {'n_a_d': 64, 'n_steps': 7, 'gamma': 0.01, 'lambda': 0.001, 'batch_size': 2048, 'virtual_batch_size': 1024, 'lr': 0.005, 'gamma_decay': 0.9, 'mask_type': 'entmax', 'batch_momentum': 0.95}. Best is trial 134 with value: 0.8003872482245278.\n",
      "<ipython-input-6-28ed69af07b4>:5: FutureWarning: suggest_int() got {'step'} as positional arguments but they were expected to be given as keyword arguments.\n",
      "  'n_steps': trial.suggest_int('n_steps', 3, 10, 1),\n"
     ]
    },
    {
     "name": "stdout",
     "output_type": "stream",
     "text": [
      "\n",
      "Early stopping occurred at epoch 8 with best_epoch = 3 and best_val_auc = 0.64048\n"
     ]
    },
    {
     "name": "stderr",
     "output_type": "stream",
     "text": [
      "/opt/anaconda3/lib/python3.11/site-packages/pytorch_tabnet/callbacks.py:172: UserWarning: Best weights from best epoch are automatically used!\n",
      "  warnings.warn(wrn_msg)\n",
      "[I 2024-11-18 11:38:50,083] Trial 145 finished with value: 0.7614061823146457 and parameters: {'n_a_d': 24, 'n_steps': 10, 'gamma': 0.8, 'lambda': 1e-06, 'batch_size': 2048, 'virtual_batch_size': 2028, 'lr': 0.05, 'gamma_decay': 0.95, 'mask_type': 'sparsemax', 'batch_momentum': 0.7}. Best is trial 134 with value: 0.8003872482245278.\n",
      "<ipython-input-6-28ed69af07b4>:5: FutureWarning: suggest_int() got {'step'} as positional arguments but they were expected to be given as keyword arguments.\n",
      "  'n_steps': trial.suggest_int('n_steps', 3, 10, 1),\n"
     ]
    },
    {
     "name": "stdout",
     "output_type": "stream",
     "text": [
      "\n",
      "Early stopping occurred at epoch 18 with best_epoch = 13 and best_val_auc = 0.74034\n"
     ]
    },
    {
     "name": "stderr",
     "output_type": "stream",
     "text": [
      "/opt/anaconda3/lib/python3.11/site-packages/pytorch_tabnet/callbacks.py:172: UserWarning: Best weights from best epoch are automatically used!\n",
      "  warnings.warn(wrn_msg)\n",
      "[I 2024-11-18 11:39:59,571] Trial 146 finished with value: 0.7708265972719912 and parameters: {'n_a_d': 256, 'n_steps': 10, 'gamma': 0.01, 'lambda': 0.001, 'batch_size': 1024, 'virtual_batch_size': 2028, 'lr': 0.01, 'gamma_decay': 0.8, 'mask_type': 'entmax', 'batch_momentum': 0.8}. Best is trial 134 with value: 0.8003872482245278.\n",
      "<ipython-input-6-28ed69af07b4>:5: FutureWarning: suggest_int() got {'step'} as positional arguments but they were expected to be given as keyword arguments.\n",
      "  'n_steps': trial.suggest_int('n_steps', 3, 10, 1),\n"
     ]
    },
    {
     "name": "stdout",
     "output_type": "stream",
     "text": [
      "\n",
      "Early stopping occurred at epoch 27 with best_epoch = 22 and best_val_auc = 0.73798\n"
     ]
    },
    {
     "name": "stderr",
     "output_type": "stream",
     "text": [
      "/opt/anaconda3/lib/python3.11/site-packages/pytorch_tabnet/callbacks.py:172: UserWarning: Best weights from best epoch are automatically used!\n",
      "  warnings.warn(wrn_msg)\n",
      "[I 2024-11-18 11:40:19,051] Trial 147 finished with value: 0.769980367655406 and parameters: {'n_a_d': 24, 'n_steps': 10, 'gamma': 0.05, 'lambda': 0.01, 'batch_size': 2048, 'virtual_batch_size': 1024, 'lr': 0.05, 'gamma_decay': 0.95, 'mask_type': 'sparsemax', 'batch_momentum': 0.8}. Best is trial 134 with value: 0.8003872482245278.\n",
      "<ipython-input-6-28ed69af07b4>:5: FutureWarning: suggest_int() got {'step'} as positional arguments but they were expected to be given as keyword arguments.\n",
      "  'n_steps': trial.suggest_int('n_steps', 3, 10, 1),\n"
     ]
    },
    {
     "name": "stdout",
     "output_type": "stream",
     "text": [
      "\n",
      "Early stopping occurred at epoch 34 with best_epoch = 29 and best_val_auc = 0.75523\n"
     ]
    },
    {
     "name": "stderr",
     "output_type": "stream",
     "text": [
      "/opt/anaconda3/lib/python3.11/site-packages/pytorch_tabnet/callbacks.py:172: UserWarning: Best weights from best epoch are automatically used!\n",
      "  warnings.warn(wrn_msg)\n",
      "[I 2024-11-18 11:40:44,167] Trial 148 finished with value: 0.7865047783592393 and parameters: {'n_a_d': 24, 'n_steps': 8, 'gamma': 0.01, 'lambda': 0.0001, 'batch_size': 2048, 'virtual_batch_size': 2028, 'lr': 0.05, 'gamma_decay': 0.95, 'mask_type': 'sparsemax', 'batch_momentum': 0.98}. Best is trial 134 with value: 0.8003872482245278.\n",
      "<ipython-input-6-28ed69af07b4>:5: FutureWarning: suggest_int() got {'step'} as positional arguments but they were expected to be given as keyword arguments.\n",
      "  'n_steps': trial.suggest_int('n_steps', 3, 10, 1),\n"
     ]
    },
    {
     "name": "stdout",
     "output_type": "stream",
     "text": [
      "\n",
      "Early stopping occurred at epoch 26 with best_epoch = 21 and best_val_auc = 0.73811\n"
     ]
    },
    {
     "name": "stderr",
     "output_type": "stream",
     "text": [
      "/opt/anaconda3/lib/python3.11/site-packages/pytorch_tabnet/callbacks.py:172: UserWarning: Best weights from best epoch are automatically used!\n",
      "  warnings.warn(wrn_msg)\n",
      "[I 2024-11-18 11:41:04,098] Trial 149 finished with value: 0.7848361160760855 and parameters: {'n_a_d': 32, 'n_steps': 9, 'gamma': 0.01, 'lambda': 1e-06, 'batch_size': 2048, 'virtual_batch_size': 4096, 'lr': 0.05, 'gamma_decay': 0.95, 'mask_type': 'sparsemax', 'batch_momentum': 0.8}. Best is trial 134 with value: 0.8003872482245278.\n",
      "<ipython-input-6-28ed69af07b4>:5: FutureWarning: suggest_int() got {'step'} as positional arguments but they were expected to be given as keyword arguments.\n",
      "  'n_steps': trial.suggest_int('n_steps', 3, 10, 1),\n"
     ]
    },
    {
     "name": "stdout",
     "output_type": "stream",
     "text": [
      "\n",
      "Early stopping occurred at epoch 10 with best_epoch = 5 and best_val_auc = 0.63589\n"
     ]
    },
    {
     "name": "stderr",
     "output_type": "stream",
     "text": [
      "/opt/anaconda3/lib/python3.11/site-packages/pytorch_tabnet/callbacks.py:172: UserWarning: Best weights from best epoch are automatically used!\n",
      "  warnings.warn(wrn_msg)\n",
      "[I 2024-11-18 11:41:16,049] Trial 150 finished with value: 0.7645047262041386 and parameters: {'n_a_d': 32, 'n_steps': 5, 'gamma': 0.8, 'lambda': 0.01, 'batch_size': 1024, 'virtual_batch_size': 256, 'lr': 0.04, 'gamma_decay': 0.8, 'mask_type': 'sparsemax', 'batch_momentum': 0.9}. Best is trial 134 with value: 0.8003872482245278.\n",
      "<ipython-input-6-28ed69af07b4>:5: FutureWarning: suggest_int() got {'step'} as positional arguments but they were expected to be given as keyword arguments.\n",
      "  'n_steps': trial.suggest_int('n_steps', 3, 10, 1),\n"
     ]
    },
    {
     "name": "stdout",
     "output_type": "stream",
     "text": [
      "Stop training because you reached max_epochs = 35 with best_epoch = 34 and best_val_auc = 0.75739\n"
     ]
    },
    {
     "name": "stderr",
     "output_type": "stream",
     "text": [
      "/opt/anaconda3/lib/python3.11/site-packages/pytorch_tabnet/callbacks.py:172: UserWarning: Best weights from best epoch are automatically used!\n",
      "  warnings.warn(wrn_msg)\n",
      "[I 2024-11-18 11:41:40,213] Trial 151 finished with value: 0.7924629849513201 and parameters: {'n_a_d': 24, 'n_steps': 10, 'gamma': 0.01, 'lambda': 0, 'batch_size': 2048, 'virtual_batch_size': 1024, 'lr': 0.04, 'gamma_decay': 0.95, 'mask_type': 'sparsemax', 'batch_momentum': 0.95}. Best is trial 134 with value: 0.8003872482245278.\n",
      "<ipython-input-6-28ed69af07b4>:5: FutureWarning: suggest_int() got {'step'} as positional arguments but they were expected to be given as keyword arguments.\n",
      "  'n_steps': trial.suggest_int('n_steps', 3, 10, 1),\n"
     ]
    },
    {
     "name": "stdout",
     "output_type": "stream",
     "text": [
      "\n",
      "Early stopping occurred at epoch 33 with best_epoch = 28 and best_val_auc = 0.72869\n"
     ]
    },
    {
     "name": "stderr",
     "output_type": "stream",
     "text": [
      "/opt/anaconda3/lib/python3.11/site-packages/pytorch_tabnet/callbacks.py:172: UserWarning: Best weights from best epoch are automatically used!\n",
      "  warnings.warn(wrn_msg)\n",
      "[I 2024-11-18 11:42:09,254] Trial 152 finished with value: 0.7734357792319815 and parameters: {'n_a_d': 32, 'n_steps': 8, 'gamma': 0.5, 'lambda': 1e-06, 'batch_size': 2048, 'virtual_batch_size': 256, 'lr': 0.04, 'gamma_decay': 0.8, 'mask_type': 'sparsemax', 'batch_momentum': 0.8}. Best is trial 134 with value: 0.8003872482245278.\n",
      "<ipython-input-6-28ed69af07b4>:5: FutureWarning: suggest_int() got {'step'} as positional arguments but they were expected to be given as keyword arguments.\n",
      "  'n_steps': trial.suggest_int('n_steps', 3, 10, 1),\n"
     ]
    },
    {
     "name": "stdout",
     "output_type": "stream",
     "text": [
      "\n",
      "Early stopping occurred at epoch 26 with best_epoch = 21 and best_val_auc = 0.74853\n"
     ]
    },
    {
     "name": "stderr",
     "output_type": "stream",
     "text": [
      "/opt/anaconda3/lib/python3.11/site-packages/pytorch_tabnet/callbacks.py:172: UserWarning: Best weights from best epoch are automatically used!\n",
      "  warnings.warn(wrn_msg)\n",
      "[I 2024-11-18 11:42:52,067] Trial 153 finished with value: 0.794703424514601 and parameters: {'n_a_d': 128, 'n_steps': 8, 'gamma': 0.01, 'lambda': 0.01, 'batch_size': 2048, 'virtual_batch_size': 1024, 'lr': 0.04, 'gamma_decay': 0.95, 'mask_type': 'sparsemax', 'batch_momentum': 0.95}. Best is trial 134 with value: 0.8003872482245278.\n",
      "<ipython-input-6-28ed69af07b4>:5: FutureWarning: suggest_int() got {'step'} as positional arguments but they were expected to be given as keyword arguments.\n",
      "  'n_steps': trial.suggest_int('n_steps', 3, 10, 1),\n"
     ]
    },
    {
     "name": "stdout",
     "output_type": "stream",
     "text": [
      "\n",
      "Early stopping occurred at epoch 34 with best_epoch = 29 and best_val_auc = 0.707\n"
     ]
    },
    {
     "name": "stderr",
     "output_type": "stream",
     "text": [
      "/opt/anaconda3/lib/python3.11/site-packages/pytorch_tabnet/callbacks.py:172: UserWarning: Best weights from best epoch are automatically used!\n",
      "  warnings.warn(wrn_msg)\n",
      "[I 2024-11-18 11:43:17,026] Trial 154 finished with value: 0.7713188581446911 and parameters: {'n_a_d': 24, 'n_steps': 10, 'gamma': 0.01, 'lambda': 0, 'batch_size': 2048, 'virtual_batch_size': 1024, 'lr': 0.005, 'gamma_decay': 0.95, 'mask_type': 'sparsemax', 'batch_momentum': 0.95}. Best is trial 134 with value: 0.8003872482245278.\n",
      "<ipython-input-6-28ed69af07b4>:5: FutureWarning: suggest_int() got {'step'} as positional arguments but they were expected to be given as keyword arguments.\n",
      "  'n_steps': trial.suggest_int('n_steps', 3, 10, 1),\n"
     ]
    },
    {
     "name": "stdout",
     "output_type": "stream",
     "text": [
      "\n",
      "Early stopping occurred at epoch 16 with best_epoch = 11 and best_val_auc = 0.58209\n"
     ]
    },
    {
     "name": "stderr",
     "output_type": "stream",
     "text": [
      "/opt/anaconda3/lib/python3.11/site-packages/pytorch_tabnet/callbacks.py:172: UserWarning: Best weights from best epoch are automatically used!\n",
      "  warnings.warn(wrn_msg)\n",
      "[I 2024-11-18 11:43:28,234] Trial 155 finished with value: 0.7669057702075347 and parameters: {'n_a_d': 24, 'n_steps': 10, 'gamma': 1.5, 'lambda': 0, 'batch_size': 32768, 'virtual_batch_size': 1024, 'lr': 0.04, 'gamma_decay': 0.95, 'mask_type': 'sparsemax', 'batch_momentum': 0.95}. Best is trial 134 with value: 0.8003872482245278.\n",
      "<ipython-input-6-28ed69af07b4>:5: FutureWarning: suggest_int() got {'step'} as positional arguments but they were expected to be given as keyword arguments.\n",
      "  'n_steps': trial.suggest_int('n_steps', 3, 10, 1),\n"
     ]
    },
    {
     "name": "stdout",
     "output_type": "stream",
     "text": [
      "\n",
      "Early stopping occurred at epoch 29 with best_epoch = 24 and best_val_auc = 0.77164\n"
     ]
    },
    {
     "name": "stderr",
     "output_type": "stream",
     "text": [
      "/opt/anaconda3/lib/python3.11/site-packages/pytorch_tabnet/callbacks.py:172: UserWarning: Best weights from best epoch are automatically used!\n",
      "  warnings.warn(wrn_msg)\n",
      "[I 2024-11-18 11:44:20,380] Trial 156 finished with value: 0.7914628640684456 and parameters: {'n_a_d': 128, 'n_steps': 9, 'gamma': 0.1, 'lambda': 0.001, 'batch_size': 2048, 'virtual_batch_size': 1024, 'lr': 0.04, 'gamma_decay': 0.95, 'mask_type': 'sparsemax', 'batch_momentum': 0.95}. Best is trial 134 with value: 0.8003872482245278.\n",
      "<ipython-input-6-28ed69af07b4>:5: FutureWarning: suggest_int() got {'step'} as positional arguments but they were expected to be given as keyword arguments.\n",
      "  'n_steps': trial.suggest_int('n_steps', 3, 10, 1),\n"
     ]
    },
    {
     "name": "stdout",
     "output_type": "stream",
     "text": [
      "\n",
      "Early stopping occurred at epoch 16 with best_epoch = 11 and best_val_auc = 0.71242\n"
     ]
    },
    {
     "name": "stderr",
     "output_type": "stream",
     "text": [
      "/opt/anaconda3/lib/python3.11/site-packages/pytorch_tabnet/callbacks.py:172: UserWarning: Best weights from best epoch are automatically used!\n",
      "  warnings.warn(wrn_msg)\n",
      "[I 2024-11-18 11:44:49,182] Trial 157 finished with value: 0.7659762997887473 and parameters: {'n_a_d': 128, 'n_steps': 8, 'gamma': 1.0, 'lambda': 0.01, 'batch_size': 2048, 'virtual_batch_size': 1024, 'lr': 0.04, 'gamma_decay': 0.95, 'mask_type': 'sparsemax', 'batch_momentum': 0.95}. Best is trial 134 with value: 0.8003872482245278.\n",
      "<ipython-input-6-28ed69af07b4>:5: FutureWarning: suggest_int() got {'step'} as positional arguments but they were expected to be given as keyword arguments.\n",
      "  'n_steps': trial.suggest_int('n_steps', 3, 10, 1),\n"
     ]
    },
    {
     "name": "stdout",
     "output_type": "stream",
     "text": [
      "\n",
      "Early stopping occurred at epoch 32 with best_epoch = 27 and best_val_auc = 0.74759\n"
     ]
    },
    {
     "name": "stderr",
     "output_type": "stream",
     "text": [
      "/opt/anaconda3/lib/python3.11/site-packages/pytorch_tabnet/callbacks.py:172: UserWarning: Best weights from best epoch are automatically used!\n",
      "  warnings.warn(wrn_msg)\n",
      "[I 2024-11-18 11:45:44,813] Trial 158 finished with value: 0.7824533740303887 and parameters: {'n_a_d': 128, 'n_steps': 8, 'gamma': 0.05, 'lambda': 0.001, 'batch_size': 2048, 'virtual_batch_size': 1024, 'lr': 0.01, 'gamma_decay': 0.95, 'mask_type': 'entmax', 'batch_momentum': 0.9}. Best is trial 134 with value: 0.8003872482245278.\n",
      "<ipython-input-6-28ed69af07b4>:5: FutureWarning: suggest_int() got {'step'} as positional arguments but they were expected to be given as keyword arguments.\n",
      "  'n_steps': trial.suggest_int('n_steps', 3, 10, 1),\n"
     ]
    },
    {
     "name": "stdout",
     "output_type": "stream",
     "text": [
      "\n",
      "Early stopping occurred at epoch 33 with best_epoch = 28 and best_val_auc = 0.75856\n"
     ]
    },
    {
     "name": "stderr",
     "output_type": "stream",
     "text": [
      "/opt/anaconda3/lib/python3.11/site-packages/pytorch_tabnet/callbacks.py:172: UserWarning: Best weights from best epoch are automatically used!\n",
      "  warnings.warn(wrn_msg)\n",
      "[I 2024-11-18 11:46:08,127] Trial 159 finished with value: 0.8033985960069625 and parameters: {'n_a_d': 24, 'n_steps': 10, 'gamma': 0.01, 'lambda': 0.01, 'batch_size': 2048, 'virtual_batch_size': 1024, 'lr': 0.04, 'gamma_decay': 0.95, 'mask_type': 'entmax', 'batch_momentum': 0.95}. Best is trial 159 with value: 0.8033985960069625.\n",
      "<ipython-input-6-28ed69af07b4>:5: FutureWarning: suggest_int() got {'step'} as positional arguments but they were expected to be given as keyword arguments.\n",
      "  'n_steps': trial.suggest_int('n_steps', 3, 10, 1),\n"
     ]
    },
    {
     "name": "stdout",
     "output_type": "stream",
     "text": [
      "\n",
      "Early stopping occurred at epoch 9 with best_epoch = 4 and best_val_auc = 0.58774\n"
     ]
    },
    {
     "name": "stderr",
     "output_type": "stream",
     "text": [
      "/opt/anaconda3/lib/python3.11/site-packages/pytorch_tabnet/callbacks.py:172: UserWarning: Best weights from best epoch are automatically used!\n",
      "  warnings.warn(wrn_msg)\n",
      "[I 2024-11-18 11:46:30,170] Trial 160 finished with value: 0.7673126583962041 and parameters: {'n_a_d': 128, 'n_steps': 8, 'gamma': 0.1, 'lambda': 0.001, 'batch_size': 16384, 'virtual_batch_size': 1024, 'lr': 0.04, 'gamma_decay': 0.95, 'mask_type': 'sparsemax', 'batch_momentum': 0.6}. Best is trial 159 with value: 0.8033985960069625.\n",
      "<ipython-input-6-28ed69af07b4>:5: FutureWarning: suggest_int() got {'step'} as positional arguments but they were expected to be given as keyword arguments.\n",
      "  'n_steps': trial.suggest_int('n_steps', 3, 10, 1),\n"
     ]
    },
    {
     "name": "stdout",
     "output_type": "stream",
     "text": [
      "\n",
      "Early stopping occurred at epoch 27 with best_epoch = 22 and best_val_auc = 0.7517\n"
     ]
    },
    {
     "name": "stderr",
     "output_type": "stream",
     "text": [
      "/opt/anaconda3/lib/python3.11/site-packages/pytorch_tabnet/callbacks.py:172: UserWarning: Best weights from best epoch are automatically used!\n",
      "  warnings.warn(wrn_msg)\n",
      "[I 2024-11-18 11:47:22,360] Trial 161 finished with value: 0.7753818419936018 and parameters: {'n_a_d': 128, 'n_steps': 7, 'gamma': 0.1, 'lambda': 0.001, 'batch_size': 2048, 'virtual_batch_size': 128, 'lr': 0.04, 'gamma_decay': 0.95, 'mask_type': 'sparsemax', 'batch_momentum': 0.95}. Best is trial 159 with value: 0.8033985960069625.\n",
      "<ipython-input-6-28ed69af07b4>:5: FutureWarning: suggest_int() got {'step'} as positional arguments but they were expected to be given as keyword arguments.\n",
      "  'n_steps': trial.suggest_int('n_steps', 3, 10, 1),\n"
     ]
    },
    {
     "name": "stdout",
     "output_type": "stream",
     "text": [
      "Stop training because you reached max_epochs = 35 with best_epoch = 31 and best_val_auc = 0.76732\n"
     ]
    },
    {
     "name": "stderr",
     "output_type": "stream",
     "text": [
      "/opt/anaconda3/lib/python3.11/site-packages/pytorch_tabnet/callbacks.py:172: UserWarning: Best weights from best epoch are automatically used!\n",
      "  warnings.warn(wrn_msg)\n",
      "[I 2024-11-18 11:47:45,588] Trial 162 finished with value: 0.8133091520605825 and parameters: {'n_a_d': 24, 'n_steps': 9, 'gamma': 0.01, 'lambda': 0.01, 'batch_size': 2048, 'virtual_batch_size': 1024, 'lr': 0.04, 'gamma_decay': 0.95, 'mask_type': 'entmax', 'batch_momentum': 0.95}. Best is trial 162 with value: 0.8133091520605825.\n",
      "<ipython-input-6-28ed69af07b4>:5: FutureWarning: suggest_int() got {'step'} as positional arguments but they were expected to be given as keyword arguments.\n",
      "  'n_steps': trial.suggest_int('n_steps', 3, 10, 1),\n"
     ]
    },
    {
     "name": "stdout",
     "output_type": "stream",
     "text": [
      "\n",
      "Early stopping occurred at epoch 13 with best_epoch = 8 and best_val_auc = 0.64076\n"
     ]
    },
    {
     "name": "stderr",
     "output_type": "stream",
     "text": [
      "/opt/anaconda3/lib/python3.11/site-packages/pytorch_tabnet/callbacks.py:172: UserWarning: Best weights from best epoch are automatically used!\n",
      "  warnings.warn(wrn_msg)\n",
      "[I 2024-11-18 11:47:55,476] Trial 163 finished with value: 0.7649337960496929 and parameters: {'n_a_d': 24, 'n_steps': 8, 'gamma': 0.01, 'lambda': 0.01, 'batch_size': 4096, 'virtual_batch_size': 512, 'lr': 0.04, 'gamma_decay': 0.95, 'mask_type': 'entmax', 'batch_momentum': 0.95}. Best is trial 162 with value: 0.8133091520605825.\n",
      "<ipython-input-6-28ed69af07b4>:5: FutureWarning: suggest_int() got {'step'} as positional arguments but they were expected to be given as keyword arguments.\n",
      "  'n_steps': trial.suggest_int('n_steps', 3, 10, 1),\n"
     ]
    },
    {
     "name": "stdout",
     "output_type": "stream",
     "text": [
      "Stop training because you reached max_epochs = 35 with best_epoch = 31 and best_val_auc = 0.76732\n"
     ]
    },
    {
     "name": "stderr",
     "output_type": "stream",
     "text": [
      "/opt/anaconda3/lib/python3.11/site-packages/pytorch_tabnet/callbacks.py:172: UserWarning: Best weights from best epoch are automatically used!\n",
      "  warnings.warn(wrn_msg)\n",
      "[I 2024-11-18 11:48:18,580] Trial 164 finished with value: 0.8133091520605825 and parameters: {'n_a_d': 24, 'n_steps': 9, 'gamma': 0.01, 'lambda': 0.01, 'batch_size': 2048, 'virtual_batch_size': 1024, 'lr': 0.04, 'gamma_decay': 0.95, 'mask_type': 'entmax', 'batch_momentum': 0.95}. Best is trial 162 with value: 0.8133091520605825.\n",
      "<ipython-input-6-28ed69af07b4>:5: FutureWarning: suggest_int() got {'step'} as positional arguments but they were expected to be given as keyword arguments.\n",
      "  'n_steps': trial.suggest_int('n_steps', 3, 10, 1),\n"
     ]
    },
    {
     "name": "stdout",
     "output_type": "stream",
     "text": [
      "\n",
      "Early stopping occurred at epoch 20 with best_epoch = 15 and best_val_auc = 0.69728\n"
     ]
    },
    {
     "name": "stderr",
     "output_type": "stream",
     "text": [
      "/opt/anaconda3/lib/python3.11/site-packages/pytorch_tabnet/callbacks.py:172: UserWarning: Best weights from best epoch are automatically used!\n",
      "  warnings.warn(wrn_msg)\n",
      "[I 2024-11-18 11:48:32,974] Trial 165 finished with value: 0.7707989570370413 and parameters: {'n_a_d': 24, 'n_steps': 8, 'gamma': 1.2, 'lambda': 0, 'batch_size': 2048, 'virtual_batch_size': 1024, 'lr': 0.04, 'gamma_decay': 0.95, 'mask_type': 'entmax', 'batch_momentum': 0.95}. Best is trial 162 with value: 0.8133091520605825.\n",
      "<ipython-input-6-28ed69af07b4>:5: FutureWarning: suggest_int() got {'step'} as positional arguments but they were expected to be given as keyword arguments.\n",
      "  'n_steps': trial.suggest_int('n_steps', 3, 10, 1),\n"
     ]
    },
    {
     "name": "stdout",
     "output_type": "stream",
     "text": [
      "\n",
      "Early stopping occurred at epoch 8 with best_epoch = 3 and best_val_auc = 0.58928\n"
     ]
    },
    {
     "name": "stderr",
     "output_type": "stream",
     "text": [
      "/opt/anaconda3/lib/python3.11/site-packages/pytorch_tabnet/callbacks.py:172: UserWarning: Best weights from best epoch are automatically used!\n",
      "  warnings.warn(wrn_msg)\n",
      "[I 2024-11-18 11:48:37,673] Trial 166 finished with value: 0.7653869735718609 and parameters: {'n_a_d': 8, 'n_steps': 8, 'gamma': 0.01, 'lambda': 0.01, 'batch_size': 32768, 'virtual_batch_size': 1024, 'lr': 0.04, 'gamma_decay': 0.95, 'mask_type': 'sparsemax', 'batch_momentum': 0.95}. Best is trial 162 with value: 0.8133091520605825.\n",
      "<ipython-input-6-28ed69af07b4>:5: FutureWarning: suggest_int() got {'step'} as positional arguments but they were expected to be given as keyword arguments.\n",
      "  'n_steps': trial.suggest_int('n_steps', 3, 10, 1),\n"
     ]
    },
    {
     "name": "stdout",
     "output_type": "stream",
     "text": [
      "\n",
      "Early stopping occurred at epoch 33 with best_epoch = 28 and best_val_auc = 0.75856\n"
     ]
    },
    {
     "name": "stderr",
     "output_type": "stream",
     "text": [
      "/opt/anaconda3/lib/python3.11/site-packages/pytorch_tabnet/callbacks.py:172: UserWarning: Best weights from best epoch are automatically used!\n",
      "  warnings.warn(wrn_msg)\n",
      "[I 2024-11-18 11:49:01,034] Trial 167 finished with value: 0.8033985960069625 and parameters: {'n_a_d': 24, 'n_steps': 10, 'gamma': 0.01, 'lambda': 0.01, 'batch_size': 2048, 'virtual_batch_size': 1024, 'lr': 0.04, 'gamma_decay': 0.95, 'mask_type': 'entmax', 'batch_momentum': 0.95}. Best is trial 162 with value: 0.8133091520605825.\n",
      "<ipython-input-6-28ed69af07b4>:5: FutureWarning: suggest_int() got {'step'} as positional arguments but they were expected to be given as keyword arguments.\n",
      "  'n_steps': trial.suggest_int('n_steps', 3, 10, 1),\n"
     ]
    },
    {
     "name": "stdout",
     "output_type": "stream",
     "text": [
      "\n",
      "Early stopping occurred at epoch 22 with best_epoch = 17 and best_val_auc = 0.63636\n"
     ]
    },
    {
     "name": "stderr",
     "output_type": "stream",
     "text": [
      "/opt/anaconda3/lib/python3.11/site-packages/pytorch_tabnet/callbacks.py:172: UserWarning: Best weights from best epoch are automatically used!\n",
      "  warnings.warn(wrn_msg)\n",
      "[I 2024-11-18 11:49:15,612] Trial 168 finished with value: 0.7633250743934273 and parameters: {'n_a_d': 24, 'n_steps': 9, 'gamma': 0.01, 'lambda': 0.01, 'batch_size': 16384, 'virtual_batch_size': 1024, 'lr': 0.04, 'gamma_decay': 0.95, 'mask_type': 'entmax', 'batch_momentum': 0.95}. Best is trial 162 with value: 0.8133091520605825.\n",
      "<ipython-input-6-28ed69af07b4>:5: FutureWarning: suggest_int() got {'step'} as positional arguments but they were expected to be given as keyword arguments.\n",
      "  'n_steps': trial.suggest_int('n_steps', 3, 10, 1),\n"
     ]
    },
    {
     "name": "stdout",
     "output_type": "stream",
     "text": [
      "Stop training because you reached max_epochs = 35 with best_epoch = 30 and best_val_auc = 0.74312\n"
     ]
    },
    {
     "name": "stderr",
     "output_type": "stream",
     "text": [
      "/opt/anaconda3/lib/python3.11/site-packages/pytorch_tabnet/callbacks.py:172: UserWarning: Best weights from best epoch are automatically used!\n",
      "  warnings.warn(wrn_msg)\n",
      "[I 2024-11-18 11:49:39,785] Trial 169 finished with value: 0.7755882714562063 and parameters: {'n_a_d': 24, 'n_steps': 10, 'gamma': 0.01, 'lambda': 0.01, 'batch_size': 2048, 'virtual_batch_size': 1024, 'lr': 0.04, 'gamma_decay': 0.4, 'mask_type': 'entmax', 'batch_momentum': 0.95}. Best is trial 162 with value: 0.8133091520605825.\n",
      "<ipython-input-6-28ed69af07b4>:5: FutureWarning: suggest_int() got {'step'} as positional arguments but they were expected to be given as keyword arguments.\n",
      "  'n_steps': trial.suggest_int('n_steps', 3, 10, 1),\n"
     ]
    },
    {
     "name": "stdout",
     "output_type": "stream",
     "text": [
      "Stop training because you reached max_epochs = 35 with best_epoch = 31 and best_val_auc = 0.75631\n"
     ]
    },
    {
     "name": "stderr",
     "output_type": "stream",
     "text": [
      "/opt/anaconda3/lib/python3.11/site-packages/pytorch_tabnet/callbacks.py:172: UserWarning: Best weights from best epoch are automatically used!\n",
      "  warnings.warn(wrn_msg)\n",
      "[I 2024-11-18 11:50:01,912] Trial 170 finished with value: 0.7849581656743537 and parameters: {'n_a_d': 16, 'n_steps': 10, 'gamma': 0.1, 'lambda': 1e-06, 'batch_size': 2048, 'virtual_batch_size': 1024, 'lr': 0.04, 'gamma_decay': 0.95, 'mask_type': 'sparsemax', 'batch_momentum': 0.95}. Best is trial 162 with value: 0.8133091520605825.\n",
      "<ipython-input-6-28ed69af07b4>:5: FutureWarning: suggest_int() got {'step'} as positional arguments but they were expected to be given as keyword arguments.\n",
      "  'n_steps': trial.suggest_int('n_steps', 3, 10, 1),\n"
     ]
    },
    {
     "name": "stdout",
     "output_type": "stream",
     "text": [
      "\n",
      "Early stopping occurred at epoch 17 with best_epoch = 12 and best_val_auc = 0.72312\n"
     ]
    },
    {
     "name": "stderr",
     "output_type": "stream",
     "text": [
      "/opt/anaconda3/lib/python3.11/site-packages/pytorch_tabnet/callbacks.py:172: UserWarning: Best weights from best epoch are automatically used!\n",
      "  warnings.warn(wrn_msg)\n",
      "[I 2024-11-18 11:50:14,191] Trial 171 finished with value: 0.7716277339010771 and parameters: {'n_a_d': 24, 'n_steps': 9, 'gamma': 0.01, 'lambda': 1e-05, 'batch_size': 2048, 'virtual_batch_size': 1024, 'lr': 0.04, 'gamma_decay': 0.95, 'mask_type': 'entmax', 'batch_momentum': 0.95}. Best is trial 162 with value: 0.8133091520605825.\n",
      "<ipython-input-6-28ed69af07b4>:5: FutureWarning: suggest_int() got {'step'} as positional arguments but they were expected to be given as keyword arguments.\n",
      "  'n_steps': trial.suggest_int('n_steps', 3, 10, 1),\n"
     ]
    },
    {
     "name": "stdout",
     "output_type": "stream",
     "text": [
      "Stop training because you reached max_epochs = 35 with best_epoch = 34 and best_val_auc = 0.75924\n"
     ]
    },
    {
     "name": "stderr",
     "output_type": "stream",
     "text": [
      "/opt/anaconda3/lib/python3.11/site-packages/pytorch_tabnet/callbacks.py:172: UserWarning: Best weights from best epoch are automatically used!\n",
      "  warnings.warn(wrn_msg)\n",
      "[I 2024-11-18 11:50:43,170] Trial 172 finished with value: 0.7986531144025776 and parameters: {'n_a_d': 24, 'n_steps': 9, 'gamma': 0.01, 'lambda': 0.01, 'batch_size': 2048, 'virtual_batch_size': 128, 'lr': 0.04, 'gamma_decay': 0.95, 'mask_type': 'sparsemax', 'batch_momentum': 0.95}. Best is trial 162 with value: 0.8133091520605825.\n",
      "<ipython-input-6-28ed69af07b4>:5: FutureWarning: suggest_int() got {'step'} as positional arguments but they were expected to be given as keyword arguments.\n",
      "  'n_steps': trial.suggest_int('n_steps', 3, 10, 1),\n"
     ]
    },
    {
     "name": "stdout",
     "output_type": "stream",
     "text": [
      "\n",
      "Early stopping occurred at epoch 6 with best_epoch = 1 and best_val_auc = 0.57893\n"
     ]
    },
    {
     "name": "stderr",
     "output_type": "stream",
     "text": [
      "/opt/anaconda3/lib/python3.11/site-packages/pytorch_tabnet/callbacks.py:172: UserWarning: Best weights from best epoch are automatically used!\n",
      "  warnings.warn(wrn_msg)\n",
      "[I 2024-11-18 11:50:49,773] Trial 173 finished with value: 0.7771594594926694 and parameters: {'n_a_d': 32, 'n_steps': 10, 'gamma': 1.5, 'lambda': 0.01, 'batch_size': 2048, 'virtual_batch_size': 128, 'lr': 0.04, 'gamma_decay': 0.95, 'mask_type': 'sparsemax', 'batch_momentum': 0.95}. Best is trial 162 with value: 0.8133091520605825.\n",
      "<ipython-input-6-28ed69af07b4>:5: FutureWarning: suggest_int() got {'step'} as positional arguments but they were expected to be given as keyword arguments.\n",
      "  'n_steps': trial.suggest_int('n_steps', 3, 10, 1),\n"
     ]
    },
    {
     "name": "stdout",
     "output_type": "stream",
     "text": [
      "\n",
      "Early stopping occurred at epoch 31 with best_epoch = 26 and best_val_auc = 0.73658\n"
     ]
    },
    {
     "name": "stderr",
     "output_type": "stream",
     "text": [
      "/opt/anaconda3/lib/python3.11/site-packages/pytorch_tabnet/callbacks.py:172: UserWarning: Best weights from best epoch are automatically used!\n",
      "  warnings.warn(wrn_msg)\n",
      "[I 2024-11-18 11:51:13,305] Trial 174 finished with value: 0.7781318412714037 and parameters: {'n_a_d': 32, 'n_steps': 10, 'gamma': 0.5, 'lambda': 0.01, 'batch_size': 2048, 'virtual_batch_size': 1024, 'lr': 0.04, 'gamma_decay': 0.95, 'mask_type': 'sparsemax', 'batch_momentum': 0.8}. Best is trial 162 with value: 0.8133091520605825.\n",
      "<ipython-input-6-28ed69af07b4>:5: FutureWarning: suggest_int() got {'step'} as positional arguments but they were expected to be given as keyword arguments.\n",
      "  'n_steps': trial.suggest_int('n_steps', 3, 10, 1),\n"
     ]
    },
    {
     "name": "stdout",
     "output_type": "stream",
     "text": [
      "Stop training because you reached max_epochs = 35 with best_epoch = 32 and best_val_auc = 0.76344\n"
     ]
    },
    {
     "name": "stderr",
     "output_type": "stream",
     "text": [
      "/opt/anaconda3/lib/python3.11/site-packages/pytorch_tabnet/callbacks.py:172: UserWarning: Best weights from best epoch are automatically used!\n",
      "  warnings.warn(wrn_msg)\n",
      "[I 2024-11-18 11:51:41,941] Trial 175 finished with value: 0.7720456761979918 and parameters: {'n_a_d': 24, 'n_steps': 10, 'gamma': 0.01, 'lambda': 0.01, 'batch_size': 2048, 'virtual_batch_size': 128, 'lr': 0.04, 'gamma_decay': 0.95, 'mask_type': 'sparsemax', 'batch_momentum': 0.95}. Best is trial 162 with value: 0.8133091520605825.\n",
      "<ipython-input-6-28ed69af07b4>:5: FutureWarning: suggest_int() got {'step'} as positional arguments but they were expected to be given as keyword arguments.\n",
      "  'n_steps': trial.suggest_int('n_steps', 3, 10, 1),\n"
     ]
    },
    {
     "name": "stdout",
     "output_type": "stream",
     "text": [
      "Stop training because you reached max_epochs = 35 with best_epoch = 32 and best_val_auc = 0.74682\n"
     ]
    },
    {
     "name": "stderr",
     "output_type": "stream",
     "text": [
      "/opt/anaconda3/lib/python3.11/site-packages/pytorch_tabnet/callbacks.py:172: UserWarning: Best weights from best epoch are automatically used!\n",
      "  warnings.warn(wrn_msg)\n",
      "[I 2024-11-18 11:53:47,280] Trial 176 finished with value: 0.7811189118853991 and parameters: {'n_a_d': 256, 'n_steps': 7, 'gamma': 0.01, 'lambda': 0, 'batch_size': 2048, 'virtual_batch_size': 2028, 'lr': 0.005, 'gamma_decay': 0.8, 'mask_type': 'sparsemax', 'batch_momentum': 0.8}. Best is trial 162 with value: 0.8133091520605825.\n",
      "<ipython-input-6-28ed69af07b4>:5: FutureWarning: suggest_int() got {'step'} as positional arguments but they were expected to be given as keyword arguments.\n",
      "  'n_steps': trial.suggest_int('n_steps', 3, 10, 1),\n"
     ]
    },
    {
     "name": "stdout",
     "output_type": "stream",
     "text": [
      "Stop training because you reached max_epochs = 35 with best_epoch = 31 and best_val_auc = 0.74991\n"
     ]
    },
    {
     "name": "stderr",
     "output_type": "stream",
     "text": [
      "/opt/anaconda3/lib/python3.11/site-packages/pytorch_tabnet/callbacks.py:172: UserWarning: Best weights from best epoch are automatically used!\n",
      "  warnings.warn(wrn_msg)\n",
      "[I 2024-11-18 11:54:22,727] Trial 177 finished with value: 0.7877088609507181 and parameters: {'n_a_d': 64, 'n_steps': 6, 'gamma': 0.01, 'lambda': 1e-05, 'batch_size': 4096, 'virtual_batch_size': 2028, 'lr': 0.04, 'gamma_decay': 0.95, 'mask_type': 'sparsemax', 'batch_momentum': 0.8}. Best is trial 162 with value: 0.8133091520605825.\n",
      "<ipython-input-6-28ed69af07b4>:5: FutureWarning: suggest_int() got {'step'} as positional arguments but they were expected to be given as keyword arguments.\n",
      "  'n_steps': trial.suggest_int('n_steps', 3, 10, 1),\n"
     ]
    },
    {
     "name": "stdout",
     "output_type": "stream",
     "text": [
      "\n",
      "Early stopping occurred at epoch 27 with best_epoch = 22 and best_val_auc = 0.73401\n"
     ]
    },
    {
     "name": "stderr",
     "output_type": "stream",
     "text": [
      "/opt/anaconda3/lib/python3.11/site-packages/pytorch_tabnet/callbacks.py:172: UserWarning: Best weights from best epoch are automatically used!\n",
      "  warnings.warn(wrn_msg)\n",
      "[I 2024-11-18 11:54:41,339] Trial 178 finished with value: 0.7671974482230809 and parameters: {'n_a_d': 24, 'n_steps': 10, 'gamma': 0.01, 'lambda': 0.01, 'batch_size': 2048, 'virtual_batch_size': 1024, 'lr': 0.025, 'gamma_decay': 0.95, 'mask_type': 'entmax', 'batch_momentum': 0.6}. Best is trial 162 with value: 0.8133091520605825.\n",
      "<ipython-input-6-28ed69af07b4>:5: FutureWarning: suggest_int() got {'step'} as positional arguments but they were expected to be given as keyword arguments.\n",
      "  'n_steps': trial.suggest_int('n_steps', 3, 10, 1),\n"
     ]
    },
    {
     "name": "stdout",
     "output_type": "stream",
     "text": [
      "\n",
      "Early stopping occurred at epoch 9 with best_epoch = 4 and best_val_auc = 0.64337\n"
     ]
    },
    {
     "name": "stderr",
     "output_type": "stream",
     "text": [
      "/opt/anaconda3/lib/python3.11/site-packages/pytorch_tabnet/callbacks.py:172: UserWarning: Best weights from best epoch are automatically used!\n",
      "  warnings.warn(wrn_msg)\n",
      "[I 2024-11-18 11:54:49,199] Trial 179 finished with value: 0.7640673775103388 and parameters: {'n_a_d': 24, 'n_steps': 10, 'gamma': 1.2, 'lambda': 1e-06, 'batch_size': 2048, 'virtual_batch_size': 2028, 'lr': 0.05, 'gamma_decay': 0.8, 'mask_type': 'sparsemax', 'batch_momentum': 0.8}. Best is trial 162 with value: 0.8133091520605825.\n",
      "<ipython-input-6-28ed69af07b4>:5: FutureWarning: suggest_int() got {'step'} as positional arguments but they were expected to be given as keyword arguments.\n",
      "  'n_steps': trial.suggest_int('n_steps', 3, 10, 1),\n"
     ]
    },
    {
     "name": "stdout",
     "output_type": "stream",
     "text": [
      "Stop training because you reached max_epochs = 35 with best_epoch = 31 and best_val_auc = 0.76792\n"
     ]
    },
    {
     "name": "stderr",
     "output_type": "stream",
     "text": [
      "/opt/anaconda3/lib/python3.11/site-packages/pytorch_tabnet/callbacks.py:172: UserWarning: Best weights from best epoch are automatically used!\n",
      "  warnings.warn(wrn_msg)\n",
      "[I 2024-11-18 11:55:13,290] Trial 180 finished with value: 0.8117582762024057 and parameters: {'n_a_d': 24, 'n_steps': 9, 'gamma': 0.01, 'lambda': 0.01, 'batch_size': 2048, 'virtual_batch_size': 1024, 'lr': 0.04, 'gamma_decay': 0.95, 'mask_type': 'entmax', 'batch_momentum': 0.9}. Best is trial 162 with value: 0.8133091520605825.\n",
      "<ipython-input-6-28ed69af07b4>:5: FutureWarning: suggest_int() got {'step'} as positional arguments but they were expected to be given as keyword arguments.\n",
      "  'n_steps': trial.suggest_int('n_steps', 3, 10, 1),\n"
     ]
    },
    {
     "name": "stdout",
     "output_type": "stream",
     "text": [
      "\n",
      "Early stopping occurred at epoch 20 with best_epoch = 15 and best_val_auc = 0.61517\n"
     ]
    },
    {
     "name": "stderr",
     "output_type": "stream",
     "text": [
      "/opt/anaconda3/lib/python3.11/site-packages/pytorch_tabnet/callbacks.py:172: UserWarning: Best weights from best epoch are automatically used!\n",
      "  warnings.warn(wrn_msg)\n",
      "[I 2024-11-18 11:55:27,922] Trial 181 finished with value: 0.7672421114259675 and parameters: {'n_a_d': 32, 'n_steps': 10, 'gamma': 0.01, 'lambda': 0.01, 'batch_size': 32768, 'virtual_batch_size': 1024, 'lr': 0.04, 'gamma_decay': 0.95, 'mask_type': 'entmax', 'batch_momentum': 0.9}. Best is trial 162 with value: 0.8133091520605825.\n",
      "<ipython-input-6-28ed69af07b4>:5: FutureWarning: suggest_int() got {'step'} as positional arguments but they were expected to be given as keyword arguments.\n",
      "  'n_steps': trial.suggest_int('n_steps', 3, 10, 1),\n"
     ]
    },
    {
     "name": "stdout",
     "output_type": "stream",
     "text": [
      "\n",
      "Early stopping occurred at epoch 34 with best_epoch = 29 and best_val_auc = 0.76581\n"
     ]
    },
    {
     "name": "stderr",
     "output_type": "stream",
     "text": [
      "/opt/anaconda3/lib/python3.11/site-packages/pytorch_tabnet/callbacks.py:172: UserWarning: Best weights from best epoch are automatically used!\n",
      "  warnings.warn(wrn_msg)\n",
      "[I 2024-11-18 11:55:52,406] Trial 182 finished with value: 0.7917743315725516 and parameters: {'n_a_d': 24, 'n_steps': 8, 'gamma': 0.01, 'lambda': 0.01, 'batch_size': 2048, 'virtual_batch_size': 1024, 'lr': 0.04, 'gamma_decay': 0.95, 'mask_type': 'entmax', 'batch_momentum': 0.9}. Best is trial 162 with value: 0.8133091520605825.\n",
      "<ipython-input-6-28ed69af07b4>:5: FutureWarning: suggest_int() got {'step'} as positional arguments but they were expected to be given as keyword arguments.\n",
      "  'n_steps': trial.suggest_int('n_steps', 3, 10, 1),\n"
     ]
    },
    {
     "name": "stdout",
     "output_type": "stream",
     "text": [
      "\n",
      "Early stopping occurred at epoch 31 with best_epoch = 26 and best_val_auc = 0.74543\n"
     ]
    },
    {
     "name": "stderr",
     "output_type": "stream",
     "text": [
      "/opt/anaconda3/lib/python3.11/site-packages/pytorch_tabnet/callbacks.py:172: UserWarning: Best weights from best epoch are automatically used!\n",
      "  warnings.warn(wrn_msg)\n",
      "[I 2024-11-18 11:56:17,823] Trial 183 finished with value: 0.7826509900719175 and parameters: {'n_a_d': 24, 'n_steps': 9, 'gamma': 0.01, 'lambda': 1e-06, 'batch_size': 2048, 'virtual_batch_size': 256, 'lr': 0.04, 'gamma_decay': 0.95, 'mask_type': 'entmax', 'batch_momentum': 0.9}. Best is trial 162 with value: 0.8133091520605825.\n",
      "<ipython-input-6-28ed69af07b4>:5: FutureWarning: suggest_int() got {'step'} as positional arguments but they were expected to be given as keyword arguments.\n",
      "  'n_steps': trial.suggest_int('n_steps', 3, 10, 1),\n"
     ]
    },
    {
     "name": "stdout",
     "output_type": "stream",
     "text": [
      "Stop training because you reached max_epochs = 35 with best_epoch = 32 and best_val_auc = 0.74347\n"
     ]
    },
    {
     "name": "stderr",
     "output_type": "stream",
     "text": [
      "/opt/anaconda3/lib/python3.11/site-packages/pytorch_tabnet/callbacks.py:172: UserWarning: Best weights from best epoch are automatically used!\n",
      "  warnings.warn(wrn_msg)\n",
      "[I 2024-11-18 11:56:41,145] Trial 184 finished with value: 0.7705221707967328 and parameters: {'n_a_d': 24, 'n_steps': 7, 'gamma': 0.05, 'lambda': 0.01, 'batch_size': 2048, 'virtual_batch_size': 1024, 'lr': 0.04, 'gamma_decay': 0.95, 'mask_type': 'entmax', 'batch_momentum': 0.9}. Best is trial 162 with value: 0.8133091520605825.\n",
      "<ipython-input-6-28ed69af07b4>:5: FutureWarning: suggest_int() got {'step'} as positional arguments but they were expected to be given as keyword arguments.\n",
      "  'n_steps': trial.suggest_int('n_steps', 3, 10, 1),\n"
     ]
    },
    {
     "name": "stdout",
     "output_type": "stream",
     "text": [
      "\n",
      "Early stopping occurred at epoch 11 with best_epoch = 6 and best_val_auc = 0.62607\n"
     ]
    },
    {
     "name": "stderr",
     "output_type": "stream",
     "text": [
      "/opt/anaconda3/lib/python3.11/site-packages/pytorch_tabnet/callbacks.py:172: UserWarning: Best weights from best epoch are automatically used!\n",
      "  warnings.warn(wrn_msg)\n",
      "[I 2024-11-18 11:56:51,903] Trial 185 finished with value: 0.76247685911469 and parameters: {'n_a_d': 24, 'n_steps': 10, 'gamma': 0.01, 'lambda': 1e-05, 'batch_size': 2048, 'virtual_batch_size': 128, 'lr': 0.02, 'gamma_decay': 0.95, 'mask_type': 'sparsemax', 'batch_momentum': 0.8}. Best is trial 162 with value: 0.8133091520605825.\n",
      "<ipython-input-6-28ed69af07b4>:5: FutureWarning: suggest_int() got {'step'} as positional arguments but they were expected to be given as keyword arguments.\n",
      "  'n_steps': trial.suggest_int('n_steps', 3, 10, 1),\n"
     ]
    },
    {
     "name": "stdout",
     "output_type": "stream",
     "text": [
      "Stop training because you reached max_epochs = 35 with best_epoch = 30 and best_val_auc = 0.76817\n"
     ]
    },
    {
     "name": "stderr",
     "output_type": "stream",
     "text": [
      "/opt/anaconda3/lib/python3.11/site-packages/pytorch_tabnet/callbacks.py:172: UserWarning: Best weights from best epoch are automatically used!\n",
      "  warnings.warn(wrn_msg)\n",
      "[I 2024-11-18 11:57:50,768] Trial 186 finished with value: 0.7934961249449163 and parameters: {'n_a_d': 128, 'n_steps': 8, 'gamma': 0.01, 'lambda': 0.01, 'batch_size': 2048, 'virtual_batch_size': 4096, 'lr': 0.04, 'gamma_decay': 0.95, 'mask_type': 'entmax', 'batch_momentum': 0.9}. Best is trial 162 with value: 0.8133091520605825.\n",
      "<ipython-input-6-28ed69af07b4>:5: FutureWarning: suggest_int() got {'step'} as positional arguments but they were expected to be given as keyword arguments.\n",
      "  'n_steps': trial.suggest_int('n_steps', 3, 10, 1),\n"
     ]
    },
    {
     "name": "stdout",
     "output_type": "stream",
     "text": [
      "\n",
      "Early stopping occurred at epoch 9 with best_epoch = 4 and best_val_auc = 0.64678\n"
     ]
    },
    {
     "name": "stderr",
     "output_type": "stream",
     "text": [
      "/opt/anaconda3/lib/python3.11/site-packages/pytorch_tabnet/callbacks.py:172: UserWarning: Best weights from best epoch are automatically used!\n",
      "  warnings.warn(wrn_msg)\n",
      "[I 2024-11-18 11:57:57,175] Trial 187 finished with value: 0.7666429002084229 and parameters: {'n_a_d': 16, 'n_steps': 8, 'gamma': 0.01, 'lambda': 0.001, 'batch_size': 2048, 'virtual_batch_size': 2028, 'lr': 0.05, 'gamma_decay': 0.8, 'mask_type': 'entmax', 'batch_momentum': 0.8}. Best is trial 162 with value: 0.8133091520605825.\n",
      "<ipython-input-6-28ed69af07b4>:5: FutureWarning: suggest_int() got {'step'} as positional arguments but they were expected to be given as keyword arguments.\n",
      "  'n_steps': trial.suggest_int('n_steps', 3, 10, 1),\n"
     ]
    },
    {
     "name": "stdout",
     "output_type": "stream",
     "text": [
      "\n",
      "Early stopping occurred at epoch 25 with best_epoch = 20 and best_val_auc = 0.72593\n"
     ]
    },
    {
     "name": "stderr",
     "output_type": "stream",
     "text": [
      "/opt/anaconda3/lib/python3.11/site-packages/pytorch_tabnet/callbacks.py:172: UserWarning: Best weights from best epoch are automatically used!\n",
      "  warnings.warn(wrn_msg)\n",
      "[I 2024-11-18 11:58:15,764] Trial 188 finished with value: 0.7741542845591342 and parameters: {'n_a_d': 16, 'n_steps': 9, 'gamma': 0.01, 'lambda': 0, 'batch_size': 2048, 'virtual_batch_size': 512, 'lr': 0.04, 'gamma_decay': 0.8, 'mask_type': 'sparsemax', 'batch_momentum': 0.8}. Best is trial 162 with value: 0.8133091520605825.\n",
      "<ipython-input-6-28ed69af07b4>:5: FutureWarning: suggest_int() got {'step'} as positional arguments but they were expected to be given as keyword arguments.\n",
      "  'n_steps': trial.suggest_int('n_steps', 3, 10, 1),\n"
     ]
    },
    {
     "name": "stdout",
     "output_type": "stream",
     "text": [
      "\n",
      "Early stopping occurred at epoch 33 with best_epoch = 28 and best_val_auc = 0.76104\n"
     ]
    },
    {
     "name": "stderr",
     "output_type": "stream",
     "text": [
      "/opt/anaconda3/lib/python3.11/site-packages/pytorch_tabnet/callbacks.py:172: UserWarning: Best weights from best epoch are automatically used!\n",
      "  warnings.warn(wrn_msg)\n",
      "[I 2024-11-18 11:59:13,285] Trial 189 finished with value: 0.7880692269758616 and parameters: {'n_a_d': 128, 'n_steps': 6, 'gamma': 0.01, 'lambda': 0.01, 'batch_size': 2048, 'virtual_batch_size': 4096, 'lr': 0.04, 'gamma_decay': 0.95, 'mask_type': 'entmax', 'batch_momentum': 0.98}. Best is trial 162 with value: 0.8133091520605825.\n",
      "<ipython-input-6-28ed69af07b4>:5: FutureWarning: suggest_int() got {'step'} as positional arguments but they were expected to be given as keyword arguments.\n",
      "  'n_steps': trial.suggest_int('n_steps', 3, 10, 1),\n"
     ]
    },
    {
     "name": "stdout",
     "output_type": "stream",
     "text": [
      "\n",
      "Early stopping occurred at epoch 21 with best_epoch = 16 and best_val_auc = 0.75309\n"
     ]
    },
    {
     "name": "stderr",
     "output_type": "stream",
     "text": [
      "/opt/anaconda3/lib/python3.11/site-packages/pytorch_tabnet/callbacks.py:172: UserWarning: Best weights from best epoch are automatically used!\n",
      "  warnings.warn(wrn_msg)\n",
      "[I 2024-11-18 11:59:50,145] Trial 190 finished with value: 0.7835357134595129 and parameters: {'n_a_d': 128, 'n_steps': 8, 'gamma': 0.01, 'lambda': 1e-05, 'batch_size': 2048, 'virtual_batch_size': 4096, 'lr': 0.04, 'gamma_decay': 0.95, 'mask_type': 'entmax', 'batch_momentum': 0.9}. Best is trial 162 with value: 0.8133091520605825.\n",
      "<ipython-input-6-28ed69af07b4>:5: FutureWarning: suggest_int() got {'step'} as positional arguments but they were expected to be given as keyword arguments.\n",
      "  'n_steps': trial.suggest_int('n_steps', 3, 10, 1),\n"
     ]
    },
    {
     "name": "stdout",
     "output_type": "stream",
     "text": [
      "\n",
      "Early stopping occurred at epoch 25 with best_epoch = 20 and best_val_auc = 0.74247\n"
     ]
    },
    {
     "name": "stderr",
     "output_type": "stream",
     "text": [
      "/opt/anaconda3/lib/python3.11/site-packages/pytorch_tabnet/callbacks.py:172: UserWarning: Best weights from best epoch are automatically used!\n",
      "  warnings.warn(wrn_msg)\n",
      "[I 2024-11-18 12:01:24,064] Trial 191 finished with value: 0.7833116445275196 and parameters: {'n_a_d': 256, 'n_steps': 9, 'gamma': 0.01, 'lambda': 0, 'batch_size': 2048, 'virtual_batch_size': 1024, 'lr': 0.04, 'gamma_decay': 0.95, 'mask_type': 'sparsemax', 'batch_momentum': 0.95}. Best is trial 162 with value: 0.8133091520605825.\n",
      "<ipython-input-6-28ed69af07b4>:5: FutureWarning: suggest_int() got {'step'} as positional arguments but they were expected to be given as keyword arguments.\n",
      "  'n_steps': trial.suggest_int('n_steps', 3, 10, 1),\n"
     ]
    },
    {
     "name": "stdout",
     "output_type": "stream",
     "text": [
      "Stop training because you reached max_epochs = 35 with best_epoch = 31 and best_val_auc = 0.76002\n"
     ]
    },
    {
     "name": "stderr",
     "output_type": "stream",
     "text": [
      "/opt/anaconda3/lib/python3.11/site-packages/pytorch_tabnet/callbacks.py:172: UserWarning: Best weights from best epoch are automatically used!\n",
      "  warnings.warn(wrn_msg)\n",
      "[I 2024-11-18 12:03:29,672] Trial 192 finished with value: 0.7841104402369469 and parameters: {'n_a_d': 256, 'n_steps': 10, 'gamma': 1.5, 'lambda': 0.01, 'batch_size': 2048, 'virtual_batch_size': 1024, 'lr': 0.04, 'gamma_decay': 0.95, 'mask_type': 'entmax', 'batch_momentum': 0.95}. Best is trial 162 with value: 0.8133091520605825.\n",
      "<ipython-input-6-28ed69af07b4>:5: FutureWarning: suggest_int() got {'step'} as positional arguments but they were expected to be given as keyword arguments.\n",
      "  'n_steps': trial.suggest_int('n_steps', 3, 10, 1),\n"
     ]
    },
    {
     "name": "stdout",
     "output_type": "stream",
     "text": [
      "\n",
      "Early stopping occurred at epoch 7 with best_epoch = 2 and best_val_auc = 0.59231\n"
     ]
    },
    {
     "name": "stderr",
     "output_type": "stream",
     "text": [
      "/opt/anaconda3/lib/python3.11/site-packages/pytorch_tabnet/callbacks.py:172: UserWarning: Best weights from best epoch are automatically used!\n",
      "  warnings.warn(wrn_msg)\n",
      "[I 2024-11-18 12:03:35,987] Trial 193 finished with value: 0.7650420176606547 and parameters: {'n_a_d': 24, 'n_steps': 10, 'gamma': 0.01, 'lambda': 0.01, 'batch_size': 2048, 'virtual_batch_size': 2028, 'lr': 0.04, 'gamma_decay': 0.95, 'mask_type': 'sparsemax', 'batch_momentum': 0.8}. Best is trial 162 with value: 0.8133091520605825.\n",
      "<ipython-input-6-28ed69af07b4>:5: FutureWarning: suggest_int() got {'step'} as positional arguments but they were expected to be given as keyword arguments.\n",
      "  'n_steps': trial.suggest_int('n_steps', 3, 10, 1),\n"
     ]
    },
    {
     "name": "stdout",
     "output_type": "stream",
     "text": [
      "\n",
      "Early stopping occurred at epoch 30 with best_epoch = 25 and best_val_auc = 0.74852\n"
     ]
    },
    {
     "name": "stderr",
     "output_type": "stream",
     "text": [
      "/opt/anaconda3/lib/python3.11/site-packages/pytorch_tabnet/callbacks.py:172: UserWarning: Best weights from best epoch are automatically used!\n",
      "  warnings.warn(wrn_msg)\n",
      "[I 2024-11-18 12:05:30,261] Trial 194 finished with value: 0.7815485640091359 and parameters: {'n_a_d': 256, 'n_steps': 8, 'gamma': 1.0, 'lambda': 0.001, 'batch_size': 2048, 'virtual_batch_size': 2028, 'lr': 0.025, 'gamma_decay': 0.8, 'mask_type': 'entmax', 'batch_momentum': 0.8}. Best is trial 162 with value: 0.8133091520605825.\n",
      "<ipython-input-6-28ed69af07b4>:5: FutureWarning: suggest_int() got {'step'} as positional arguments but they were expected to be given as keyword arguments.\n",
      "  'n_steps': trial.suggest_int('n_steps', 3, 10, 1),\n"
     ]
    },
    {
     "name": "stdout",
     "output_type": "stream",
     "text": [
      "\n",
      "Early stopping occurred at epoch 23 with best_epoch = 18 and best_val_auc = 0.76558\n"
     ]
    },
    {
     "name": "stderr",
     "output_type": "stream",
     "text": [
      "/opt/anaconda3/lib/python3.11/site-packages/pytorch_tabnet/callbacks.py:172: UserWarning: Best weights from best epoch are automatically used!\n",
      "  warnings.warn(wrn_msg)\n",
      "[I 2024-11-18 12:06:16,376] Trial 195 finished with value: 0.765154800808753 and parameters: {'n_a_d': 128, 'n_steps': 9, 'gamma': 0.1, 'lambda': 0.001, 'batch_size': 1024, 'virtual_batch_size': 1024, 'lr': 0.05, 'gamma_decay': 0.95, 'mask_type': 'sparsemax', 'batch_momentum': 0.95}. Best is trial 162 with value: 0.8133091520605825.\n",
      "<ipython-input-6-28ed69af07b4>:5: FutureWarning: suggest_int() got {'step'} as positional arguments but they were expected to be given as keyword arguments.\n",
      "  'n_steps': trial.suggest_int('n_steps', 3, 10, 1),\n"
     ]
    },
    {
     "name": "stdout",
     "output_type": "stream",
     "text": [
      "Stop training because you reached max_epochs = 35 with best_epoch = 32 and best_val_auc = 0.75583\n"
     ]
    },
    {
     "name": "stderr",
     "output_type": "stream",
     "text": [
      "/opt/anaconda3/lib/python3.11/site-packages/pytorch_tabnet/callbacks.py:172: UserWarning: Best weights from best epoch are automatically used!\n",
      "  warnings.warn(wrn_msg)\n",
      "[I 2024-11-18 12:06:37,141] Trial 196 finished with value: 0.7968381637126842 and parameters: {'n_a_d': 16, 'n_steps': 8, 'gamma': 0.01, 'lambda': 0.01, 'batch_size': 2048, 'virtual_batch_size': 1024, 'lr': 0.04, 'gamma_decay': 0.95, 'mask_type': 'entmax', 'batch_momentum': 0.95}. Best is trial 162 with value: 0.8133091520605825.\n",
      "<ipython-input-6-28ed69af07b4>:5: FutureWarning: suggest_int() got {'step'} as positional arguments but they were expected to be given as keyword arguments.\n",
      "  'n_steps': trial.suggest_int('n_steps', 3, 10, 1),\n"
     ]
    },
    {
     "name": "stdout",
     "output_type": "stream",
     "text": [
      "\n",
      "Early stopping occurred at epoch 26 with best_epoch = 21 and best_val_auc = 0.7661\n"
     ]
    },
    {
     "name": "stderr",
     "output_type": "stream",
     "text": [
      "/opt/anaconda3/lib/python3.11/site-packages/pytorch_tabnet/callbacks.py:172: UserWarning: Best weights from best epoch are automatically used!\n",
      "  warnings.warn(wrn_msg)\n",
      "[I 2024-11-18 12:07:22,549] Trial 197 finished with value: 0.7864062647365618 and parameters: {'n_a_d': 128, 'n_steps': 10, 'gamma': 0.01, 'lambda': 0.01, 'batch_size': 2048, 'virtual_batch_size': 1024, 'lr': 0.05, 'gamma_decay': 0.95, 'mask_type': 'entmax', 'batch_momentum': 0.95}. Best is trial 162 with value: 0.8133091520605825.\n",
      "<ipython-input-6-28ed69af07b4>:5: FutureWarning: suggest_int() got {'step'} as positional arguments but they were expected to be given as keyword arguments.\n",
      "  'n_steps': trial.suggest_int('n_steps', 3, 10, 1),\n"
     ]
    },
    {
     "name": "stdout",
     "output_type": "stream",
     "text": [
      "\n",
      "Early stopping occurred at epoch 5 with best_epoch = 0 and best_val_auc = 0.53644\n"
     ]
    },
    {
     "name": "stderr",
     "output_type": "stream",
     "text": [
      "/opt/anaconda3/lib/python3.11/site-packages/pytorch_tabnet/callbacks.py:172: UserWarning: Best weights from best epoch are automatically used!\n",
      "  warnings.warn(wrn_msg)\n",
      "[I 2024-11-18 12:07:26,469] Trial 198 finished with value: 0.7759146427136444 and parameters: {'n_a_d': 16, 'n_steps': 9, 'gamma': 0.8, 'lambda': 0.01, 'batch_size': 32768, 'virtual_batch_size': 1024, 'lr': 0.04, 'gamma_decay': 0.95, 'mask_type': 'entmax', 'batch_momentum': 0.95}. Best is trial 162 with value: 0.8133091520605825.\n",
      "<ipython-input-6-28ed69af07b4>:5: FutureWarning: suggest_int() got {'step'} as positional arguments but they were expected to be given as keyword arguments.\n",
      "  'n_steps': trial.suggest_int('n_steps', 3, 10, 1),\n"
     ]
    },
    {
     "name": "stdout",
     "output_type": "stream",
     "text": [
      "Stop training because you reached max_epochs = 35 with best_epoch = 31 and best_val_auc = 0.76425\n"
     ]
    },
    {
     "name": "stderr",
     "output_type": "stream",
     "text": [
      "/opt/anaconda3/lib/python3.11/site-packages/pytorch_tabnet/callbacks.py:172: UserWarning: Best weights from best epoch are automatically used!\n",
      "  warnings.warn(wrn_msg)\n",
      "[I 2024-11-18 12:07:55,531] Trial 199 finished with value: 0.7896075243706949 and parameters: {'n_a_d': 32, 'n_steps': 7, 'gamma': 0.01, 'lambda': 0.0001, 'batch_size': 2048, 'virtual_batch_size': 2028, 'lr': 0.04, 'gamma_decay': 0.8, 'mask_type': 'sparsemax', 'batch_momentum': 0.8}. Best is trial 162 with value: 0.8133091520605825.\n",
      "<ipython-input-6-28ed69af07b4>:5: FutureWarning: suggest_int() got {'step'} as positional arguments but they were expected to be given as keyword arguments.\n",
      "  'n_steps': trial.suggest_int('n_steps', 3, 10, 1),\n"
     ]
    },
    {
     "name": "stdout",
     "output_type": "stream",
     "text": [
      "Stop training because you reached max_epochs = 35 with best_epoch = 33 and best_val_auc = 0.73775\n"
     ]
    },
    {
     "name": "stderr",
     "output_type": "stream",
     "text": [
      "/opt/anaconda3/lib/python3.11/site-packages/pytorch_tabnet/callbacks.py:172: UserWarning: Best weights from best epoch are automatically used!\n",
      "  warnings.warn(wrn_msg)\n",
      "[I 2024-11-18 12:08:19,956] Trial 200 finished with value: 0.7870299034152282 and parameters: {'n_a_d': 24, 'n_steps': 6, 'gamma': 0.01, 'lambda': 0.01, 'batch_size': 2048, 'virtual_batch_size': 1024, 'lr': 0.02, 'gamma_decay': 0.95, 'mask_type': 'entmax', 'batch_momentum': 0.7}. Best is trial 162 with value: 0.8133091520605825.\n",
      "<ipython-input-6-28ed69af07b4>:5: FutureWarning: suggest_int() got {'step'} as positional arguments but they were expected to be given as keyword arguments.\n",
      "  'n_steps': trial.suggest_int('n_steps', 3, 10, 1),\n"
     ]
    },
    {
     "name": "stdout",
     "output_type": "stream",
     "text": [
      "Stop training because you reached max_epochs = 35 with best_epoch = 32 and best_val_auc = 0.71414\n"
     ]
    },
    {
     "name": "stderr",
     "output_type": "stream",
     "text": [
      "/opt/anaconda3/lib/python3.11/site-packages/pytorch_tabnet/callbacks.py:172: UserWarning: Best weights from best epoch are automatically used!\n",
      "  warnings.warn(wrn_msg)\n",
      "[I 2024-11-18 12:08:48,032] Trial 201 finished with value: 0.7709818271627961 and parameters: {'n_a_d': 24, 'n_steps': 10, 'gamma': 0.8, 'lambda': 0, 'batch_size': 2048, 'virtual_batch_size': 256, 'lr': 0.04, 'gamma_decay': 0.95, 'mask_type': 'sparsemax', 'batch_momentum': 0.95}. Best is trial 162 with value: 0.8133091520605825.\n",
      "<ipython-input-6-28ed69af07b4>:5: FutureWarning: suggest_int() got {'step'} as positional arguments but they were expected to be given as keyword arguments.\n",
      "  'n_steps': trial.suggest_int('n_steps', 3, 10, 1),\n"
     ]
    },
    {
     "name": "stdout",
     "output_type": "stream",
     "text": [
      "\n",
      "Early stopping occurred at epoch 30 with best_epoch = 25 and best_val_auc = 0.7371\n"
     ]
    },
    {
     "name": "stderr",
     "output_type": "stream",
     "text": [
      "/opt/anaconda3/lib/python3.11/site-packages/pytorch_tabnet/callbacks.py:172: UserWarning: Best weights from best epoch are automatically used!\n",
      "  warnings.warn(wrn_msg)\n",
      "[I 2024-11-18 12:09:21,725] Trial 202 finished with value: 0.7834709245099486 and parameters: {'n_a_d': 64, 'n_steps': 8, 'gamma': 0.1, 'lambda': 0.001, 'batch_size': 2048, 'virtual_batch_size': 1024, 'lr': 0.04, 'gamma_decay': 0.95, 'mask_type': 'sparsemax', 'batch_momentum': 0.7}. Best is trial 162 with value: 0.8133091520605825.\n",
      "<ipython-input-6-28ed69af07b4>:5: FutureWarning: suggest_int() got {'step'} as positional arguments but they were expected to be given as keyword arguments.\n",
      "  'n_steps': trial.suggest_int('n_steps', 3, 10, 1),\n"
     ]
    },
    {
     "name": "stdout",
     "output_type": "stream",
     "text": [
      "Stop training because you reached max_epochs = 35 with best_epoch = 34 and best_val_auc = 0.75534\n"
     ]
    },
    {
     "name": "stderr",
     "output_type": "stream",
     "text": [
      "/opt/anaconda3/lib/python3.11/site-packages/pytorch_tabnet/callbacks.py:172: UserWarning: Best weights from best epoch are automatically used!\n",
      "  warnings.warn(wrn_msg)\n",
      "[I 2024-11-18 12:09:43,104] Trial 203 finished with value: 0.7763875669892615 and parameters: {'n_a_d': 16, 'n_steps': 10, 'gamma': 0.01, 'lambda': 0.01, 'batch_size': 2048, 'virtual_batch_size': 1024, 'lr': 0.04, 'gamma_decay': 0.95, 'mask_type': 'entmax', 'batch_momentum': 0.95}. Best is trial 162 with value: 0.8133091520605825.\n",
      "<ipython-input-6-28ed69af07b4>:5: FutureWarning: suggest_int() got {'step'} as positional arguments but they were expected to be given as keyword arguments.\n",
      "  'n_steps': trial.suggest_int('n_steps', 3, 10, 1),\n"
     ]
    },
    {
     "name": "stdout",
     "output_type": "stream",
     "text": [
      "\n",
      "Early stopping occurred at epoch 8 with best_epoch = 3 and best_val_auc = 0.58363\n"
     ]
    },
    {
     "name": "stderr",
     "output_type": "stream",
     "text": [
      "/opt/anaconda3/lib/python3.11/site-packages/pytorch_tabnet/callbacks.py:172: UserWarning: Best weights from best epoch are automatically used!\n",
      "  warnings.warn(wrn_msg)\n",
      "[I 2024-11-18 12:09:48,909] Trial 204 finished with value: 0.7644864711249687 and parameters: {'n_a_d': 24, 'n_steps': 10, 'gamma': 0.01, 'lambda': 0.01, 'batch_size': 8192, 'virtual_batch_size': 2028, 'lr': 0.02, 'gamma_decay': 0.95, 'mask_type': 'sparsemax', 'batch_momentum': 0.98}. Best is trial 162 with value: 0.8133091520605825.\n",
      "<ipython-input-6-28ed69af07b4>:5: FutureWarning: suggest_int() got {'step'} as positional arguments but they were expected to be given as keyword arguments.\n",
      "  'n_steps': trial.suggest_int('n_steps', 3, 10, 1),\n"
     ]
    },
    {
     "name": "stdout",
     "output_type": "stream",
     "text": [
      "\n",
      "Early stopping occurred at epoch 32 with best_epoch = 27 and best_val_auc = 0.7681\n"
     ]
    },
    {
     "name": "stderr",
     "output_type": "stream",
     "text": [
      "/opt/anaconda3/lib/python3.11/site-packages/pytorch_tabnet/callbacks.py:172: UserWarning: Best weights from best epoch are automatically used!\n",
      "  warnings.warn(wrn_msg)\n",
      "[I 2024-11-18 12:11:48,949] Trial 205 finished with value: 0.7990888650666567 and parameters: {'n_a_d': 256, 'n_steps': 8, 'gamma': 0.01, 'lambda': 0.01, 'batch_size': 2048, 'virtual_batch_size': 4096, 'lr': 0.04, 'gamma_decay': 0.95, 'mask_type': 'entmax', 'batch_momentum': 0.9}. Best is trial 162 with value: 0.8133091520605825.\n",
      "<ipython-input-6-28ed69af07b4>:5: FutureWarning: suggest_int() got {'step'} as positional arguments but they were expected to be given as keyword arguments.\n",
      "  'n_steps': trial.suggest_int('n_steps', 3, 10, 1),\n"
     ]
    },
    {
     "name": "stdout",
     "output_type": "stream",
     "text": [
      "\n",
      "Early stopping occurred at epoch 26 with best_epoch = 21 and best_val_auc = 0.76566\n"
     ]
    },
    {
     "name": "stderr",
     "output_type": "stream",
     "text": [
      "/opt/anaconda3/lib/python3.11/site-packages/pytorch_tabnet/callbacks.py:172: UserWarning: Best weights from best epoch are automatically used!\n",
      "  warnings.warn(wrn_msg)\n",
      "[I 2024-11-18 12:13:29,597] Trial 206 finished with value: 0.7886619699431823 and parameters: {'n_a_d': 256, 'n_steps': 7, 'gamma': 0.01, 'lambda': 0.01, 'batch_size': 2048, 'virtual_batch_size': 1024, 'lr': 0.04, 'gamma_decay': 0.95, 'mask_type': 'entmax', 'batch_momentum': 0.6}. Best is trial 162 with value: 0.8133091520605825.\n",
      "<ipython-input-6-28ed69af07b4>:5: FutureWarning: suggest_int() got {'step'} as positional arguments but they were expected to be given as keyword arguments.\n",
      "  'n_steps': trial.suggest_int('n_steps', 3, 10, 1),\n"
     ]
    },
    {
     "name": "stdout",
     "output_type": "stream",
     "text": [
      "\n",
      "Early stopping occurred at epoch 33 with best_epoch = 28 and best_val_auc = 0.75601\n"
     ]
    },
    {
     "name": "stderr",
     "output_type": "stream",
     "text": [
      "/opt/anaconda3/lib/python3.11/site-packages/pytorch_tabnet/callbacks.py:172: UserWarning: Best weights from best epoch are automatically used!\n",
      "  warnings.warn(wrn_msg)\n",
      "[I 2024-11-18 12:15:35,104] Trial 207 finished with value: 0.7860463272471683 and parameters: {'n_a_d': 256, 'n_steps': 8, 'gamma': 0.01, 'lambda': 0.0001, 'batch_size': 2048, 'virtual_batch_size': 4096, 'lr': 0.01, 'gamma_decay': 0.95, 'mask_type': 'entmax', 'batch_momentum': 0.9}. Best is trial 162 with value: 0.8133091520605825.\n",
      "<ipython-input-6-28ed69af07b4>:5: FutureWarning: suggest_int() got {'step'} as positional arguments but they were expected to be given as keyword arguments.\n",
      "  'n_steps': trial.suggest_int('n_steps', 3, 10, 1),\n"
     ]
    },
    {
     "name": "stdout",
     "output_type": "stream",
     "text": [
      "\n",
      "Early stopping occurred at epoch 16 with best_epoch = 11 and best_val_auc = 0.65046\n"
     ]
    },
    {
     "name": "stderr",
     "output_type": "stream",
     "text": [
      "/opt/anaconda3/lib/python3.11/site-packages/pytorch_tabnet/callbacks.py:172: UserWarning: Best weights from best epoch are automatically used!\n",
      "  warnings.warn(wrn_msg)\n",
      "[I 2024-11-18 12:15:46,766] Trial 208 finished with value: 0.7648767130253672 and parameters: {'n_a_d': 24, 'n_steps': 7, 'gamma': 1.0, 'lambda': 0.01, 'batch_size': 2048, 'virtual_batch_size': 2028, 'lr': 0.04, 'gamma_decay': 0.95, 'mask_type': 'entmax', 'batch_momentum': 0.95}. Best is trial 162 with value: 0.8133091520605825.\n",
      "<ipython-input-6-28ed69af07b4>:5: FutureWarning: suggest_int() got {'step'} as positional arguments but they were expected to be given as keyword arguments.\n",
      "  'n_steps': trial.suggest_int('n_steps', 3, 10, 1),\n"
     ]
    },
    {
     "name": "stdout",
     "output_type": "stream",
     "text": [
      "\n",
      "Early stopping occurred at epoch 20 with best_epoch = 15 and best_val_auc = 0.63829\n"
     ]
    },
    {
     "name": "stderr",
     "output_type": "stream",
     "text": [
      "/opt/anaconda3/lib/python3.11/site-packages/pytorch_tabnet/callbacks.py:172: UserWarning: Best weights from best epoch are automatically used!\n",
      "  warnings.warn(wrn_msg)\n",
      "[I 2024-11-18 12:16:30,501] Trial 209 finished with value: 0.7668181264366174 and parameters: {'n_a_d': 128, 'n_steps': 8, 'gamma': 0.01, 'lambda': 0.01, 'batch_size': 32768, 'virtual_batch_size': 4096, 'lr': 0.04, 'gamma_decay': 0.95, 'mask_type': 'entmax', 'batch_momentum': 0.9}. Best is trial 162 with value: 0.8133091520605825.\n",
      "<ipython-input-6-28ed69af07b4>:5: FutureWarning: suggest_int() got {'step'} as positional arguments but they were expected to be given as keyword arguments.\n",
      "  'n_steps': trial.suggest_int('n_steps', 3, 10, 1),\n"
     ]
    },
    {
     "name": "stdout",
     "output_type": "stream",
     "text": [
      "Stop training because you reached max_epochs = 35 with best_epoch = 31 and best_val_auc = 0.73344\n"
     ]
    },
    {
     "name": "stderr",
     "output_type": "stream",
     "text": [
      "/opt/anaconda3/lib/python3.11/site-packages/pytorch_tabnet/callbacks.py:172: UserWarning: Best weights from best epoch are automatically used!\n",
      "  warnings.warn(wrn_msg)\n",
      "[I 2024-11-18 12:16:48,765] Trial 210 finished with value: 0.7843716485176696 and parameters: {'n_a_d': 8, 'n_steps': 8, 'gamma': 0.01, 'lambda': 0.01, 'batch_size': 2048, 'virtual_batch_size': 4096, 'lr': 0.04, 'gamma_decay': 0.4, 'mask_type': 'entmax', 'batch_momentum': 0.9}. Best is trial 162 with value: 0.8133091520605825.\n",
      "<ipython-input-6-28ed69af07b4>:5: FutureWarning: suggest_int() got {'step'} as positional arguments but they were expected to be given as keyword arguments.\n",
      "  'n_steps': trial.suggest_int('n_steps', 3, 10, 1),\n"
     ]
    },
    {
     "name": "stdout",
     "output_type": "stream",
     "text": [
      "\n",
      "Early stopping occurred at epoch 13 with best_epoch = 8 and best_val_auc = 0.69468\n"
     ]
    },
    {
     "name": "stderr",
     "output_type": "stream",
     "text": [
      "/opt/anaconda3/lib/python3.11/site-packages/pytorch_tabnet/callbacks.py:172: UserWarning: Best weights from best epoch are automatically used!\n",
      "  warnings.warn(wrn_msg)\n",
      "[I 2024-11-18 12:17:13,753] Trial 211 finished with value: 0.766359233323075 and parameters: {'n_a_d': 128, 'n_steps': 8, 'gamma': 0.01, 'lambda': 0.01, 'batch_size': 2048, 'virtual_batch_size': 256, 'lr': 0.02, 'gamma_decay': 0.95, 'mask_type': 'entmax', 'batch_momentum': 0.9}. Best is trial 162 with value: 0.8133091520605825.\n",
      "<ipython-input-6-28ed69af07b4>:5: FutureWarning: suggest_int() got {'step'} as positional arguments but they were expected to be given as keyword arguments.\n",
      "  'n_steps': trial.suggest_int('n_steps', 3, 10, 1),\n"
     ]
    },
    {
     "name": "stdout",
     "output_type": "stream",
     "text": [
      "\n",
      "Early stopping occurred at epoch 17 with best_epoch = 12 and best_val_auc = 0.70924\n"
     ]
    },
    {
     "name": "stderr",
     "output_type": "stream",
     "text": [
      "/opt/anaconda3/lib/python3.11/site-packages/pytorch_tabnet/callbacks.py:172: UserWarning: Best weights from best epoch are automatically used!\n",
      "  warnings.warn(wrn_msg)\n",
      "[I 2024-11-18 12:17:26,830] Trial 212 finished with value: 0.7648203466391533 and parameters: {'n_a_d': 24, 'n_steps': 9, 'gamma': 0.01, 'lambda': 0.01, 'batch_size': 2048, 'virtual_batch_size': 1024, 'lr': 0.03, 'gamma_decay': 0.95, 'mask_type': 'entmax', 'batch_momentum': 0.9}. Best is trial 162 with value: 0.8133091520605825.\n",
      "<ipython-input-6-28ed69af07b4>:5: FutureWarning: suggest_int() got {'step'} as positional arguments but they were expected to be given as keyword arguments.\n",
      "  'n_steps': trial.suggest_int('n_steps', 3, 10, 1),\n"
     ]
    },
    {
     "name": "stdout",
     "output_type": "stream",
     "text": [
      "\n",
      "Early stopping occurred at epoch 26 with best_epoch = 21 and best_val_auc = 0.76276\n"
     ]
    },
    {
     "name": "stderr",
     "output_type": "stream",
     "text": [
      "/opt/anaconda3/lib/python3.11/site-packages/pytorch_tabnet/callbacks.py:172: UserWarning: Best weights from best epoch are automatically used!\n",
      "  warnings.warn(wrn_msg)\n",
      "[I 2024-11-18 12:19:04,244] Trial 213 finished with value: 0.7836896636097401 and parameters: {'n_a_d': 256, 'n_steps': 10, 'gamma': 0.01, 'lambda': 0.01, 'batch_size': 2048, 'virtual_batch_size': 4096, 'lr': 0.04, 'gamma_decay': 0.95, 'mask_type': 'entmax', 'batch_momentum': 0.7}. Best is trial 162 with value: 0.8133091520605825.\n",
      "<ipython-input-6-28ed69af07b4>:5: FutureWarning: suggest_int() got {'step'} as positional arguments but they were expected to be given as keyword arguments.\n",
      "  'n_steps': trial.suggest_int('n_steps', 3, 10, 1),\n"
     ]
    },
    {
     "name": "stdout",
     "output_type": "stream",
     "text": [
      "\n",
      "Early stopping occurred at epoch 10 with best_epoch = 5 and best_val_auc = 0.62616\n"
     ]
    },
    {
     "name": "stderr",
     "output_type": "stream",
     "text": [
      "/opt/anaconda3/lib/python3.11/site-packages/pytorch_tabnet/callbacks.py:172: UserWarning: Best weights from best epoch are automatically used!\n",
      "  warnings.warn(wrn_msg)\n",
      "[I 2024-11-18 12:19:42,976] Trial 214 finished with value: 0.7635832002202814 and parameters: {'n_a_d': 256, 'n_steps': 7, 'gamma': 1.5, 'lambda': 0.01, 'batch_size': 2048, 'virtual_batch_size': 4096, 'lr': 0.04, 'gamma_decay': 0.95, 'mask_type': 'entmax', 'batch_momentum': 0.9}. Best is trial 162 with value: 0.8133091520605825.\n",
      "<ipython-input-6-28ed69af07b4>:5: FutureWarning: suggest_int() got {'step'} as positional arguments but they were expected to be given as keyword arguments.\n",
      "  'n_steps': trial.suggest_int('n_steps', 3, 10, 1),\n"
     ]
    },
    {
     "name": "stdout",
     "output_type": "stream",
     "text": [
      "\n",
      "Early stopping occurred at epoch 16 with best_epoch = 11 and best_val_auc = 0.69892\n"
     ]
    },
    {
     "name": "stderr",
     "output_type": "stream",
     "text": [
      "/opt/anaconda3/lib/python3.11/site-packages/pytorch_tabnet/callbacks.py:172: UserWarning: Best weights from best epoch are automatically used!\n",
      "  warnings.warn(wrn_msg)\n",
      "[I 2024-11-18 12:19:55,006] Trial 215 finished with value: 0.7733435244180912 and parameters: {'n_a_d': 24, 'n_steps': 8, 'gamma': 0.01, 'lambda': 0.01, 'batch_size': 1024, 'virtual_batch_size': 1024, 'lr': 0.04, 'gamma_decay': 0.8, 'mask_type': 'entmax', 'batch_momentum': 0.9}. Best is trial 162 with value: 0.8133091520605825.\n",
      "<ipython-input-6-28ed69af07b4>:5: FutureWarning: suggest_int() got {'step'} as positional arguments but they were expected to be given as keyword arguments.\n",
      "  'n_steps': trial.suggest_int('n_steps', 3, 10, 1),\n"
     ]
    },
    {
     "name": "stdout",
     "output_type": "stream",
     "text": [
      "\n",
      "Early stopping occurred at epoch 6 with best_epoch = 1 and best_val_auc = 0.62581\n"
     ]
    },
    {
     "name": "stderr",
     "output_type": "stream",
     "text": [
      "/opt/anaconda3/lib/python3.11/site-packages/pytorch_tabnet/callbacks.py:172: UserWarning: Best weights from best epoch are automatically used!\n",
      "  warnings.warn(wrn_msg)\n",
      "[I 2024-11-18 12:19:59,428] Trial 216 finished with value: 0.7624908409298856 and parameters: {'n_a_d': 16, 'n_steps': 9, 'gamma': 0.01, 'lambda': 0.1, 'batch_size': 2048, 'virtual_batch_size': 2028, 'lr': 0.05, 'gamma_decay': 0.95, 'mask_type': 'sparsemax', 'batch_momentum': 0.8}. Best is trial 162 with value: 0.8133091520605825.\n",
      "<ipython-input-6-28ed69af07b4>:5: FutureWarning: suggest_int() got {'step'} as positional arguments but they were expected to be given as keyword arguments.\n",
      "  'n_steps': trial.suggest_int('n_steps', 3, 10, 1),\n"
     ]
    },
    {
     "name": "stdout",
     "output_type": "stream",
     "text": [
      "\n",
      "Early stopping occurred at epoch 23 with best_epoch = 18 and best_val_auc = 0.65145\n"
     ]
    },
    {
     "name": "stderr",
     "output_type": "stream",
     "text": [
      "/opt/anaconda3/lib/python3.11/site-packages/pytorch_tabnet/callbacks.py:172: UserWarning: Best weights from best epoch are automatically used!\n",
      "  warnings.warn(wrn_msg)\n",
      "[I 2024-11-18 12:20:15,990] Trial 217 finished with value: 0.7649852670331315 and parameters: {'n_a_d': 24, 'n_steps': 9, 'gamma': 0.01, 'lambda': 0.01, 'batch_size': 8192, 'virtual_batch_size': 1024, 'lr': 0.04, 'gamma_decay': 0.95, 'mask_type': 'entmax', 'batch_momentum': 0.9}. Best is trial 162 with value: 0.8133091520605825.\n",
      "<ipython-input-6-28ed69af07b4>:5: FutureWarning: suggest_int() got {'step'} as positional arguments but they were expected to be given as keyword arguments.\n",
      "  'n_steps': trial.suggest_int('n_steps', 3, 10, 1),\n"
     ]
    },
    {
     "name": "stdout",
     "output_type": "stream",
     "text": [
      "Stop training because you reached max_epochs = 35 with best_epoch = 32 and best_val_auc = 0.72187\n"
     ]
    },
    {
     "name": "stderr",
     "output_type": "stream",
     "text": [
      "/opt/anaconda3/lib/python3.11/site-packages/pytorch_tabnet/callbacks.py:172: UserWarning: Best weights from best epoch are automatically used!\n",
      "  warnings.warn(wrn_msg)\n",
      "[I 2024-11-18 12:21:13,599] Trial 218 finished with value: 0.7947636036272057 and parameters: {'n_a_d': 128, 'n_steps': 8, 'gamma': 0.01, 'lambda': 0.01, 'batch_size': 4096, 'virtual_batch_size': 4096, 'lr': 0.01, 'gamma_decay': 0.95, 'mask_type': 'sparsemax', 'batch_momentum': 0.95}. Best is trial 162 with value: 0.8133091520605825.\n",
      "<ipython-input-6-28ed69af07b4>:5: FutureWarning: suggest_int() got {'step'} as positional arguments but they were expected to be given as keyword arguments.\n",
      "  'n_steps': trial.suggest_int('n_steps', 3, 10, 1),\n"
     ]
    },
    {
     "name": "stdout",
     "output_type": "stream",
     "text": [
      "Stop training because you reached max_epochs = 35 with best_epoch = 31 and best_val_auc = 0.72898\n"
     ]
    },
    {
     "name": "stderr",
     "output_type": "stream",
     "text": [
      "/opt/anaconda3/lib/python3.11/site-packages/pytorch_tabnet/callbacks.py:172: UserWarning: Best weights from best epoch are automatically used!\n",
      "  warnings.warn(wrn_msg)\n",
      "[I 2024-11-18 12:22:11,957] Trial 219 finished with value: 0.7878719908697475 and parameters: {'n_a_d': 128, 'n_steps': 7, 'gamma': 0.01, 'lambda': 0.01, 'batch_size': 4096, 'virtual_batch_size': 4096, 'lr': 0.01, 'gamma_decay': 0.95, 'mask_type': 'sparsemax', 'batch_momentum': 0.95}. Best is trial 162 with value: 0.8133091520605825.\n",
      "<ipython-input-6-28ed69af07b4>:5: FutureWarning: suggest_int() got {'step'} as positional arguments but they were expected to be given as keyword arguments.\n",
      "  'n_steps': trial.suggest_int('n_steps', 3, 10, 1),\n"
     ]
    },
    {
     "name": "stdout",
     "output_type": "stream",
     "text": [
      "\n",
      "Early stopping occurred at epoch 15 with best_epoch = 10 and best_val_auc = 0.68898\n"
     ]
    },
    {
     "name": "stderr",
     "output_type": "stream",
     "text": [
      "/opt/anaconda3/lib/python3.11/site-packages/pytorch_tabnet/callbacks.py:172: UserWarning: Best weights from best epoch are automatically used!\n",
      "  warnings.warn(wrn_msg)\n",
      "[I 2024-11-18 12:22:23,960] Trial 220 finished with value: 0.7672591204744676 and parameters: {'n_a_d': 24, 'n_steps': 10, 'gamma': 0.5, 'lambda': 1e-07, 'batch_size': 2048, 'virtual_batch_size': 2028, 'lr': 0.02, 'gamma_decay': 0.95, 'mask_type': 'sparsemax', 'batch_momentum': 0.8}. Best is trial 162 with value: 0.8133091520605825.\n",
      "<ipython-input-6-28ed69af07b4>:5: FutureWarning: suggest_int() got {'step'} as positional arguments but they were expected to be given as keyword arguments.\n",
      "  'n_steps': trial.suggest_int('n_steps', 3, 10, 1),\n"
     ]
    },
    {
     "name": "stdout",
     "output_type": "stream",
     "text": [
      "\n",
      "Early stopping occurred at epoch 29 with best_epoch = 24 and best_val_auc = 0.77164\n"
     ]
    },
    {
     "name": "stderr",
     "output_type": "stream",
     "text": [
      "/opt/anaconda3/lib/python3.11/site-packages/pytorch_tabnet/callbacks.py:172: UserWarning: Best weights from best epoch are automatically used!\n",
      "  warnings.warn(wrn_msg)\n",
      "[I 2024-11-18 12:23:14,180] Trial 221 finished with value: 0.7914628640684456 and parameters: {'n_a_d': 128, 'n_steps': 9, 'gamma': 0.1, 'lambda': 0.001, 'batch_size': 2048, 'virtual_batch_size': 1024, 'lr': 0.04, 'gamma_decay': 0.95, 'mask_type': 'sparsemax', 'batch_momentum': 0.95}. Best is trial 162 with value: 0.8133091520605825.\n",
      "<ipython-input-6-28ed69af07b4>:5: FutureWarning: suggest_int() got {'step'} as positional arguments but they were expected to be given as keyword arguments.\n",
      "  'n_steps': trial.suggest_int('n_steps', 3, 10, 1),\n"
     ]
    },
    {
     "name": "stdout",
     "output_type": "stream",
     "text": [
      "\n",
      "Early stopping occurred at epoch 17 with best_epoch = 12 and best_val_auc = 0.59937\n"
     ]
    },
    {
     "name": "stderr",
     "output_type": "stream",
     "text": [
      "/opt/anaconda3/lib/python3.11/site-packages/pytorch_tabnet/callbacks.py:172: UserWarning: Best weights from best epoch are automatically used!\n",
      "  warnings.warn(wrn_msg)\n",
      "[I 2024-11-18 12:23:54,966] Trial 222 finished with value: 0.7655327903167878 and parameters: {'n_a_d': 128, 'n_steps': 8, 'gamma': 0.01, 'lambda': 0.001, 'batch_size': 16384, 'virtual_batch_size': 1024, 'lr': 0.01, 'gamma_decay': 0.8, 'mask_type': 'entmax', 'batch_momentum': 0.9}. Best is trial 162 with value: 0.8133091520605825.\n",
      "<ipython-input-6-28ed69af07b4>:5: FutureWarning: suggest_int() got {'step'} as positional arguments but they were expected to be given as keyword arguments.\n",
      "  'n_steps': trial.suggest_int('n_steps', 3, 10, 1),\n"
     ]
    },
    {
     "name": "stdout",
     "output_type": "stream",
     "text": [
      "Stop training because you reached max_epochs = 35 with best_epoch = 32 and best_val_auc = 0.75675\n"
     ]
    },
    {
     "name": "stderr",
     "output_type": "stream",
     "text": [
      "/opt/anaconda3/lib/python3.11/site-packages/pytorch_tabnet/callbacks.py:172: UserWarning: Best weights from best epoch are automatically used!\n",
      "  warnings.warn(wrn_msg)\n",
      "[I 2024-11-18 12:24:50,372] Trial 223 finished with value: 0.785130973643515 and parameters: {'n_a_d': 128, 'n_steps': 9, 'gamma': 0.01, 'lambda': 0.01, 'batch_size': 2048, 'virtual_batch_size': 1024, 'lr': 0.04, 'gamma_decay': 0.95, 'mask_type': 'sparsemax', 'batch_momentum': 0.9}. Best is trial 162 with value: 0.8133091520605825.\n",
      "<ipython-input-6-28ed69af07b4>:5: FutureWarning: suggest_int() got {'step'} as positional arguments but they were expected to be given as keyword arguments.\n",
      "  'n_steps': trial.suggest_int('n_steps', 3, 10, 1),\n"
     ]
    },
    {
     "name": "stdout",
     "output_type": "stream",
     "text": [
      "\n",
      "Early stopping occurred at epoch 27 with best_epoch = 22 and best_val_auc = 0.70982\n"
     ]
    },
    {
     "name": "stderr",
     "output_type": "stream",
     "text": [
      "/opt/anaconda3/lib/python3.11/site-packages/pytorch_tabnet/callbacks.py:172: UserWarning: Best weights from best epoch are automatically used!\n",
      "  warnings.warn(wrn_msg)\n",
      "[I 2024-11-18 12:25:10,264] Trial 224 finished with value: 0.7688742293022387 and parameters: {'n_a_d': 24, 'n_steps': 9, 'gamma': 0.1, 'lambda': 0.01, 'batch_size': 2048, 'virtual_batch_size': 1024, 'lr': 0.04, 'gamma_decay': 0.95, 'mask_type': 'entmax', 'batch_momentum': 0.95}. Best is trial 162 with value: 0.8133091520605825.\n",
      "<ipython-input-6-28ed69af07b4>:5: FutureWarning: suggest_int() got {'step'} as positional arguments but they were expected to be given as keyword arguments.\n",
      "  'n_steps': trial.suggest_int('n_steps', 3, 10, 1),\n"
     ]
    },
    {
     "name": "stdout",
     "output_type": "stream",
     "text": [
      "\n",
      "Early stopping occurred at epoch 33 with best_epoch = 28 and best_val_auc = 0.73952\n"
     ]
    },
    {
     "name": "stderr",
     "output_type": "stream",
     "text": [
      "/opt/anaconda3/lib/python3.11/site-packages/pytorch_tabnet/callbacks.py:172: UserWarning: Best weights from best epoch are automatically used!\n",
      "  warnings.warn(wrn_msg)\n",
      "[I 2024-11-18 12:26:10,129] Trial 225 finished with value: 0.7793518973898902 and parameters: {'n_a_d': 128, 'n_steps': 7, 'gamma': 0.01, 'lambda': 0.01, 'batch_size': 2048, 'virtual_batch_size': 128, 'lr': 0.04, 'gamma_decay': 0.4, 'mask_type': 'sparsemax', 'batch_momentum': 0.95}. Best is trial 162 with value: 0.8133091520605825.\n",
      "<ipython-input-6-28ed69af07b4>:5: FutureWarning: suggest_int() got {'step'} as positional arguments but they were expected to be given as keyword arguments.\n",
      "  'n_steps': trial.suggest_int('n_steps', 3, 10, 1),\n"
     ]
    },
    {
     "name": "stdout",
     "output_type": "stream",
     "text": [
      "\n",
      "Early stopping occurred at epoch 27 with best_epoch = 22 and best_val_auc = 0.73862\n"
     ]
    },
    {
     "name": "stderr",
     "output_type": "stream",
     "text": [
      "/opt/anaconda3/lib/python3.11/site-packages/pytorch_tabnet/callbacks.py:172: UserWarning: Best weights from best epoch are automatically used!\n",
      "  warnings.warn(wrn_msg)\n",
      "[I 2024-11-18 12:27:48,840] Trial 226 finished with value: 0.781958015431069 and parameters: {'n_a_d': 256, 'n_steps': 8, 'gamma': 0.1, 'lambda': 0.001, 'batch_size': 2048, 'virtual_batch_size': 2028, 'lr': 0.01, 'gamma_decay': 0.8, 'mask_type': 'entmax', 'batch_momentum': 0.8}. Best is trial 162 with value: 0.8133091520605825.\n",
      "<ipython-input-6-28ed69af07b4>:5: FutureWarning: suggest_int() got {'step'} as positional arguments but they were expected to be given as keyword arguments.\n",
      "  'n_steps': trial.suggest_int('n_steps', 3, 10, 1),\n"
     ]
    },
    {
     "name": "stdout",
     "output_type": "stream",
     "text": [
      "Stop training because you reached max_epochs = 35 with best_epoch = 31 and best_val_auc = 0.7475\n"
     ]
    },
    {
     "name": "stderr",
     "output_type": "stream",
     "text": [
      "/opt/anaconda3/lib/python3.11/site-packages/pytorch_tabnet/callbacks.py:172: UserWarning: Best weights from best epoch are automatically used!\n",
      "  warnings.warn(wrn_msg)\n",
      "[I 2024-11-18 12:28:44,832] Trial 227 finished with value: 0.7849913401647169 and parameters: {'n_a_d': 128, 'n_steps': 10, 'gamma': 0.01, 'lambda': 0.001, 'batch_size': 2048, 'virtual_batch_size': 1024, 'lr': 0.01, 'gamma_decay': 0.9, 'mask_type': 'entmax', 'batch_momentum': 0.9}. Best is trial 162 with value: 0.8133091520605825.\n",
      "<ipython-input-6-28ed69af07b4>:5: FutureWarning: suggest_int() got {'step'} as positional arguments but they were expected to be given as keyword arguments.\n",
      "  'n_steps': trial.suggest_int('n_steps', 3, 10, 1),\n"
     ]
    },
    {
     "name": "stdout",
     "output_type": "stream",
     "text": [
      "\n",
      "Early stopping occurred at epoch 25 with best_epoch = 20 and best_val_auc = 0.6868\n"
     ]
    },
    {
     "name": "stderr",
     "output_type": "stream",
     "text": [
      "/opt/anaconda3/lib/python3.11/site-packages/pytorch_tabnet/callbacks.py:172: UserWarning: Best weights from best epoch are automatically used!\n",
      "  warnings.warn(wrn_msg)\n",
      "[I 2024-11-18 12:29:11,588] Trial 228 finished with value: 0.7671790406938965 and parameters: {'n_a_d': 64, 'n_steps': 8, 'gamma': 0.01, 'lambda': 1e-05, 'batch_size': 2048, 'virtual_batch_size': 2028, 'lr': 0.005, 'gamma_decay': 0.95, 'mask_type': 'sparsemax', 'batch_momentum': 0.8}. Best is trial 162 with value: 0.8133091520605825.\n",
      "<ipython-input-6-28ed69af07b4>:5: FutureWarning: suggest_int() got {'step'} as positional arguments but they were expected to be given as keyword arguments.\n",
      "  'n_steps': trial.suggest_int('n_steps', 3, 10, 1),\n"
     ]
    },
    {
     "name": "stdout",
     "output_type": "stream",
     "text": [
      "\n",
      "Early stopping occurred at epoch 5 with best_epoch = 0 and best_val_auc = 0.56965\n"
     ]
    },
    {
     "name": "stderr",
     "output_type": "stream",
     "text": [
      "/opt/anaconda3/lib/python3.11/site-packages/pytorch_tabnet/callbacks.py:172: UserWarning: Best weights from best epoch are automatically used!\n",
      "  warnings.warn(wrn_msg)\n",
      "[I 2024-11-18 12:29:16,277] Trial 229 finished with value: 0.7628237003304349 and parameters: {'n_a_d': 24, 'n_steps': 6, 'gamma': 0.01, 'lambda': 0.01, 'batch_size': 2048, 'virtual_batch_size': 1024, 'lr': 0.04, 'gamma_decay': 0.95, 'mask_type': 'sparsemax', 'batch_momentum': 0.95}. Best is trial 162 with value: 0.8133091520605825.\n",
      "<ipython-input-6-28ed69af07b4>:5: FutureWarning: suggest_int() got {'step'} as positional arguments but they were expected to be given as keyword arguments.\n",
      "  'n_steps': trial.suggest_int('n_steps', 3, 10, 1),\n"
     ]
    },
    {
     "name": "stdout",
     "output_type": "stream",
     "text": [
      "\n",
      "Early stopping occurred at epoch 9 with best_epoch = 4 and best_val_auc = 0.56438\n"
     ]
    },
    {
     "name": "stderr",
     "output_type": "stream",
     "text": [
      "/opt/anaconda3/lib/python3.11/site-packages/pytorch_tabnet/callbacks.py:172: UserWarning: Best weights from best epoch are automatically used!\n",
      "  warnings.warn(wrn_msg)\n",
      "[I 2024-11-18 12:29:23,194] Trial 230 finished with value: 0.766418544463592 and parameters: {'n_a_d': 32, 'n_steps': 9, 'gamma': 0.01, 'lambda': 0, 'batch_size': 16384, 'virtual_batch_size': 2028, 'lr': 0.04, 'gamma_decay': 0.8, 'mask_type': 'sparsemax', 'batch_momentum': 0.8}. Best is trial 162 with value: 0.8133091520605825.\n",
      "<ipython-input-6-28ed69af07b4>:5: FutureWarning: suggest_int() got {'step'} as positional arguments but they were expected to be given as keyword arguments.\n",
      "  'n_steps': trial.suggest_int('n_steps', 3, 10, 1),\n"
     ]
    },
    {
     "name": "stdout",
     "output_type": "stream",
     "text": [
      "\n",
      "Early stopping occurred at epoch 5 with best_epoch = 0 and best_val_auc = 0.57166\n"
     ]
    },
    {
     "name": "stderr",
     "output_type": "stream",
     "text": [
      "/opt/anaconda3/lib/python3.11/site-packages/pytorch_tabnet/callbacks.py:172: UserWarning: Best weights from best epoch are automatically used!\n",
      "  warnings.warn(wrn_msg)\n",
      "[I 2024-11-18 12:29:33,131] Trial 231 finished with value: 0.7609769238544768 and parameters: {'n_a_d': 128, 'n_steps': 8, 'gamma': 0.1, 'lambda': 0.1, 'batch_size': 2048, 'virtual_batch_size': 1024, 'lr': 0.04, 'gamma_decay': 0.95, 'mask_type': 'sparsemax', 'batch_momentum': 0.95}. Best is trial 162 with value: 0.8133091520605825.\n",
      "<ipython-input-6-28ed69af07b4>:5: FutureWarning: suggest_int() got {'step'} as positional arguments but they were expected to be given as keyword arguments.\n",
      "  'n_steps': trial.suggest_int('n_steps', 3, 10, 1),\n"
     ]
    },
    {
     "name": "stdout",
     "output_type": "stream",
     "text": [
      "Stop training because you reached max_epochs = 35 with best_epoch = 32 and best_val_auc = 0.76934\n"
     ]
    },
    {
     "name": "stderr",
     "output_type": "stream",
     "text": [
      "/opt/anaconda3/lib/python3.11/site-packages/pytorch_tabnet/callbacks.py:172: UserWarning: Best weights from best epoch are automatically used!\n",
      "  warnings.warn(wrn_msg)\n",
      "[I 2024-11-18 12:30:27,317] Trial 232 finished with value: 0.8100608509057907 and parameters: {'n_a_d': 128, 'n_steps': 10, 'gamma': 0.01, 'lambda': 0.001, 'batch_size': 2048, 'virtual_batch_size': 1024, 'lr': 0.04, 'gamma_decay': 0.95, 'mask_type': 'sparsemax', 'batch_momentum': 0.95}. Best is trial 162 with value: 0.8133091520605825.\n",
      "<ipython-input-6-28ed69af07b4>:5: FutureWarning: suggest_int() got {'step'} as positional arguments but they were expected to be given as keyword arguments.\n",
      "  'n_steps': trial.suggest_int('n_steps', 3, 10, 1),\n"
     ]
    },
    {
     "name": "stdout",
     "output_type": "stream",
     "text": [
      "\n",
      "Early stopping occurred at epoch 20 with best_epoch = 15 and best_val_auc = 0.725\n"
     ]
    },
    {
     "name": "stderr",
     "output_type": "stream",
     "text": [
      "/opt/anaconda3/lib/python3.11/site-packages/pytorch_tabnet/callbacks.py:172: UserWarning: Best weights from best epoch are automatically used!\n",
      "  warnings.warn(wrn_msg)\n",
      "[I 2024-11-18 12:30:42,421] Trial 233 finished with value: 0.7841922817360563 and parameters: {'n_a_d': 24, 'n_steps': 10, 'gamma': 0.01, 'lambda': 0.01, 'batch_size': 2048, 'virtual_batch_size': 4096, 'lr': 0.04, 'gamma_decay': 0.95, 'mask_type': 'entmax', 'batch_momentum': 0.95}. Best is trial 162 with value: 0.8133091520605825.\n",
      "<ipython-input-6-28ed69af07b4>:5: FutureWarning: suggest_int() got {'step'} as positional arguments but they were expected to be given as keyword arguments.\n",
      "  'n_steps': trial.suggest_int('n_steps', 3, 10, 1),\n"
     ]
    },
    {
     "name": "stdout",
     "output_type": "stream",
     "text": [
      "Stop training because you reached max_epochs = 35 with best_epoch = 30 and best_val_auc = 0.75916\n"
     ]
    },
    {
     "name": "stderr",
     "output_type": "stream",
     "text": [
      "/opt/anaconda3/lib/python3.11/site-packages/pytorch_tabnet/callbacks.py:172: UserWarning: Best weights from best epoch are automatically used!\n",
      "  warnings.warn(wrn_msg)\n",
      "[I 2024-11-18 12:31:06,376] Trial 234 finished with value: 0.7870725630631024 and parameters: {'n_a_d': 24, 'n_steps': 9, 'gamma': 0.01, 'lambda': 0.01, 'batch_size': 2048, 'virtual_batch_size': 1024, 'lr': 0.04, 'gamma_decay': 0.9, 'mask_type': 'entmax', 'batch_momentum': 0.9}. Best is trial 162 with value: 0.8133091520605825.\n",
      "<ipython-input-6-28ed69af07b4>:5: FutureWarning: suggest_int() got {'step'} as positional arguments but they were expected to be given as keyword arguments.\n",
      "  'n_steps': trial.suggest_int('n_steps', 3, 10, 1),\n"
     ]
    },
    {
     "name": "stdout",
     "output_type": "stream",
     "text": [
      "\n",
      "Early stopping occurred at epoch 28 with best_epoch = 23 and best_val_auc = 0.76154\n"
     ]
    },
    {
     "name": "stderr",
     "output_type": "stream",
     "text": [
      "/opt/anaconda3/lib/python3.11/site-packages/pytorch_tabnet/callbacks.py:172: UserWarning: Best weights from best epoch are automatically used!\n",
      "  warnings.warn(wrn_msg)\n",
      "[I 2024-11-18 12:32:50,386] Trial 235 finished with value: 0.7832364591890659 and parameters: {'n_a_d': 256, 'n_steps': 10, 'gamma': 0.01, 'lambda': 1e-07, 'batch_size': 2048, 'virtual_batch_size': 4096, 'lr': 0.02, 'gamma_decay': 0.9, 'mask_type': 'sparsemax', 'batch_momentum': 0.8}. Best is trial 162 with value: 0.8133091520605825.\n",
      "<ipython-input-6-28ed69af07b4>:5: FutureWarning: suggest_int() got {'step'} as positional arguments but they were expected to be given as keyword arguments.\n",
      "  'n_steps': trial.suggest_int('n_steps', 3, 10, 1),\n"
     ]
    },
    {
     "name": "stdout",
     "output_type": "stream",
     "text": [
      "Stop training because you reached max_epochs = 35 with best_epoch = 34 and best_val_auc = 0.7505\n"
     ]
    },
    {
     "name": "stderr",
     "output_type": "stream",
     "text": [
      "/opt/anaconda3/lib/python3.11/site-packages/pytorch_tabnet/callbacks.py:172: UserWarning: Best weights from best epoch are automatically used!\n",
      "  warnings.warn(wrn_msg)\n",
      "[I 2024-11-18 12:33:14,835] Trial 236 finished with value: 0.7889916388910684 and parameters: {'n_a_d': 24, 'n_steps': 10, 'gamma': 0.01, 'lambda': 1e-05, 'batch_size': 2048, 'virtual_batch_size': 2028, 'lr': 0.05, 'gamma_decay': 0.95, 'mask_type': 'sparsemax', 'batch_momentum': 0.8}. Best is trial 162 with value: 0.8133091520605825.\n",
      "<ipython-input-6-28ed69af07b4>:5: FutureWarning: suggest_int() got {'step'} as positional arguments but they were expected to be given as keyword arguments.\n",
      "  'n_steps': trial.suggest_int('n_steps', 3, 10, 1),\n"
     ]
    },
    {
     "name": "stdout",
     "output_type": "stream",
     "text": [
      "\n",
      "Early stopping occurred at epoch 8 with best_epoch = 3 and best_val_auc = 0.53582\n"
     ]
    },
    {
     "name": "stderr",
     "output_type": "stream",
     "text": [
      "/opt/anaconda3/lib/python3.11/site-packages/pytorch_tabnet/callbacks.py:172: UserWarning: Best weights from best epoch are automatically used!\n",
      "  warnings.warn(wrn_msg)\n",
      "[I 2024-11-18 12:33:20,895] Trial 237 finished with value: 0.7613595799395962 and parameters: {'n_a_d': 16, 'n_steps': 10, 'gamma': 0.01, 'lambda': 0.001, 'batch_size': 16384, 'virtual_batch_size': 256, 'lr': 0.04, 'gamma_decay': 0.95, 'mask_type': 'sparsemax', 'batch_momentum': 0.95}. Best is trial 162 with value: 0.8133091520605825.\n",
      "<ipython-input-6-28ed69af07b4>:5: FutureWarning: suggest_int() got {'step'} as positional arguments but they were expected to be given as keyword arguments.\n",
      "  'n_steps': trial.suggest_int('n_steps', 3, 10, 1),\n"
     ]
    },
    {
     "name": "stdout",
     "output_type": "stream",
     "text": [
      "\n",
      "Early stopping occurred at epoch 20 with best_epoch = 15 and best_val_auc = 0.73104\n"
     ]
    },
    {
     "name": "stderr",
     "output_type": "stream",
     "text": [
      "/opt/anaconda3/lib/python3.11/site-packages/pytorch_tabnet/callbacks.py:172: UserWarning: Best weights from best epoch are automatically used!\n",
      "  warnings.warn(wrn_msg)\n",
      "[I 2024-11-18 12:33:43,816] Trial 238 finished with value: 0.7700576346267143 and parameters: {'n_a_d': 64, 'n_steps': 9, 'gamma': 0.01, 'lambda': 1e-05, 'batch_size': 2048, 'virtual_batch_size': 2028, 'lr': 0.04, 'gamma_decay': 0.95, 'mask_type': 'entmax', 'batch_momentum': 0.8}. Best is trial 162 with value: 0.8133091520605825.\n",
      "<ipython-input-6-28ed69af07b4>:5: FutureWarning: suggest_int() got {'step'} as positional arguments but they were expected to be given as keyword arguments.\n",
      "  'n_steps': trial.suggest_int('n_steps', 3, 10, 1),\n"
     ]
    },
    {
     "name": "stdout",
     "output_type": "stream",
     "text": [
      "\n",
      "Early stopping occurred at epoch 26 with best_epoch = 21 and best_val_auc = 0.75117\n"
     ]
    },
    {
     "name": "stderr",
     "output_type": "stream",
     "text": [
      "/opt/anaconda3/lib/python3.11/site-packages/pytorch_tabnet/callbacks.py:172: UserWarning: Best weights from best epoch are automatically used!\n",
      "  warnings.warn(wrn_msg)\n",
      "[I 2024-11-18 12:35:20,699] Trial 239 finished with value: 0.7789461507285131 and parameters: {'n_a_d': 256, 'n_steps': 8, 'gamma': 0.01, 'lambda': 0.01, 'batch_size': 2048, 'virtual_batch_size': 4096, 'lr': 0.04, 'gamma_decay': 0.8, 'mask_type': 'entmax', 'batch_momentum': 0.9}. Best is trial 162 with value: 0.8133091520605825.\n",
      "<ipython-input-6-28ed69af07b4>:5: FutureWarning: suggest_int() got {'step'} as positional arguments but they were expected to be given as keyword arguments.\n",
      "  'n_steps': trial.suggest_int('n_steps', 3, 10, 1),\n"
     ]
    },
    {
     "name": "stdout",
     "output_type": "stream",
     "text": [
      "\n",
      "Early stopping occurred at epoch 14 with best_epoch = 9 and best_val_auc = 0.67363\n"
     ]
    },
    {
     "name": "stderr",
     "output_type": "stream",
     "text": [
      "/opt/anaconda3/lib/python3.11/site-packages/pytorch_tabnet/callbacks.py:172: UserWarning: Best weights from best epoch are automatically used!\n",
      "  warnings.warn(wrn_msg)\n",
      "[I 2024-11-18 12:35:37,063] Trial 240 finished with value: 0.7664582500704895 and parameters: {'n_a_d': 64, 'n_steps': 9, 'gamma': 0.01, 'lambda': 0.001, 'batch_size': 2048, 'virtual_batch_size': 1024, 'lr': 0.01, 'gamma_decay': 0.8, 'mask_type': 'entmax', 'batch_momentum': 0.6}. Best is trial 162 with value: 0.8133091520605825.\n",
      "<ipython-input-6-28ed69af07b4>:5: FutureWarning: suggest_int() got {'step'} as positional arguments but they were expected to be given as keyword arguments.\n",
      "  'n_steps': trial.suggest_int('n_steps', 3, 10, 1),\n"
     ]
    },
    {
     "name": "stdout",
     "output_type": "stream",
     "text": [
      "\n",
      "Early stopping occurred at epoch 21 with best_epoch = 16 and best_val_auc = 0.75947\n"
     ]
    },
    {
     "name": "stderr",
     "output_type": "stream",
     "text": [
      "/opt/anaconda3/lib/python3.11/site-packages/pytorch_tabnet/callbacks.py:172: UserWarning: Best weights from best epoch are automatically used!\n",
      "  warnings.warn(wrn_msg)\n",
      "[I 2024-11-18 12:36:15,987] Trial 241 finished with value: 0.7851759920674953 and parameters: {'n_a_d': 128, 'n_steps': 10, 'gamma': 0.01, 'lambda': 1e-05, 'batch_size': 2048, 'virtual_batch_size': 1024, 'lr': 0.04, 'gamma_decay': 0.95, 'mask_type': 'sparsemax', 'batch_momentum': 0.95}. Best is trial 162 with value: 0.8133091520605825.\n",
      "<ipython-input-6-28ed69af07b4>:5: FutureWarning: suggest_int() got {'step'} as positional arguments but they were expected to be given as keyword arguments.\n",
      "  'n_steps': trial.suggest_int('n_steps', 3, 10, 1),\n"
     ]
    },
    {
     "name": "stdout",
     "output_type": "stream",
     "text": [
      "\n",
      "Early stopping occurred at epoch 22 with best_epoch = 17 and best_val_auc = 0.73707\n"
     ]
    },
    {
     "name": "stderr",
     "output_type": "stream",
     "text": [
      "/opt/anaconda3/lib/python3.11/site-packages/pytorch_tabnet/callbacks.py:172: UserWarning: Best weights from best epoch are automatically used!\n",
      "  warnings.warn(wrn_msg)\n",
      "[I 2024-11-18 12:36:54,918] Trial 242 finished with value: 0.7719831510881705 and parameters: {'n_a_d': 128, 'n_steps': 10, 'gamma': 0.1, 'lambda': 0.001, 'batch_size': 2048, 'virtual_batch_size': 1024, 'lr': 0.025, 'gamma_decay': 0.95, 'mask_type': 'sparsemax', 'batch_momentum': 0.95}. Best is trial 162 with value: 0.8133091520605825.\n",
      "<ipython-input-6-28ed69af07b4>:5: FutureWarning: suggest_int() got {'step'} as positional arguments but they were expected to be given as keyword arguments.\n",
      "  'n_steps': trial.suggest_int('n_steps', 3, 10, 1),\n"
     ]
    },
    {
     "name": "stdout",
     "output_type": "stream",
     "text": [
      "\n",
      "Early stopping occurred at epoch 22 with best_epoch = 17 and best_val_auc = 0.72247\n"
     ]
    },
    {
     "name": "stderr",
     "output_type": "stream",
     "text": [
      "/opt/anaconda3/lib/python3.11/site-packages/pytorch_tabnet/callbacks.py:172: UserWarning: Best weights from best epoch are automatically used!\n",
      "  warnings.warn(wrn_msg)\n",
      "[I 2024-11-18 12:37:32,803] Trial 243 finished with value: 0.7726891944795212 and parameters: {'n_a_d': 128, 'n_steps': 8, 'gamma': 1.2, 'lambda': 0.001, 'batch_size': 2048, 'virtual_batch_size': 1024, 'lr': 0.05, 'gamma_decay': 0.95, 'mask_type': 'sparsemax', 'batch_momentum': 0.98}. Best is trial 162 with value: 0.8133091520605825.\n",
      "<ipython-input-6-28ed69af07b4>:5: FutureWarning: suggest_int() got {'step'} as positional arguments but they were expected to be given as keyword arguments.\n",
      "  'n_steps': trial.suggest_int('n_steps', 3, 10, 1),\n"
     ]
    },
    {
     "name": "stdout",
     "output_type": "stream",
     "text": [
      "\n",
      "Early stopping occurred at epoch 16 with best_epoch = 11 and best_val_auc = 0.67572\n"
     ]
    },
    {
     "name": "stderr",
     "output_type": "stream",
     "text": [
      "/opt/anaconda3/lib/python3.11/site-packages/pytorch_tabnet/callbacks.py:172: UserWarning: Best weights from best epoch are automatically used!\n",
      "  warnings.warn(wrn_msg)\n",
      "[I 2024-11-18 12:37:46,673] Trial 244 finished with value: 0.7644483967480696 and parameters: {'n_a_d': 16, 'n_steps': 8, 'gamma': 0.01, 'lambda': 1e-06, 'batch_size': 2048, 'virtual_batch_size': 256, 'lr': 0.04, 'gamma_decay': 0.4, 'mask_type': 'sparsemax', 'batch_momentum': 0.8}. Best is trial 162 with value: 0.8133091520605825.\n",
      "<ipython-input-6-28ed69af07b4>:5: FutureWarning: suggest_int() got {'step'} as positional arguments but they were expected to be given as keyword arguments.\n",
      "  'n_steps': trial.suggest_int('n_steps', 3, 10, 1),\n"
     ]
    },
    {
     "name": "stdout",
     "output_type": "stream",
     "text": [
      "\n",
      "Early stopping occurred at epoch 34 with best_epoch = 29 and best_val_auc = 0.7673\n"
     ]
    },
    {
     "name": "stderr",
     "output_type": "stream",
     "text": [
      "/opt/anaconda3/lib/python3.11/site-packages/pytorch_tabnet/callbacks.py:172: UserWarning: Best weights from best epoch are automatically used!\n",
      "  warnings.warn(wrn_msg)\n",
      "[I 2024-11-18 12:38:46,173] Trial 245 finished with value: 0.7837860732274498 and parameters: {'n_a_d': 128, 'n_steps': 10, 'gamma': 1.5, 'lambda': 0.001, 'batch_size': 2048, 'virtual_batch_size': 1024, 'lr': 0.04, 'gamma_decay': 0.95, 'mask_type': 'sparsemax', 'batch_momentum': 0.6}. Best is trial 162 with value: 0.8133091520605825.\n",
      "<ipython-input-6-28ed69af07b4>:5: FutureWarning: suggest_int() got {'step'} as positional arguments but they were expected to be given as keyword arguments.\n",
      "  'n_steps': trial.suggest_int('n_steps', 3, 10, 1),\n"
     ]
    },
    {
     "name": "stdout",
     "output_type": "stream",
     "text": [
      "\n",
      "Early stopping occurred at epoch 9 with best_epoch = 4 and best_val_auc = 0.6692\n"
     ]
    },
    {
     "name": "stderr",
     "output_type": "stream",
     "text": [
      "/opt/anaconda3/lib/python3.11/site-packages/pytorch_tabnet/callbacks.py:172: UserWarning: Best weights from best epoch are automatically used!\n",
      "  warnings.warn(wrn_msg)\n",
      "[I 2024-11-18 12:38:53,403] Trial 246 finished with value: 0.7648203466391533 and parameters: {'n_a_d': 16, 'n_steps': 7, 'gamma': 0.01, 'lambda': 0.0001, 'batch_size': 2048, 'virtual_batch_size': 1024, 'lr': 0.04, 'gamma_decay': 0.95, 'mask_type': 'entmax', 'batch_momentum': 0.98}. Best is trial 162 with value: 0.8133091520605825.\n",
      "<ipython-input-6-28ed69af07b4>:5: FutureWarning: suggest_int() got {'step'} as positional arguments but they were expected to be given as keyword arguments.\n",
      "  'n_steps': trial.suggest_int('n_steps', 3, 10, 1),\n"
     ]
    },
    {
     "name": "stdout",
     "output_type": "stream",
     "text": [
      "\n",
      "Early stopping occurred at epoch 10 with best_epoch = 5 and best_val_auc = 0.58009\n"
     ]
    },
    {
     "name": "stderr",
     "output_type": "stream",
     "text": [
      "/opt/anaconda3/lib/python3.11/site-packages/pytorch_tabnet/callbacks.py:172: UserWarning: Best weights from best epoch are automatically used!\n",
      "  warnings.warn(wrn_msg)\n",
      "[I 2024-11-18 12:39:00,232] Trial 247 finished with value: 0.7613594388053737 and parameters: {'n_a_d': 8, 'n_steps': 9, 'gamma': 0.01, 'lambda': 0.001, 'batch_size': 2048, 'virtual_batch_size': 1024, 'lr': 0.01, 'gamma_decay': 0.95, 'mask_type': 'sparsemax', 'batch_momentum': 0.95}. Best is trial 162 with value: 0.8133091520605825.\n",
      "<ipython-input-6-28ed69af07b4>:5: FutureWarning: suggest_int() got {'step'} as positional arguments but they were expected to be given as keyword arguments.\n",
      "  'n_steps': trial.suggest_int('n_steps', 3, 10, 1),\n"
     ]
    },
    {
     "name": "stdout",
     "output_type": "stream",
     "text": [
      "\n",
      "Early stopping occurred at epoch 25 with best_epoch = 20 and best_val_auc = 0.72978\n"
     ]
    },
    {
     "name": "stderr",
     "output_type": "stream",
     "text": [
      "/opt/anaconda3/lib/python3.11/site-packages/pytorch_tabnet/callbacks.py:172: UserWarning: Best weights from best epoch are automatically used!\n",
      "  warnings.warn(wrn_msg)\n",
      "[I 2024-11-18 12:39:19,056] Trial 248 finished with value: 0.7771020459130739 and parameters: {'n_a_d': 24, 'n_steps': 10, 'gamma': 0.1, 'lambda': 0.001, 'batch_size': 2048, 'virtual_batch_size': 1024, 'lr': 0.04, 'gamma_decay': 0.95, 'mask_type': 'sparsemax', 'batch_momentum': 0.95}. Best is trial 162 with value: 0.8133091520605825.\n",
      "<ipython-input-6-28ed69af07b4>:5: FutureWarning: suggest_int() got {'step'} as positional arguments but they were expected to be given as keyword arguments.\n",
      "  'n_steps': trial.suggest_int('n_steps', 3, 10, 1),\n"
     ]
    },
    {
     "name": "stdout",
     "output_type": "stream",
     "text": [
      "\n",
      "Early stopping occurred at epoch 26 with best_epoch = 21 and best_val_auc = 0.76716\n"
     ]
    },
    {
     "name": "stderr",
     "output_type": "stream",
     "text": [
      "/opt/anaconda3/lib/python3.11/site-packages/pytorch_tabnet/callbacks.py:172: UserWarning: Best weights from best epoch are automatically used!\n",
      "  warnings.warn(wrn_msg)\n",
      "[I 2024-11-18 12:40:10,671] Trial 249 finished with value: 0.7958340057612099 and parameters: {'n_a_d': 128, 'n_steps': 9, 'gamma': 0.01, 'lambda': 0.001, 'batch_size': 1024, 'virtual_batch_size': 1024, 'lr': 0.04, 'gamma_decay': 0.95, 'mask_type': 'sparsemax', 'batch_momentum': 0.95}. Best is trial 162 with value: 0.8133091520605825.\n"
     ]
    }
   ],
   "source": [
    "study.optimize(objective, \n",
    "               timeout=60*60*6, \n",
    "               n_trials=250, \n",
    "               gc_after_trial=False)"
   ]
  },
  {
   "cell_type": "code",
   "execution_count": null,
   "id": "994ec8a1-0e32-43ea-9f4b-3c9f4c70fa43",
   "metadata": {},
   "outputs": [
    {
     "data": {
      "text/plain": [
       "{'n_a_d': 24,\n",
       " 'n_steps': 9,\n",
       " 'gamma': 0.01,\n",
       " 'lambda': 0.01,\n",
       " 'batch_size': 2048,\n",
       " 'virtual_batch_size': 1024,\n",
       " 'lr': 0.04,\n",
       " 'gamma_decay': 0.95,\n",
       " 'mask_type': 'entmax',\n",
       " 'batch_momentum': 0.95}"
      ]
     },
     "execution_count": 9,
     "metadata": {},
     "output_type": "execute_result"
    }
   ],
   "source": [
    "study.best_params"
   ]
  },
  {
   "cell_type": "code",
   "execution_count": null,
   "id": "94520549-e76d-4588-bb29-ebac9586d671",
   "metadata": {},
   "outputs": [
    {
     "name": "stderr",
     "output_type": "stream",
     "text": [
      "/opt/anaconda3/lib/python3.11/site-packages/pytorch_tabnet/abstract_model.py:82: UserWarning: Device used : cpu\n",
      "  warnings.warn(f\"Device used : {self.device}\")\n"
     ]
    }
   ],
   "source": [
    "# Define the model with optimized parameters EU\n",
    "clf = TabNetClassifier(\n",
    "    n_d=24,  # Set decision dimension\n",
    "    n_a=24,  # Set attention dimension\n",
    "    n_steps=9,  # Number of steps in the network\n",
    "    gamma=0.01,  # Gamma parameter\n",
    "    lambda_sparse=0.01,  # Sparsity regularization\n",
    "    optimizer_fn=torch.optim.Adam,\n",
    "    optimizer_params=dict(lr=0.04),  # Learning rate\n",
    "    scheduler_params={\"step_size\": 10, \"gamma\": 0.95},  # Scheduler decay rate\n",
    "    scheduler_fn=torch.optim.lr_scheduler.StepLR,\n",
    "    mask_type='entmax',  # Mask type\n",
    "    momentum=0.95  # Batch normalization momentum\n",
    ")"
   ]
  },
  {
   "cell_type": "code",
   "execution_count": null,
   "id": "234b03c5-da21-43d2-a3df-a0a239da05f4",
   "metadata": {},
   "outputs": [
    {
     "name": "stdout",
     "output_type": "stream",
     "text": [
      "epoch 0  | loss: 0.97975 | train_auc: 0.58093 | train_balanced_accuracy: 0.51687 | val_auc: 0.5422  | val_balanced_accuracy: 0.50816 |  0:00:01s\n",
      "epoch 1  | loss: 0.74671 | train_auc: 0.56948 | train_balanced_accuracy: 0.516   | val_auc: 0.51327 | val_balanced_accuracy: 0.50915 |  0:00:02s\n",
      "epoch 2  | loss: 0.66839 | train_auc: 0.58935 | train_balanced_accuracy: 0.52015 | val_auc: 0.55285 | val_balanced_accuracy: 0.51125 |  0:00:04s\n",
      "epoch 3  | loss: 0.61697 | train_auc: 0.62762 | train_balanced_accuracy: 0.5202  | val_auc: 0.61796 | val_balanced_accuracy: 0.52108 |  0:00:05s\n",
      "epoch 4  | loss: 0.59314 | train_auc: 0.68386 | train_balanced_accuracy: 0.52716 | val_auc: 0.65065 | val_balanced_accuracy: 0.51201 |  0:00:06s\n",
      "epoch 5  | loss: 0.56818 | train_auc: 0.68029 | train_balanced_accuracy: 0.52369 | val_auc: 0.65081 | val_balanced_accuracy: 0.51536 |  0:00:08s\n",
      "epoch 6  | loss: 0.56258 | train_auc: 0.70441 | train_balanced_accuracy: 0.52475 | val_auc: 0.65815 | val_balanced_accuracy: 0.51288 |  0:00:09s\n",
      "epoch 7  | loss: 0.55471 | train_auc: 0.71524 | train_balanced_accuracy: 0.53092 | val_auc: 0.67874 | val_balanced_accuracy: 0.52156 |  0:00:10s\n",
      "epoch 8  | loss: 0.54315 | train_auc: 0.70434 | train_balanced_accuracy: 0.52661 | val_auc: 0.65249 | val_balanced_accuracy: 0.51043 |  0:00:12s\n",
      "epoch 9  | loss: 0.54018 | train_auc: 0.7309  | train_balanced_accuracy: 0.54362 | val_auc: 0.68309 | val_balanced_accuracy: 0.52802 |  0:00:13s\n",
      "epoch 10 | loss: 0.54572 | train_auc: 0.72239 | train_balanced_accuracy: 0.5343  | val_auc: 0.68671 | val_balanced_accuracy: 0.52109 |  0:00:14s\n",
      "epoch 11 | loss: 0.5337  | train_auc: 0.73374 | train_balanced_accuracy: 0.53474 | val_auc: 0.69233 | val_balanced_accuracy: 0.5263  |  0:00:16s\n",
      "epoch 12 | loss: 0.53388 | train_auc: 0.73833 | train_balanced_accuracy: 0.54233 | val_auc: 0.69205 | val_balanced_accuracy: 0.5242  |  0:00:17s\n",
      "epoch 13 | loss: 0.53295 | train_auc: 0.74804 | train_balanced_accuracy: 0.5539  | val_auc: 0.69911 | val_balanced_accuracy: 0.53192 |  0:00:18s\n",
      "epoch 14 | loss: 0.52654 | train_auc: 0.7383  | train_balanced_accuracy: 0.53312 | val_auc: 0.68869 | val_balanced_accuracy: 0.52136 |  0:00:19s\n",
      "epoch 15 | loss: 0.52534 | train_auc: 0.74069 | train_balanced_accuracy: 0.55523 | val_auc: 0.6935  | val_balanced_accuracy: 0.53827 |  0:00:21s\n",
      "epoch 16 | loss: 0.52091 | train_auc: 0.74585 | train_balanced_accuracy: 0.53639 | val_auc: 0.70176 | val_balanced_accuracy: 0.52188 |  0:00:22s\n",
      "epoch 17 | loss: 0.51703 | train_auc: 0.7568  | train_balanced_accuracy: 0.53797 | val_auc: 0.70568 | val_balanced_accuracy: 0.51841 |  0:00:23s\n",
      "epoch 18 | loss: 0.50883 | train_auc: 0.74999 | train_balanced_accuracy: 0.54068 | val_auc: 0.70381 | val_balanced_accuracy: 0.52894 |  0:00:25s\n",
      "epoch 19 | loss: 0.50979 | train_auc: 0.75761 | train_balanced_accuracy: 0.54035 | val_auc: 0.7208  | val_balanced_accuracy: 0.52701 |  0:00:26s\n",
      "epoch 20 | loss: 0.5091  | train_auc: 0.76326 | train_balanced_accuracy: 0.56672 | val_auc: 0.71359 | val_balanced_accuracy: 0.5506  |  0:00:27s\n",
      "epoch 21 | loss: 0.50673 | train_auc: 0.76125 | train_balanced_accuracy: 0.54178 | val_auc: 0.71788 | val_balanced_accuracy: 0.52552 |  0:00:28s\n",
      "epoch 22 | loss: 0.50289 | train_auc: 0.77069 | train_balanced_accuracy: 0.55001 | val_auc: 0.7156  | val_balanced_accuracy: 0.52734 |  0:00:30s\n",
      "epoch 23 | loss: 0.49121 | train_auc: 0.78257 | train_balanced_accuracy: 0.56656 | val_auc: 0.73636 | val_balanced_accuracy: 0.55126 |  0:00:31s\n",
      "epoch 24 | loss: 0.49262 | train_auc: 0.78848 | train_balanced_accuracy: 0.59027 | val_auc: 0.73766 | val_balanced_accuracy: 0.56326 |  0:00:32s\n",
      "epoch 25 | loss: 0.4859  | train_auc: 0.78524 | train_balanced_accuracy: 0.55591 | val_auc: 0.72928 | val_balanced_accuracy: 0.54037 |  0:00:34s\n",
      "epoch 26 | loss: 0.47615 | train_auc: 0.7952  | train_balanced_accuracy: 0.57871 | val_auc: 0.7477  | val_balanced_accuracy: 0.5558  |  0:00:35s\n",
      "epoch 27 | loss: 0.47716 | train_auc: 0.79101 | train_balanced_accuracy: 0.54626 | val_auc: 0.74299 | val_balanced_accuracy: 0.5257  |  0:00:36s\n",
      "epoch 28 | loss: 0.47653 | train_auc: 0.79155 | train_balanced_accuracy: 0.61337 | val_auc: 0.72509 | val_balanced_accuracy: 0.58449 |  0:00:37s\n",
      "epoch 29 | loss: 0.47365 | train_auc: 0.78978 | train_balanced_accuracy: 0.55076 | val_auc: 0.74359 | val_balanced_accuracy: 0.52802 |  0:00:39s\n",
      "epoch 30 | loss: 0.47022 | train_auc: 0.7812  | train_balanced_accuracy: 0.58362 | val_auc: 0.72807 | val_balanced_accuracy: 0.56624 |  0:00:40s\n",
      "epoch 31 | loss: 0.47484 | train_auc: 0.80075 | train_balanced_accuracy: 0.61828 | val_auc: 0.74285 | val_balanced_accuracy: 0.5927  |  0:00:41s\n",
      "epoch 32 | loss: 0.47092 | train_auc: 0.78211 | train_balanced_accuracy: 0.70005 | val_auc: 0.71374 | val_balanced_accuracy: 0.64806 |  0:00:42s\n",
      "epoch 33 | loss: 0.47039 | train_auc: 0.78453 | train_balanced_accuracy: 0.58844 | val_auc: 0.73243 | val_balanced_accuracy: 0.56757 |  0:00:44s\n",
      "epoch 34 | loss: 0.46099 | train_auc: 0.81723 | train_balanced_accuracy: 0.61229 | val_auc: 0.75506 | val_balanced_accuracy: 0.5754  |  0:00:45s\n",
      "epoch 35 | loss: 0.46416 | train_auc: 0.79082 | train_balanced_accuracy: 0.58672 | val_auc: 0.73572 | val_balanced_accuracy: 0.56903 |  0:00:46s\n",
      "epoch 36 | loss: 0.46021 | train_auc: 0.8028  | train_balanced_accuracy: 0.59134 | val_auc: 0.7547  | val_balanced_accuracy: 0.55998 |  0:00:47s\n",
      "epoch 37 | loss: 0.45593 | train_auc: 0.78966 | train_balanced_accuracy: 0.57891 | val_auc: 0.74123 | val_balanced_accuracy: 0.54232 |  0:00:49s\n",
      "epoch 38 | loss: 0.45081 | train_auc: 0.78785 | train_balanced_accuracy: 0.58941 | val_auc: 0.73966 | val_balanced_accuracy: 0.55096 |  0:00:50s\n",
      "epoch 39 | loss: 0.45214 | train_auc: 0.76146 | train_balanced_accuracy: 0.67404 | val_auc: 0.69057 | val_balanced_accuracy: 0.61765 |  0:00:51s\n",
      "epoch 40 | loss: 0.45064 | train_auc: 0.79513 | train_balanced_accuracy: 0.678   | val_auc: 0.71675 | val_balanced_accuracy: 0.62918 |  0:00:52s\n",
      "epoch 41 | loss: 0.4519  | train_auc: 0.79583 | train_balanced_accuracy: 0.63347 | val_auc: 0.7436  | val_balanced_accuracy: 0.59959 |  0:00:53s\n",
      "epoch 42 | loss: 0.4509  | train_auc: 0.72326 | train_balanced_accuracy: 0.6225  | val_auc: 0.66351 | val_balanced_accuracy: 0.58437 |  0:00:55s\n",
      "epoch 43 | loss: 0.44954 | train_auc: 0.80908 | train_balanced_accuracy: 0.63762 | val_auc: 0.74071 | val_balanced_accuracy: 0.58192 |  0:00:56s\n",
      "epoch 44 | loss: 0.44512 | train_auc: 0.81511 | train_balanced_accuracy: 0.60359 | val_auc: 0.75982 | val_balanced_accuracy: 0.5803  |  0:00:57s\n",
      "epoch 45 | loss: 0.44006 | train_auc: 0.81738 | train_balanced_accuracy: 0.6024  | val_auc: 0.75463 | val_balanced_accuracy: 0.56196 |  0:00:59s\n",
      "epoch 46 | loss: 0.43422 | train_auc: 0.81909 | train_balanced_accuracy: 0.63453 | val_auc: 0.75753 | val_balanced_accuracy: 0.59585 |  0:01:00s\n",
      "epoch 47 | loss: 0.43645 | train_auc: 0.81484 | train_balanced_accuracy: 0.64721 | val_auc: 0.75112 | val_balanced_accuracy: 0.60693 |  0:01:01s\n",
      "epoch 48 | loss: 0.43534 | train_auc: 0.80227 | train_balanced_accuracy: 0.61276 | val_auc: 0.74619 | val_balanced_accuracy: 0.59668 |  0:01:02s\n",
      "epoch 49 | loss: 0.43138 | train_auc: 0.81945 | train_balanced_accuracy: 0.67882 | val_auc: 0.73122 | val_balanced_accuracy: 0.61305 |  0:01:04s\n",
      "epoch 50 | loss: 0.43225 | train_auc: 0.84022 | train_balanced_accuracy: 0.68006 | val_auc: 0.73861 | val_balanced_accuracy: 0.61561 |  0:01:05s\n",
      "epoch 51 | loss: 0.42666 | train_auc: 0.80714 | train_balanced_accuracy: 0.61017 | val_auc: 0.73543 | val_balanced_accuracy: 0.57219 |  0:01:06s\n",
      "epoch 52 | loss: 0.42546 | train_auc: 0.75733 | train_balanced_accuracy: 0.66649 | val_auc: 0.68222 | val_balanced_accuracy: 0.60889 |  0:01:07s\n",
      "epoch 53 | loss: 0.42259 | train_auc: 0.8116  | train_balanced_accuracy: 0.72815 | val_auc: 0.71758 | val_balanced_accuracy: 0.65015 |  0:01:09s\n",
      "epoch 54 | loss: 0.42405 | train_auc: 0.83264 | train_balanced_accuracy: 0.70621 | val_auc: 0.72954 | val_balanced_accuracy: 0.64084 |  0:01:10s\n",
      "epoch 55 | loss: 0.42223 | train_auc: 0.83563 | train_balanced_accuracy: 0.63741 | val_auc: 0.74965 | val_balanced_accuracy: 0.59761 |  0:01:11s\n",
      "epoch 56 | loss: 0.42667 | train_auc: 0.8127  | train_balanced_accuracy: 0.70154 | val_auc: 0.72006 | val_balanced_accuracy: 0.6552  |  0:01:13s\n",
      "epoch 57 | loss: 0.42461 | train_auc: 0.81487 | train_balanced_accuracy: 0.63463 | val_auc: 0.73914 | val_balanced_accuracy: 0.59011 |  0:01:14s\n",
      "epoch 58 | loss: 0.42362 | train_auc: 0.79742 | train_balanced_accuracy: 0.70101 | val_auc: 0.69731 | val_balanced_accuracy: 0.63462 |  0:01:15s\n",
      "epoch 59 | loss: 0.41688 | train_auc: 0.81928 | train_balanced_accuracy: 0.64905 | val_auc: 0.73529 | val_balanced_accuracy: 0.60205 |  0:01:17s\n",
      "epoch 60 | loss: 0.41057 | train_auc: 0.83029 | train_balanced_accuracy: 0.66993 | val_auc: 0.75245 | val_balanced_accuracy: 0.61725 |  0:01:18s\n",
      "epoch 61 | loss: 0.40544 | train_auc: 0.83699 | train_balanced_accuracy: 0.64375 | val_auc: 0.7638  | val_balanced_accuracy: 0.59076 |  0:01:19s\n",
      "epoch 62 | loss: 0.40682 | train_auc: 0.83123 | train_balanced_accuracy: 0.65496 | val_auc: 0.73822 | val_balanced_accuracy: 0.60608 |  0:01:21s\n",
      "epoch 63 | loss: 0.40142 | train_auc: 0.82913 | train_balanced_accuracy: 0.67927 | val_auc: 0.74701 | val_balanced_accuracy: 0.62141 |  0:01:22s\n",
      "epoch 64 | loss: 0.39446 | train_auc: 0.82319 | train_balanced_accuracy: 0.68288 | val_auc: 0.7215  | val_balanced_accuracy: 0.61771 |  0:01:23s\n",
      "epoch 65 | loss: 0.4024  | train_auc: 0.83028 | train_balanced_accuracy: 0.67803 | val_auc: 0.73879 | val_balanced_accuracy: 0.61903 |  0:01:25s\n",
      "epoch 66 | loss: 0.39179 | train_auc: 0.83476 | train_balanced_accuracy: 0.68858 | val_auc: 0.7402  | val_balanced_accuracy: 0.61607 |  0:01:26s\n",
      "epoch 67 | loss: 0.38875 | train_auc: 0.84026 | train_balanced_accuracy: 0.68246 | val_auc: 0.73926 | val_balanced_accuracy: 0.61273 |  0:01:27s\n",
      "epoch 68 | loss: 0.38734 | train_auc: 0.83871 | train_balanced_accuracy: 0.70911 | val_auc: 0.71828 | val_balanced_accuracy: 0.63257 |  0:01:29s\n",
      "epoch 69 | loss: 0.38489 | train_auc: 0.82947 | train_balanced_accuracy: 0.69822 | val_auc: 0.73461 | val_balanced_accuracy: 0.62638 |  0:01:30s\n",
      "epoch 70 | loss: 0.38898 | train_auc: 0.84107 | train_balanced_accuracy: 0.68868 | val_auc: 0.72166 | val_balanced_accuracy: 0.61193 |  0:01:31s\n",
      "epoch 71 | loss: 0.38607 | train_auc: 0.83981 | train_balanced_accuracy: 0.70917 | val_auc: 0.74188 | val_balanced_accuracy: 0.63526 |  0:01:33s\n",
      "epoch 72 | loss: 0.39469 | train_auc: 0.85196 | train_balanced_accuracy: 0.68386 | val_auc: 0.75387 | val_balanced_accuracy: 0.61162 |  0:01:34s\n",
      "epoch 73 | loss: 0.37872 | train_auc: 0.85343 | train_balanced_accuracy: 0.68159 | val_auc: 0.74994 | val_balanced_accuracy: 0.61248 |  0:01:35s\n",
      "epoch 74 | loss: 0.37725 | train_auc: 0.83411 | train_balanced_accuracy: 0.69423 | val_auc: 0.73802 | val_balanced_accuracy: 0.6254  |  0:01:37s\n",
      "epoch 75 | loss: 0.37487 | train_auc: 0.82868 | train_balanced_accuracy: 0.69635 | val_auc: 0.71837 | val_balanced_accuracy: 0.63303 |  0:01:38s\n",
      "epoch 76 | loss: 0.37169 | train_auc: 0.8406  | train_balanced_accuracy: 0.71842 | val_auc: 0.73164 | val_balanced_accuracy: 0.64929 |  0:01:40s\n",
      "epoch 77 | loss: 0.36358 | train_auc: 0.85366 | train_balanced_accuracy: 0.73015 | val_auc: 0.7344  | val_balanced_accuracy: 0.64535 |  0:01:41s\n",
      "epoch 78 | loss: 0.36673 | train_auc: 0.85515 | train_balanced_accuracy: 0.75283 | val_auc: 0.70263 | val_balanced_accuracy: 0.64564 |  0:01:43s\n",
      "epoch 79 | loss: 0.36122 | train_auc: 0.67636 | train_balanced_accuracy: 0.63797 | val_auc: 0.62048 | val_balanced_accuracy: 0.57704 |  0:01:44s\n",
      "epoch 80 | loss: 0.36013 | train_auc: 0.84348 | train_balanced_accuracy: 0.7125  | val_auc: 0.72968 | val_balanced_accuracy: 0.62738 |  0:01:45s\n",
      "epoch 81 | loss: 0.3657  | train_auc: 0.86571 | train_balanced_accuracy: 0.68247 | val_auc: 0.75318 | val_balanced_accuracy: 0.61338 |  0:01:47s\n",
      "epoch 82 | loss: 0.35336 | train_auc: 0.8541  | train_balanced_accuracy: 0.72345 | val_auc: 0.73161 | val_balanced_accuracy: 0.63311 |  0:01:48s\n",
      "epoch 83 | loss: 0.35831 | train_auc: 0.89728 | train_balanced_accuracy: 0.69587 | val_auc: 0.75215 | val_balanced_accuracy: 0.59785 |  0:01:49s\n",
      "epoch 84 | loss: 0.3633  | train_auc: 0.87539 | train_balanced_accuracy: 0.70792 | val_auc: 0.745   | val_balanced_accuracy: 0.62025 |  0:01:51s\n",
      "epoch 85 | loss: 0.36043 | train_auc: 0.70342 | train_balanced_accuracy: 0.6488  | val_auc: 0.64104 | val_balanced_accuracy: 0.598   |  0:01:52s\n",
      "epoch 86 | loss: 0.35223 | train_auc: 0.83775 | train_balanced_accuracy: 0.70827 | val_auc: 0.68395 | val_balanced_accuracy: 0.60943 |  0:01:54s\n",
      "epoch 87 | loss: 0.35729 | train_auc: 0.84553 | train_balanced_accuracy: 0.71431 | val_auc: 0.71622 | val_balanced_accuracy: 0.63584 |  0:01:55s\n",
      "epoch 88 | loss: 0.3479  | train_auc: 0.87649 | train_balanced_accuracy: 0.71191 | val_auc: 0.73446 | val_balanced_accuracy: 0.61716 |  0:01:56s\n",
      "epoch 89 | loss: 0.34628 | train_auc: 0.87379 | train_balanced_accuracy: 0.72535 | val_auc: 0.7489  | val_balanced_accuracy: 0.63604 |  0:01:58s\n",
      "epoch 90 | loss: 0.34631 | train_auc: 0.84392 | train_balanced_accuracy: 0.71269 | val_auc: 0.71322 | val_balanced_accuracy: 0.62377 |  0:01:59s\n",
      "epoch 91 | loss: 0.35285 | train_auc: 0.86396 | train_balanced_accuracy: 0.76119 | val_auc: 0.72667 | val_balanced_accuracy: 0.66098 |  0:02:01s\n",
      "epoch 92 | loss: 0.35753 | train_auc: 0.87403 | train_balanced_accuracy: 0.78521 | val_auc: 0.73621 | val_balanced_accuracy: 0.67442 |  0:02:02s\n",
      "epoch 93 | loss: 0.34631 | train_auc: 0.83708 | train_balanced_accuracy: 0.71822 | val_auc: 0.69535 | val_balanced_accuracy: 0.62543 |  0:02:04s\n",
      "epoch 94 | loss: 0.34474 | train_auc: 0.70341 | train_balanced_accuracy: 0.66086 | val_auc: 0.62789 | val_balanced_accuracy: 0.59306 |  0:02:05s\n",
      "epoch 95 | loss: 0.33225 | train_auc: 0.88767 | train_balanced_accuracy: 0.71963 | val_auc: 0.74705 | val_balanced_accuracy: 0.62331 |  0:02:06s\n",
      "epoch 96 | loss: 0.33207 | train_auc: 0.86994 | train_balanced_accuracy: 0.70659 | val_auc: 0.74163 | val_balanced_accuracy: 0.62672 |  0:02:08s\n",
      "epoch 97 | loss: 0.33027 | train_auc: 0.72274 | train_balanced_accuracy: 0.67283 | val_auc: 0.65208 | val_balanced_accuracy: 0.61086 |  0:02:09s\n",
      "epoch 98 | loss: 0.33114 | train_auc: 0.88401 | train_balanced_accuracy: 0.75595 | val_auc: 0.71133 | val_balanced_accuracy: 0.6337  |  0:02:11s\n",
      "epoch 99 | loss: 0.32642 | train_auc: 0.88496 | train_balanced_accuracy: 0.79338 | val_auc: 0.71629 | val_balanced_accuracy: 0.66114 |  0:02:12s\n",
      "epoch 100| loss: 0.3201  | train_auc: 0.88115 | train_balanced_accuracy: 0.74824 | val_auc: 0.71744 | val_balanced_accuracy: 0.63365 |  0:02:13s\n",
      "epoch 101| loss: 0.31213 | train_auc: 0.87281 | train_balanced_accuracy: 0.73652 | val_auc: 0.71871 | val_balanced_accuracy: 0.62895 |  0:02:15s\n",
      "epoch 102| loss: 0.31745 | train_auc: 0.86673 | train_balanced_accuracy: 0.746   | val_auc: 0.69865 | val_balanced_accuracy: 0.6243  |  0:02:16s\n",
      "epoch 103| loss: 0.31595 | train_auc: 0.88637 | train_balanced_accuracy: 0.79417 | val_auc: 0.71739 | val_balanced_accuracy: 0.66456 |  0:02:18s\n",
      "epoch 104| loss: 0.31999 | train_auc: 0.85399 | train_balanced_accuracy: 0.71936 | val_auc: 0.69111 | val_balanced_accuracy: 0.60623 |  0:02:19s\n",
      "epoch 105| loss: 0.31157 | train_auc: 0.8628  | train_balanced_accuracy: 0.75812 | val_auc: 0.69451 | val_balanced_accuracy: 0.62824 |  0:02:21s\n",
      "epoch 106| loss: 0.30793 | train_auc: 0.88589 | train_balanced_accuracy: 0.77143 | val_auc: 0.72722 | val_balanced_accuracy: 0.64903 |  0:02:22s\n",
      "epoch 107| loss: 0.30823 | train_auc: 0.69232 | train_balanced_accuracy: 0.66844 | val_auc: 0.61063 | val_balanced_accuracy: 0.58366 |  0:02:23s\n",
      "epoch 108| loss: 0.31576 | train_auc: 0.9001  | train_balanced_accuracy: 0.77423 | val_auc: 0.73231 | val_balanced_accuracy: 0.64195 |  0:02:25s\n",
      "epoch 109| loss: 0.31483 | train_auc: 0.85118 | train_balanced_accuracy: 0.74397 | val_auc: 0.69983 | val_balanced_accuracy: 0.63032 |  0:02:26s\n",
      "epoch 110| loss: 0.30542 | train_auc: 0.894   | train_balanced_accuracy: 0.80809 | val_auc: 0.71939 | val_balanced_accuracy: 0.65804 |  0:02:28s\n",
      "epoch 111| loss: 0.30097 | train_auc: 0.87474 | train_balanced_accuracy: 0.78863 | val_auc: 0.69819 | val_balanced_accuracy: 0.64541 |  0:02:29s\n",
      "epoch 112| loss: 0.29336 | train_auc: 0.89714 | train_balanced_accuracy: 0.75322 | val_auc: 0.72634 | val_balanced_accuracy: 0.62577 |  0:02:31s\n",
      "epoch 113| loss: 0.2928  | train_auc: 0.88876 | train_balanced_accuracy: 0.76661 | val_auc: 0.71589 | val_balanced_accuracy: 0.63844 |  0:02:32s\n",
      "epoch 114| loss: 0.28897 | train_auc: 0.89237 | train_balanced_accuracy: 0.77824 | val_auc: 0.70865 | val_balanced_accuracy: 0.63728 |  0:02:34s\n",
      "epoch 115| loss: 0.28911 | train_auc: 0.89411 | train_balanced_accuracy: 0.75681 | val_auc: 0.71166 | val_balanced_accuracy: 0.62867 |  0:02:35s\n",
      "epoch 116| loss: 0.28677 | train_auc: 0.88549 | train_balanced_accuracy: 0.75371 | val_auc: 0.70998 | val_balanced_accuracy: 0.62856 |  0:02:36s\n",
      "epoch 117| loss: 0.29659 | train_auc: 0.8887  | train_balanced_accuracy: 0.79969 | val_auc: 0.6903  | val_balanced_accuracy: 0.63975 |  0:02:38s\n",
      "epoch 118| loss: 0.30669 | train_auc: 0.91354 | train_balanced_accuracy: 0.77401 | val_auc: 0.73206 | val_balanced_accuracy: 0.64564 |  0:02:39s\n",
      "epoch 119| loss: 0.30121 | train_auc: 0.90092 | train_balanced_accuracy: 0.78282 | val_auc: 0.71195 | val_balanced_accuracy: 0.63603 |  0:02:41s\n",
      "epoch 120| loss: 0.30192 | train_auc: 0.69663 | train_balanced_accuracy: 0.67519 | val_auc: 0.6094  | val_balanced_accuracy: 0.58032 |  0:02:42s\n",
      "epoch 121| loss: 0.28925 | train_auc: 0.87934 | train_balanced_accuracy: 0.79891 | val_auc: 0.69201 | val_balanced_accuracy: 0.6441  |  0:02:43s\n",
      "epoch 122| loss: 0.28771 | train_auc: 0.87397 | train_balanced_accuracy: 0.74811 | val_auc: 0.68665 | val_balanced_accuracy: 0.62088 |  0:02:45s\n",
      "epoch 123| loss: 0.28785 | train_auc: 0.90757 | train_balanced_accuracy: 0.79228 | val_auc: 0.71448 | val_balanced_accuracy: 0.6392  |  0:02:46s\n",
      "epoch 124| loss: 0.28579 | train_auc: 0.89883 | train_balanced_accuracy: 0.77144 | val_auc: 0.70491 | val_balanced_accuracy: 0.6322  |  0:02:48s\n",
      "epoch 125| loss: 0.27957 | train_auc: 0.89199 | train_balanced_accuracy: 0.77832 | val_auc: 0.68967 | val_balanced_accuracy: 0.61497 |  0:02:49s\n",
      "epoch 126| loss: 0.28011 | train_auc: 0.88443 | train_balanced_accuracy: 0.75932 | val_auc: 0.67881 | val_balanced_accuracy: 0.61434 |  0:02:51s\n",
      "epoch 127| loss: 0.28125 | train_auc: 0.9001  | train_balanced_accuracy: 0.78078 | val_auc: 0.69445 | val_balanced_accuracy: 0.62475 |  0:02:52s\n",
      "epoch 128| loss: 0.27966 | train_auc: 0.90747 | train_balanced_accuracy: 0.81997 | val_auc: 0.70154 | val_balanced_accuracy: 0.64082 |  0:02:53s\n",
      "epoch 129| loss: 0.27519 | train_auc: 0.89811 | train_balanced_accuracy: 0.77371 | val_auc: 0.70749 | val_balanced_accuracy: 0.62767 |  0:02:55s\n",
      "epoch 130| loss: 0.28506 | train_auc: 0.9129  | train_balanced_accuracy: 0.76598 | val_auc: 0.70738 | val_balanced_accuracy: 0.62608 |  0:02:56s\n",
      "epoch 131| loss: 0.27373 | train_auc: 0.91394 | train_balanced_accuracy: 0.77762 | val_auc: 0.70576 | val_balanced_accuracy: 0.6291  |  0:02:58s\n",
      "epoch 132| loss: 0.25727 | train_auc: 0.91842 | train_balanced_accuracy: 0.77108 | val_auc: 0.7063  | val_balanced_accuracy: 0.62282 |  0:02:59s\n",
      "epoch 133| loss: 0.24944 | train_auc: 0.92235 | train_balanced_accuracy: 0.76301 | val_auc: 0.72294 | val_balanced_accuracy: 0.6279  |  0:03:01s\n",
      "epoch 134| loss: 0.25935 | train_auc: 0.9314  | train_balanced_accuracy: 0.79503 | val_auc: 0.7123  | val_balanced_accuracy: 0.61886 |  0:03:02s\n",
      "epoch 135| loss: 0.25856 | train_auc: 0.71015 | train_balanced_accuracy: 0.67555 | val_auc: 0.61899 | val_balanced_accuracy: 0.58344 |  0:03:04s\n",
      "epoch 136| loss: 0.25713 | train_auc: 0.91246 | train_balanced_accuracy: 0.79587 | val_auc: 0.70049 | val_balanced_accuracy: 0.6254  |  0:03:05s\n",
      "epoch 137| loss: 0.24889 | train_auc: 0.91958 | train_balanced_accuracy: 0.80442 | val_auc: 0.71909 | val_balanced_accuracy: 0.64534 |  0:03:07s\n",
      "epoch 138| loss: 0.25229 | train_auc: 0.90774 | train_balanced_accuracy: 0.77914 | val_auc: 0.69589 | val_balanced_accuracy: 0.62104 |  0:03:08s\n",
      "epoch 139| loss: 0.26429 | train_auc: 0.93511 | train_balanced_accuracy: 0.85282 | val_auc: 0.71454 | val_balanced_accuracy: 0.66071 |  0:03:09s\n",
      "epoch 140| loss: 0.24878 | train_auc: 0.68387 | train_balanced_accuracy: 0.65882 | val_auc: 0.60278 | val_balanced_accuracy: 0.57307 |  0:03:11s\n",
      "epoch 141| loss: 0.25863 | train_auc: 0.76819 | train_balanced_accuracy: 0.7052  | val_auc: 0.64425 | val_balanced_accuracy: 0.59351 |  0:03:12s\n",
      "epoch 142| loss: 0.26339 | train_auc: 0.94925 | train_balanced_accuracy: 0.87429 | val_auc: 0.73854 | val_balanced_accuracy: 0.66638 |  0:03:14s\n",
      "epoch 143| loss: 0.26338 | train_auc: 0.73608 | train_balanced_accuracy: 0.67898 | val_auc: 0.62952 | val_balanced_accuracy: 0.59044 |  0:03:15s\n",
      "epoch 144| loss: 0.25364 | train_auc: 0.93226 | train_balanced_accuracy: 0.78057 | val_auc: 0.72572 | val_balanced_accuracy: 0.62702 |  0:03:17s\n",
      "epoch 145| loss: 0.24878 | train_auc: 0.91007 | train_balanced_accuracy: 0.79726 | val_auc: 0.70342 | val_balanced_accuracy: 0.63334 |  0:03:18s\n",
      "epoch 146| loss: 0.25189 | train_auc: 0.70184 | train_balanced_accuracy: 0.67132 | val_auc: 0.61    | val_balanced_accuracy: 0.5785  |  0:03:20s\n",
      "epoch 147| loss: 0.245   | train_auc: 0.9193  | train_balanced_accuracy: 0.79383 | val_auc: 0.7009  | val_balanced_accuracy: 0.62681 |  0:03:21s\n",
      "epoch 148| loss: 0.268   | train_auc: 0.91055 | train_balanced_accuracy: 0.79202 | val_auc: 0.70517 | val_balanced_accuracy: 0.63715 |  0:03:22s\n",
      "epoch 149| loss: 0.25487 | train_auc: 0.92701 | train_balanced_accuracy: 0.82341 | val_auc: 0.69383 | val_balanced_accuracy: 0.63127 |  0:03:24s\n",
      "epoch 150| loss: 0.25414 | train_auc: 0.91477 | train_balanced_accuracy: 0.78902 | val_auc: 0.70129 | val_balanced_accuracy: 0.62918 |  0:03:25s\n",
      "epoch 151| loss: 0.24549 | train_auc: 0.93138 | train_balanced_accuracy: 0.83826 | val_auc: 0.70542 | val_balanced_accuracy: 0.65243 |  0:03:27s\n",
      "epoch 152| loss: 0.25104 | train_auc: 0.9031  | train_balanced_accuracy: 0.80205 | val_auc: 0.68153 | val_balanced_accuracy: 0.63425 |  0:03:28s\n",
      "\n",
      "Early stopping occurred at epoch 152 with best_epoch = 92 and best_val_balanced_accuracy = 0.67442\n"
     ]
    },
    {
     "name": "stderr",
     "output_type": "stream",
     "text": [
      "/opt/anaconda3/lib/python3.11/site-packages/pytorch_tabnet/callbacks.py:172: UserWarning: Best weights from best epoch are automatically used!\n",
      "  warnings.warn(wrn_msg)\n"
     ]
    }
   ],
   "source": [
    "# Fit the model\n",
    "clf.fit(\n",
    "    X_train_np, y_train,\n",
    "    eval_set=[(X_train_np, y_train), (X_val_np, y_val)],\n",
    "    eval_name=['train', 'val'],\n",
    "    eval_metric=['auc', 'balanced_accuracy'],\n",
    "    max_epochs=300, patience=60,\n",
    "    batch_size=2048, virtual_batch_size=1024,\n",
    "    num_workers=0,\n",
    "    drop_last=False\n",
    ")"
   ]
  },
  {
   "cell_type": "code",
   "execution_count": null,
   "id": "5ee60d4a-4ab4-417a-9650-2f46055a9ea4",
   "metadata": {},
   "outputs": [
    {
     "name": "stdout",
     "output_type": "stream",
     "text": [
      "              precision    recall  f1-score   support\n",
      "\n",
      "           0       0.46      0.50      0.48      1267\n",
      "           1       0.81      0.78      0.79      3401\n",
      "\n",
      "    accuracy                           0.70      4668\n",
      "   macro avg       0.63      0.64      0.64      4668\n",
      "weighted avg       0.71      0.70      0.71      4668\n",
      "\n"
     ]
    }
   ],
   "source": [
    "y_pred = clf.predict(X_test_np)\n",
    "print(classification_report(y_test, y_pred))"
   ]
  },
  {
   "cell_type": "code",
   "execution_count": null,
   "id": "910e4f22-d7af-4e20-b00c-41a6312e2f14",
   "metadata": {},
   "outputs": [
    {
     "name": "stdout",
     "output_type": "stream",
     "text": [
      "Successfully saved model at eu_tabnet_1118.zip\n"
     ]
    },
    {
     "name": "stderr",
     "output_type": "stream",
     "text": [
      "/opt/anaconda3/lib/python3.11/site-packages/pytorch_tabnet/abstract_model.py:454: FutureWarning: You are using `torch.load` with `weights_only=False` (the current default value), which uses the default pickle module implicitly. It is possible to construct malicious pickle data which will execute arbitrary code during unpickling (See https://github.com/pytorch/pytorch/blob/main/SECURITY.md#untrusted-models for more details). In a future release, the default value for `weights_only` will be flipped to `True`. This limits the functions that could be executed during unpickling. Arbitrary objects will no longer be allowed to be loaded via this mode unless they are explicitly allowlisted by the user via `torch.serialization.add_safe_globals`. We recommend you start setting `weights_only=True` for any use case where you don't have full control of the loaded file. Please open an issue on GitHub for any issues related to this experimental feature.\n",
      "  saved_state_dict = torch.load(f, map_location=self.device)\n"
     ]
    },
    {
     "name": "stdout",
     "output_type": "stream",
     "text": [
      "              precision    recall  f1-score   support\n",
      "\n",
      "           0       0.46      0.50      0.48      1267\n",
      "           1       0.81      0.78      0.79      3401\n",
      "\n",
      "    accuracy                           0.70      4668\n",
      "   macro avg       0.63      0.64      0.64      4668\n",
      "weighted avg       0.71      0.70      0.71      4668\n",
      "\n"
     ]
    }
   ],
   "source": [
    "# Save the trained model\n",
    "clf.save_model('eu_tabnet_1118')\n",
    "# Later, load the model without retraining\n",
    "clf_loaded = TabNetClassifier()\n",
    "clf_loaded.load_model('eu_tabnet_1118.zip')\n",
    "# Verify the loaded model\n",
    "y_pred_loaded = clf_loaded.predict(X_test_np)\n",
    "print(classification_report(y_test, y_pred_loaded))"
   ]
  },
  {
   "cell_type": "code",
   "execution_count": null,
   "id": "c5406a5b-5c6c-4954-9164-075bea0d11d2",
   "metadata": {},
   "outputs": [
    {
     "data": {
      "image/png": "[encoded data removed]",
      "text/plain": [
       "<Figure size 640x480 with 1 Axes>"
      ]
     },
     "metadata": {},
     "output_type": "display_data"
    }
   ],
   "source": [
    "import matplotlib.pyplot as plt\n",
    "from sklearn.metrics import roc_curve, auc\n",
    "\n",
    "y_true = y_test\n",
    "y_pred_proba = y_pred \n",
    "# Compute ROC curve and ROC area\n",
    "fpr, tpr, thresholds = roc_curve(y_true, y_pred_proba)\n",
    "roc_auc = auc(fpr, tpr)\n",
    "\n",
    "# Plotting the ROC curve\n",
    "plt.figure()\n",
    "plt.plot(fpr, tpr, color='blue', label=f'ROC curve (area = {roc_auc:.2f})')\n",
    "plt.plot([0, 1], [0, 1], color='gray', linestyle='--', label='Chance line')\n",
    "plt.xlim([0.0, 1.0])\n",
    "plt.ylim([0.0, 1.05])\n",
    "plt.xlabel('False Positive Rate')\n",
    "plt.ylabel('True Positive Rate')\n",
    "plt.title('Receiver Operating Characteristic (ROC) Curve')\n",
    "plt.legend(loc=\"lower right\")\n",
    "plt.savefig(\"results/241118 EU/TabNet_roc_curve.png\", dpi=300, bbox_inches='tight')\n",
    "plt.show()"
   ]
  },
  {
   "cell_type": "code",
   "execution_count": null,
   "id": "1281cac4-f380-4bac-9402-7326a62785b4",
   "metadata": {},
   "outputs": [
    {
     "data": {
      "image/png": "[encoded data removed]",
      "text/plain": [
       "<Figure size 640x480 with 2 Axes>"
      ]
     },
     "metadata": {},
     "output_type": "display_data"
    }
   ],
   "source": [
    "from sklearn.metrics import confusion_matrix, ConfusionMatrixDisplay\n",
    "\n",
    "# Compute the confusion matrix\n",
    "cm = confusion_matrix(y_true, y_pred)\n",
    "\n",
    "# Plot the confusion matrix\n",
    "disp = ConfusionMatrixDisplay(confusion_matrix=cm)\n",
    "disp.plot(cmap='Blues')\n",
    "plt.title(\"Confusion Matrix\")\n",
    "plt.savefig(\"results/241118 EU/TabNet_confusion_matrix.png\", dpi=300, bbox_inches='tight')\n",
    "plt.show()"
   ]
  },
  {
   "cell_type": "code",
   "execution_count": null,
   "id": "2d929583-9cf9-4c82-a098-d3ac57d1d805",
   "metadata": {},
   "outputs": [
    {
     "name": "stdout",
     "output_type": "stream",
     "text": [
      "Class distribution after SMOTE: auop\n",
      "1    10320\n",
      "0    10320\n",
      "Name: count, dtype: int64\n"
     ]
    }
   ],
   "source": [
    "# Use SMOTE to oversample the minority class in the training set\n",
    "smote = SMOTE()\n",
    "X_train, y_train = smote.fit_resample(X_train, y_train)\n",
    "print(\"Class distribution after SMOTE:\", pd.Series(y_train.value_counts()))"
   ]
  },
  {
   "cell_type": "code",
   "execution_count": null,
   "id": "19d925e0-bf73-495c-9248-6991ff6b5e4b",
   "metadata": {},
   "outputs": [
    {
     "name": "stderr",
     "output_type": "stream",
     "text": [
      "/opt/anaconda3/lib/python3.11/site-packages/pytorch_tabnet/abstract_model.py:82: UserWarning: Device used : cpu\n",
      "  warnings.warn(f\"Device used : {self.device}\")\n"
     ]
    }
   ],
   "source": [
    "# Define the model with optimized parameters EU\n",
    "clf = TabNetClassifier(\n",
    "    n_d=24,  # Set decision dimension\n",
    "    n_a=24,  # Set attention dimension\n",
    "    n_steps=9,  # Number of steps in the network\n",
    "    gamma=0.01,  # Gamma parameter\n",
    "    lambda_sparse=0.01,  # Sparsity regularization\n",
    "    optimizer_fn=torch.optim.Adam,\n",
    "    optimizer_params=dict(lr=0.04),  # Learning rate\n",
    "    scheduler_params={\"step_size\": 10, \"gamma\": 0.95},  # Scheduler decay rate\n",
    "    scheduler_fn=torch.optim.lr_scheduler.StepLR,\n",
    "    mask_type='entmax',  # Mask type\n",
    "    momentum=0.95  # Batch normalization momentum\n",
    ")"
   ]
  },
  {
   "cell_type": "code",
   "execution_count": null,
   "id": "e13b6eaa-9eee-40c4-82b8-d2b3f6752ad7",
   "metadata": {},
   "outputs": [],
   "source": [
    "# Convert DataFrames to NumPy arrays\n",
    "X_train_np = X_train.values\n",
    "X_val_np = X_val.values\n",
    "X_test_np = X_test.values"
   ]
  },
  {
   "cell_type": "code",
   "execution_count": null,
   "id": "b8b76418-5a2f-4692-bc28-d2e4b48a7921",
   "metadata": {},
   "outputs": [
    {
     "name": "stdout",
     "output_type": "stream",
     "text": [
      "epoch 0  | loss: 1.06499 | train_auc: 0.60004 | train_balanced_accuracy: 0.52931 | val_auc: 0.56477 | val_balanced_accuracy: 0.53416 |  0:00:01s\n",
      "epoch 1  | loss: 0.76786 | train_auc: 0.65867 | train_balanced_accuracy: 0.55383 | val_auc: 0.61125 | val_balanced_accuracy: 0.53472 |  0:00:03s\n",
      "epoch 2  | loss: 0.69806 | train_auc: 0.68166 | train_balanced_accuracy: 0.57355 | val_auc: 0.6366  | val_balanced_accuracy: 0.55505 |  0:00:05s\n",
      "epoch 3  | loss: 0.67892 | train_auc: 0.71438 | train_balanced_accuracy: 0.61235 | val_auc: 0.67407 | val_balanced_accuracy: 0.59648 |  0:00:07s\n",
      "epoch 4  | loss: 0.63983 | train_auc: 0.72073 | train_balanced_accuracy: 0.64409 | val_auc: 0.67088 | val_balanced_accuracy: 0.60716 |  0:00:09s\n",
      "epoch 5  | loss: 0.63595 | train_auc: 0.72167 | train_balanced_accuracy: 0.65654 | val_auc: 0.6665  | val_balanced_accuracy: 0.61531 |  0:00:11s\n",
      "epoch 6  | loss: 0.62042 | train_auc: 0.74119 | train_balanced_accuracy: 0.66265 | val_auc: 0.68885 | val_balanced_accuracy: 0.62841 |  0:00:12s\n",
      "epoch 7  | loss: 0.61232 | train_auc: 0.75948 | train_balanced_accuracy: 0.62054 | val_auc: 0.72054 | val_balanced_accuracy: 0.59074 |  0:00:14s\n",
      "epoch 8  | loss: 0.5916  | train_auc: 0.75919 | train_balanced_accuracy: 0.65562 | val_auc: 0.71993 | val_balanced_accuracy: 0.63749 |  0:00:16s\n",
      "epoch 9  | loss: 0.59015 | train_auc: 0.77669 | train_balanced_accuracy: 0.68687 | val_auc: 0.72681 | val_balanced_accuracy: 0.65245 |  0:00:18s\n",
      "epoch 10 | loss: 0.57894 | train_auc: 0.72233 | train_balanced_accuracy: 0.64375 | val_auc: 0.66749 | val_balanced_accuracy: 0.62042 |  0:00:19s\n",
      "epoch 11 | loss: 0.57837 | train_auc: 0.76722 | train_balanced_accuracy: 0.66114 | val_auc: 0.71812 | val_balanced_accuracy: 0.64289 |  0:00:22s\n",
      "epoch 12 | loss: 0.5667  | train_auc: 0.77514 | train_balanced_accuracy: 0.70068 | val_auc: 0.71319 | val_balanced_accuracy: 0.65068 |  0:00:24s\n",
      "epoch 13 | loss: 0.56217 | train_auc: 0.74025 | train_balanced_accuracy: 0.67466 | val_auc: 0.68089 | val_balanced_accuracy: 0.61307 |  0:00:25s\n",
      "epoch 14 | loss: 0.55083 | train_auc: 0.78142 | train_balanced_accuracy: 0.70407 | val_auc: 0.71905 | val_balanced_accuracy: 0.65804 |  0:00:27s\n",
      "epoch 15 | loss: 0.57351 | train_auc: 0.79586 | train_balanced_accuracy: 0.66211 | val_auc: 0.76836 | val_balanced_accuracy: 0.64276 |  0:00:29s\n",
      "epoch 16 | loss: 0.55293 | train_auc: 0.7511  | train_balanced_accuracy: 0.64075 | val_auc: 0.67986 | val_balanced_accuracy: 0.59733 |  0:00:31s\n",
      "epoch 17 | loss: 0.54904 | train_auc: 0.79925 | train_balanced_accuracy: 0.66725 | val_auc: 0.74528 | val_balanced_accuracy: 0.63731 |  0:00:32s\n",
      "epoch 18 | loss: 0.53815 | train_auc: 0.79458 | train_balanced_accuracy: 0.67292 | val_auc: 0.73782 | val_balanced_accuracy: 0.63737 |  0:00:34s\n",
      "epoch 19 | loss: 0.54377 | train_auc: 0.82102 | train_balanced_accuracy: 0.68101 | val_auc: 0.75826 | val_balanced_accuracy: 0.63474 |  0:00:36s\n",
      "epoch 20 | loss: 0.526   | train_auc: 0.78193 | train_balanced_accuracy: 0.70877 | val_auc: 0.70635 | val_balanced_accuracy: 0.64939 |  0:00:38s\n",
      "epoch 21 | loss: 0.51565 | train_auc: 0.79993 | train_balanced_accuracy: 0.69331 | val_auc: 0.7361  | val_balanced_accuracy: 0.6581  |  0:00:40s\n",
      "epoch 22 | loss: 0.51245 | train_auc: 0.71546 | train_balanced_accuracy: 0.653   | val_auc: 0.63332 | val_balanced_accuracy: 0.58232 |  0:00:42s\n",
      "epoch 23 | loss: 0.52086 | train_auc: 0.75762 | train_balanced_accuracy: 0.66652 | val_auc: 0.68447 | val_balanced_accuracy: 0.6232  |  0:00:44s\n",
      "epoch 24 | loss: 0.52607 | train_auc: 0.79521 | train_balanced_accuracy: 0.71492 | val_auc: 0.7163  | val_balanced_accuracy: 0.6594  |  0:00:45s\n",
      "epoch 25 | loss: 0.50669 | train_auc: 0.81496 | train_balanced_accuracy: 0.68726 | val_auc: 0.74907 | val_balanced_accuracy: 0.64394 |  0:00:47s\n",
      "epoch 26 | loss: 0.50931 | train_auc: 0.72703 | train_balanced_accuracy: 0.6657  | val_auc: 0.64385 | val_balanced_accuracy: 0.60007 |  0:00:49s\n",
      "epoch 27 | loss: 0.5203  | train_auc: 0.81578 | train_balanced_accuracy: 0.62258 | val_auc: 0.7523  | val_balanced_accuracy: 0.59189 |  0:00:51s\n",
      "epoch 28 | loss: 0.51077 | train_auc: 0.82629 | train_balanced_accuracy: 0.73522 | val_auc: 0.76347 | val_balanced_accuracy: 0.69276 |  0:00:54s\n",
      "epoch 29 | loss: 0.4948  | train_auc: 0.83362 | train_balanced_accuracy: 0.74065 | val_auc: 0.75773 | val_balanced_accuracy: 0.67988 |  0:00:56s\n",
      "epoch 30 | loss: 0.48016 | train_auc: 0.80884 | train_balanced_accuracy: 0.72607 | val_auc: 0.71496 | val_balanced_accuracy: 0.64849 |  0:00:58s\n",
      "epoch 31 | loss: 0.48264 | train_auc: 0.70966 | train_balanced_accuracy: 0.63125 | val_auc: 0.62537 | val_balanced_accuracy: 0.57437 |  0:01:01s\n",
      "epoch 32 | loss: 0.48085 | train_auc: 0.79173 | train_balanced_accuracy: 0.70141 | val_auc: 0.69976 | val_balanced_accuracy: 0.63814 |  0:01:03s\n",
      "epoch 33 | loss: 0.47826 | train_auc: 0.84152 | train_balanced_accuracy: 0.69075 | val_auc: 0.75732 | val_balanced_accuracy: 0.62198 |  0:01:06s\n",
      "epoch 34 | loss: 0.47116 | train_auc: 0.83589 | train_balanced_accuracy: 0.72098 | val_auc: 0.72427 | val_balanced_accuracy: 0.64403 |  0:01:08s\n",
      "epoch 35 | loss: 0.47616 | train_auc: 0.85205 | train_balanced_accuracy: 0.75203 | val_auc: 0.76952 | val_balanced_accuracy: 0.68806 |  0:01:11s\n",
      "epoch 36 | loss: 0.47247 | train_auc: 0.82603 | train_balanced_accuracy: 0.67452 | val_auc: 0.74974 | val_balanced_accuracy: 0.61921 |  0:01:13s\n",
      "epoch 37 | loss: 0.46415 | train_auc: 0.80969 | train_balanced_accuracy: 0.72297 | val_auc: 0.70882 | val_balanced_accuracy: 0.65074 |  0:01:15s\n",
      "epoch 38 | loss: 0.45557 | train_auc: 0.79283 | train_balanced_accuracy: 0.70732 | val_auc: 0.68453 | val_balanced_accuracy: 0.63028 |  0:01:18s\n",
      "epoch 39 | loss: 0.45775 | train_auc: 0.81675 | train_balanced_accuracy: 0.71744 | val_auc: 0.71044 | val_balanced_accuracy: 0.64486 |  0:01:20s\n",
      "epoch 40 | loss: 0.44554 | train_auc: 0.8283  | train_balanced_accuracy: 0.73828 | val_auc: 0.72378 | val_balanced_accuracy: 0.66063 |  0:01:22s\n",
      "epoch 41 | loss: 0.45084 | train_auc: 0.78675 | train_balanced_accuracy: 0.7047  | val_auc: 0.67103 | val_balanced_accuracy: 0.62207 |  0:01:25s\n",
      "epoch 42 | loss: 0.45124 | train_auc: 0.82571 | train_balanced_accuracy: 0.69695 | val_auc: 0.74381 | val_balanced_accuracy: 0.6361  |  0:01:28s\n",
      "epoch 43 | loss: 0.44888 | train_auc: 0.81941 | train_balanced_accuracy: 0.7234  | val_auc: 0.71125 | val_balanced_accuracy: 0.64744 |  0:01:30s\n",
      "epoch 44 | loss: 0.44358 | train_auc: 0.73765 | train_balanced_accuracy: 0.6563  | val_auc: 0.6406  | val_balanced_accuracy: 0.58971 |  0:01:32s\n",
      "epoch 45 | loss: 0.44065 | train_auc: 0.79617 | train_balanced_accuracy: 0.69535 | val_auc: 0.68711 | val_balanced_accuracy: 0.6163  |  0:01:35s\n",
      "epoch 46 | loss: 0.43299 | train_auc: 0.86253 | train_balanced_accuracy: 0.73648 | val_auc: 0.74372 | val_balanced_accuracy: 0.65553 |  0:01:37s\n",
      "epoch 47 | loss: 0.43163 | train_auc: 0.86138 | train_balanced_accuracy: 0.77098 | val_auc: 0.73837 | val_balanced_accuracy: 0.66771 |  0:01:39s\n",
      "epoch 48 | loss: 0.43109 | train_auc: 0.84213 | train_balanced_accuracy: 0.7484  | val_auc: 0.71185 | val_balanced_accuracy: 0.65299 |  0:01:42s\n",
      "epoch 49 | loss: 0.43558 | train_auc: 0.86009 | train_balanced_accuracy: 0.77466 | val_auc: 0.72855 | val_balanced_accuracy: 0.68063 |  0:01:45s\n",
      "epoch 50 | loss: 0.42885 | train_auc: 0.84761 | train_balanced_accuracy: 0.74806 | val_auc: 0.75092 | val_balanced_accuracy: 0.66801 |  0:01:47s\n",
      "epoch 51 | loss: 0.42554 | train_auc: 0.86389 | train_balanced_accuracy: 0.75465 | val_auc: 0.72195 | val_balanced_accuracy: 0.64728 |  0:01:49s\n",
      "epoch 52 | loss: 0.42119 | train_auc: 0.83556 | train_balanced_accuracy: 0.74428 | val_auc: 0.69824 | val_balanced_accuracy: 0.63802 |  0:01:51s\n",
      "epoch 53 | loss: 0.41855 | train_auc: 0.85107 | train_balanced_accuracy: 0.72277 | val_auc: 0.71419 | val_balanced_accuracy: 0.64363 |  0:01:53s\n",
      "epoch 54 | loss: 0.42117 | train_auc: 0.77479 | train_balanced_accuracy: 0.67955 | val_auc: 0.66161 | val_balanced_accuracy: 0.60968 |  0:01:55s\n",
      "epoch 55 | loss: 0.41469 | train_auc: 0.85281 | train_balanced_accuracy: 0.76575 | val_auc: 0.72155 | val_balanced_accuracy: 0.66365 |  0:01:57s\n",
      "epoch 56 | loss: 0.40566 | train_auc: 0.84545 | train_balanced_accuracy: 0.72926 | val_auc: 0.69233 | val_balanced_accuracy: 0.61997 |  0:01:59s\n",
      "epoch 57 | loss: 0.40424 | train_auc: 0.84819 | train_balanced_accuracy: 0.74535 | val_auc: 0.70716 | val_balanced_accuracy: 0.64318 |  0:02:01s\n",
      "epoch 58 | loss: 0.40518 | train_auc: 0.86329 | train_balanced_accuracy: 0.77466 | val_auc: 0.72935 | val_balanced_accuracy: 0.67601 |  0:02:03s\n",
      "epoch 59 | loss: 0.39975 | train_auc: 0.83051 | train_balanced_accuracy: 0.74375 | val_auc: 0.68935 | val_balanced_accuracy: 0.63677 |  0:02:05s\n",
      "epoch 60 | loss: 0.39291 | train_auc: 0.86377 | train_balanced_accuracy: 0.7733  | val_auc: 0.71805 | val_balanced_accuracy: 0.66382 |  0:02:07s\n",
      "epoch 61 | loss: 0.39384 | train_auc: 0.83309 | train_balanced_accuracy: 0.75048 | val_auc: 0.67288 | val_balanced_accuracy: 0.62855 |  0:02:09s\n",
      "epoch 62 | loss: 0.38292 | train_auc: 0.83184 | train_balanced_accuracy: 0.74341 | val_auc: 0.69096 | val_balanced_accuracy: 0.63385 |  0:02:11s\n",
      "epoch 63 | loss: 0.37321 | train_auc: 0.84613 | train_balanced_accuracy: 0.75233 | val_auc: 0.69881 | val_balanced_accuracy: 0.65015 |  0:02:13s\n",
      "epoch 64 | loss: 0.37838 | train_auc: 0.86519 | train_balanced_accuracy: 0.7719  | val_auc: 0.70467 | val_balanced_accuracy: 0.64397 |  0:02:15s\n",
      "epoch 65 | loss: 0.38338 | train_auc: 0.8725  | train_balanced_accuracy: 0.7655  | val_auc: 0.69374 | val_balanced_accuracy: 0.63744 |  0:02:17s\n",
      "epoch 66 | loss: 0.37016 | train_auc: 0.88614 | train_balanced_accuracy: 0.79985 | val_auc: 0.71662 | val_balanced_accuracy: 0.66115 |  0:02:19s\n",
      "epoch 67 | loss: 0.36544 | train_auc: 0.87167 | train_balanced_accuracy: 0.77485 | val_auc: 0.71498 | val_balanced_accuracy: 0.66333 |  0:02:21s\n",
      "epoch 68 | loss: 0.37174 | train_auc: 0.81356 | train_balanced_accuracy: 0.72936 | val_auc: 0.66553 | val_balanced_accuracy: 0.62094 |  0:02:23s\n",
      "epoch 69 | loss: 0.36108 | train_auc: 0.86984 | train_balanced_accuracy: 0.78164 | val_auc: 0.7029  | val_balanced_accuracy: 0.64537 |  0:02:25s\n",
      "epoch 70 | loss: 0.36307 | train_auc: 0.87229 | train_balanced_accuracy: 0.77757 | val_auc: 0.69834 | val_balanced_accuracy: 0.64559 |  0:02:27s\n",
      "epoch 71 | loss: 0.36232 | train_auc: 0.8987  | train_balanced_accuracy: 0.80029 | val_auc: 0.72954 | val_balanced_accuracy: 0.66664 |  0:02:29s\n",
      "epoch 72 | loss: 0.3536  | train_auc: 0.85337 | train_balanced_accuracy: 0.75368 | val_auc: 0.68111 | val_balanced_accuracy: 0.63074 |  0:02:31s\n",
      "epoch 73 | loss: 0.36399 | train_auc: 0.84258 | train_balanced_accuracy: 0.71298 | val_auc: 0.68763 | val_balanced_accuracy: 0.61059 |  0:02:33s\n",
      "epoch 74 | loss: 0.34955 | train_auc: 0.86978 | train_balanced_accuracy: 0.77936 | val_auc: 0.69964 | val_balanced_accuracy: 0.64674 |  0:02:35s\n",
      "epoch 75 | loss: 0.35236 | train_auc: 0.89584 | train_balanced_accuracy: 0.78387 | val_auc: 0.72408 | val_balanced_accuracy: 0.64744 |  0:02:37s\n",
      "epoch 76 | loss: 0.35029 | train_auc: 0.87058 | train_balanced_accuracy: 0.78018 | val_auc: 0.69613 | val_balanced_accuracy: 0.63909 |  0:02:39s\n",
      "epoch 77 | loss: 0.34992 | train_auc: 0.88064 | train_balanced_accuracy: 0.79511 | val_auc: 0.70875 | val_balanced_accuracy: 0.65171 |  0:02:41s\n",
      "epoch 78 | loss: 0.35797 | train_auc: 0.84536 | train_balanced_accuracy: 0.73009 | val_auc: 0.6842  | val_balanced_accuracy: 0.6232  |  0:02:43s\n",
      "epoch 79 | loss: 0.36294 | train_auc: 0.86768 | train_balanced_accuracy: 0.77568 | val_auc: 0.71435 | val_balanced_accuracy: 0.66307 |  0:02:44s\n",
      "epoch 80 | loss: 0.34841 | train_auc: 0.87498 | train_balanced_accuracy: 0.78513 | val_auc: 0.70296 | val_balanced_accuracy: 0.65453 |  0:02:46s\n",
      "epoch 81 | loss: 0.33993 | train_auc: 0.87144 | train_balanced_accuracy: 0.76579 | val_auc: 0.70514 | val_balanced_accuracy: 0.65117 |  0:02:48s\n",
      "epoch 82 | loss: 0.33182 | train_auc: 0.87388 | train_balanced_accuracy: 0.78295 | val_auc: 0.71059 | val_balanced_accuracy: 0.6555  |  0:02:50s\n",
      "epoch 83 | loss: 0.33425 | train_auc: 0.89024 | train_balanced_accuracy: 0.80218 | val_auc: 0.71222 | val_balanced_accuracy: 0.66251 |  0:02:52s\n",
      "epoch 84 | loss: 0.32582 | train_auc: 0.86612 | train_balanced_accuracy: 0.74462 | val_auc: 0.69562 | val_balanced_accuracy: 0.62412 |  0:02:54s\n",
      "epoch 85 | loss: 0.31856 | train_auc: 0.88978 | train_balanced_accuracy: 0.78314 | val_auc: 0.72336 | val_balanced_accuracy: 0.66232 |  0:02:56s\n",
      "epoch 86 | loss: 0.33527 | train_auc: 0.86267 | train_balanced_accuracy: 0.77297 | val_auc: 0.6948  | val_balanced_accuracy: 0.64274 |  0:02:58s\n",
      "epoch 87 | loss: 0.32802 | train_auc: 0.87982 | train_balanced_accuracy: 0.79094 | val_auc: 0.70413 | val_balanced_accuracy: 0.64788 |  0:03:00s\n",
      "epoch 88 | loss: 0.31933 | train_auc: 0.86287 | train_balanced_accuracy: 0.77602 | val_auc: 0.68587 | val_balanced_accuracy: 0.63947 |  0:03:02s\n",
      "\n",
      "Early stopping occurred at epoch 88 with best_epoch = 28 and best_val_balanced_accuracy = 0.69276\n"
     ]
    },
    {
     "name": "stderr",
     "output_type": "stream",
     "text": [
      "/opt/anaconda3/lib/python3.11/site-packages/pytorch_tabnet/callbacks.py:172: UserWarning: Best weights from best epoch are automatically used!\n",
      "  warnings.warn(wrn_msg)\n"
     ]
    }
   ],
   "source": [
    "# Fit the model\n",
    "clf.fit(\n",
    "    X_train_np, y_train,\n",
    "    eval_set=[(X_train_np, y_train), (X_val_np, y_val)],\n",
    "    eval_name=['train', 'val'],\n",
    "    eval_metric=['auc', 'balanced_accuracy'],\n",
    "    max_epochs=300, patience=60,\n",
    "    batch_size=2048, virtual_batch_size=1024,\n",
    "    num_workers=0,\n",
    "    drop_last=False\n",
    ")"
   ]
  },
  {
   "cell_type": "code",
   "execution_count": null,
   "id": "dce32432-d03a-416c-b80e-b16e8292dfb6",
   "metadata": {},
   "outputs": [
    {
     "name": "stdout",
     "output_type": "stream",
     "text": [
      "Validation data classification report:\n",
      "              precision    recall  f1-score   support\n",
      "\n",
      "           0       0.49      0.57      0.53      1115\n",
      "           1       0.86      0.82      0.84      3548\n",
      "\n",
      "    accuracy                           0.76      4663\n",
      "   macro avg       0.68      0.69      0.68      4663\n",
      "weighted avg       0.77      0.76      0.76      4663\n",
      "\n"
     ]
    }
   ],
   "source": [
    "y_pred_val = clf.predict(X_val_np)\n",
    "print(\"Validation data classification report:\")\n",
    "print(classification_report(y_val, y_pred_val))"
   ]
  },
  {
   "cell_type": "code",
   "execution_count": null,
   "id": "eb16edae-9265-4f35-b201-1603f3a17d2a",
   "metadata": {},
   "outputs": [
    {
     "name": "stdout",
     "output_type": "stream",
     "text": [
      "Test data classification report:\n",
      "              precision    recall  f1-score   support\n",
      "\n",
      "           0       0.46      0.51      0.48      1267\n",
      "           1       0.81      0.78      0.79      3401\n",
      "\n",
      "    accuracy                           0.70      4668\n",
      "   macro avg       0.63      0.64      0.64      4668\n",
      "weighted avg       0.71      0.70      0.71      4668\n",
      "\n"
     ]
    }
   ],
   "source": [
    "y_pred = clf.predict(X_test_np)\n",
    "print(\"Test data classification report:\")\n",
    "print(classification_report(y_test, y_pred))"
   ]
  },
  {
   "cell_type": "code",
   "execution_count": null,
   "id": "f2ae2eaa-374b-40f9-839d-27dc4922baf9",
   "metadata": {},
   "outputs": [
    {
     "data": {
      "image/png": "[encoded data removed]",
      "text/plain": [
       "<Figure size 640x480 with 1 Axes>"
      ]
     },
     "metadata": {},
     "output_type": "display_data"
    }
   ],
   "source": [
    "import matplotlib.pyplot as plt\n",
    "from sklearn.metrics import roc_curve, auc\n",
    "\n",
    "y_true = y_test\n",
    "y_pred_proba = y_pred \n",
    "# Compute ROC curve and ROC area\n",
    "fpr, tpr, thresholds = roc_curve(y_true, y_pred_proba)\n",
    "roc_auc = auc(fpr, tpr)\n",
    "\n",
    "# Plotting the ROC curve\n",
    "plt.figure()\n",
    "plt.plot(fpr, tpr, color='blue', label=f'ROC curve (area = {roc_auc:.2f})')\n",
    "plt.plot([0, 1], [0, 1], color='gray', linestyle='--', label='Chance line')\n",
    "plt.xlim([0.0, 1.0])\n",
    "plt.ylim([0.0, 1.05])\n",
    "plt.xlabel('False Positive Rate')\n",
    "plt.ylabel('True Positive Rate')\n",
    "plt.title('Receiver Operating Characteristic (ROC) Curve')\n",
    "plt.legend(loc=\"lower right\")\n",
    "#plt.savefig(\"results/241118 EU/TabNet_roc_curve.png\", dpi=300, bbox_inches='tight')\n",
    "plt.show()"
   ]
  },
  {
   "cell_type": "code",
   "execution_count": null,
   "id": "f269ce31-9b57-4673-9d3a-8aa2060b7cd5",
   "metadata": {},
   "outputs": [
    {
     "data": {
      "image/png": "[encoded data removed]",
      "text/plain": [
       "<Figure size 640x480 with 2 Axes>"
      ]
     },
     "metadata": {},
     "output_type": "display_data"
    }
   ],
   "source": [
    "from sklearn.metrics import confusion_matrix, ConfusionMatrixDisplay\n",
    "\n",
    "# Compute the confusion matrix\n",
    "cm = confusion_matrix(y_true, y_pred)\n",
    "\n",
    "# Plot the confusion matrix\n",
    "disp = ConfusionMatrixDisplay(confusion_matrix=cm)\n",
    "disp.plot(cmap='Blues')\n",
    "plt.title(\"Confusion Matrix\")\n",
    "#plt.savefig(\"results/241118 EU/TabNet_confusion_matrix.png\", dpi=300, bbox_inches='tight')\n",
    "plt.show()"
   ]
  },
  {
   "cell_type": "code",
   "execution_count": null,
   "id": "0ac5096e-3ea5-4066-827e-7c416990bf71",
   "metadata": {},
   "outputs": [
    {
     "name": "stdout",
     "output_type": "stream",
     "text": [
      "Global Feature Importance: [0.16919879 0.17016897 0.17032504 0.17002403 0.17002944 0.18246741\n",
      " 0.17660042 0.1699969  0.17016152 0.17018812 0.21896327 0.17201333\n",
      " 0.16952048 0.1703293  0.17168747 0.16929955 0.16823107 0.1703352\n",
      " 0.22933454 0.17039969 0.1736329  0.18813061 0.21218842 0.17034975\n",
      " 0.1699445  0.17054939 0.16928234 0.16975059 0.17006813 0.16935413\n",
      " 0.1684486  0.16938259 0.17132761 0.1703085  0.17197884 0.1857158\n",
      " 0.16986021 0.17596976 0.16995901 0.16946982 0.1718664  0.16934666\n",
      " 0.16988635 0.3376281  0.16868782 0.17035667 0.17106456 0.16981427\n",
      " 0.17076866 0.18218892 0.17039516 0.16997739 0.17050857 0.38181801\n",
      " 0.16861332 0.17005826 0.16989547 0.17094665 0.17002221 0.24886109\n",
      " 0.16947684 0.17075966 0.16954308 0.16951962 0.16945232 0.17003726\n",
      " 1.4355575  0.25026246 0.16946731 0.17062558 0.17132918 0.17030498\n",
      " 0.16977771 0.17130198 0.17064876 0.17024725 0.16926497 0.17707186\n",
      " 0.16931372 0.16989692 0.16939795 0.16944638 0.17154545 0.16964567\n",
      " 0.17085565]\n"
     ]
    },
    {
     "data": {
      "image/png": "[encoded data removed]",
      "text/plain": [
       "<Figure size 640x480 with 1 Axes>"
      ]
     },
     "metadata": {},
     "output_type": "display_data"
    },
    {
     "name": "stdout",
     "output_type": "stream",
     "text": [
      "Feature Importances (sorted):\n",
      "X114: 1.4355575036777832\n",
      "X98: 0.3818180097862376\n",
      "X86: 0.3376280995837597\n",
      "X115: 0.2502624600692377\n",
      "X107: 0.2488610940828166\n",
      "X32: 0.22933453857146952\n",
      "X12: 0.21896326977515396\n",
      "X46: 0.21218841513275666\n",
      "X45: 0.18813060710147572\n",
      "X64: 0.18571579786881026\n",
      "X7: 0.18246741226300495\n",
      "X94: 0.1821889174430158\n",
      "X127: 0.17707186024604107\n",
      "X8: 0.17660041752964858\n",
      "X69: 0.17596975546737217\n",
      "X44: 0.17363290461706\n",
      "X13: 0.17201332810383543\n",
      "X63: 0.17197883779369774\n",
      "X73: 0.17186640165171618\n",
      "X16: 0.17168746700377907\n",
      "X132: 0.17154545286405376\n",
      "X120: 0.1713291757174264\n",
      "X61: 0.17132761418873696\n",
      "X123: 0.17130197698510577\n",
      "X91: 0.17106455961288605\n",
      "X102: 0.170946646294211\n",
      "X141: 0.1708556487258514\n",
      "X93: 0.17076866229239535\n",
      "X109: 0.17075966105891366\n",
      "X124: 0.17064876124644277\n",
      "X117: 0.1706255775953754\n",
      "X49: 0.17054938966641403\n",
      "X97: 0.17050857044358986\n",
      "X43: 0.17039969485395148\n",
      "X95: 0.1703951575644889\n",
      "X90: 0.17035666862845855\n",
      "X47: 0.17034975018778428\n",
      "X31: 0.17033520429622584\n",
      "X15: 0.17032930479586866\n",
      "X3: 0.170325041611718\n",
      "X62: 0.17030850299191122\n",
      "X121: 0.1703049822801432\n",
      "X125: 0.17024725378589145\n",
      "X11: 0.17018811847023416\n",
      "X2: 0.1701689685424335\n",
      "X10: 0.17016151719770514\n",
      "X53: 0.17006813141700095\n",
      "X100: 0.17005826186088666\n",
      "X113: 0.17003725607813222\n",
      "X6: 0.17002943546440208\n",
      "X5: 0.17002403351135917\n",
      "X106: 0.17002221333635484\n",
      "X9: 0.1699969043676688\n",
      "X96: 0.1699773929390702\n",
      "X70: 0.16995900971120687\n",
      "X48: 0.16994449603526943\n",
      "X129: 0.169896920521256\n",
      "X101: 0.16989546668960775\n",
      "X81: 0.16988634991985463\n",
      "X67: 0.16986020758984277\n",
      "X92: 0.16981426847503292\n",
      "X122: 0.16977770834835607\n",
      "X52: 0.16975059497131045\n",
      "X133: 0.16964567275582187\n",
      "X110: 0.16954307656075993\n",
      "X14: 0.16952048097884773\n",
      "X111: 0.1695196226645411\n",
      "X108: 0.16947683697285476\n",
      "X72: 0.1694698244231117\n",
      "X116: 0.16946730515245276\n",
      "X112: 0.16945232323553627\n",
      "X131: 0.1694463814418019\n",
      "X130: 0.16939794650020423\n",
      "X57: 0.1693825904948712\n",
      "X55: 0.16935413110252684\n",
      "X74: 0.16934666149964636\n",
      "X128: 0.16931371835053236\n",
      "X17: 0.16929955138356426\n",
      "X51: 0.16928234158862693\n",
      "X126: 0.16926496670499203\n",
      "X1: 0.1691987886589943\n",
      "X87: 0.16868781885603043\n",
      "X99: 0.16861331554675585\n",
      "X56: 0.16844860038575624\n",
      "X23: 0.16823106598916632\n",
      "Local Feature Importances for Instance 0 (sorted):\n",
      "X32: 1.0839827783638611\n",
      "X96: 0.10045219585299492\n",
      "X114: 0.09895029850304127\n",
      "X132: 0.09888673853129148\n",
      "X90: 0.09878418687731028\n",
      "X93: 0.09873863123357296\n",
      "X16: 0.09868640173226595\n",
      "X123: 0.09865773934870958\n",
      "X102: 0.09858770482242107\n",
      "X8: 0.0985605027526617\n",
      "X117: 0.09852317813783884\n",
      "X98: 0.09810702223330736\n",
      "X109: 0.09791416022926569\n",
      "X15: 0.09774417337030172\n",
      "X12: 0.09732270706444979\n",
      "X86: 0.09689505584537983\n",
      "X122: 0.096784932538867\n",
      "X120: 0.09669952746480703\n",
      "X62: 0.09668016713112593\n",
      "X10: 0.09627261571586132\n",
      "X129: 0.09601274877786636\n",
      "X92: 0.09600114449858665\n",
      "X48: 0.09573634807020426\n",
      "X47: 0.09570835065096617\n",
      "X13: 0.0956864096224308\n",
      "X127: 0.09562369249761105\n",
      "X130: 0.0955960238352418\n",
      "X73: 0.09552741516381502\n",
      "X14: 0.09551064297556877\n",
      "X46: 0.09539614152163267\n",
      "X69: 0.09536853525787592\n",
      "X31: 0.09512474574148655\n",
      "X112: 0.09498815797269344\n",
      "X63: 0.0947720194235444\n",
      "X70: 0.09468721132725477\n",
      "X7: 0.09465724229812622\n",
      "X111: 0.09463221952319145\n",
      "X81: 0.09463068842887878\n",
      "X9: 0.09460767544806004\n",
      "X6: 0.094574143178761\n",
      "X67: 0.09454952459782362\n",
      "X2: 0.09443442244082689\n",
      "X52: 0.09442570526152849\n",
      "X72: 0.09430062118917704\n",
      "X101: 0.09408795274794102\n",
      "X126: 0.09396293014287949\n",
      "X44: 0.09393779188394547\n",
      "X121: 0.09367522597312927\n",
      "X97: 0.0936715854331851\n",
      "X106: 0.0936124986037612\n",
      "X100: 0.09352520015090704\n",
      "X113: 0.09348907228559256\n",
      "X5: 0.09345304034650326\n",
      "X17: 0.09343803860247135\n",
      "X110: 0.09341408964246511\n",
      "X1: 0.09333275724202394\n",
      "X131: 0.09324128087610006\n",
      "X74: 0.09316281415522099\n",
      "X55: 0.09301635064184666\n",
      "X115: 0.09290503896772861\n",
      "X57: 0.092796522192657\n",
      "X124: 0.09275573305785656\n",
      "X95: 0.0927525544539094\n",
      "X64: 0.09261843003332615\n",
      "X3: 0.09253628924489021\n",
      "X133: 0.09246445167809725\n",
      "X87: 0.09239956643432379\n",
      "X91: 0.09236232377588749\n",
      "X141: 0.09230992197990417\n",
      "X128: 0.09216974303126335\n",
      "X107: 0.09211069624871016\n",
      "X11: 0.09210778772830963\n",
      "X116: 0.09182815812528133\n",
      "X43: 0.09126619342714548\n",
      "X125: 0.09110587742179632\n",
      "X108: 0.09052936360239983\n",
      "X23: 0.09040663857012987\n",
      "X99: 0.09034805372357368\n",
      "X49: 0.09029472060501575\n",
      "X51: 0.09016669075936079\n",
      "X53: 0.08978019980713725\n",
      "X45: 0.08861860632896423\n",
      "X61: 0.08857628982514143\n",
      "X94: 0.08762521157041192\n",
      "X56: 0.08436178625561297\n",
      "Elapsed time: 1.2292 seconds\n"
     ]
    }
   ],
   "source": [
    "#XAI\n",
    "import time\n",
    "# Start the timer\n",
    "start_time = time.time()\n",
    "# Get feature importance masks for global interpretability\n",
    "explain_matrix, masks = clf_loaded.explain(X_test_np)\n",
    "# Explain matrix provides global feature importance\n",
    "global_feature_importance = explain_matrix.mean(axis=0)\n",
    "print(\"Global Feature Importance:\", global_feature_importance)\n",
    "\n",
    "import matplotlib.pyplot as plt\n",
    "\n",
    "# Plot feature importance\n",
    "plt.bar(range(len(global_feature_importance)), global_feature_importance)\n",
    "plt.xlabel(\"Feature Index\")\n",
    "plt.ylabel(\"Importance\")\n",
    "plt.title(\"Global Feature Importance\")\n",
    "plt.show()\n",
    "\n",
    "feature_names = X_test.columns.to_list()\n",
    "feature_importance_dict = dict(zip(feature_names, global_feature_importance))\n",
    "# Sort features by importance\n",
    "sorted_features = sorted(feature_importance_dict.items(), key=lambda x: x[1], reverse=True)\n",
    "# Print sorted feature importances\n",
    "print(\"Feature Importances (sorted):\")\n",
    "for feature, importance in sorted_features:\n",
    "    print(f\"{feature}: {importance}\")\n",
    "\n",
    "\n",
    "# Plot sorted feature importance\n",
    "sorted_feature_names = [f[0] for f in sorted_features]\n",
    "sorted_importances = [f[1] for f in sorted_features]\n",
    "# Plot sorted feature importance\n",
    "plt.bar(sorted_feature_names, sorted_importances)\n",
    "plt.xlabel(\"Features\")\n",
    "plt.ylabel(\"Importance\")\n",
    "plt.title(\"Global Feature Importance (Sorted)\")\n",
    "plt.xticks(rotation=45, ha=\"right\")\n",
    "plt.tight_layout()\n",
    "plt.savefig(\"results/241118 EU/TabNet_global_sorted.png\", bbox_inches='tight')\n",
    "plt.close()\n",
    "\n",
    "\n",
    "\n",
    "# LOCAL\n",
    "# Index of the instance to analyze\n",
    "instance_idx = 0  \n",
    "# Extract masks for the specific instance\n",
    "instance_masks = {step: mask[instance_idx, :] for step, mask in masks.items()}\n",
    "# Aggregate local feature importance\n",
    "local_feature_importance = sum(mask for mask in instance_masks.values())\n",
    "# Map to feature names\n",
    "local_importance_dict = dict(zip(feature_names, local_feature_importance))\n",
    "# Sort by importance\n",
    "sorted_local_importance = sorted(local_importance_dict.items(), key=lambda x: x[1], reverse=True)\n",
    "# Print sorted local feature importances\n",
    "print(f\"Local Feature Importances for Instance {instance_idx} (sorted):\")\n",
    "for feature, importance in sorted_local_importance:\n",
    "    print(f\"{feature}: {importance}\")\n",
    "\n",
    "\n",
    "# Sort features and importances\n",
    "sorted_local_feature_names = [f[0] for f in sorted_local_importance]\n",
    "sorted_local_importances = [f[1] for f in sorted_local_importance]\n",
    "# Plot local feature importance\n",
    "plt.bar(sorted_local_feature_names, sorted_local_importances)\n",
    "plt.xlabel(\"Features\")\n",
    "plt.ylabel(\"Importance\")\n",
    "plt.title(f\"Local Feature Importance for Instance {instance_idx}\")\n",
    "plt.xticks(rotation=45, ha=\"right\")\n",
    "plt.tight_layout()\n",
    "plt.savefig(f\"results/241118 EU/TabNet_local_instance_{instance_idx}.png\", bbox_inches='tight')\n",
    "plt.close()\n",
    "\n",
    "# End the timer\n",
    "end_time = time.time()\n",
    "\n",
    "# Calculate the elapsed time\n",
    "elapsed_time = end_time - start_time\n",
    "print(f\"Elapsed time: {elapsed_time:.4f} seconds\")"
   ]
  }
 ],
 "metadata": {
  "kernelspec": {
   "display_name": "Python 3 (ipykernel)",
   "language": "python",
   "name": "python3"
  },
  "language_info": {
   "codemirror_mode": {
    "name": "ipython",
    "version": 3
   },
   "file_extension": ".py",
   "mimetype": "text/x-python",
   "name": "python",
   "nbconvert_exporter": "python",
   "pygments_lexer": "ipython3",
   "version": "3.11.7"
  }
 },
 "nbformat": 4,
 "nbformat_minor": 2
}
