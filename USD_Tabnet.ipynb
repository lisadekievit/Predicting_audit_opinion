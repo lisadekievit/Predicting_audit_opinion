{
 "cells": [
  {
   "cell_type": "code",
   "execution_count": null,
   "id": "5e3b2be2-a32f-454a-9c97-d1fc4d448869",
   "metadata": {},
   "outputs": [
    {
     "name": "stdout",
     "output_type": "stream",
     "text": [
      "runned!\n",
      "['PCA', 'SMOTE', 'SimpleImputer', 'StandardScaler', '__builtins__', '__cached__', '__doc__', '__file__', '__loader__', '__name__', '__package__', '__spec__', 'create_pca_table', 'np', 'pca_on_train_and_transform_full_data', 'pd', 'plt', 'preprocess_and_apply_smote1', 'remove_outliers_iqr', 'scale_columns1', 'scale_columns2']\n"
     ]
    },
    {
     "name": "stderr",
     "output_type": "stream",
     "text": [
      "<ipython-input-1-31760b59a680>:20: FutureWarning: Downcasting behavior in `replace` is deprecated and will be removed in a future version. To retain the old behavior, explicitly call `result.infer_objects(copy=False)`. To opt-in to the future behavior, set `pd.set_option('future.no_silent_downcasting', True)`\n",
      "  y_train = y_train.replace({'1': 1, '4': 0})\n",
      "<ipython-input-1-31760b59a680>:21: FutureWarning: Downcasting behavior in `replace` is deprecated and will be removed in a future version. To retain the old behavior, explicitly call `result.infer_objects(copy=False)`. To opt-in to the future behavior, set `pd.set_option('future.no_silent_downcasting', True)`\n",
      "  y_val = y_val.replace({'1': 1, '4': 0})\n",
      "<ipython-input-1-31760b59a680>:22: FutureWarning: Downcasting behavior in `replace` is deprecated and will be removed in a future version. To retain the old behavior, explicitly call `result.infer_objects(copy=False)`. To opt-in to the future behavior, set `pd.set_option('future.no_silent_downcasting', True)`\n",
      "  y_test = y_test.replace({'1': 1, '4': 0})\n"
     ]
    }
   ],
   "source": [
    "import matplotlib.pyplot as plt\n",
    "from sklearn.impute import SimpleImputer\n",
    "\n",
    "#https://www.kaggle.com/code/enigmak/tabnet-deep-neural-network-for-tabular-data\n",
    "\n",
    "#from base1 import *\n",
    "from base2 import *\n",
    "\n",
    "X_train_1 = pd.read_csv('csv/X_train.csv', index_col='Unnamed: 0')\n",
    "y_train = pd.read_csv('csv/y_train.csv', index_col='Unnamed: 0')\n",
    "X_val_1 = pd.read_csv('csv/X_val.csv', index_col='Unnamed: 0')\n",
    "y_val = pd.read_csv('csv/y_val.csv', index_col='Unnamed: 0')\n",
    "X_test_1 = pd.read_csv('csv/X_test.csv', index_col='Unnamed: 0')\n",
    "y_test = pd.read_csv('csv/y_test.csv', index_col='Unnamed: 0')\n",
    "\n",
    "y_train = (y_train['auop']).astype(str)\n",
    "y_val = (y_val['auop']).astype(str)\n",
    "y_test = (y_test['auop']).astype(str)\n",
    "\n",
    "y_train = y_train.replace({'1': 1, '4': 0})\n",
    "y_val = y_val.replace({'1': 1, '4': 0})\n",
    "y_test = y_test.replace({'1': 1, '4': 0})\n",
    "\n",
    "X_train = X_train_1\n",
    "X_val = X_val_1\n",
    "X_test = X_test_1"
   ]
  },
  {
   "cell_type": "code",
   "execution_count": null,
   "id": "3bff184d-3344-49a3-9b77-c335168718c9",
   "metadata": {},
   "outputs": [],
   "source": [
    "from sklearn.preprocessing import LabelEncoder"
   ]
  },
  {
   "cell_type": "code",
   "execution_count": null,
   "id": "fdc41fb0-c44b-4ba0-bda0-2404980b8a95",
   "metadata": {},
   "outputs": [],
   "source": [
    "# Initialize the label encoder\n",
    "label_encoder = LabelEncoder()\n",
    "# Fit the label encoder only on the training set\n",
    "X_train['X140'] = X_train['X140'].astype(str)  # Ensure it's a string type\n",
    "X_val['X140'] = X_val['X140'].astype(str)      # Ensure it's a string type\n",
    "X_test['X140'] = X_test['X140'].astype(str)    # Ensure it's a string type\n",
    "label_encoder.fit(X_train['X140'])\n",
    "# Apply the label encoding to all datasets\n",
    "X_train['X141'] = label_encoder.transform(X_train['X140'])\n",
    "X_val['X141'] = X_val['X140'].map(lambda x: label_encoder.transform([x])[0] if x in label_encoder.classes_ else -1)\n",
    "X_test['X141'] = X_test['X140'].map(lambda x: label_encoder.transform([x])[0] if x in label_encoder.classes_ else -1)\n",
    "# Drop the original 'X140' column\n",
    "X_train = X_train.drop(columns=['X140'])\n",
    "X_val = X_val.drop(columns=['X140'])\n",
    "X_test = X_test.drop(columns=['X140'])\n",
    "\n",
    "col_names = X_train.columns.to_list()\n",
    "col_names.remove(\"X23\")\n",
    "col_names.remove(\"X141\")"
   ]
  },
  {
   "cell_type": "code",
   "execution_count": null,
   "id": "0d7de8f9-b1de-45af-8d14-4bd1c6f27373",
   "metadata": {},
   "outputs": [],
   "source": [
    "# Replace 'inf' and '-inf' with NaN\n",
    "X_train.replace([np.inf, -np.inf], np.nan, inplace=True)\n",
    "X_val.replace([np.inf, -np.inf], np.nan, inplace=True)\n",
    "X_test.replace([np.inf, -np.inf], np.nan, inplace=True)\n",
    "\n",
    "# Initialize SimpleImputer with the 'mean' strategy\n",
    "imputer = SimpleImputer(strategy='mean')\n",
    "# Fit the imputer on the training data and transform it\n",
    "X_train = pd.DataFrame(imputer.fit_transform(X_train), columns=X_train.columns)\n",
    "# Apply the same imputer to the validation and test sets (without refitting)\n",
    "X_val = pd.DataFrame(imputer.transform(X_val), columns=X_train.columns)\n",
    "X_test = pd.DataFrame(imputer.transform(X_test), columns=X_train.columns)"
   ]
  },
  {
   "cell_type": "code",
   "execution_count": null,
   "id": "d12f9d14-47c9-495c-9f82-88b70aa8f9ba",
   "metadata": {},
   "outputs": [],
   "source": [
    "from pytorch_tabnet.tab_model import TabNetClassifier\n",
    "import torch\n",
    "from sklearn.metrics import roc_auc_score, balanced_accuracy_score, f1_score, precision_recall_curve, auc\n",
    "\n",
    "# Convert DataFrames to NumPy arrays\n",
    "X_train_np = X_train.values\n",
    "X_val_np = X_val.values\n",
    "X_test_np = X_test.values"
   ]
  },
  {
   "cell_type": "code",
   "execution_count": null,
   "id": "31a4927f-9027-4dd8-92d0-516a40c2f9b6",
   "metadata": {},
   "outputs": [],
   "source": [
    "import torch\n",
    "import optuna\n",
    "import seaborn as sns\n",
    "import matplotlib.pyplot as plt\n",
    "from sklearn.feature_selection import chi2\n",
    "from sklearn.preprocessing import RobustScaler\n",
    "from sklearn.metrics import average_precision_score\n",
    "from pytorch_tabnet.tab_model import TabNetClassifier\n",
    "from pytorch_tabnet.metrics import Metric\n",
    "from sklearn.model_selection import train_test_split"
   ]
  },
  {
   "cell_type": "code",
   "execution_count": null,
   "id": "0ace3aed-1c6c-4d81-9e63-9915641f81e7",
   "metadata": {},
   "outputs": [
    {
     "data": {
      "text/plain": [
       "'def objective(trial):\\n\\n    hyperparams = {\\n        \\'n_a_d\\': trial.suggest_categorical(\\'n_a_d\\', [8, 16, 24, 32, 64, 128, 256]),\\n        \\'n_steps\\': trial.suggest_int(\\'n_steps\\', 3, 10, 1),\\n        \\'gamma\\': trial.suggest_categorical(\\'gamma\\', [0.01, 0.05, 0.1, 0.5, 0.8, 1.0, 1.2, 1.5, 2.0]),\\n        \\'lambda\\': trial.suggest_categorical(\\'lambda\\', [0.1, 0.01, 0.001, 0.0001, 0.00001, 0.000001, 0.0000001, 0]),\\n        \\'batch_size\\': trial.suggest_categorical(\\'batch_size\\', [1024, 2048, 4096, 8192, 16384, 32768]),\\n        \\'virtual_batch_size\\': trial.suggest_categorical(\\'virtual_batch_size\\', [128, 256, 512, 1024, 2028, 4096]),\\n        \\'lr\\': trial.suggest_categorical(\\'lr\\', [0.005, 0.01, 0.02, 0.025, 0.03, 0.04, 0.05]),\\n        \\'gamma_decay\\': trial.suggest_categorical(\\'gamma_decay\\', [0.4, 0.8, 0.9, 0.95]),\\n        \\'mask_type\\': trial.suggest_categorical(\\'mask_type\\', [\\'entmax\\', \\'sparsemax\\']),\\n        \\'batch_momentum\\': trial.suggest_categorical(\\'batch_momentum\\', [0.6, 0.7, 0.8, 0.9, 0.95, 0.98]),\\n    }\\n    MAX_EPOCHS = 35\\n    PATIENCE = 5\\n    model = TabNetClassifier(\\n        n_d=hyperparams[\\'n_a_d\\'],\\n        n_a=hyperparams[\\'n_a_d\\'],\\n        gamma=hyperparams[\\'gamma\\'],\\n        optimizer_fn=torch.optim.Adam,\\n        optimizer_params={\\'lr\\':hyperparams[\\'lr\\']},\\n        scheduler_params={\"step_size\":hyperparams[\\'n_steps\\'],\\n                          \"gamma\":hyperparams[\\'gamma_decay\\']},\\n        scheduler_fn=torch.optim.lr_scheduler.StepLR,\\n        mask_type=hyperparams[\\'mask_type\\'],\\n        lambda_sparse=hyperparams[\\'lambda\\'],\\n        momentum=hyperparams[\\'batch_momentum\\'],\\n        verbose = 0\\n    )\\n    model.fit(\\n        X_train=X_train_np, y_train=y_train,\\n        eval_set=[(X_train_np, y_train), (X_val_np, y_val)],\\n        eval_name=[\\'train\\', \\'val\\'],\\n        max_epochs=MAX_EPOCHS, \\n        patience=PATIENCE,\\n        batch_size=hyperparams[\\'batch_size\\'],\\n        virtual_batch_size=hyperparams[\\'virtual_batch_size\\'],\\n        num_workers=0,\\n        drop_last=False\\n    )\\n\\n    val_preds = model.predict(X_val_np)\\n    \\n    del model\\n\\n    return average_precision_score(y_val,val_preds)\\n\\nstudy = optuna.create_study(direction=\\'maximize\\',\\n                            sampler=optuna.samplers.TPESampler(multivariate=True, seed=42))\\n\\nstudy.optimize(objective, \\n               timeout=60*60*6, \\n               n_trials=250, \\n               gc_after_trial=False)\\n\\n\\nstudy.best_params\\n'"
      ]
     },
     "execution_count": 7,
     "metadata": {},
     "output_type": "execute_result"
    }
   ],
   "source": [
    "\"\"\"def objective(trial):\n",
    "\n",
    "    hyperparams = {\n",
    "        'n_a_d': trial.suggest_categorical('n_a_d', [8, 16, 24, 32, 64, 128, 256]),\n",
    "        'n_steps': trial.suggest_int('n_steps', 3, 10, 1),\n",
    "        'gamma': trial.suggest_categorical('gamma', [0.01, 0.05, 0.1, 0.5, 0.8, 1.0, 1.2, 1.5, 2.0]),\n",
    "        'lambda': trial.suggest_categorical('lambda', [0.1, 0.01, 0.001, 0.0001, 0.00001, 0.000001, 0.0000001, 0]),\n",
    "        'batch_size': trial.suggest_categorical('batch_size', [1024, 2048, 4096, 8192, 16384, 32768]),\n",
    "        'virtual_batch_size': trial.suggest_categorical('virtual_batch_size', [128, 256, 512, 1024, 2028, 4096]),\n",
    "        'lr': trial.suggest_categorical('lr', [0.005, 0.01, 0.02, 0.025, 0.03, 0.04, 0.05]),\n",
    "        'gamma_decay': trial.suggest_categorical('gamma_decay', [0.4, 0.8, 0.9, 0.95]),\n",
    "        'mask_type': trial.suggest_categorical('mask_type', ['entmax', 'sparsemax']),\n",
    "        'batch_momentum': trial.suggest_categorical('batch_momentum', [0.6, 0.7, 0.8, 0.9, 0.95, 0.98]),\n",
    "    }\n",
    "    MAX_EPOCHS = 35\n",
    "    PATIENCE = 5\n",
    "    model = TabNetClassifier(\n",
    "        n_d=hyperparams['n_a_d'],\n",
    "        n_a=hyperparams['n_a_d'],\n",
    "        gamma=hyperparams['gamma'],\n",
    "        optimizer_fn=torch.optim.Adam,\n",
    "        optimizer_params={'lr':hyperparams['lr']},\n",
    "        scheduler_params={\"step_size\":hyperparams['n_steps'],\n",
    "                          \"gamma\":hyperparams['gamma_decay']},\n",
    "        scheduler_fn=torch.optim.lr_scheduler.StepLR,\n",
    "        mask_type=hyperparams['mask_type'],\n",
    "        lambda_sparse=hyperparams['lambda'],\n",
    "        momentum=hyperparams['batch_momentum'],\n",
    "        verbose = 0\n",
    "    )\n",
    "    model.fit(\n",
    "        X_train=X_train_np, y_train=y_train,\n",
    "        eval_set=[(X_train_np, y_train), (X_val_np, y_val)],\n",
    "        eval_name=['train', 'val'],\n",
    "        max_epochs=MAX_EPOCHS, \n",
    "        patience=PATIENCE,\n",
    "        batch_size=hyperparams['batch_size'],\n",
    "        virtual_batch_size=hyperparams['virtual_batch_size'],\n",
    "        num_workers=0,\n",
    "        drop_last=False\n",
    "    )\n",
    "\n",
    "    val_preds = model.predict(X_val_np)\n",
    "    \n",
    "    del model\n",
    "\n",
    "    return average_precision_score(y_val,val_preds)\n",
    "\n",
    "study = optuna.create_study(direction='maximize',\n",
    "                            sampler=optuna.samplers.TPESampler(multivariate=True, seed=42))\n",
    "\n",
    "study.optimize(objective, \n",
    "               timeout=60*60*6, \n",
    "               n_trials=250, \n",
    "               gc_after_trial=False)\n",
    "\n",
    "\n",
    "study.best_params\n",
    "\"\"\""
   ]
  },
  {
   "cell_type": "code",
   "execution_count": null,
   "id": "bd209065-390e-4fa7-acea-ed1b5cf50698",
   "metadata": {},
   "outputs": [
    {
     "name": "stderr",
     "output_type": "stream",
     "text": [
      "/opt/anaconda3/lib/python3.11/site-packages/pytorch_tabnet/abstract_model.py:82: UserWarning: Device used : cpu\n",
      "  warnings.warn(f\"Device used : {self.device}\")\n"
     ]
    },
    {
     "name": "stdout",
     "output_type": "stream",
     "text": [
      "epoch 0  | loss: 0.94533 | train_auc: 0.51135 | train_balanced_accuracy: 0.51704 | val_auc: 0.51968 | val_balanced_accuracy: 0.52505 |  0:00:07s\n",
      "epoch 1  | loss: 0.69453 | train_auc: 0.58795 | train_balanced_accuracy: 0.5309  | val_auc: 0.58718 | val_balanced_accuracy: 0.53541 |  0:00:15s\n",
      "epoch 2  | loss: 0.55335 | train_auc: 0.60833 | train_balanced_accuracy: 0.53153 | val_auc: 0.60074 | val_balanced_accuracy: 0.52914 |  0:00:22s\n",
      "epoch 3  | loss: 0.49528 | train_auc: 0.6489  | train_balanced_accuracy: 0.56795 | val_auc: 0.63664 | val_balanced_accuracy: 0.56466 |  0:00:27s\n",
      "epoch 4  | loss: 0.46868 | train_auc: 0.62668 | train_balanced_accuracy: 0.58076 | val_auc: 0.61434 | val_balanced_accuracy: 0.57908 |  0:00:33s\n",
      "epoch 5  | loss: 0.46219 | train_auc: 0.62732 | train_balanced_accuracy: 0.60695 | val_auc: 0.6153  | val_balanced_accuracy: 0.59904 |  0:00:39s\n",
      "epoch 6  | loss: 0.4561  | train_auc: 0.63258 | train_balanced_accuracy: 0.6008  | val_auc: 0.61733 | val_balanced_accuracy: 0.59648 |  0:00:45s\n",
      "epoch 7  | loss: 0.4561  | train_auc: 0.70119 | train_balanced_accuracy: 0.62647 | val_auc: 0.69233 | val_balanced_accuracy: 0.6213  |  0:00:50s\n",
      "epoch 8  | loss: 0.45615 | train_auc: 0.74814 | train_balanced_accuracy: 0.63155 | val_auc: 0.73188 | val_balanced_accuracy: 0.62968 |  0:00:57s\n",
      "epoch 9  | loss: 0.44554 | train_auc: 0.77405 | train_balanced_accuracy: 0.64926 | val_auc: 0.7586  | val_balanced_accuracy: 0.64011 |  0:01:02s\n",
      "epoch 10 | loss: 0.44478 | train_auc: 0.77238 | train_balanced_accuracy: 0.62947 | val_auc: 0.75934 | val_balanced_accuracy: 0.6222  |  0:01:09s\n",
      "epoch 11 | loss: 0.44071 | train_auc: 0.80323 | train_balanced_accuracy: 0.67063 | val_auc: 0.78785 | val_balanced_accuracy: 0.66134 |  0:01:15s\n",
      "epoch 12 | loss: 0.43788 | train_auc: 0.79163 | train_balanced_accuracy: 0.62371 | val_auc: 0.77159 | val_balanced_accuracy: 0.61529 |  0:01:21s\n",
      "epoch 13 | loss: 0.4324  | train_auc: 0.80698 | train_balanced_accuracy: 0.67055 | val_auc: 0.78767 | val_balanced_accuracy: 0.66209 |  0:01:27s\n",
      "epoch 14 | loss: 0.43125 | train_auc: 0.83652 | train_balanced_accuracy: 0.71368 | val_auc: 0.81676 | val_balanced_accuracy: 0.69985 |  0:01:34s\n",
      "epoch 15 | loss: 0.43327 | train_auc: 0.8221  | train_balanced_accuracy: 0.684   | val_auc: 0.80655 | val_balanced_accuracy: 0.67475 |  0:01:40s\n",
      "epoch 16 | loss: 0.42996 | train_auc: 0.84157 | train_balanced_accuracy: 0.73249 | val_auc: 0.82219 | val_balanced_accuracy: 0.7127  |  0:01:46s\n",
      "epoch 17 | loss: 0.42891 | train_auc: 0.82157 | train_balanced_accuracy: 0.67755 | val_auc: 0.80317 | val_balanced_accuracy: 0.66713 |  0:01:53s\n",
      "epoch 18 | loss: 0.42868 | train_auc: 0.84076 | train_balanced_accuracy: 0.68381 | val_auc: 0.82482 | val_balanced_accuracy: 0.67515 |  0:02:00s\n",
      "epoch 19 | loss: 0.42894 | train_auc: 0.82921 | train_balanced_accuracy: 0.70193 | val_auc: 0.81124 | val_balanced_accuracy: 0.6944  |  0:02:07s\n",
      "epoch 20 | loss: 0.43011 | train_auc: 0.84868 | train_balanced_accuracy: 0.74244 | val_auc: 0.82734 | val_balanced_accuracy: 0.72759 |  0:02:14s\n",
      "epoch 21 | loss: 0.42432 | train_auc: 0.83737 | train_balanced_accuracy: 0.67983 | val_auc: 0.81744 | val_balanced_accuracy: 0.67158 |  0:02:22s\n",
      "epoch 22 | loss: 0.42038 | train_auc: 0.84653 | train_balanced_accuracy: 0.72999 | val_auc: 0.83123 | val_balanced_accuracy: 0.71648 |  0:02:28s\n",
      "epoch 23 | loss: 0.41826 | train_auc: 0.85389 | train_balanced_accuracy: 0.73741 | val_auc: 0.83089 | val_balanced_accuracy: 0.72326 |  0:02:35s\n",
      "epoch 24 | loss: 0.41795 | train_auc: 0.83486 | train_balanced_accuracy: 0.68805 | val_auc: 0.81204 | val_balanced_accuracy: 0.67746 |  0:02:41s\n",
      "epoch 25 | loss: 0.41619 | train_auc: 0.85265 | train_balanced_accuracy: 0.72635 | val_auc: 0.83142 | val_balanced_accuracy: 0.7102  |  0:02:48s\n",
      "epoch 26 | loss: 0.41683 | train_auc: 0.84403 | train_balanced_accuracy: 0.69791 | val_auc: 0.82709 | val_balanced_accuracy: 0.6892  |  0:02:55s\n",
      "epoch 27 | loss: 0.41353 | train_auc: 0.84612 | train_balanced_accuracy: 0.71239 | val_auc: 0.82591 | val_balanced_accuracy: 0.70143 |  0:03:02s\n",
      "epoch 28 | loss: 0.41305 | train_auc: 0.83535 | train_balanced_accuracy: 0.72478 | val_auc: 0.81879 | val_balanced_accuracy: 0.70785 |  0:03:09s\n",
      "epoch 29 | loss: 0.41326 | train_auc: 0.81912 | train_balanced_accuracy: 0.7226  | val_auc: 0.79938 | val_balanced_accuracy: 0.70819 |  0:03:15s\n",
      "epoch 30 | loss: 0.41141 | train_auc: 0.84414 | train_balanced_accuracy: 0.70615 | val_auc: 0.82224 | val_balanced_accuracy: 0.69598 |  0:03:22s\n",
      "epoch 31 | loss: 0.41202 | train_auc: 0.8437  | train_balanced_accuracy: 0.72129 | val_auc: 0.82099 | val_balanced_accuracy: 0.70611 |  0:03:29s\n",
      "epoch 32 | loss: 0.40898 | train_auc: 0.82176 | train_balanced_accuracy: 0.6909  | val_auc: 0.80083 | val_balanced_accuracy: 0.68129 |  0:03:36s\n",
      "epoch 33 | loss: 0.40685 | train_auc: 0.8225  | train_balanced_accuracy: 0.6695  | val_auc: 0.8036  | val_balanced_accuracy: 0.66119 |  0:03:43s\n",
      "epoch 34 | loss: 0.40521 | train_auc: 0.84698 | train_balanced_accuracy: 0.72205 | val_auc: 0.82286 | val_balanced_accuracy: 0.7092  |  0:03:50s\n",
      "epoch 35 | loss: 0.40502 | train_auc: 0.8389  | train_balanced_accuracy: 0.69524 | val_auc: 0.81076 | val_balanced_accuracy: 0.6892  |  0:03:57s\n",
      "epoch 36 | loss: 0.40452 | train_auc: 0.82992 | train_balanced_accuracy: 0.6879  | val_auc: 0.80765 | val_balanced_accuracy: 0.67755 |  0:04:05s\n",
      "epoch 37 | loss: 0.40268 | train_auc: 0.8458  | train_balanced_accuracy: 0.73235 | val_auc: 0.82029 | val_balanced_accuracy: 0.72025 |  0:04:12s\n",
      "epoch 38 | loss: 0.40186 | train_auc: 0.85361 | train_balanced_accuracy: 0.71044 | val_auc: 0.82622 | val_balanced_accuracy: 0.69407 |  0:04:19s\n",
      "epoch 39 | loss: 0.40397 | train_auc: 0.83375 | train_balanced_accuracy: 0.71257 | val_auc: 0.80926 | val_balanced_accuracy: 0.69943 |  0:04:26s\n",
      "epoch 40 | loss: 0.40057 | train_auc: 0.83259 | train_balanced_accuracy: 0.71609 | val_auc: 0.8097  | val_balanced_accuracy: 0.70123 |  0:04:34s\n",
      "epoch 41 | loss: 0.40195 | train_auc: 0.84037 | train_balanced_accuracy: 0.71267 | val_auc: 0.81309 | val_balanced_accuracy: 0.6981  |  0:04:41s\n",
      "epoch 42 | loss: 0.40111 | train_auc: 0.86385 | train_balanced_accuracy: 0.76518 | val_auc: 0.83326 | val_balanced_accuracy: 0.74032 |  0:04:48s\n",
      "epoch 43 | loss: 0.39738 | train_auc: 0.78208 | train_balanced_accuracy: 0.70731 | val_auc: 0.75796 | val_balanced_accuracy: 0.68685 |  0:04:55s\n",
      "epoch 44 | loss: 0.39507 | train_auc: 0.79435 | train_balanced_accuracy: 0.71667 | val_auc: 0.76724 | val_balanced_accuracy: 0.6951  |  0:05:02s\n",
      "epoch 45 | loss: 0.39319 | train_auc: 0.85527 | train_balanced_accuracy: 0.7018  | val_auc: 0.82783 | val_balanced_accuracy: 0.68429 |  0:05:09s\n",
      "epoch 46 | loss: 0.39547 | train_auc: 0.83127 | train_balanced_accuracy: 0.69748 | val_auc: 0.805   | val_balanced_accuracy: 0.68978 |  0:05:15s\n",
      "epoch 47 | loss: 0.39478 | train_auc: 0.87275 | train_balanced_accuracy: 0.77485 | val_auc: 0.8401  | val_balanced_accuracy: 0.7526  |  0:05:23s\n",
      "epoch 48 | loss: 0.3912  | train_auc: 0.83583 | train_balanced_accuracy: 0.70434 | val_auc: 0.80804 | val_balanced_accuracy: 0.69289 |  0:05:29s\n",
      "epoch 49 | loss: 0.39063 | train_auc: 0.85894 | train_balanced_accuracy: 0.73555 | val_auc: 0.82461 | val_balanced_accuracy: 0.71547 |  0:05:36s\n",
      "epoch 50 | loss: 0.39065 | train_auc: 0.8449  | train_balanced_accuracy: 0.7582  | val_auc: 0.81023 | val_balanced_accuracy: 0.73173 |  0:05:43s\n",
      "epoch 51 | loss: 0.38803 | train_auc: 0.84613 | train_balanced_accuracy: 0.71222 | val_auc: 0.81436 | val_balanced_accuracy: 0.69422 |  0:05:50s\n",
      "epoch 52 | loss: 0.38995 | train_auc: 0.84035 | train_balanced_accuracy: 0.71009 | val_auc: 0.81575 | val_balanced_accuracy: 0.6948  |  0:05:56s\n",
      "epoch 53 | loss: 0.38589 | train_auc: 0.86079 | train_balanced_accuracy: 0.7457  | val_auc: 0.82731 | val_balanced_accuracy: 0.7231  |  0:06:03s\n",
      "epoch 54 | loss: 0.38772 | train_auc: 0.86189 | train_balanced_accuracy: 0.75632 | val_auc: 0.83066 | val_balanced_accuracy: 0.73403 |  0:06:10s\n",
      "epoch 55 | loss: 0.38957 | train_auc: 0.83492 | train_balanced_accuracy: 0.71854 | val_auc: 0.80506 | val_balanced_accuracy: 0.69925 |  0:06:17s\n",
      "epoch 56 | loss: 0.38944 | train_auc: 0.84344 | train_balanced_accuracy: 0.72478 | val_auc: 0.81432 | val_balanced_accuracy: 0.70604 |  0:06:24s\n",
      "epoch 57 | loss: 0.3895  | train_auc: 0.86224 | train_balanced_accuracy: 0.73721 | val_auc: 0.8251  | val_balanced_accuracy: 0.71803 |  0:06:32s\n",
      "epoch 58 | loss: 0.38737 | train_auc: 0.84749 | train_balanced_accuracy: 0.75768 | val_auc: 0.81169 | val_balanced_accuracy: 0.72967 |  0:06:39s\n",
      "epoch 59 | loss: 0.38624 | train_auc: 0.8508  | train_balanced_accuracy: 0.73105 | val_auc: 0.8155  | val_balanced_accuracy: 0.7086  |  0:06:46s\n",
      "epoch 60 | loss: 0.38594 | train_auc: 0.85568 | train_balanced_accuracy: 0.74228 | val_auc: 0.81435 | val_balanced_accuracy: 0.71671 |  0:06:53s\n",
      "epoch 61 | loss: 0.38299 | train_auc: 0.8495  | train_balanced_accuracy: 0.71811 | val_auc: 0.80907 | val_balanced_accuracy: 0.69793 |  0:07:00s\n",
      "epoch 62 | loss: 0.3795  | train_auc: 0.84912 | train_balanced_accuracy: 0.74465 | val_auc: 0.80654 | val_balanced_accuracy: 0.72118 |  0:07:08s\n",
      "epoch 63 | loss: 0.38288 | train_auc: 0.85318 | train_balanced_accuracy: 0.71972 | val_auc: 0.81572 | val_balanced_accuracy: 0.70076 |  0:07:15s\n",
      "epoch 64 | loss: 0.37898 | train_auc: 0.85962 | train_balanced_accuracy: 0.74927 | val_auc: 0.81579 | val_balanced_accuracy: 0.71657 |  0:07:21s\n",
      "epoch 65 | loss: 0.38084 | train_auc: 0.88236 | train_balanced_accuracy: 0.75994 | val_auc: 0.82946 | val_balanced_accuracy: 0.72517 |  0:07:29s\n",
      "epoch 66 | loss: 0.37983 | train_auc: 0.8785  | train_balanced_accuracy: 0.77573 | val_auc: 0.83184 | val_balanced_accuracy: 0.74009 |  0:07:36s\n",
      "epoch 67 | loss: 0.38008 | train_auc: 0.84205 | train_balanced_accuracy: 0.69785 | val_auc: 0.80599 | val_balanced_accuracy: 0.6738  |  0:07:42s\n",
      "epoch 68 | loss: 0.37703 | train_auc: 0.85482 | train_balanced_accuracy: 0.71388 | val_auc: 0.81171 | val_balanced_accuracy: 0.69179 |  0:07:49s\n",
      "epoch 69 | loss: 0.3723  | train_auc: 0.85672 | train_balanced_accuracy: 0.72022 | val_auc: 0.81387 | val_balanced_accuracy: 0.69138 |  0:07:56s\n",
      "epoch 70 | loss: 0.37012 | train_auc: 0.82707 | train_balanced_accuracy: 0.69967 | val_auc: 0.79259 | val_balanced_accuracy: 0.67772 |  0:08:03s\n",
      "epoch 71 | loss: 0.36773 | train_auc: 0.84246 | train_balanced_accuracy: 0.71464 | val_auc: 0.80013 | val_balanced_accuracy: 0.69213 |  0:08:11s\n",
      "epoch 72 | loss: 0.37072 | train_auc: 0.87648 | train_balanced_accuracy: 0.7511  | val_auc: 0.82979 | val_balanced_accuracy: 0.71831 |  0:08:18s\n",
      "epoch 73 | loss: 0.36542 | train_auc: 0.86207 | train_balanced_accuracy: 0.74934 | val_auc: 0.81344 | val_balanced_accuracy: 0.71516 |  0:08:25s\n",
      "epoch 74 | loss: 0.36508 | train_auc: 0.84218 | train_balanced_accuracy: 0.70274 | val_auc: 0.79609 | val_balanced_accuracy: 0.67003 |  0:08:32s\n",
      "epoch 75 | loss: 0.36401 | train_auc: 0.86433 | train_balanced_accuracy: 0.73219 | val_auc: 0.81741 | val_balanced_accuracy: 0.70138 |  0:08:39s\n",
      "epoch 76 | loss: 0.36434 | train_auc: 0.8797  | train_balanced_accuracy: 0.75785 | val_auc: 0.82972 | val_balanced_accuracy: 0.72459 |  0:08:46s\n",
      "epoch 77 | loss: 0.36178 | train_auc: 0.86861 | train_balanced_accuracy: 0.74342 | val_auc: 0.82015 | val_balanced_accuracy: 0.71234 |  0:08:52s\n",
      "epoch 78 | loss: 0.35904 | train_auc: 0.85824 | train_balanced_accuracy: 0.71789 | val_auc: 0.80264 | val_balanced_accuracy: 0.68551 |  0:08:59s\n",
      "epoch 79 | loss: 0.35682 | train_auc: 0.88013 | train_balanced_accuracy: 0.7729  | val_auc: 0.81837 | val_balanced_accuracy: 0.72803 |  0:09:06s\n",
      "epoch 80 | loss: 0.35345 | train_auc: 0.86138 | train_balanced_accuracy: 0.74913 | val_auc: 0.80395 | val_balanced_accuracy: 0.71514 |  0:09:13s\n",
      "epoch 81 | loss: 0.35554 | train_auc: 0.84153 | train_balanced_accuracy: 0.72066 | val_auc: 0.7923  | val_balanced_accuracy: 0.68903 |  0:09:20s\n",
      "epoch 82 | loss: 0.34976 | train_auc: 0.82811 | train_balanced_accuracy: 0.70731 | val_auc: 0.77564 | val_balanced_accuracy: 0.67176 |  0:09:27s\n",
      "epoch 83 | loss: 0.35014 | train_auc: 0.85961 | train_balanced_accuracy: 0.72207 | val_auc: 0.79692 | val_balanced_accuracy: 0.68472 |  0:09:34s\n",
      "epoch 84 | loss: 0.34687 | train_auc: 0.88047 | train_balanced_accuracy: 0.74214 | val_auc: 0.8163  | val_balanced_accuracy: 0.69735 |  0:09:41s\n",
      "epoch 85 | loss: 0.34553 | train_auc: 0.86776 | train_balanced_accuracy: 0.75081 | val_auc: 0.79818 | val_balanced_accuracy: 0.70064 |  0:09:49s\n",
      "epoch 86 | loss: 0.3466  | train_auc: 0.83689 | train_balanced_accuracy: 0.73216 | val_auc: 0.78767 | val_balanced_accuracy: 0.70164 |  0:09:55s\n",
      "epoch 87 | loss: 0.34681 | train_auc: 0.87874 | train_balanced_accuracy: 0.79523 | val_auc: 0.8063  | val_balanced_accuracy: 0.72912 |  0:10:03s\n",
      "epoch 88 | loss: 0.3441  | train_auc: 0.84938 | train_balanced_accuracy: 0.7178  | val_auc: 0.79075 | val_balanced_accuracy: 0.67946 |  0:10:10s\n",
      "epoch 89 | loss: 0.34045 | train_auc: 0.83377 | train_balanced_accuracy: 0.72488 | val_auc: 0.78807 | val_balanced_accuracy: 0.69086 |  0:10:17s\n",
      "epoch 90 | loss: 0.33909 | train_auc: 0.85787 | train_balanced_accuracy: 0.76684 | val_auc: 0.78969 | val_balanced_accuracy: 0.71468 |  0:10:24s\n",
      "epoch 91 | loss: 0.33509 | train_auc: 0.84494 | train_balanced_accuracy: 0.70967 | val_auc: 0.78782 | val_balanced_accuracy: 0.67545 |  0:10:30s\n",
      "epoch 92 | loss: 0.33024 | train_auc: 0.86495 | train_balanced_accuracy: 0.75268 | val_auc: 0.79828 | val_balanced_accuracy: 0.70411 |  0:10:37s\n",
      "epoch 93 | loss: 0.32942 | train_auc: 0.90227 | train_balanced_accuracy: 0.77056 | val_auc: 0.81042 | val_balanced_accuracy: 0.70851 |  0:10:44s\n",
      "epoch 94 | loss: 0.3263  | train_auc: 0.84917 | train_balanced_accuracy: 0.72068 | val_auc: 0.78796 | val_balanced_accuracy: 0.68444 |  0:10:51s\n",
      "epoch 95 | loss: 0.32849 | train_auc: 0.88339 | train_balanced_accuracy: 0.77519 | val_auc: 0.81063 | val_balanced_accuracy: 0.71875 |  0:10:57s\n",
      "epoch 96 | loss: 0.33237 | train_auc: 0.90116 | train_balanced_accuracy: 0.78684 | val_auc: 0.81736 | val_balanced_accuracy: 0.72469 |  0:11:04s\n",
      "epoch 97 | loss: 0.32939 | train_auc: 0.83854 | train_balanced_accuracy: 0.70715 | val_auc: 0.77878 | val_balanced_accuracy: 0.66905 |  0:11:11s\n",
      "epoch 98 | loss: 0.32279 | train_auc: 0.88356 | train_balanced_accuracy: 0.76382 | val_auc: 0.811   | val_balanced_accuracy: 0.70978 |  0:11:18s\n",
      "epoch 99 | loss: 0.32034 | train_auc: 0.88382 | train_balanced_accuracy: 0.77417 | val_auc: 0.79774 | val_balanced_accuracy: 0.70856 |  0:11:24s\n",
      "epoch 100| loss: 0.31679 | train_auc: 0.84923 | train_balanced_accuracy: 0.72448 | val_auc: 0.77966 | val_balanced_accuracy: 0.67966 |  0:11:31s\n",
      "epoch 101| loss: 0.31261 | train_auc: 0.88673 | train_balanced_accuracy: 0.78507 | val_auc: 0.79444 | val_balanced_accuracy: 0.71618 |  0:11:38s\n",
      "epoch 102| loss: 0.32041 | train_auc: 0.87226 | train_balanced_accuracy: 0.74584 | val_auc: 0.80229 | val_balanced_accuracy: 0.6994  |  0:11:45s\n",
      "epoch 103| loss: 0.31108 | train_auc: 0.88425 | train_balanced_accuracy: 0.79421 | val_auc: 0.79485 | val_balanced_accuracy: 0.72538 |  0:11:51s\n",
      "epoch 104| loss: 0.30499 | train_auc: 0.86919 | train_balanced_accuracy: 0.76214 | val_auc: 0.78442 | val_balanced_accuracy: 0.69441 |  0:11:58s\n",
      "epoch 105| loss: 0.30608 | train_auc: 0.84561 | train_balanced_accuracy: 0.73797 | val_auc: 0.77987 | val_balanced_accuracy: 0.68507 |  0:12:05s\n",
      "epoch 106| loss: 0.29948 | train_auc: 0.87603 | train_balanced_accuracy: 0.752   | val_auc: 0.79201 | val_balanced_accuracy: 0.69111 |  0:12:12s\n",
      "epoch 107| loss: 0.29729 | train_auc: 0.90206 | train_balanced_accuracy: 0.79215 | val_auc: 0.80822 | val_balanced_accuracy: 0.72025 |  0:12:19s\n",
      "\n",
      "Early stopping occurred at epoch 107 with best_epoch = 47 and best_val_balanced_accuracy = 0.7526\n"
     ]
    },
    {
     "name": "stderr",
     "output_type": "stream",
     "text": [
      "/opt/anaconda3/lib/python3.11/site-packages/pytorch_tabnet/callbacks.py:172: UserWarning: Best weights from best epoch are automatically used!\n",
      "  warnings.warn(wrn_msg)\n"
     ]
    }
   ],
   "source": [
    "# Define the model with optimized parameters V1\n",
    "clf = TabNetClassifier(\n",
    "    n_d=128,  # Set decision dimension\n",
    "    n_a=128,  # Set attention dimension\n",
    "    n_steps=5,  # Number of steps in the network\n",
    "    gamma=1.0,  # Gamma parameter\n",
    "    lambda_sparse=1e-06,  # Sparsity regularization\n",
    "    optimizer_fn=torch.optim.Adam,\n",
    "    optimizer_params=dict(lr=0.025),  # Learning rate\n",
    "    scheduler_params={\"step_size\": 10, \"gamma\": 0.95},  # Scheduler decay rate\n",
    "    scheduler_fn=torch.optim.lr_scheduler.StepLR,\n",
    "    mask_type='entmax',  # Mask type\n",
    "    momentum=0.95  # Batch normalization momentum\n",
    ")\n",
    "\n",
    "# Fit the model\n",
    "clf.fit(\n",
    "    X_train_np, y_train,\n",
    "    eval_set=[(X_train_np, y_train), (X_val_np, y_val)],\n",
    "    eval_name=['train', 'val'],\n",
    "    eval_metric=['auc', 'balanced_accuracy'],\n",
    "    max_epochs=300, patience=60,\n",
    "    batch_size=2048, virtual_batch_size=1024,\n",
    "    num_workers=0,\n",
    "    drop_last=False\n",
    ")"
   ]
  },
  {
   "cell_type": "code",
   "execution_count": null,
   "id": "6abacefa-20fc-45ba-ba97-8d2c856ad28c",
   "metadata": {},
   "outputs": [
    {
     "name": "stdout",
     "output_type": "stream",
     "text": [
      "              precision    recall  f1-score   support\n",
      "\n",
      "           0       0.69      0.61      0.65      4071\n",
      "           1       0.84      0.88      0.86      9379\n",
      "\n",
      "    accuracy                           0.80     13450\n",
      "   macro avg       0.77      0.75      0.76     13450\n",
      "weighted avg       0.80      0.80      0.80     13450\n",
      "\n"
     ]
    }
   ],
   "source": [
    "y_pred = clf.predict(X_test_np)\n",
    "print(classification_report(y_test, y_pred))"
   ]
  },
  {
   "cell_type": "code",
   "execution_count": null,
   "id": "d81c4104-1507-4cc9-a6ab-aaaa915c9215",
   "metadata": {},
   "outputs": [
    {
     "name": "stdout",
     "output_type": "stream",
     "text": [
      "Successfully saved model at tabnet_model_V1.zip\n"
     ]
    },
    {
     "name": "stderr",
     "output_type": "stream",
     "text": [
      "/opt/anaconda3/lib/python3.11/site-packages/pytorch_tabnet/abstract_model.py:82: UserWarning: Device used : cpu\n",
      "  warnings.warn(f\"Device used : {self.device}\")\n",
      "/opt/anaconda3/lib/python3.11/site-packages/pytorch_tabnet/abstract_model.py:454: FutureWarning: You are using `torch.load` with `weights_only=False` (the current default value), which uses the default pickle module implicitly. It is possible to construct malicious pickle data which will execute arbitrary code during unpickling (See https://github.com/pytorch/pytorch/blob/main/SECURITY.md#untrusted-models for more details). In a future release, the default value for `weights_only` will be flipped to `True`. This limits the functions that could be executed during unpickling. Arbitrary objects will no longer be allowed to be loaded via this mode unless they are explicitly allowlisted by the user via `torch.serialization.add_safe_globals`. We recommend you start setting `weights_only=True` for any use case where you don't have full control of the loaded file. Please open an issue on GitHub for any issues related to this experimental feature.\n",
      "  saved_state_dict = torch.load(f, map_location=self.device)\n"
     ]
    },
    {
     "name": "stdout",
     "output_type": "stream",
     "text": [
      "              precision    recall  f1-score   support\n",
      "\n",
      "           0       0.69      0.61      0.65      4071\n",
      "           1       0.84      0.88      0.86      9379\n",
      "\n",
      "    accuracy                           0.80     13450\n",
      "   macro avg       0.77      0.75      0.76     13450\n",
      "weighted avg       0.80      0.80      0.80     13450\n",
      "\n"
     ]
    }
   ],
   "source": [
    "# Save the trained model\n",
    "clf.save_model('tabnet_model_V1')\n",
    "# Later, load the model without retraining\n",
    "clf_loaded = TabNetClassifier()\n",
    "clf_loaded.load_model('tabnet_model_V1.zip')\n",
    "# Verify the loaded model\n",
    "y_pred_loaded = clf_loaded.predict(X_test_np)\n",
    "print(classification_report(y_test, y_pred_loaded))"
   ]
  },
  {
   "cell_type": "code",
   "execution_count": null,
   "id": "c477a788-de21-4c27-a6f1-3202dc8f2731",
   "metadata": {},
   "outputs": [
    {
     "data": {
      "image/png": "[encoded data removed]",
      "text/plain": [
       "<Figure size 640x480 with 1 Axes>"
      ]
     },
     "metadata": {},
     "output_type": "display_data"
    }
   ],
   "source": [
    "import matplotlib.pyplot as plt\n",
    "from sklearn.metrics import roc_curve, auc\n",
    "\n",
    "y_true = y_test\n",
    "y_pred_proba = y_pred \n",
    "# Compute ROC curve and ROC area\n",
    "fpr, tpr, thresholds = roc_curve(y_true, y_pred_proba)\n",
    "roc_auc = auc(fpr, tpr)\n",
    "\n",
    "# Plotting the ROC curve\n",
    "plt.figure()\n",
    "plt.plot(fpr, tpr, color='blue', label=f'ROC curve (area = {roc_auc:.2f})')\n",
    "plt.plot([0, 1], [0, 1], color='gray', linestyle='--', label='Chance line')\n",
    "plt.xlim([0.0, 1.0])\n",
    "plt.ylim([0.0, 1.05])\n",
    "plt.xlabel('False Positive Rate')\n",
    "plt.ylabel('True Positive Rate')\n",
    "plt.title('Receiver Operating Characteristic (ROC) Curve')\n",
    "plt.legend(loc=\"lower right\")\n",
    "plt.show()"
   ]
  },
  {
   "cell_type": "code",
   "execution_count": null,
   "id": "cdfe14be-a230-41af-b111-b5ebcc7d348c",
   "metadata": {},
   "outputs": [
    {
     "data": {
      "image/png": "[encoded data removed]",
      "text/plain": [
       "<Figure size 640x480 with 2 Axes>"
      ]
     },
     "metadata": {},
     "output_type": "display_data"
    }
   ],
   "source": [
    "from sklearn.metrics import confusion_matrix, ConfusionMatrixDisplay\n",
    "\n",
    "# Compute the confusion matrix\n",
    "cm = confusion_matrix(y_true, y_pred)\n",
    "\n",
    "# Plot the confusion matrix\n",
    "disp = ConfusionMatrixDisplay(confusion_matrix=cm)\n",
    "disp.plot(cmap='Blues')\n",
    "plt.title(\"Confusion Matrix\")\n",
    "plt.show()"
   ]
  }
 ],
 "metadata": {
  "kernelspec": {
   "display_name": "Python 3 (ipykernel)",
   "language": "python",
   "name": "python3"
  },
  "language_info": {
   "codemirror_mode": {
    "name": "ipython",
    "version": 3
   },
   "file_extension": ".py",
   "mimetype": "text/x-python",
   "name": "python",
   "nbconvert_exporter": "python",
   "pygments_lexer": "ipython3",
   "version": "3.11.7"
  }
 },
 "nbformat": 4,
 "nbformat_minor": 2
}
